{
 "cells": [
  {
   "cell_type": "code",
   "execution_count": 4,
   "id": "c6d80a33-4faf-44b8-a5c9-da42d12e2bd6",
   "metadata": {},
   "outputs": [],
   "source": [
    "# ========================\n",
    "# library\n",
    "# ========================\n",
    "import pandas as pd\n",
    "import numpy as np\n",
    "import matplotlib.pyplot as plt\n",
    "import os\n",
    "from sklearn.preprocessing import LabelEncoder\n",
    "from sklearn.preprocessing import StandardScaler,RobustScaler\n",
    "import pickle\n",
    "import glob\n",
    "from tqdm import tqdm\n",
    "%matplotlib inline"
   ]
  },
  {
   "cell_type": "code",
   "execution_count": 5,
   "id": "4ea774ac-185e-4cab-9340-279a813fb2e6",
   "metadata": {},
   "outputs": [],
   "source": [
    "# ========================\n",
    "# constant\n",
    "# ========================\n",
    "TDCSFOG_META_PATH = \"../data/tdcsfog_metadata.csv\"\n",
    "TDCSFOG_FOLDER = \"../data/train/tdcsfog/*.csv\""
   ]
  },
  {
   "cell_type": "code",
   "execution_count": 6,
   "id": "080ab9be-c340-41b3-8f39-7293f64d0f89",
   "metadata": {},
   "outputs": [],
   "source": [
    "# ========================\n",
    "# settings\n",
    "# ========================\n",
    "fe = \"022\"\n",
    "if not os.path.exists(f\"../output/fe/fe{fe}\"):\n",
    "    os.makedirs(f\"../output/fe/fe{fe}\")\n",
    "    os.makedirs(f\"../output/fe/fe{fe}/save\")"
   ]
  },
  {
   "cell_type": "code",
   "execution_count": 7,
   "id": "6c67b143-0501-40f2-991a-e05e011b068e",
   "metadata": {},
   "outputs": [],
   "source": [
    "data_list = glob.glob(TDCSFOG_FOLDER)"
   ]
  },
  {
   "cell_type": "code",
   "execution_count": 10,
   "id": "bba66e82-9c13-474d-b16a-60043f9ac724",
   "metadata": {},
   "outputs": [],
   "source": [
    "meta = pd.read_parquet(\"../output/fe/fe001/fe001_tdcsfog_meta.parquet\")"
   ]
  },
  {
   "cell_type": "code",
   "execution_count": 11,
   "id": "b77f3aec-cc0b-406b-8c90-47a669e441a3",
   "metadata": {},
   "outputs": [],
   "source": [
    "cols = [\"AccV\",\"AccML\",\"AccAP\"]\n",
    "num_cols = ['AccV', 'AccML', 'AccAP', \n",
    "       'AccV_lag_diff', 'AccV_lead_diff', 'AccV_cumsum', 'AccML_lag_diff',\n",
    "       'AccML_lead_diff', 'AccML_cumsum', 'AccAP_lag_diff', 'AccAP_lead_diff',\n",
    "       'AccAP_cumsum']\n",
    "target_cols = [\"StartHesitation\",\"Turn\",\"Walking\"]\n",
    "seq_len = 1000\n",
    "shift = 500\n",
    "offset = 250"
   ]
  },
  {
   "cell_type": "code",
   "execution_count": 12,
   "id": "6014698e-e3cf-478e-a528-902d4e72784f",
   "metadata": {},
   "outputs": [],
   "source": [
    "num_array = []\n",
    "target_array = []\n",
    "subject_list = []\n",
    "id_list = []\n",
    "mask_array = []\n",
    "pred_use_array = []\n",
    "time_array = []"
   ]
  },
  {
   "cell_type": "code",
   "execution_count": 13,
   "id": "830c43df-c0ae-426e-8712-ae438dbb42b6",
   "metadata": {},
   "outputs": [
    {
     "name": "stderr",
     "output_type": "stream",
     "text": [
      "833it [00:19, 41.81it/s]\n"
     ]
    }
   ],
   "source": [
    "for i,s in tqdm(zip(meta[\"Id\"].values,\n",
    "               meta[\"sub_id\"].values)):\n",
    "    path = f\"../data/train/tdcsfog/{i}.csv\"\n",
    "    df = pd.read_csv(path)\n",
    "    batch = (len(df)-1) // shift\n",
    "    for c in cols:\n",
    "        df[f\"{c}_lag_diff\"] = df[c].diff()\n",
    "        df[f\"{c}_lead_diff\"] = df[c].diff(-1)\n",
    "        df[f\"{c}_cumsum\"] = df[c].cumsum()\n",
    "    sc = RobustScaler()\n",
    "    df[num_cols] = sc.fit_transform(df[num_cols].values)\n",
    "    df[num_cols] = df[num_cols].fillna(0)\n",
    "    #for c in num_cols:\n",
    "    #    df[c] = (df[c] - mean_std_dict[c][0]) / mean_std_dict[c][1]\n",
    "    #    df[c] = df[c].fillna(0)\n",
    "    num = df[num_cols].values\n",
    "    target = df[target_cols].values\n",
    "    time = df[\"Time\"].values\n",
    "    num_array_ = np.zeros([batch,seq_len,12])\n",
    "    target_array_ = np.zeros([batch,seq_len,3])\n",
    "    time_array_ = np.zeros([batch,seq_len],dtype=int)\n",
    "    mask_array_ = np.zeros([batch,seq_len],dtype=int)\n",
    "    pred_use_array_ = np.zeros([batch,seq_len],dtype=int)\n",
    "    for n,b in enumerate(range(batch)):\n",
    "        if b == (batch - 1):\n",
    "            num_ = num[b*shift : ]\n",
    "            num_array_[b,:len(num_),:] = num_\n",
    "            target_ = target[b*shift : ]\n",
    "            target_array_[b,:len(target_),:] = target_\n",
    "            mask_array_[b,:len(target_)] = 1\n",
    "            pred_use_array_[b,offset:len(target_)] = 1\n",
    "            time_ = time[b*shift : ]\n",
    "            time_array_[b,:len(time_)] = time_\n",
    "        elif b == 0:\n",
    "            num_ = num[b*shift:b*shift+seq_len]\n",
    "            num_array_[b,:,:] = num_\n",
    "            target_ = target[b*shift:b*shift + seq_len]\n",
    "            target_array_[b,:,:] = target_\n",
    "            mask_array_[b,:] = 1\n",
    "            pred_use_array_[b,:offset+shift] = 1\n",
    "            time_ = time[b*shift:b*shift + seq_len]\n",
    "            time_array_[b,:] = time_\n",
    "        else:\n",
    "            num_ = num[b*shift:b*shift+seq_len]\n",
    "            num_array_[b,:,:] = num_\n",
    "            target_ = target[b*shift:b*shift + seq_len]\n",
    "            target_array_[b,:,:] = target_\n",
    "            mask_array_[b,:] = 1\n",
    "            pred_use_array_[b,offset:offset+shift] = 1\n",
    "            time_ = time[b*shift:b*shift + seq_len]\n",
    "            time_array_[b,:] = time_\n",
    "            \n",
    "    num_array.append(num_array_)\n",
    "    target_array.append(target_array_)\n",
    "    mask_array.append(mask_array_)\n",
    "    pred_use_array.append(pred_use_array_)\n",
    "    time_array.append(time_array_)\n",
    "    subject_list += [s for _ in range(batch)]\n",
    "    id_list += [i for _ in range(batch)] "
   ]
  },
  {
   "cell_type": "code",
   "execution_count": 14,
   "id": "a193fe2a-7b8d-47c4-b5c4-a65ac2a9150e",
   "metadata": {},
   "outputs": [],
   "source": [
    "num_array = np.concatenate(num_array,axis=0)\n",
    "target_array =np.concatenate(target_array,axis=0)\n",
    "mask_array =  np.concatenate(mask_array,axis=0)\n",
    "pred_use_array = np.concatenate(pred_use_array,axis=0)\n",
    "time_array = np.concatenate(time_array,axis=0)"
   ]
  },
  {
   "cell_type": "code",
   "execution_count": 15,
   "id": "839a0e6e-fc1e-4668-88e3-a097efe9ada8",
   "metadata": {},
   "outputs": [],
   "source": [
    "df_id = pd.DataFrame()\n",
    "df_id[\"Id\"] = id_list\n",
    "df_id[\"subject\"] = subject_list"
   ]
  },
  {
   "cell_type": "code",
   "execution_count": 16,
   "id": "4371a1bd-b58d-4ba7-a57a-5a77cf8f9fdf",
   "metadata": {},
   "outputs": [],
   "source": [
    "np.save(f\"../output/fe/fe{fe}/fe{fe}_num_array.npy\",num_array)\n",
    "np.save(f\"../output/fe/fe{fe}/fe{fe}_target_array.npy\",target_array)\n",
    "np.save(f\"../output/fe/fe{fe}/fe{fe}_mask_array.npy\",mask_array)\n",
    "np.save(f\"../output/fe/fe{fe}/fe{fe}_time_array.npy\",time_array)\n",
    "np.save(f\"../output/fe/fe{fe}/fe{fe}_pred_use_array.npy\",pred_use_array)"
   ]
  },
  {
   "cell_type": "code",
   "execution_count": 17,
   "id": "b1b3ce19-c14e-4a7a-86f7-cdfbf4e4406b",
   "metadata": {},
   "outputs": [],
   "source": [
    "df_id.to_parquet(f\"../output/fe/fe{fe}/fe{fe}_id.parquet\")"
   ]
  },
  {
   "cell_type": "code",
   "execution_count": null,
   "id": "e3499ccd-eeea-48bb-8013-107f9a6cc3e3",
   "metadata": {},
   "outputs": [],
   "source": []
  }
 ],
 "metadata": {
  "kernelspec": {
   "display_name": "Python 3 (ipykernel)",
   "language": "python",
   "name": "python3"
  },
  "language_info": {
   "codemirror_mode": {
    "name": "ipython",
    "version": 3
   },
   "file_extension": ".py",
   "mimetype": "text/x-python",
   "name": "python",
   "nbconvert_exporter": "python",
   "pygments_lexer": "ipython3",
   "version": "3.10.4"
  }
 },
 "nbformat": 4,
 "nbformat_minor": 5
}
