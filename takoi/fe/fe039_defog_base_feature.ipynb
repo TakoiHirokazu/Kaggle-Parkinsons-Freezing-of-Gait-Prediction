{
 "cells": [
  {
   "cell_type": "code",
   "execution_count": 1,
   "id": "c6d80a33-4faf-44b8-a5c9-da42d12e2bd6",
   "metadata": {},
   "outputs": [],
   "source": [
    "# ========================\n",
    "# library\n",
    "# ========================\n",
    "import pandas as pd\n",
    "import numpy as np\n",
    "import matplotlib.pyplot as plt\n",
    "import os\n",
    "from sklearn.preprocessing import LabelEncoder\n",
    "import pickle\n",
    "import glob\n",
    "from tqdm import tqdm\n",
    "%matplotlib inline"
   ]
  },
  {
   "cell_type": "code",
   "execution_count": 3,
   "id": "4ea774ac-185e-4cab-9340-279a813fb2e6",
   "metadata": {},
   "outputs": [],
   "source": [
    "# ========================\n",
    "# constant\n",
    "# ========================\n",
    "DEFOG_META_PATH = \"../data/defog_metadata.csv\"\n",
    "DEFOG_FOLDER = \"../data/train/defog/*.csv\""
   ]
  },
  {
   "cell_type": "code",
   "execution_count": 4,
   "id": "080ab9be-c340-41b3-8f39-7293f64d0f89",
   "metadata": {},
   "outputs": [],
   "source": [
    "# ========================\n",
    "# settings\n",
    "# ========================\n",
    "fe = \"039\"\n",
    "if not os.path.exists(f\"../output/fe/fe{fe}\"):\n",
    "    os.makedirs(f\"../output/fe/fe{fe}\")\n",
    "    os.makedirs(f\"../output/fe/fe{fe}/save\")"
   ]
  },
  {
   "cell_type": "code",
   "execution_count": 5,
   "id": "f70e9d05-a615-4af4-a06d-a7640bedc648",
   "metadata": {},
   "outputs": [],
   "source": [
    "meta = pd.read_csv(DEFOG_META_PATH)"
   ]
  },
  {
   "cell_type": "code",
   "execution_count": 6,
   "id": "91fe9ef2-b693-4935-8ec4-3af8f9e22271",
   "metadata": {},
   "outputs": [],
   "source": [
    "sub_dict = {}\n",
    "for n,i in enumerate(meta[\"Subject\"].unique()):\n",
    "    sub_dict[i] = n"
   ]
  },
  {
   "cell_type": "code",
   "execution_count": 7,
   "id": "dae158d2-acfb-4315-b113-b1becfb76750",
   "metadata": {},
   "outputs": [],
   "source": [
    "meta[\"sub_id\"] = meta[\"Subject\"].map(sub_dict)"
   ]
  },
  {
   "cell_type": "code",
   "execution_count": 8,
   "id": "d2e44a63-ed05-47f2-a6be-11b2ed6e6bec",
   "metadata": {},
   "outputs": [
    {
     "data": {
      "text/html": [
       "<div>\n",
       "<style scoped>\n",
       "    .dataframe tbody tr th:only-of-type {\n",
       "        vertical-align: middle;\n",
       "    }\n",
       "\n",
       "    .dataframe tbody tr th {\n",
       "        vertical-align: top;\n",
       "    }\n",
       "\n",
       "    .dataframe thead th {\n",
       "        text-align: right;\n",
       "    }\n",
       "</style>\n",
       "<table border=\"1\" class=\"dataframe\">\n",
       "  <thead>\n",
       "    <tr style=\"text-align: right;\">\n",
       "      <th></th>\n",
       "      <th>Id</th>\n",
       "      <th>Subject</th>\n",
       "      <th>Visit</th>\n",
       "      <th>Medication</th>\n",
       "      <th>sub_id</th>\n",
       "    </tr>\n",
       "  </thead>\n",
       "  <tbody>\n",
       "    <tr>\n",
       "      <th>0</th>\n",
       "      <td>02ab235146</td>\n",
       "      <td>e1f62e</td>\n",
       "      <td>2</td>\n",
       "      <td>on</td>\n",
       "      <td>0</td>\n",
       "    </tr>\n",
       "    <tr>\n",
       "      <th>1</th>\n",
       "      <td>02ea782681</td>\n",
       "      <td>ae2d35</td>\n",
       "      <td>2</td>\n",
       "      <td>on</td>\n",
       "      <td>1</td>\n",
       "    </tr>\n",
       "    <tr>\n",
       "      <th>2</th>\n",
       "      <td>06414383cf</td>\n",
       "      <td>8c1f5e</td>\n",
       "      <td>2</td>\n",
       "      <td>off</td>\n",
       "      <td>2</td>\n",
       "    </tr>\n",
       "    <tr>\n",
       "      <th>3</th>\n",
       "      <td>092b4c1819</td>\n",
       "      <td>2874c5</td>\n",
       "      <td>1</td>\n",
       "      <td>off</td>\n",
       "      <td>3</td>\n",
       "    </tr>\n",
       "    <tr>\n",
       "      <th>4</th>\n",
       "      <td>0a900ed8a2</td>\n",
       "      <td>0e3d49</td>\n",
       "      <td>2</td>\n",
       "      <td>on</td>\n",
       "      <td>4</td>\n",
       "    </tr>\n",
       "    <tr>\n",
       "      <th>...</th>\n",
       "      <td>...</td>\n",
       "      <td>...</td>\n",
       "      <td>...</td>\n",
       "      <td>...</td>\n",
       "      <td>...</td>\n",
       "    </tr>\n",
       "    <tr>\n",
       "      <th>132</th>\n",
       "      <td>f3a921edee</td>\n",
       "      <td>1a778d</td>\n",
       "      <td>1</td>\n",
       "      <td>off</td>\n",
       "      <td>8</td>\n",
       "    </tr>\n",
       "    <tr>\n",
       "      <th>133</th>\n",
       "      <td>f40e8c6ebe</td>\n",
       "      <td>575c60</td>\n",
       "      <td>1</td>\n",
       "      <td>off</td>\n",
       "      <td>38</td>\n",
       "    </tr>\n",
       "    <tr>\n",
       "      <th>134</th>\n",
       "      <td>f8ddbdd98d</td>\n",
       "      <td>107712</td>\n",
       "      <td>1</td>\n",
       "      <td>on</td>\n",
       "      <td>39</td>\n",
       "    </tr>\n",
       "    <tr>\n",
       "      <th>135</th>\n",
       "      <td>f9efef91fb</td>\n",
       "      <td>5d9cae</td>\n",
       "      <td>2</td>\n",
       "      <td>off</td>\n",
       "      <td>44</td>\n",
       "    </tr>\n",
       "    <tr>\n",
       "      <th>136</th>\n",
       "      <td>f9fc61ce85</td>\n",
       "      <td>040587</td>\n",
       "      <td>1</td>\n",
       "      <td>on</td>\n",
       "      <td>21</td>\n",
       "    </tr>\n",
       "  </tbody>\n",
       "</table>\n",
       "<p>137 rows × 5 columns</p>\n",
       "</div>"
      ],
      "text/plain": [
       "             Id Subject  Visit Medication  sub_id\n",
       "0    02ab235146  e1f62e      2         on       0\n",
       "1    02ea782681  ae2d35      2         on       1\n",
       "2    06414383cf  8c1f5e      2        off       2\n",
       "3    092b4c1819  2874c5      1        off       3\n",
       "4    0a900ed8a2  0e3d49      2         on       4\n",
       "..          ...     ...    ...        ...     ...\n",
       "132  f3a921edee  1a778d      1        off       8\n",
       "133  f40e8c6ebe  575c60      1        off      38\n",
       "134  f8ddbdd98d  107712      1         on      39\n",
       "135  f9efef91fb  5d9cae      2        off      44\n",
       "136  f9fc61ce85  040587      1         on      21\n",
       "\n",
       "[137 rows x 5 columns]"
      ]
     },
     "execution_count": 8,
     "metadata": {},
     "output_type": "execute_result"
    }
   ],
   "source": [
    "meta"
   ]
  },
  {
   "cell_type": "code",
   "execution_count": 10,
   "id": "779a2b05-4657-42e8-a89a-3f715d0e0420",
   "metadata": {},
   "outputs": [],
   "source": [
    "with open(f'../output/fe/fe{fe}/fe{fe}_sub_id.pkl', 'wb') as p:\n",
    "    pickle.dump(sub_dict, p)"
   ]
  },
  {
   "cell_type": "code",
   "execution_count": 11,
   "id": "6c67b143-0501-40f2-991a-e05e011b068e",
   "metadata": {},
   "outputs": [],
   "source": [
    "data_list = glob.glob(DEFOG_FOLDER)"
   ]
  },
  {
   "cell_type": "code",
   "execution_count": 13,
   "id": "4e4e0bbd-53c6-48b9-835c-bb0a334d2a7a",
   "metadata": {},
   "outputs": [
    {
     "name": "stderr",
     "output_type": "stream",
     "text": [
      "100%|██████████| 91/91 [00:10<00:00,  8.85it/s]\n"
     ]
    }
   ],
   "source": [
    "df_all = []\n",
    "for i in tqdm(data_list):\n",
    "    df = pd.read_csv(i)\n",
    "    df_all.append(df)\n",
    "df_all = pd.concat(df_all).reset_index(drop=True)"
   ]
  },
  {
   "cell_type": "code",
   "execution_count": 14,
   "id": "a5719f1c-5955-4ec1-8c77-41bc85a78b24",
   "metadata": {},
   "outputs": [
    {
     "name": "stdout",
     "output_type": "stream",
     "text": [
      "13525702\n"
     ]
    }
   ],
   "source": [
    "print(len(df_all))"
   ]
  },
  {
   "cell_type": "code",
   "execution_count": 15,
   "id": "ff42f49e-7924-43cf-a6b7-3ccbd8a3690e",
   "metadata": {},
   "outputs": [
    {
     "name": "stdout",
     "output_type": "stream",
     "text": [
      "AccV -0.9401728865187032 0.08606513545195248\n",
      "AccML 0.0011727847170217099 0.12000798550598998\n",
      "AccAP -0.13061518435795438 0.28238873112045165\n"
     ]
    }
   ],
   "source": [
    "mean_std_dict = {}\n",
    "for c in [\"AccV\",\"AccML\",\"AccAP\"]:\n",
    "    mean = df_all[c].mean()\n",
    "    std = df_all[c].std()\n",
    "    mean_std_dict[c] = [mean,std]\n",
    "    print(c,mean,std)"
   ]
  },
  {
   "cell_type": "code",
   "execution_count": 16,
   "id": "8c9f3ce5-f701-4986-982d-eaa636a3709f",
   "metadata": {},
   "outputs": [
    {
     "data": {
      "text/plain": [
       "{'AccV': [-0.9401728865187032, 0.08606513545195248],\n",
       " 'AccML': [0.0011727847170217099, 0.12000798550598998],\n",
       " 'AccAP': [-0.13061518435795438, 0.28238873112045165]}"
      ]
     },
     "execution_count": 16,
     "metadata": {},
     "output_type": "execute_result"
    }
   ],
   "source": [
    "mean_std_dict"
   ]
  },
  {
   "cell_type": "code",
   "execution_count": 17,
   "id": "82746ae3-3eca-4e17-aaa2-1a4e96fe00f4",
   "metadata": {},
   "outputs": [],
   "source": [
    "with open(f'../output/fe/fe{fe}/save/fe{fe}_sc.pkl', 'wb') as p:\n",
    "    pickle.dump(mean_std_dict, p)"
   ]
  },
  {
   "cell_type": "code",
   "execution_count": 24,
   "id": "b0c6713e-f7c6-4ee6-9e1f-3d1ba8536664",
   "metadata": {},
   "outputs": [
    {
     "name": "stderr",
     "output_type": "stream",
     "text": [
      "137it [00:11, 12.40it/s]\n"
     ]
    }
   ],
   "source": [
    "d_list = []\n",
    "num_array = []\n",
    "target_array = []\n",
    "valid_array = []\n",
    "subject_list = []\n",
    "id_list = []\n",
    "mask_array = []\n",
    "num_cols = [\"AccV\",\"AccML\",\"AccAP\"]\n",
    "target_cols = [\"StartHesitation\",\"Turn\",\"Walking\"]\n",
    "seq_len = 1000\n",
    "for i,s in tqdm(zip(meta[\"Id\"].values,\n",
    "               meta[\"sub_id\"].values)):\n",
    "    path = f\"../data/train/defog/{i}.csv\"\n",
    "    if path in data_list:\n",
    "        d_list.append(1)\n",
    "        df = pd.read_csv(path)\n",
    "        df[\"valid\"] = df[\"Valid\"] & df[\"Task\"]\n",
    "        df[\"valid\"] = df[\"valid\"].astype(int)\n",
    "        batch = (len(df) // seq_len) + 1\n",
    "        for c in num_cols:\n",
    "            df[c] = (df[c] - mean_std_dict[c][0]) / mean_std_dict[c][1]\n",
    "        num = df[num_cols].values\n",
    "        target = df[target_cols].values\n",
    "        valid = df[\"valid\"].values\n",
    "        num_array_ = np.zeros([batch,seq_len,3])\n",
    "        target_array_ = np.zeros([batch,seq_len,3])\n",
    "        mask_array_ = np.zeros([batch,seq_len])\n",
    "        valid_array_ = np.zeros([batch,seq_len])\n",
    "        for n,b in enumerate(range(batch)):\n",
    "            if b == (batch - 1):\n",
    "                num_ = num[b*seq_len : ]\n",
    "                num_array_[b,:len(num_),:] = num_\n",
    "                target_ = target[b*seq_len : ]\n",
    "                target_array_[b,:len(target_),:] = target_\n",
    "                valid_ = valid[b*seq_len : ]\n",
    "                valid_array_[b,:len(valid_)] = valid_\n",
    "                mask_array_[b,:len(target_)] = 1\n",
    "            else:\n",
    "                num_ = num[b*seq_len:(b+1)*seq_len]\n",
    "                num_array_[b,:,:] = num_\n",
    "                target_ = target[b*seq_len :(b+1)*seq_len]\n",
    "                target_array_[b,:,:] = target_\n",
    "                valid_ = valid[b*seq_len :(b+1)*seq_len]\n",
    "                valid_array_[b,:] = valid_\n",
    "                mask_array_[b,:] = 1\n",
    "        num_array.append(num_array_)\n",
    "        target_array.append(target_array_)\n",
    "        mask_array.append(mask_array_)\n",
    "        valid_array.append(valid_array_)\n",
    "        subject_list += [s for _ in range(batch)]\n",
    "        id_list += [i for _ in range(batch)] \n",
    "    else:\n",
    "        d_list.append(0)"
   ]
  },
  {
   "cell_type": "code",
   "execution_count": 25,
   "id": "a193fe2a-7b8d-47c4-b5c4-a65ac2a9150e",
   "metadata": {},
   "outputs": [],
   "source": [
    "num_array = np.concatenate(num_array,axis=0)\n",
    "target_array =np.concatenate(target_array,axis=0)\n",
    "mask_array =  np.concatenate(mask_array,axis=0)"
   ]
  },
  {
   "cell_type": "code",
   "execution_count": 26,
   "id": "81c576ce-74b9-4d64-9db1-404a4eced852",
   "metadata": {},
   "outputs": [],
   "source": [
    "valid_array = np.concatenate(valid_array,axis=0)"
   ]
  },
  {
   "cell_type": "code",
   "execution_count": 27,
   "id": "839a0e6e-fc1e-4668-88e3-a097efe9ada8",
   "metadata": {},
   "outputs": [],
   "source": [
    "df_id = pd.DataFrame()\n",
    "df_id[\"Id\"] = id_list\n",
    "df_id[\"subject\"] = subject_list"
   ]
  },
  {
   "cell_type": "code",
   "execution_count": 28,
   "id": "f4e7b49d-1d51-499c-ad7f-5737285092b0",
   "metadata": {},
   "outputs": [],
   "source": [
    "meta[\"data_is\"] = d_list"
   ]
  },
  {
   "cell_type": "code",
   "execution_count": 29,
   "id": "4371a1bd-b58d-4ba7-a57a-5a77cf8f9fdf",
   "metadata": {},
   "outputs": [],
   "source": [
    "np.save(f\"../output/fe/fe{fe}/fe{fe}_num_array.npy\",num_array)\n",
    "np.save(f\"../output/fe/fe{fe}/fe{fe}_target_array.npy\",target_array)\n",
    "np.save(f\"../output/fe/fe{fe}/fe{fe}_mask_array.npy\",mask_array)\n",
    "np.save(f\"../output/fe/fe{fe}/fe{fe}_valid_array.npy\",valid_array)"
   ]
  },
  {
   "cell_type": "code",
   "execution_count": 30,
   "id": "b1b3ce19-c14e-4a7a-86f7-cdfbf4e4406b",
   "metadata": {},
   "outputs": [],
   "source": [
    "df_id.to_parquet(f\"../output/fe/fe{fe}/fe{fe}_id.parquet\")"
   ]
  },
  {
   "cell_type": "code",
   "execution_count": 31,
   "id": "af1c1179-a34b-4054-805c-a7f9dbf67ae8",
   "metadata": {},
   "outputs": [],
   "source": [
    "meta.to_parquet(f\"../output/fe/fe{fe}/fe{fe}_defog_meta.parquet\")"
   ]
  },
  {
   "cell_type": "code",
   "execution_count": null,
   "id": "e3499ccd-eeea-48bb-8013-107f9a6cc3e3",
   "metadata": {},
   "outputs": [],
   "source": []
  }
 ],
 "metadata": {
  "kernelspec": {
   "display_name": "Python 3 (ipykernel)",
   "language": "python",
   "name": "python3"
  },
  "language_info": {
   "codemirror_mode": {
    "name": "ipython",
    "version": 3
   },
   "file_extension": ".py",
   "mimetype": "text/x-python",
   "name": "python",
   "nbconvert_exporter": "python",
   "pygments_lexer": "ipython3",
   "version": "3.10.4"
  }
 },
 "nbformat": 4,
 "nbformat_minor": 5
}
