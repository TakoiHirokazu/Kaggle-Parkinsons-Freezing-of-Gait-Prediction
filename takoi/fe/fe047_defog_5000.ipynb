{
 "cells": [
  {
   "cell_type": "code",
   "execution_count": 1,
   "id": "c6d80a33-4faf-44b8-a5c9-da42d12e2bd6",
   "metadata": {},
   "outputs": [],
   "source": [
    "# ========================\n",
    "# library\n",
    "# ========================\n",
    "import pandas as pd\n",
    "import numpy as np\n",
    "import matplotlib.pyplot as plt\n",
    "import os\n",
    "from sklearn.preprocessing import LabelEncoder\n",
    "from sklearn.preprocessing import StandardScaler\n",
    "import pickle\n",
    "import glob\n",
    "from tqdm import tqdm\n",
    "%matplotlib inline"
   ]
  },
  {
   "cell_type": "code",
   "execution_count": 2,
   "id": "4ea774ac-185e-4cab-9340-279a813fb2e6",
   "metadata": {},
   "outputs": [],
   "source": [
    "# ========================\n",
    "# constant\n",
    "# ========================\n",
    "DEFOG_META_PATH = \"../data/defog_metadata.csv\"\n",
    "DEFOG_FOLDER = \"../data/train/defog/*.csv\""
   ]
  },
  {
   "cell_type": "code",
   "execution_count": 3,
   "id": "080ab9be-c340-41b3-8f39-7293f64d0f89",
   "metadata": {},
   "outputs": [],
   "source": [
    "# ========================\n",
    "# settings\n",
    "# ========================\n",
    "fe = \"047\"\n",
    "if not os.path.exists(f\"../output/fe/fe{fe}\"):\n",
    "    os.makedirs(f\"../output/fe/fe{fe}\")\n",
    "    os.makedirs(f\"../output/fe/fe{fe}/save\")"
   ]
  },
  {
   "cell_type": "code",
   "execution_count": 7,
   "id": "7ef18174-d079-4aee-b79c-3eef8ab64a57",
   "metadata": {},
   "outputs": [],
   "source": [
    "meta = pd.read_parquet(\"../output/fe/fe039/fe039_defog_meta.parquet\")"
   ]
  },
  {
   "cell_type": "code",
   "execution_count": 8,
   "id": "82fb93f6-a122-454e-bbd8-ee5aafdf066d",
   "metadata": {},
   "outputs": [],
   "source": [
    "cols = [\"AccV\",\"AccML\",\"AccAP\"]\n",
    "num_cols = [\"AccV\",\"AccML\",\"AccAP\",'AccV_lag_diff', 'AccV_lead_diff', 'AccML_lag_diff', 'AccML_lead_diff',\n",
    "       'AccAP_lag_diff', 'AccAP_lead_diff']\n",
    "target_cols = [\"StartHesitation\",\"Turn\",\"Walking\"]\n",
    "seq_len = 5000\n",
    "shift = 2500\n",
    "offset = 1250"
   ]
  },
  {
   "cell_type": "code",
   "execution_count": 9,
   "id": "b8b40f55-86cc-43d3-b7e1-2e39325b132e",
   "metadata": {},
   "outputs": [],
   "source": [
    "num_array = []\n",
    "target_array = []\n",
    "subject_list = []\n",
    "valid_array = []\n",
    "id_list = []\n",
    "mask_array = []\n",
    "pred_use_array = []\n",
    "time_array = []\n",
    "d_list = []"
   ]
  },
  {
   "cell_type": "code",
   "execution_count": 10,
   "id": "d2bd75e9-d6ea-460e-b1cd-05a46f751450",
   "metadata": {},
   "outputs": [],
   "source": [
    "data_list = glob.glob(DEFOG_FOLDER)"
   ]
  },
  {
   "cell_type": "code",
   "execution_count": 11,
   "id": "15c03eab-183c-447a-84e5-6d09258deede",
   "metadata": {},
   "outputs": [
    {
     "name": "stderr",
     "output_type": "stream",
     "text": [
      "137it [00:18,  7.44it/s]\n"
     ]
    }
   ],
   "source": [
    "for i,s in tqdm(zip(meta[\"Id\"].values,\n",
    "               meta[\"sub_id\"].values)):\n",
    "    path = f\"../data/train/defog/{i}.csv\"\n",
    "    if path in data_list:\n",
    "        d_list.append(1)\n",
    "        df = pd.read_csv(path)\n",
    "        df[\"valid\"] = df[\"Valid\"] & df[\"Task\"]\n",
    "        df[\"valid\"] = df[\"valid\"].astype(int)\n",
    "        batch = (len(df)-1) // shift\n",
    "        for c in cols:\n",
    "            df[f\"{c}_lag_diff\"] = df[c].diff()\n",
    "            df[f\"{c}_lead_diff\"] = df[c].diff(-1)\n",
    "        \n",
    "        sc = StandardScaler()\n",
    "        df[num_cols] = sc.fit_transform(df[num_cols].values)\n",
    "        df[num_cols] = df[num_cols].fillna(0)\n",
    "        \n",
    "        num = df[num_cols].values\n",
    "        target = df[target_cols].values\n",
    "        valid = df[\"valid\"].values\n",
    "        time = df[\"Time\"].values\n",
    "        num_array_ = np.zeros([batch,seq_len,9])\n",
    "        target_array_ = np.zeros([batch,seq_len,3])\n",
    "        time_array_ = np.zeros([batch,seq_len],dtype=int)\n",
    "        mask_array_ = np.zeros([batch,seq_len],dtype=int)\n",
    "        pred_use_array_ = np.zeros([batch,seq_len],dtype=int)\n",
    "        valid_array_ = np.zeros([batch,seq_len],dtype=int)\n",
    "        for n,b in enumerate(range(batch)):\n",
    "            if b == (batch - 1):\n",
    "                num_ = num[b*shift : ]\n",
    "                num_array_[b,:len(num_),:] = num_\n",
    "                target_ = target[b*shift : ]\n",
    "                target_array_[b,:len(target_),:] = target_\n",
    "                mask_array_[b,:len(target_)] = 1\n",
    "                pred_use_array_[b,offset:len(target_)] = 1\n",
    "                time_ = time[b*shift : ]\n",
    "                time_array_[b,:len(time_)] = time_\n",
    "                valid_ = valid[b*shift : ]\n",
    "                valid_array_[b,:len(valid_)] = valid_\n",
    "            elif b == 0:\n",
    "                num_ = num[b*shift:b*shift+seq_len]\n",
    "                num_array_[b,:,:] = num_\n",
    "                target_ = target[b*shift:b*shift + seq_len]\n",
    "                target_array_[b,:,:] = target_\n",
    "                mask_array_[b,:] = 1\n",
    "                pred_use_array_[b,:shift + offset] = 1\n",
    "                time_ = time[b*shift:b*shift + seq_len]\n",
    "                time_array_[b,:] = time_\n",
    "                valid_ = valid[b*shift:b*shift + seq_len]\n",
    "                valid_array_[b,:] = valid_\n",
    "            else:\n",
    "                num_ = num[b*shift:b*shift+seq_len]\n",
    "                num_array_[b,:,:] = num_\n",
    "                target_ = target[b*shift:b*shift + seq_len]\n",
    "                target_array_[b,:,:] = target_\n",
    "                mask_array_[b,:] = 1\n",
    "                pred_use_array_[b,offset:shift + offset] = 1\n",
    "                time_ = time[b*shift:b*shift + seq_len]\n",
    "                time_array_[b,:] = time_\n",
    "                valid_ = valid[b*shift:b*shift + seq_len]\n",
    "                valid_array_[b,:] = valid_\n",
    "\n",
    "        num_array.append(num_array_)\n",
    "        target_array.append(target_array_)\n",
    "        mask_array.append(mask_array_)\n",
    "        pred_use_array.append(pred_use_array_)\n",
    "        time_array.append(time_array_)\n",
    "        valid_array.append(valid_array_)\n",
    "        subject_list += [s for _ in range(batch)]\n",
    "        id_list += [i for _ in range(batch)] \n",
    "    else:\n",
    "        d_list.append(0)"
   ]
  },
  {
   "cell_type": "code",
   "execution_count": 12,
   "id": "a193fe2a-7b8d-47c4-b5c4-a65ac2a9150e",
   "metadata": {},
   "outputs": [],
   "source": [
    "num_array = np.concatenate(num_array,axis=0)\n",
    "target_array =np.concatenate(target_array,axis=0)\n",
    "mask_array =  np.concatenate(mask_array,axis=0)\n",
    "pred_use_array = np.concatenate(pred_use_array,axis=0)\n",
    "time_array = np.concatenate(time_array,axis=0)\n",
    "valid_array = np.concatenate(valid_array,axis=0)"
   ]
  },
  {
   "cell_type": "code",
   "execution_count": 13,
   "id": "839a0e6e-fc1e-4668-88e3-a097efe9ada8",
   "metadata": {},
   "outputs": [],
   "source": [
    "df_id = pd.DataFrame()\n",
    "df_id[\"Id\"] = id_list\n",
    "df_id[\"subject\"] = subject_list"
   ]
  },
  {
   "cell_type": "code",
   "execution_count": 14,
   "id": "4371a1bd-b58d-4ba7-a57a-5a77cf8f9fdf",
   "metadata": {},
   "outputs": [],
   "source": [
    "np.save(f\"../output/fe/fe{fe}/fe{fe}_num_array.npy\",num_array)\n",
    "np.save(f\"../output/fe/fe{fe}/fe{fe}_target_array.npy\",target_array)\n",
    "np.save(f\"../output/fe/fe{fe}/fe{fe}_mask_array.npy\",mask_array)\n",
    "np.save(f\"../output/fe/fe{fe}/fe{fe}_time_array.npy\",time_array)\n",
    "np.save(f\"../output/fe/fe{fe}/fe{fe}_pred_use_array.npy\",pred_use_array)\n",
    "np.save(f\"../output/fe/fe{fe}/fe{fe}_valid_array.npy\",valid_array)"
   ]
  },
  {
   "cell_type": "code",
   "execution_count": 15,
   "id": "b1b3ce19-c14e-4a7a-86f7-cdfbf4e4406b",
   "metadata": {},
   "outputs": [],
   "source": [
    "df_id.to_parquet(f\"../output/fe/fe{fe}/fe{fe}_id.parquet\")"
   ]
  },
  {
   "cell_type": "code",
   "execution_count": null,
   "id": "27ba3a55-40bc-4389-9dbe-7f0f8b6a121e",
   "metadata": {},
   "outputs": [],
   "source": []
  }
 ],
 "metadata": {
  "kernelspec": {
   "display_name": "Python 3 (ipykernel)",
   "language": "python",
   "name": "python3"
  },
  "language_info": {
   "codemirror_mode": {
    "name": "ipython",
    "version": 3
   },
   "file_extension": ".py",
   "mimetype": "text/x-python",
   "name": "python",
   "nbconvert_exporter": "python",
   "pygments_lexer": "ipython3",
   "version": "3.10.4"
  }
 },
 "nbformat": 4,
 "nbformat_minor": 5
}
