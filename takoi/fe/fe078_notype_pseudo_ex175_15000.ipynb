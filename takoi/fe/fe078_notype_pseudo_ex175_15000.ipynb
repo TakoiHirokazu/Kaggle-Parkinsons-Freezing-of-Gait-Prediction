{
 "cells": [
  {
   "cell_type": "code",
   "execution_count": 1,
   "id": "c6d80a33-4faf-44b8-a5c9-da42d12e2bd6",
   "metadata": {},
   "outputs": [],
   "source": [
    "# ========================\n",
    "# library\n",
    "# ========================\n",
    "import pandas as pd\n",
    "import numpy as np\n",
    "import matplotlib.pyplot as plt\n",
    "import os\n",
    "from sklearn.preprocessing import LabelEncoder\n",
    "from sklearn.preprocessing import StandardScaler\n",
    "import pickle\n",
    "import glob\n",
    "from tqdm import tqdm\n",
    "%matplotlib inline"
   ]
  },
  {
   "cell_type": "code",
   "execution_count": 2,
   "id": "4ea774ac-185e-4cab-9340-279a813fb2e6",
   "metadata": {},
   "outputs": [],
   "source": [
    "# ========================\n",
    "# constant\n",
    "# ========================\n",
    "DEFOG_META_PATH = \"../data/defog_metadata.csv\"\n",
    "DEFOG_FOLDER = \"../data/train/notype/*.csv\""
   ]
  },
  {
   "cell_type": "code",
   "execution_count": 3,
   "id": "080ab9be-c340-41b3-8f39-7293f64d0f89",
   "metadata": {},
   "outputs": [],
   "source": [
    "# ========================\n",
    "# settings\n",
    "# ========================\n",
    "fe = \"078\"\n",
    "ex = \"175\"\n",
    "if not os.path.exists(f\"../output/fe/fe{fe}\"):\n",
    "    os.makedirs(f\"../output/fe/fe{fe}\")\n",
    "    os.makedirs(f\"../output/fe/fe{fe}/save\")"
   ]
  },
  {
   "cell_type": "code",
   "execution_count": 4,
   "id": "3139f7fb-19e1-4076-a3b8-07fa2ddc7982",
   "metadata": {},
   "outputs": [],
   "source": [
    "data_list = glob.glob(DEFOG_FOLDER)"
   ]
  },
  {
   "cell_type": "code",
   "execution_count": 5,
   "id": "7ef18174-d079-4aee-b79c-3eef8ab64a57",
   "metadata": {},
   "outputs": [],
   "source": [
    "meta = pd.read_parquet(\"../output/fe/fe039/fe039_defog_meta.parquet\")"
   ]
  },
  {
   "cell_type": "code",
   "execution_count": 6,
   "id": "82fb93f6-a122-454e-bbd8-ee5aafdf066d",
   "metadata": {},
   "outputs": [],
   "source": [
    "cols = [\"AccV\",\"AccML\",\"AccAP\"]\n",
    "num_cols = [\"AccV\",\"AccML\",\"AccAP\",'AccV_lag_diff', 'AccV_lead_diff', 'AccML_lag_diff', 'AccML_lead_diff',\n",
    "       'AccAP_lag_diff', 'AccAP_lead_diff']\n",
    "target_use_cols = [\"Event\"]\n",
    "target_cols = [\"StartHesitation\",\"Turn\",\"Walking\"]\n",
    "seq_len = 5000\n",
    "shift = 2500\n",
    "offset = 1250"
   ]
  },
  {
   "cell_type": "code",
   "execution_count": 7,
   "id": "15c03eab-183c-447a-84e5-6d09258deede",
   "metadata": {},
   "outputs": [
    {
     "name": "stdout",
     "output_type": "stream",
     "text": [
      "0\n"
     ]
    },
    {
     "name": "stderr",
     "output_type": "stream",
     "text": [
      "137it [00:41,  3.27it/s]\n"
     ]
    },
    {
     "name": "stdout",
     "output_type": "stream",
     "text": [
      "1\n"
     ]
    },
    {
     "name": "stderr",
     "output_type": "stream",
     "text": [
      "137it [00:45,  2.98it/s]\n"
     ]
    },
    {
     "name": "stdout",
     "output_type": "stream",
     "text": [
      "2\n"
     ]
    },
    {
     "name": "stderr",
     "output_type": "stream",
     "text": [
      "137it [00:45,  3.00it/s]\n"
     ]
    },
    {
     "name": "stdout",
     "output_type": "stream",
     "text": [
      "3\n"
     ]
    },
    {
     "name": "stderr",
     "output_type": "stream",
     "text": [
      "137it [00:46,  2.96it/s]\n"
     ]
    },
    {
     "name": "stdout",
     "output_type": "stream",
     "text": [
      "4\n"
     ]
    },
    {
     "name": "stderr",
     "output_type": "stream",
     "text": [
      "137it [00:41,  3.29it/s]\n"
     ]
    }
   ],
   "source": [
    "for fold in range(5):\n",
    "    print(fold)\n",
    "    pred = pd.read_parquet(f\"../output/exp/ex{ex}/ex{ex}_notype_{fold}_pred_15000.parquet\")\n",
    "    target_array = []\n",
    "    for i,s in tqdm(zip(meta[\"Id\"].values,\n",
    "                   meta[\"sub_id\"].values)):\n",
    "        path = f\"../data/train/notype/{i}.csv\"\n",
    "        if path in data_list:\n",
    "            df = pd.read_csv(path)\n",
    "            df_ = pred[pred[\"Id\"] == i].reset_index(drop=True)\n",
    "            df = df.merge(df_,how=\"left\",on=\"Time\")\n",
    "            df[\"target_max\"] = np.argmax(df[[\"StartHesitation\",\"Turn\",\"Walking\"]].values,axis=1)\n",
    "            \n",
    "            df.loc[df[\"target_max\"] == 0,\"StartHesitation\"] = 1\n",
    "            df.loc[df[\"target_max\"] == 0,[\"Turn\",\"Walking\"]] = 0\n",
    "            \n",
    "            df.loc[df[\"target_max\"] == 1,\"Turn\"] = 1\n",
    "            df.loc[df[\"target_max\"] == 1,[\"StartHesitation\",\"Walking\"]] = 0\n",
    "            \n",
    "            df.loc[df[\"target_max\"] == 2,\"Walking\"] = 1\n",
    "            df.loc[df[\"target_max\"] == 2,[\"StartHesitation\",\"Turn\"]] = 0\n",
    "\n",
    "            df.loc[df[\"Event\"] == 0,[\"StartHesitation\",\"Turn\",\"Walking\"]] = 0\n",
    "\n",
    "            df[\"valid\"] = df[\"Valid\"] & df[\"Task\"]\n",
    "            df[\"valid\"] = df[\"valid\"].astype(int)\n",
    "            batch = (len(df)-1) // shift\n",
    "            target = df[target_cols].values\n",
    "            target_array_ = np.zeros([batch,seq_len,3])\n",
    "            for n,b in enumerate(range(batch)):\n",
    "                if b == (batch - 1):\n",
    "                    target_ = target[b*shift : ]\n",
    "                    target_array_[b,:len(target_),:] = target_\n",
    "                elif b == 0:\n",
    "                    target_ = target[b*shift:b*shift + seq_len]\n",
    "                    target_array_[b,:,:] = target_\n",
    "                else:\n",
    "                    target_ = target[b*shift:b*shift + seq_len]\n",
    "                    target_array_[b,:,:] = target_\n",
    "\n",
    "            target_array.append(target_array_)\n",
    "    target_array = np.concatenate(target_array,axis=0)\n",
    "    np.save(f\"../output/fe/fe{fe}/fe{fe}_target_array_{fold}.npy\",target_array)"
   ]
  },
  {
   "cell_type": "code",
   "execution_count": null,
   "id": "d8598fd1-7cce-48d5-aa1b-48e4fd015fb8",
   "metadata": {},
   "outputs": [],
   "source": []
  }
 ],
 "metadata": {
  "kernelspec": {
   "display_name": "Python 3 (ipykernel)",
   "language": "python",
   "name": "python3"
  },
  "language_info": {
   "codemirror_mode": {
    "name": "ipython",
    "version": 3
   },
   "file_extension": ".py",
   "mimetype": "text/x-python",
   "name": "python",
   "nbconvert_exporter": "python",
   "pygments_lexer": "ipython3",
   "version": "3.10.4"
  }
 },
 "nbformat": 4,
 "nbformat_minor": 5
}
