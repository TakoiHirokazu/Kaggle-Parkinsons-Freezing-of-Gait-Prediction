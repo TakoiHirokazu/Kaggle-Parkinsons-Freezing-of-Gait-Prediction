{
 "cells": [
  {
   "cell_type": "code",
   "execution_count": 19,
   "id": "c6d80a33-4faf-44b8-a5c9-da42d12e2bd6",
   "metadata": {},
   "outputs": [],
   "source": [
    "# ========================\n",
    "# library\n",
    "# ========================\n",
    "import pandas as pd\n",
    "import numpy as np\n",
    "import matplotlib.pyplot as plt\n",
    "import os\n",
    "from sklearn.preprocessing import LabelEncoder\n",
    "import pickle\n",
    "import glob\n",
    "from tqdm import tqdm\n",
    "%matplotlib inline"
   ]
  },
  {
   "cell_type": "code",
   "execution_count": 2,
   "id": "4ea774ac-185e-4cab-9340-279a813fb2e6",
   "metadata": {},
   "outputs": [],
   "source": [
    "# ========================\n",
    "# constant\n",
    "# ========================\n",
    "TDCSFOG_META_PATH = \"../data/tdcsfog_metadata.csv\"\n",
    "TDCSFOG_FOLDER = \"../data/train/tdcsfog/*.csv\""
   ]
  },
  {
   "cell_type": "code",
   "execution_count": 8,
   "id": "080ab9be-c340-41b3-8f39-7293f64d0f89",
   "metadata": {},
   "outputs": [],
   "source": [
    "# ========================\n",
    "# settings\n",
    "# ========================\n",
    "fe = \"001\"\n",
    "if not os.path.exists(f\"../output/fe/fe{fe}\"):\n",
    "    os.makedirs(f\"../output/fe/fe{fe}\")\n",
    "    os.makedirs(f\"../output/fe/fe{fe}/save\")"
   ]
  },
  {
   "cell_type": "code",
   "execution_count": 3,
   "id": "f70e9d05-a615-4af4-a06d-a7640bedc648",
   "metadata": {},
   "outputs": [],
   "source": [
    "meta = pd.read_csv(TDCSFOG_META_PATH)"
   ]
  },
  {
   "cell_type": "code",
   "execution_count": 5,
   "id": "91fe9ef2-b693-4935-8ec4-3af8f9e22271",
   "metadata": {},
   "outputs": [],
   "source": [
    "sub_dict = {}\n",
    "for n,i in enumerate(meta[\"Subject\"].unique()):\n",
    "    sub_dict[i] = n"
   ]
  },
  {
   "cell_type": "code",
   "execution_count": 9,
   "id": "dae158d2-acfb-4315-b113-b1becfb76750",
   "metadata": {},
   "outputs": [],
   "source": [
    "meta[\"sub_id\"] = meta[\"Subject\"].map(sub_dict)"
   ]
  },
  {
   "cell_type": "code",
   "execution_count": 13,
   "id": "3fc70eff-de97-4330-8b38-929c43a1ced5",
   "metadata": {},
   "outputs": [],
   "source": [
    "meta.to_parquet(\"../output/fe/fe001/fe001_tdcsfog_meta.parquet\")"
   ]
  },
  {
   "cell_type": "code",
   "execution_count": 14,
   "id": "779a2b05-4657-42e8-a89a-3f715d0e0420",
   "metadata": {},
   "outputs": [],
   "source": [
    "with open(f'../output/fe/fe{fe}/fe{fe}_sub_id.pkl', 'wb') as p:\n",
    "    pickle.dump(sub_dict, p)"
   ]
  },
  {
   "cell_type": "code",
   "execution_count": null,
   "id": "fe5eb9b9-24cf-4c63-85e1-f7d58cd78a7b",
   "metadata": {},
   "outputs": [],
   "source": []
  }
 ],
 "metadata": {
  "kernelspec": {
   "display_name": "Python 3 (ipykernel)",
   "language": "python",
   "name": "python3"
  },
  "language_info": {
   "codemirror_mode": {
    "name": "ipython",
    "version": 3
   },
   "file_extension": ".py",
   "mimetype": "text/x-python",
   "name": "python",
   "nbconvert_exporter": "python",
   "pygments_lexer": "ipython3",
   "version": "3.7.12"
  }
 },
 "nbformat": 4,
 "nbformat_minor": 5
}
