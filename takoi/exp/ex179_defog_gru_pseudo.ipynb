{
 "cells": [
  {
   "cell_type": "code",
   "execution_count": 1,
   "id": "84e685ef-6c3d-4e56-94e3-7e59591eb084",
   "metadata": {},
   "outputs": [],
   "source": [
    "# ==================\n",
    "# Library\n",
    "# ==================\n",
    "import warnings\n",
    "warnings.simplefilter('ignore')\n",
    "import math\n",
    "import pandas as pd\n",
    "import numpy as np\n",
    "import sys\n",
    "import time\n",
    "import datetime\n",
    "from contextlib import contextmanager\n",
    "import logging\n",
    "from tqdm import tqdm_notebook as tqdm\n",
    "import matplotlib.pyplot as plt\n",
    "from sklearn.metrics import roc_auc_score, accuracy_score, f1_score,average_precision_score\n",
    "from sklearn.model_selection import StratifiedKFold, KFold,GroupKFold,StratifiedGroupKFold\n",
    "import torch\n",
    "import torch.nn as nn\n",
    "from torch.nn import TransformerEncoder\n",
    "from torch.nn import TransformerDecoder\n",
    "from torch.nn import LayerNorm\n",
    "import torch.optim as optim\n",
    "from torch.utils.data import DataLoader, TensorDataset, Dataset\n",
    "from torch.optim import lr_scheduler\n",
    "from transformers import AdamW, get_linear_schedule_with_warmup\n",
    "import gc\n",
    "import random\n",
    "import os\n",
    "%matplotlib inline\n",
    "sys.path.append(\"../src/\")\n",
    "from logger import setup_logger, LOGGER\n",
    "from util_tool import reduce_mem_usage\n",
    "pd.set_option('display.max_columns', 300)"
   ]
  },
  {
   "cell_type": "code",
   "execution_count": 2,
   "id": "48f18d38-6121-4855-91b9-3e0f32f5b222",
   "metadata": {},
   "outputs": [],
   "source": [
    "# ===================\n",
    "# Settings\n",
    "# ===================\n",
    "debug = False\n",
    "ex = \"179\"\n",
    "if not os.path.exists(f\"../output/exp/ex{ex}\"):\n",
    "    os.makedirs(f\"../output/exp/ex{ex}\")\n",
    "    os.makedirs(f\"../output/exp/ex{ex}/ex{ex}_model\")\n",
    "logger_path = f\"../output/exp/ex{ex}/ex_{ex}.txt\"\n",
    "model_path =f\"../output/exp/ex{ex}/ex{ex}_model/ex{ex}.pth\"\n",
    "seq_len = 5000\n",
    "# config\n",
    "seed = 0\n",
    "shuffle = True\n",
    "n_splits = 5\n",
    "device = torch.device(\"cuda\" if torch.cuda.is_available() else \"cpu\")\n",
    "# model config\n",
    "batch_size = 24\n",
    "n_epochs = 10\n",
    "lr = 1e-3\n",
    "weight_decay = 0.05\n",
    "num_warmup_steps = 10"
   ]
  },
  {
   "cell_type": "code",
   "execution_count": 3,
   "id": "53f0a11b-7308-4faa-bf83-6b898677d885",
   "metadata": {},
   "outputs": [],
   "source": [
    "# =====================\n",
    "# data\n",
    "# =====================\n",
    "id_path = f\"../output/fe/fe047/fe047_id.parquet\"\n",
    "numerical_path = f\"../output/fe/fe047/fe047_num_array.npy\"\n",
    "target_path = f\"../output/fe/fe047/fe047_target_array.npy\"\n",
    "mask_path = f\"../output/fe/fe047/fe047_mask_array.npy\"\n",
    "valid_path = f\"../output/fe/fe047/fe047_valid_array.npy\"\n",
    "pred_use_path = f\"../output/fe/fe047/fe047_pred_use_array.npy\""
   ]
  },
  {
   "cell_type": "code",
   "execution_count": 4,
   "id": "3f3a16e5-1b02-4195-ae33-42428370bbaa",
   "metadata": {},
   "outputs": [],
   "source": [
    "# =====================\n",
    "# data\n",
    "# =====================\n",
    "pseudo_target = \"075\"\n",
    "pseudo_id_path = f\"../output/fe/fe061/fe061_id.parquet\"\n",
    "pseudo_numerical_path = f\"../output/fe/fe061/fe061_num_array.npy\"\n",
    "pseudo_mask_path = f\"../output/fe/fe061/fe061_mask_array.npy\"\n",
    "pseudo_valid_path = f\"../output/fe/fe061/fe061_valid_array.npy\"\n",
    "pseudo_pred_use_path = f\"../output/fe/fe061/fe061_pred_use_array.npy\""
   ]
  },
  {
   "cell_type": "code",
   "execution_count": 5,
   "id": "423fc197-1ce2-4db3-b073-17edc1e4465d",
   "metadata": {},
   "outputs": [],
   "source": [
    "# ====================\n",
    "# Function\n",
    "# ====================\n",
    "def preprocess(numerical_array, \n",
    "               mask_array,\n",
    "               valid_array,\n",
    "               ):\n",
    "    \n",
    "    attention_mask = mask_array == 0\n",
    "\n",
    "    return {\n",
    "        'input_data_numerical_array': numerical_array,\n",
    "        'input_data_mask_array': mask_array,\n",
    "        'input_data_valid_array': valid_array,\n",
    "        'attention_mask': attention_mask,\n",
    "    }\n",
    "\n",
    "class FogDataset(Dataset):\n",
    "    def __init__(self, numerical_array, \n",
    "                 mask_array,valid_array,\n",
    "                 train = True, y = None):\n",
    "        self.numerical_array = numerical_array\n",
    "        self.mask_array = mask_array\n",
    "        self.valid_array = valid_array\n",
    "        self.train = train\n",
    "        self.y = y\n",
    "    \n",
    "    def __len__(self):\n",
    "        return len(self.numerical_array)\n",
    "\n",
    "    def __getitem__(self, item):\n",
    "        data = preprocess(\n",
    "            self.numerical_array[item],\n",
    "            self.mask_array[item],\n",
    "            self.valid_array[item], \n",
    "            \n",
    "        )\n",
    "\n",
    "        # Return the processed data where the lists are converted to `torch.tensor`s\n",
    "        if self.train : \n",
    "            return {\n",
    "              'input_data_numerical_array': torch.tensor(data['input_data_numerical_array'],dtype=torch.float32),\n",
    "              'input_data_mask_array':torch.tensor(data['input_data_mask_array'], dtype=torch.long),  \n",
    "              'input_data_valid_array':torch.tensor(data['input_data_valid_array'], dtype=torch.long),   \n",
    "              'attention_mask': torch.tensor(data[\"attention_mask\"], dtype=torch.bool),\n",
    "              \"y\":torch.tensor(self.y[item], dtype=torch.float32)\n",
    "               }\n",
    "        else:\n",
    "            return {\n",
    "             'input_data_numerical_array': torch.tensor(data['input_data_numerical_array'],dtype=torch.float32),\n",
    "              'input_data_mask_array':torch.tensor(data['input_data_mask_array'], dtype=torch.long),  \n",
    "              'input_data_valid_array':torch.tensor(data['input_data_valid_array'], dtype=torch.long),  \n",
    "              'attention_mask': torch.tensor(data[\"attention_mask\"], dtype=torch.bool),\n",
    "               }"
   ]
  },
  {
   "cell_type": "code",
   "execution_count": 6,
   "id": "1eac9c32-e65d-46e2-ba0c-f140e489e7fe",
   "metadata": {},
   "outputs": [],
   "source": [
    "class FogRnnModel(nn.Module):\n",
    "    def __init__(\n",
    "        self, dropout=0.2,\n",
    "        input_numerical_size=9,\n",
    "        numeraical_linear_size = 64,\n",
    "        model_size = 128,\n",
    "        linear_out = 128,\n",
    "        out_size=3):\n",
    "        super(FogRnnModel, self).__init__()\n",
    "        self.numerical_linear  = nn.Sequential(\n",
    "                nn.Linear(input_numerical_size, numeraical_linear_size),\n",
    "                nn.LayerNorm(numeraical_linear_size)\n",
    "            )\n",
    "        \n",
    "        self.rnn = nn.GRU(numeraical_linear_size, model_size,\n",
    "                            num_layers = 2, \n",
    "                            batch_first=True,\n",
    "                            bidirectional=True)\n",
    "        self.linear_out  = nn.Sequential(\n",
    "                nn.Linear(model_size*2, \n",
    "                          linear_out),\n",
    "                nn.LayerNorm(linear_out),\n",
    "                nn.ReLU(),\n",
    "                nn.Dropout(dropout),\n",
    "                nn.Linear(linear_out, \n",
    "                          out_size))\n",
    "        self._reinitialize()\n",
    "        \n",
    "    def _reinitialize(self):\n",
    "        \"\"\"\n",
    "        Tensorflow/Keras-like initialization\n",
    "        \"\"\"\n",
    "        for name, p in self.named_parameters():\n",
    "            if 'rnn' in name:\n",
    "                if 'weight_ih' in name:\n",
    "                    nn.init.xavier_uniform_(p.data)\n",
    "                elif 'weight_hh' in name:\n",
    "                    nn.init.orthogonal_(p.data)\n",
    "                elif 'bias_ih' in name:\n",
    "                    p.data.fill_(0)\n",
    "                    # Set forget-gate bias to 1\n",
    "                    n = p.size(0)\n",
    "                    p.data[(n // 4):(n // 2)].fill_(1)\n",
    "                elif 'bias_hh' in name:\n",
    "                    p.data.fill_(0)\n",
    "    \n",
    "    def forward(self, numerical_array,\n",
    "                mask_array,\n",
    "                attention_mask):\n",
    "        \n",
    "        numerical_embedding = self.numerical_linear(numerical_array)\n",
    "        output,_ = self.rnn(numerical_embedding)\n",
    "        output = self.linear_out(output)\n",
    "        return output\n",
    "    \n",
    "def set_seed(seed: int = 42):\n",
    "    random.seed(seed)\n",
    "    np.random.seed(seed)\n",
    "    os.environ[\"PYTHONHASHSEED\"] = str(seed)\n",
    "    torch.manual_seed(seed)\n",
    "    torch.cuda.manual_seed(seed)\n",
    "    torch.backends.cudnn.deterministic = True\n",
    "    torch.backends.cudnn.benchmark = False"
   ]
  },
  {
   "cell_type": "code",
   "execution_count": 7,
   "id": "97d7f8a5-3417-4604-81b7-d0587e98d90d",
   "metadata": {},
   "outputs": [
    {
     "name": "stderr",
     "output_type": "stream",
     "text": [
      "2023-05-29 22:17:18,855 - INFO - logger set up\n"
     ]
    },
    {
     "data": {
      "text/plain": [
       "<RootLogger root (DEBUG)>"
      ]
     },
     "execution_count": 7,
     "metadata": {},
     "output_type": "execute_result"
    }
   ],
   "source": [
    "@contextmanager\n",
    "def timer(name):\n",
    "    t0 = time.time()\n",
    "    yield \n",
    "    LOGGER.info(f'[{name}] done in {time.time() - t0:.0f} s')\n",
    "    \n",
    "setup_logger(out_file=logger_path)"
   ]
  },
  {
   "cell_type": "code",
   "execution_count": 8,
   "id": "d00ce8f5-0471-48cb-ad74-dc2c19ade72b",
   "metadata": {},
   "outputs": [],
   "source": [
    "# ====================\n",
    "# main\n",
    "# ====================\n",
    "df_id = pd.read_parquet(id_path)\n",
    "numerical_array = np.load(numerical_path)\n",
    "target_array = np.load(target_path)\n",
    "mask_array = np.load(mask_path)\n",
    "valid_array = np.load(valid_path)\n",
    "pred_use_array = np.load(pred_use_path)"
   ]
  },
  {
   "cell_type": "code",
   "execution_count": 9,
   "id": "36ae99ec-a44f-4756-951c-25d572aa075e",
   "metadata": {},
   "outputs": [],
   "source": [
    "target1 = []\n",
    "target2 = []\n",
    "target3 = []\n",
    "for i in range(len(target_array)):\n",
    "    target1.append(np.sum(target_array[i,:,0]))\n",
    "    target2.append(np.sum(target_array[i,:,1]))\n",
    "    target3.append(np.sum(target_array[i,:,2]))"
   ]
  },
  {
   "cell_type": "code",
   "execution_count": 10,
   "id": "cc321a46-20c7-4e4d-a292-dbba48745501",
   "metadata": {},
   "outputs": [],
   "source": [
    "df_id[\"target1\"] = target1\n",
    "df_id[\"target2\"] = target2\n",
    "df_id[\"target3\"] = target3\n",
    "df_id[\"target1_1\"] = df_id[\"target1\"] > 0\n",
    "df_id[\"target2_1\"] = df_id[\"target2\"] > 0\n",
    "df_id[\"target3_1\"] = df_id[\"target3\"] > 0\n",
    "df_id[\"target1_1\"] = df_id[\"target1_1\"].astype(np.int)\n",
    "df_id[\"target2_1\"] = df_id[\"target2_1\"].astype(np.int)\n",
    "df_id[\"target3_1\"] = df_id[\"target3_1\"].astype(np.int)"
   ]
  },
  {
   "cell_type": "code",
   "execution_count": 11,
   "id": "af515de7-e2c5-47a1-ab24-b02e32d5dc8b",
   "metadata": {},
   "outputs": [],
   "source": [
    "df_id[\"group\"] = 0\n",
    "df_id.loc[df_id[\"target1_1\"] > 0,\"group\"] = 1\n",
    "df_id.loc[df_id[\"target2_1\"] > 0,\"group\"] = 2\n",
    "df_id.loc[df_id[\"target3_1\"] > 0,\"group\"] = 3"
   ]
  },
  {
   "cell_type": "code",
   "execution_count": 12,
   "id": "3731614a-d535-4a39-b81f-9477ff1baad7",
   "metadata": {},
   "outputs": [
    {
     "data": {
      "text/plain": [
       "0    4107\n",
       "2     897\n",
       "3     354\n",
       "1      11\n",
       "Name: group, dtype: int64"
      ]
     },
     "execution_count": 12,
     "metadata": {},
     "output_type": "execute_result"
    }
   ],
   "source": [
    "df_id[\"group\"].value_counts()"
   ]
  },
  {
   "cell_type": "code",
   "execution_count": 13,
   "id": "7bfc5d81-fe9b-414d-bc7a-f3ade9bac46b",
   "metadata": {},
   "outputs": [],
   "source": [
    "pseudo_numerical_array = np.load(pseudo_numerical_path)\n",
    "pseudo_mask_array = np.load(pseudo_mask_path)\n",
    "pseudo_valid_array = np.load(pseudo_valid_path)\n",
    "pseudo_pred_use_array = np.load(pseudo_pred_use_path)"
   ]
  },
  {
   "cell_type": "code",
   "execution_count": 14,
   "id": "0676e71c-483b-4b5b-8e0e-e2222b4506cc",
   "metadata": {},
   "outputs": [
    {
     "name": "stderr",
     "output_type": "stream",
     "text": [
      "2023-05-29 12:05:22,018 - INFO - start fold:0\n"
     ]
    },
    {
     "data": {
      "application/vnd.jupyter.widget-view+json": {
       "model_id": "5e758fe688e945f79ddc2c627c5434c9",
       "version_major": 2,
       "version_minor": 0
      },
      "text/plain": [
       "  0%|          | 0/344 [00:00<?, ?it/s]"
      ]
     },
     "metadata": {},
     "output_type": "display_data"
    },
    {
     "data": {
      "application/vnd.jupyter.widget-view+json": {
       "model_id": "86809236ebab4995905e65e0c8b3627c",
       "version_major": 2,
       "version_minor": 0
      },
      "text/plain": [
       "  0%|          | 0/50 [00:00<?, ?it/s]"
      ]
     },
     "metadata": {},
     "output_type": "display_data"
    },
    {
     "name": "stderr",
     "output_type": "stream",
     "text": [
      "2023-05-29 12:08:55,236 - INFO - fold:0 epoch : 0,train loss 0.1520680671687736 map:0.20443353722727015 starthesi:7.828583667152763e-05 turn:0.4013579228981708 walking :0.007509151556369483\n"
     ]
    },
    {
     "name": "stdout",
     "output_type": "stream",
     "text": [
      "save weight\n"
     ]
    },
    {
     "data": {
      "application/vnd.jupyter.widget-view+json": {
       "model_id": "9cfa6ccb137146ac83d6d0c83ec46522",
       "version_major": 2,
       "version_minor": 0
      },
      "text/plain": [
       "  0%|          | 0/344 [00:00<?, ?it/s]"
      ]
     },
     "metadata": {},
     "output_type": "display_data"
    },
    {
     "data": {
      "application/vnd.jupyter.widget-view+json": {
       "model_id": "6a1b406e4fb14ded95350e8bd7642c20",
       "version_major": 2,
       "version_minor": 0
      },
      "text/plain": [
       "  0%|          | 0/50 [00:00<?, ?it/s]"
      ]
     },
     "metadata": {},
     "output_type": "display_data"
    },
    {
     "name": "stderr",
     "output_type": "stream",
     "text": [
      "2023-05-29 12:12:24,370 - INFO - fold:0 epoch : 1,train loss 0.10560098491869001 map:0.21166321230271037 starthesi:3.864718200998666e-05 turn:0.3870863371148141 walking :0.03624008749060665\n"
     ]
    },
    {
     "name": "stdout",
     "output_type": "stream",
     "text": [
      "save weight\n"
     ]
    },
    {
     "data": {
      "application/vnd.jupyter.widget-view+json": {
       "model_id": "9de8367c936849f78c092bd449f0f005",
       "version_major": 2,
       "version_minor": 0
      },
      "text/plain": [
       "  0%|          | 0/344 [00:00<?, ?it/s]"
      ]
     },
     "metadata": {},
     "output_type": "display_data"
    },
    {
     "data": {
      "application/vnd.jupyter.widget-view+json": {
       "model_id": "8dae805248a142ec88e7d4e7774ed33c",
       "version_major": 2,
       "version_minor": 0
      },
      "text/plain": [
       "  0%|          | 0/50 [00:00<?, ?it/s]"
      ]
     },
     "metadata": {},
     "output_type": "display_data"
    },
    {
     "name": "stderr",
     "output_type": "stream",
     "text": [
      "2023-05-29 12:15:49,732 - INFO - fold:0 epoch : 2,train loss 0.08623440399614357 map:0.30366883624724217 starthesi:3.7493130671245154e-05 turn:0.4899599922389981 walking :0.11737768025548624\n"
     ]
    },
    {
     "name": "stdout",
     "output_type": "stream",
     "text": [
      "save weight\n"
     ]
    },
    {
     "data": {
      "application/vnd.jupyter.widget-view+json": {
       "model_id": "37ea75ea506445439765f4aae1a5ec70",
       "version_major": 2,
       "version_minor": 0
      },
      "text/plain": [
       "  0%|          | 0/344 [00:00<?, ?it/s]"
      ]
     },
     "metadata": {},
     "output_type": "display_data"
    },
    {
     "data": {
      "application/vnd.jupyter.widget-view+json": {
       "model_id": "3d0efae26d8e44e894dfcd9a11e2c8b3",
       "version_major": 2,
       "version_minor": 0
      },
      "text/plain": [
       "  0%|          | 0/50 [00:00<?, ?it/s]"
      ]
     },
     "metadata": {},
     "output_type": "display_data"
    },
    {
     "name": "stderr",
     "output_type": "stream",
     "text": [
      "2023-05-29 12:19:19,202 - INFO - fold:0 epoch : 3,train loss 0.07537004962931712 map:0.29080617839409173 starthesi:3.9441666154607846e-05 turn:0.4505244027263087 walking :0.13108795406187473\n"
     ]
    },
    {
     "data": {
      "application/vnd.jupyter.widget-view+json": {
       "model_id": "47d7542a1b454c099014f88ad2e69b30",
       "version_major": 2,
       "version_minor": 0
      },
      "text/plain": [
       "  0%|          | 0/344 [00:00<?, ?it/s]"
      ]
     },
     "metadata": {},
     "output_type": "display_data"
    },
    {
     "data": {
      "application/vnd.jupyter.widget-view+json": {
       "model_id": "f5cb4d94b04146c496d117d930fc93b0",
       "version_major": 2,
       "version_minor": 0
      },
      "text/plain": [
       "  0%|          | 0/50 [00:00<?, ?it/s]"
      ]
     },
     "metadata": {},
     "output_type": "display_data"
    },
    {
     "name": "stderr",
     "output_type": "stream",
     "text": [
      "2023-05-29 12:22:44,440 - INFO - fold:0 epoch : 4,train loss 0.0666615906202635 map:0.3362814179525936 starthesi:4.176336531107794e-05 turn:0.4751108741074894 walking :0.1974519617976978\n"
     ]
    },
    {
     "name": "stdout",
     "output_type": "stream",
     "text": [
      "save weight\n"
     ]
    },
    {
     "data": {
      "application/vnd.jupyter.widget-view+json": {
       "model_id": "56fdb94a1e374949a39d05f32a755331",
       "version_major": 2,
       "version_minor": 0
      },
      "text/plain": [
       "  0%|          | 0/344 [00:00<?, ?it/s]"
      ]
     },
     "metadata": {},
     "output_type": "display_data"
    },
    {
     "data": {
      "application/vnd.jupyter.widget-view+json": {
       "model_id": "20499a0c1e0a4778b14020530d2ee143",
       "version_major": 2,
       "version_minor": 0
      },
      "text/plain": [
       "  0%|          | 0/50 [00:00<?, ?it/s]"
      ]
     },
     "metadata": {},
     "output_type": "display_data"
    },
    {
     "name": "stderr",
     "output_type": "stream",
     "text": [
      "2023-05-29 12:26:14,691 - INFO - fold:0 epoch : 5,train loss 0.060978026875175624 map:0.3434434251058841 starthesi:4.460328468325734e-05 turn:0.5275454825052035 walking :0.1593413677065647\n"
     ]
    },
    {
     "name": "stdout",
     "output_type": "stream",
     "text": [
      "save weight\n"
     ]
    },
    {
     "data": {
      "application/vnd.jupyter.widget-view+json": {
       "model_id": "e91d4f8f85fb4171bef20b1b92e7251e",
       "version_major": 2,
       "version_minor": 0
      },
      "text/plain": [
       "  0%|          | 0/344 [00:00<?, ?it/s]"
      ]
     },
     "metadata": {},
     "output_type": "display_data"
    },
    {
     "data": {
      "application/vnd.jupyter.widget-view+json": {
       "model_id": "a023998f76694c23a9d06cb330cbf2cf",
       "version_major": 2,
       "version_minor": 0
      },
      "text/plain": [
       "  0%|          | 0/50 [00:00<?, ?it/s]"
      ]
     },
     "metadata": {},
     "output_type": "display_data"
    },
    {
     "name": "stderr",
     "output_type": "stream",
     "text": [
      "2023-05-29 12:29:42,319 - INFO - fold:0 epoch : 6,train loss 0.054916070338316955 map:0.32308937671210664 starthesi:4.954318681918792e-05 turn:0.49503822776544426 walking :0.151140525658769\n"
     ]
    },
    {
     "data": {
      "application/vnd.jupyter.widget-view+json": {
       "model_id": "4aff4edb7c4b4463a8ba37e7a0b8e22a",
       "version_major": 2,
       "version_minor": 0
      },
      "text/plain": [
       "  0%|          | 0/344 [00:00<?, ?it/s]"
      ]
     },
     "metadata": {},
     "output_type": "display_data"
    },
    {
     "data": {
      "application/vnd.jupyter.widget-view+json": {
       "model_id": "0a72e2cbc8894cdb9e82b8bda7a96470",
       "version_major": 2,
       "version_minor": 0
      },
      "text/plain": [
       "  0%|          | 0/50 [00:00<?, ?it/s]"
      ]
     },
     "metadata": {},
     "output_type": "display_data"
    },
    {
     "name": "stderr",
     "output_type": "stream",
     "text": [
      "2023-05-29 12:33:12,941 - INFO - fold:0 epoch : 7,train loss 0.05060099241686552 map:0.3401447514180954 starthesi:0.0001253422947292515 turn:0.5444719042110974 walking :0.1358175986250935\n"
     ]
    },
    {
     "data": {
      "application/vnd.jupyter.widget-view+json": {
       "model_id": "08712e6110bf423787fa8dda195774fd",
       "version_major": 2,
       "version_minor": 0
      },
      "text/plain": [
       "  0%|          | 0/344 [00:00<?, ?it/s]"
      ]
     },
     "metadata": {},
     "output_type": "display_data"
    },
    {
     "data": {
      "application/vnd.jupyter.widget-view+json": {
       "model_id": "f1d191f355384fcab68096421218f100",
       "version_major": 2,
       "version_minor": 0
      },
      "text/plain": [
       "  0%|          | 0/50 [00:00<?, ?it/s]"
      ]
     },
     "metadata": {},
     "output_type": "display_data"
    },
    {
     "name": "stderr",
     "output_type": "stream",
     "text": [
      "2023-05-29 12:36:38,969 - INFO - fold:0 epoch : 8,train loss 0.0465050432079764 map:0.325478054915826 starthesi:0.00010829674722784665 turn:0.5145683667966063 walking :0.13638774303504564\n"
     ]
    },
    {
     "data": {
      "application/vnd.jupyter.widget-view+json": {
       "model_id": "3919caa166534ab58e82d45337229e10",
       "version_major": 2,
       "version_minor": 0
      },
      "text/plain": [
       "  0%|          | 0/344 [00:00<?, ?it/s]"
      ]
     },
     "metadata": {},
     "output_type": "display_data"
    },
    {
     "data": {
      "application/vnd.jupyter.widget-view+json": {
       "model_id": "7db63339ea7e4766a20e73649d628458",
       "version_major": 2,
       "version_minor": 0
      },
      "text/plain": [
       "  0%|          | 0/50 [00:00<?, ?it/s]"
      ]
     },
     "metadata": {},
     "output_type": "display_data"
    },
    {
     "name": "stderr",
     "output_type": "stream",
     "text": [
      "2023-05-29 12:40:06,481 - INFO - fold:0 epoch : 9,train loss 0.04375158566006914 map:0.3290992026725699 starthesi:0.00011701116270141759 turn:0.5269242169036007 walking :0.13127418844153912\n",
      "2023-05-29 12:40:06,545 - INFO - [fold 0] done in 2085 s\n",
      "2023-05-29 12:40:06,549 - INFO - start fold:1\n"
     ]
    },
    {
     "data": {
      "application/vnd.jupyter.widget-view+json": {
       "model_id": "5768c7427895470b97b35bb14ca85097",
       "version_major": 2,
       "version_minor": 0
      },
      "text/plain": [
       "  0%|          | 0/335 [00:00<?, ?it/s]"
      ]
     },
     "metadata": {},
     "output_type": "display_data"
    },
    {
     "data": {
      "application/vnd.jupyter.widget-view+json": {
       "model_id": "2400d669958f41da8a23ae73de917f32",
       "version_major": 2,
       "version_minor": 0
      },
      "text/plain": [
       "  0%|          | 0/59 [00:00<?, ?it/s]"
      ]
     },
     "metadata": {},
     "output_type": "display_data"
    },
    {
     "name": "stderr",
     "output_type": "stream",
     "text": [
      "2023-05-29 12:43:34,480 - INFO - fold:1 epoch : 0,train loss 0.14190094151270033 map:0.3325097432248693 starthesi:0.00014883415675964848 turn:0.6478260158644397 walking :0.017193470585298937\n"
     ]
    },
    {
     "name": "stdout",
     "output_type": "stream",
     "text": [
      "save weight\n"
     ]
    },
    {
     "data": {
      "application/vnd.jupyter.widget-view+json": {
       "model_id": "814fcbe701df48d1ae40243ba18aaab8",
       "version_major": 2,
       "version_minor": 0
      },
      "text/plain": [
       "  0%|          | 0/335 [00:00<?, ?it/s]"
      ]
     },
     "metadata": {},
     "output_type": "display_data"
    },
    {
     "data": {
      "application/vnd.jupyter.widget-view+json": {
       "model_id": "64c397afe00a42858bce026e9c1b68a1",
       "version_major": 2,
       "version_minor": 0
      },
      "text/plain": [
       "  0%|          | 0/59 [00:00<?, ?it/s]"
      ]
     },
     "metadata": {},
     "output_type": "display_data"
    },
    {
     "name": "stderr",
     "output_type": "stream",
     "text": [
      "2023-05-29 12:46:57,644 - INFO - fold:1 epoch : 1,train loss 0.09841856123017731 map:0.3642509924873114 starthesi:0.00010378687111309123 turn:0.6924806791588232 walking :0.03602130581579965\n"
     ]
    },
    {
     "name": "stdout",
     "output_type": "stream",
     "text": [
      "save weight\n"
     ]
    },
    {
     "data": {
      "application/vnd.jupyter.widget-view+json": {
       "model_id": "be34426f1e6a4fe19e58e6cd2a87ef17",
       "version_major": 2,
       "version_minor": 0
      },
      "text/plain": [
       "  0%|          | 0/335 [00:00<?, ?it/s]"
      ]
     },
     "metadata": {},
     "output_type": "display_data"
    },
    {
     "data": {
      "application/vnd.jupyter.widget-view+json": {
       "model_id": "18181108a214418990f81daab16e968b",
       "version_major": 2,
       "version_minor": 0
      },
      "text/plain": [
       "  0%|          | 0/59 [00:00<?, ?it/s]"
      ]
     },
     "metadata": {},
     "output_type": "display_data"
    },
    {
     "name": "stderr",
     "output_type": "stream",
     "text": [
      "2023-05-29 12:50:25,040 - INFO - fold:1 epoch : 2,train loss 0.08202325360599294 map:0.37173426032228535 starthesi:8.998739698465772e-05 turn:0.6990984575579745 walking :0.04437006308659614\n"
     ]
    },
    {
     "name": "stdout",
     "output_type": "stream",
     "text": [
      "save weight\n"
     ]
    },
    {
     "data": {
      "application/vnd.jupyter.widget-view+json": {
       "model_id": "6072dbbd39224adc9d2f5773eea91c5e",
       "version_major": 2,
       "version_minor": 0
      },
      "text/plain": [
       "  0%|          | 0/335 [00:00<?, ?it/s]"
      ]
     },
     "metadata": {},
     "output_type": "display_data"
    },
    {
     "data": {
      "application/vnd.jupyter.widget-view+json": {
       "model_id": "a814193d6bbd4fceada1598f3dcbb07a",
       "version_major": 2,
       "version_minor": 0
      },
      "text/plain": [
       "  0%|          | 0/59 [00:00<?, ?it/s]"
      ]
     },
     "metadata": {},
     "output_type": "display_data"
    },
    {
     "name": "stderr",
     "output_type": "stream",
     "text": [
      "2023-05-29 12:53:48,430 - INFO - fold:1 epoch : 3,train loss 0.07432443257977268 map:0.3904789693771032 starthesi:0.00013615041213505097 turn:0.6609783704050033 walking :0.11997956834920306\n"
     ]
    },
    {
     "name": "stdout",
     "output_type": "stream",
     "text": [
      "save weight\n"
     ]
    },
    {
     "data": {
      "application/vnd.jupyter.widget-view+json": {
       "model_id": "a87a229ea874420eb5470c0fe0f1c80b",
       "version_major": 2,
       "version_minor": 0
      },
      "text/plain": [
       "  0%|          | 0/335 [00:00<?, ?it/s]"
      ]
     },
     "metadata": {},
     "output_type": "display_data"
    },
    {
     "data": {
      "application/vnd.jupyter.widget-view+json": {
       "model_id": "439cfc1f7f7f439eaf5701029704a303",
       "version_major": 2,
       "version_minor": 0
      },
      "text/plain": [
       "  0%|          | 0/59 [00:00<?, ?it/s]"
      ]
     },
     "metadata": {},
     "output_type": "display_data"
    },
    {
     "name": "stderr",
     "output_type": "stream",
     "text": [
      "2023-05-29 12:57:15,405 - INFO - fold:1 epoch : 4,train loss 0.06962764066046298 map:0.40520380623470525 starthesi:0.00014265369519880975 turn:0.6975555141014975 walking :0.11285209836791303\n"
     ]
    },
    {
     "name": "stdout",
     "output_type": "stream",
     "text": [
      "save weight\n"
     ]
    },
    {
     "data": {
      "application/vnd.jupyter.widget-view+json": {
       "model_id": "b919773ac1b243369ee07b404b204f57",
       "version_major": 2,
       "version_minor": 0
      },
      "text/plain": [
       "  0%|          | 0/335 [00:00<?, ?it/s]"
      ]
     },
     "metadata": {},
     "output_type": "display_data"
    },
    {
     "data": {
      "application/vnd.jupyter.widget-view+json": {
       "model_id": "c1dee8bba7e3495eb6bbe152febcde26",
       "version_major": 2,
       "version_minor": 0
      },
      "text/plain": [
       "  0%|          | 0/59 [00:00<?, ?it/s]"
      ]
     },
     "metadata": {},
     "output_type": "display_data"
    },
    {
     "name": "stderr",
     "output_type": "stream",
     "text": [
      "2023-05-29 13:00:38,775 - INFO - fold:1 epoch : 5,train loss 0.060796728099126424 map:0.41322515317472236 starthesi:0.0003292542310622999 turn:0.6893072788137603 walking :0.1371430275356844\n"
     ]
    },
    {
     "name": "stdout",
     "output_type": "stream",
     "text": [
      "save weight\n"
     ]
    },
    {
     "data": {
      "application/vnd.jupyter.widget-view+json": {
       "model_id": "93487bf2d0a1481b9ceed6ff4f1ba648",
       "version_major": 2,
       "version_minor": 0
      },
      "text/plain": [
       "  0%|          | 0/335 [00:00<?, ?it/s]"
      ]
     },
     "metadata": {},
     "output_type": "display_data"
    },
    {
     "data": {
      "application/vnd.jupyter.widget-view+json": {
       "model_id": "3da1e14f69c44315a902b65bed4f428f",
       "version_major": 2,
       "version_minor": 0
      },
      "text/plain": [
       "  0%|          | 0/59 [00:00<?, ?it/s]"
      ]
     },
     "metadata": {},
     "output_type": "display_data"
    },
    {
     "name": "stderr",
     "output_type": "stream",
     "text": [
      "2023-05-29 13:04:03,699 - INFO - fold:1 epoch : 6,train loss 0.056328035022285006 map:0.40173389571689516 starthesi:0.00024322314810709664 turn:0.7280440653707826 walking :0.07542372606300769\n"
     ]
    },
    {
     "data": {
      "application/vnd.jupyter.widget-view+json": {
       "model_id": "c9a0008a87fe4f6f80e62eaa02cca1e4",
       "version_major": 2,
       "version_minor": 0
      },
      "text/plain": [
       "  0%|          | 0/335 [00:00<?, ?it/s]"
      ]
     },
     "metadata": {},
     "output_type": "display_data"
    },
    {
     "data": {
      "application/vnd.jupyter.widget-view+json": {
       "model_id": "aff7095e23f9476baa92d50c2b6c13f6",
       "version_major": 2,
       "version_minor": 0
      },
      "text/plain": [
       "  0%|          | 0/59 [00:00<?, ?it/s]"
      ]
     },
     "metadata": {},
     "output_type": "display_data"
    },
    {
     "name": "stderr",
     "output_type": "stream",
     "text": [
      "2023-05-29 13:07:30,058 - INFO - fold:1 epoch : 7,train loss 0.051532415611975226 map:0.40583996591647087 starthesi:0.0001811638393728435 turn:0.6878400991884009 walking :0.12383983264454075\n"
     ]
    },
    {
     "data": {
      "application/vnd.jupyter.widget-view+json": {
       "model_id": "2c4c664f5b564a6aae8b0494e682d354",
       "version_major": 2,
       "version_minor": 0
      },
      "text/plain": [
       "  0%|          | 0/335 [00:00<?, ?it/s]"
      ]
     },
     "metadata": {},
     "output_type": "display_data"
    },
    {
     "data": {
      "application/vnd.jupyter.widget-view+json": {
       "model_id": "3b325eb1f6a64912a1c120964696f3bd",
       "version_major": 2,
       "version_minor": 0
      },
      "text/plain": [
       "  0%|          | 0/59 [00:00<?, ?it/s]"
      ]
     },
     "metadata": {},
     "output_type": "display_data"
    },
    {
     "name": "stderr",
     "output_type": "stream",
     "text": [
      "2023-05-29 13:10:53,512 - INFO - fold:1 epoch : 8,train loss 0.04751649212384068 map:0.39800787972589124 starthesi:0.0001429208888605229 turn:0.6745257927179739 walking :0.12148996673380859\n"
     ]
    },
    {
     "data": {
      "application/vnd.jupyter.widget-view+json": {
       "model_id": "7b9a7718f6bb4d96a7a583c9402c66e6",
       "version_major": 2,
       "version_minor": 0
      },
      "text/plain": [
       "  0%|          | 0/335 [00:00<?, ?it/s]"
      ]
     },
     "metadata": {},
     "output_type": "display_data"
    },
    {
     "data": {
      "application/vnd.jupyter.widget-view+json": {
       "model_id": "78696acec6de475daf5bfd3bfbd353f2",
       "version_major": 2,
       "version_minor": 0
      },
      "text/plain": [
       "  0%|          | 0/59 [00:00<?, ?it/s]"
      ]
     },
     "metadata": {},
     "output_type": "display_data"
    },
    {
     "name": "stderr",
     "output_type": "stream",
     "text": [
      "2023-05-29 13:14:20,276 - INFO - fold:1 epoch : 9,train loss 0.04517601775561473 map:0.39124636545016794 starthesi:0.00014612412659471713 turn:0.664013489298836 walking :0.11847924160149995\n",
      "2023-05-29 13:14:20,330 - INFO - [fold 1] done in 2054 s\n",
      "2023-05-29 13:14:20,333 - INFO - start fold:2\n"
     ]
    },
    {
     "data": {
      "application/vnd.jupyter.widget-view+json": {
       "model_id": "a6774eb4641c43528eb67055790811a7",
       "version_major": 2,
       "version_minor": 0
      },
      "text/plain": [
       "  0%|          | 0/364 [00:00<?, ?it/s]"
      ]
     },
     "metadata": {},
     "output_type": "display_data"
    },
    {
     "data": {
      "application/vnd.jupyter.widget-view+json": {
       "model_id": "2160c89342b74ffda540d54c18661da6",
       "version_major": 2,
       "version_minor": 0
      },
      "text/plain": [
       "  0%|          | 0/31 [00:00<?, ?it/s]"
      ]
     },
     "metadata": {},
     "output_type": "display_data"
    },
    {
     "name": "stderr",
     "output_type": "stream",
     "text": [
      "2023-05-29 13:17:53,844 - INFO - fold:2 epoch : 0,train loss 0.14635607331561354 map:0.4157893311460493 starthesi:0.0001379957617674721 turn:0.5918740355318901 walking :0.23970462676020848\n"
     ]
    },
    {
     "name": "stdout",
     "output_type": "stream",
     "text": [
      "save weight\n"
     ]
    },
    {
     "data": {
      "application/vnd.jupyter.widget-view+json": {
       "model_id": "51bfbb4415724d2bbcd4a4e08c4c7a9f",
       "version_major": 2,
       "version_minor": 0
      },
      "text/plain": [
       "  0%|          | 0/364 [00:00<?, ?it/s]"
      ]
     },
     "metadata": {},
     "output_type": "display_data"
    },
    {
     "data": {
      "application/vnd.jupyter.widget-view+json": {
       "model_id": "ba4677b645bc4a1199cf635f8a904227",
       "version_major": 2,
       "version_minor": 0
      },
      "text/plain": [
       "  0%|          | 0/31 [00:00<?, ?it/s]"
      ]
     },
     "metadata": {},
     "output_type": "display_data"
    },
    {
     "name": "stderr",
     "output_type": "stream",
     "text": [
      "2023-05-29 13:21:28,522 - INFO - fold:2 epoch : 1,train loss 0.09977171891931813 map:0.48818586538299125 starthesi:0.00022600940933748413 turn:0.5743398453319146 walking :0.4020318854340678\n"
     ]
    },
    {
     "name": "stdout",
     "output_type": "stream",
     "text": [
      "save weight\n"
     ]
    },
    {
     "data": {
      "application/vnd.jupyter.widget-view+json": {
       "model_id": "6718fb64f482458db04c9710bbcaa76a",
       "version_major": 2,
       "version_minor": 0
      },
      "text/plain": [
       "  0%|          | 0/364 [00:00<?, ?it/s]"
      ]
     },
     "metadata": {},
     "output_type": "display_data"
    },
    {
     "data": {
      "application/vnd.jupyter.widget-view+json": {
       "model_id": "d8362959b4084748b27391648e50f736",
       "version_major": 2,
       "version_minor": 0
      },
      "text/plain": [
       "  0%|          | 0/31 [00:00<?, ?it/s]"
      ]
     },
     "metadata": {},
     "output_type": "display_data"
    },
    {
     "name": "stderr",
     "output_type": "stream",
     "text": [
      "2023-05-29 13:25:00,520 - INFO - fold:2 epoch : 2,train loss 0.08478203450667333 map:0.4685968629242605 starthesi:0.000349495487764188 turn:0.5935759002742556 walking :0.34361782557426546\n"
     ]
    },
    {
     "data": {
      "application/vnd.jupyter.widget-view+json": {
       "model_id": "91b77d228b03442bb716715a2d8531b5",
       "version_major": 2,
       "version_minor": 0
      },
      "text/plain": [
       "  0%|          | 0/364 [00:00<?, ?it/s]"
      ]
     },
     "metadata": {},
     "output_type": "display_data"
    },
    {
     "data": {
      "application/vnd.jupyter.widget-view+json": {
       "model_id": "e784cd71eb094fd5813af2191ee8fdf6",
       "version_major": 2,
       "version_minor": 0
      },
      "text/plain": [
       "  0%|          | 0/31 [00:00<?, ?it/s]"
      ]
     },
     "metadata": {},
     "output_type": "display_data"
    },
    {
     "name": "stderr",
     "output_type": "stream",
     "text": [
      "2023-05-29 13:28:38,138 - INFO - fold:2 epoch : 3,train loss 0.07409045602716915 map:0.5120252992213598 starthesi:0.0007810862364632473 turn:0.5952155664585841 walking :0.4288350319841354\n"
     ]
    },
    {
     "name": "stdout",
     "output_type": "stream",
     "text": [
      "save weight\n"
     ]
    },
    {
     "data": {
      "application/vnd.jupyter.widget-view+json": {
       "model_id": "df99930cf1204141b8cab193c3e37465",
       "version_major": 2,
       "version_minor": 0
      },
      "text/plain": [
       "  0%|          | 0/364 [00:00<?, ?it/s]"
      ]
     },
     "metadata": {},
     "output_type": "display_data"
    },
    {
     "data": {
      "application/vnd.jupyter.widget-view+json": {
       "model_id": "60bdd735e1aa42338eb2541d9ea8ea46",
       "version_major": 2,
       "version_minor": 0
      },
      "text/plain": [
       "  0%|          | 0/31 [00:00<?, ?it/s]"
      ]
     },
     "metadata": {},
     "output_type": "display_data"
    },
    {
     "name": "stderr",
     "output_type": "stream",
     "text": [
      "2023-05-29 13:32:13,905 - INFO - fold:2 epoch : 4,train loss 0.06770759614972541 map:0.5181532265879444 starthesi:0.000499399766996537 turn:0.5990144798464021 walking :0.43729197332948666\n"
     ]
    },
    {
     "name": "stdout",
     "output_type": "stream",
     "text": [
      "save weight\n"
     ]
    },
    {
     "data": {
      "application/vnd.jupyter.widget-view+json": {
       "model_id": "1ee9aedc07524c17a2d65f2fba848250",
       "version_major": 2,
       "version_minor": 0
      },
      "text/plain": [
       "  0%|          | 0/364 [00:00<?, ?it/s]"
      ]
     },
     "metadata": {},
     "output_type": "display_data"
    },
    {
     "data": {
      "application/vnd.jupyter.widget-view+json": {
       "model_id": "2fb48e3ffd1b49b684669cc2dc3178d0",
       "version_major": 2,
       "version_minor": 0
      },
      "text/plain": [
       "  0%|          | 0/31 [00:00<?, ?it/s]"
      ]
     },
     "metadata": {},
     "output_type": "display_data"
    },
    {
     "name": "stderr",
     "output_type": "stream",
     "text": [
      "2023-05-29 13:35:45,662 - INFO - fold:2 epoch : 5,train loss 0.060966599805556895 map:0.4938419710945377 starthesi:0.001239096454654716 turn:0.529330796367676 walking :0.4583531458213994\n"
     ]
    },
    {
     "data": {
      "application/vnd.jupyter.widget-view+json": {
       "model_id": "7f41af54ca154b29b1133bc08e7bc591",
       "version_major": 2,
       "version_minor": 0
      },
      "text/plain": [
       "  0%|          | 0/364 [00:00<?, ?it/s]"
      ]
     },
     "metadata": {},
     "output_type": "display_data"
    },
    {
     "data": {
      "application/vnd.jupyter.widget-view+json": {
       "model_id": "89f964b55fa846a38d6cbb60c1ca0a9c",
       "version_major": 2,
       "version_minor": 0
      },
      "text/plain": [
       "  0%|          | 0/31 [00:00<?, ?it/s]"
      ]
     },
     "metadata": {},
     "output_type": "display_data"
    },
    {
     "name": "stderr",
     "output_type": "stream",
     "text": [
      "2023-05-29 13:39:21,474 - INFO - fold:2 epoch : 6,train loss 0.054690731856920805 map:0.5378988647340563 starthesi:0.0006530409573124508 turn:0.5896567573278092 walking :0.4861409721403035\n"
     ]
    },
    {
     "name": "stdout",
     "output_type": "stream",
     "text": [
      "save weight\n"
     ]
    },
    {
     "data": {
      "application/vnd.jupyter.widget-view+json": {
       "model_id": "762c49a7345f4818b8c964a2a36533b9",
       "version_major": 2,
       "version_minor": 0
      },
      "text/plain": [
       "  0%|          | 0/364 [00:00<?, ?it/s]"
      ]
     },
     "metadata": {},
     "output_type": "display_data"
    },
    {
     "data": {
      "application/vnd.jupyter.widget-view+json": {
       "model_id": "b906d787c61a4eaeb7ff70bb4dcfb904",
       "version_major": 2,
       "version_minor": 0
      },
      "text/plain": [
       "  0%|          | 0/31 [00:00<?, ?it/s]"
      ]
     },
     "metadata": {},
     "output_type": "display_data"
    },
    {
     "name": "stderr",
     "output_type": "stream",
     "text": [
      "2023-05-29 13:42:52,815 - INFO - fold:2 epoch : 7,train loss 0.05054471532783502 map:0.503753819883101 starthesi:0.0006289571056924979 turn:0.587178650388785 walking :0.4203289893774169\n"
     ]
    },
    {
     "data": {
      "application/vnd.jupyter.widget-view+json": {
       "model_id": "eb9045c73ee34ce4b7121b953a5ac66d",
       "version_major": 2,
       "version_minor": 0
      },
      "text/plain": [
       "  0%|          | 0/364 [00:00<?, ?it/s]"
      ]
     },
     "metadata": {},
     "output_type": "display_data"
    },
    {
     "data": {
      "application/vnd.jupyter.widget-view+json": {
       "model_id": "a9fd34f9a85a40218eddff89c389be81",
       "version_major": 2,
       "version_minor": 0
      },
      "text/plain": [
       "  0%|          | 0/31 [00:00<?, ?it/s]"
      ]
     },
     "metadata": {},
     "output_type": "display_data"
    },
    {
     "name": "stderr",
     "output_type": "stream",
     "text": [
      "2023-05-29 13:46:27,933 - INFO - fold:2 epoch : 8,train loss 0.04625235392458118 map:0.5206321142810403 starthesi:0.0004845742625693598 turn:0.5855759457025808 walking :0.4556882828594998\n"
     ]
    },
    {
     "data": {
      "application/vnd.jupyter.widget-view+json": {
       "model_id": "23bae3eea0fa4b9b9f3f1463e965e92e",
       "version_major": 2,
       "version_minor": 0
      },
      "text/plain": [
       "  0%|          | 0/364 [00:00<?, ?it/s]"
      ]
     },
     "metadata": {},
     "output_type": "display_data"
    },
    {
     "data": {
      "application/vnd.jupyter.widget-view+json": {
       "model_id": "6f6011bc53994e328de3ccaad9260321",
       "version_major": 2,
       "version_minor": 0
      },
      "text/plain": [
       "  0%|          | 0/31 [00:00<?, ?it/s]"
      ]
     },
     "metadata": {},
     "output_type": "display_data"
    },
    {
     "name": "stderr",
     "output_type": "stream",
     "text": [
      "2023-05-29 13:49:59,326 - INFO - fold:2 epoch : 9,train loss 0.0432569050642017 map:0.5142815354655597 starthesi:0.000463912746776533 turn:0.588162537908862 walking :0.44040053302225735\n",
      "2023-05-29 13:49:59,356 - INFO - [fold 2] done in 2139 s\n",
      "2023-05-29 13:49:59,359 - INFO - start fold:3\n"
     ]
    },
    {
     "data": {
      "application/vnd.jupyter.widget-view+json": {
       "model_id": "7acea4ccfb574f228707afb7289e41f7",
       "version_major": 2,
       "version_minor": 0
      },
      "text/plain": [
       "  0%|          | 0/353 [00:00<?, ?it/s]"
      ]
     },
     "metadata": {},
     "output_type": "display_data"
    },
    {
     "data": {
      "application/vnd.jupyter.widget-view+json": {
       "model_id": "2476f8d7d4d349d9b4366f291e7f1a43",
       "version_major": 2,
       "version_minor": 0
      },
      "text/plain": [
       "  0%|          | 0/41 [00:00<?, ?it/s]"
      ]
     },
     "metadata": {},
     "output_type": "display_data"
    },
    {
     "name": "stderr",
     "output_type": "stream",
     "text": [
      "2023-05-29 13:53:35,452 - INFO - fold:3 epoch : 0,train loss 0.1464434841663574 map:0.3623927646063381 starthesi:0.00012846147731731256 turn:0.7109209923899218 walking :0.013864536822754455\n"
     ]
    },
    {
     "name": "stdout",
     "output_type": "stream",
     "text": [
      "save weight\n"
     ]
    },
    {
     "data": {
      "application/vnd.jupyter.widget-view+json": {
       "model_id": "d80105a2cb964029bcba91fccc6f6fa4",
       "version_major": 2,
       "version_minor": 0
      },
      "text/plain": [
       "  0%|          | 0/353 [00:00<?, ?it/s]"
      ]
     },
     "metadata": {},
     "output_type": "display_data"
    },
    {
     "data": {
      "application/vnd.jupyter.widget-view+json": {
       "model_id": "3b990f0223fd481faf9d32ee5874a4d3",
       "version_major": 2,
       "version_minor": 0
      },
      "text/plain": [
       "  0%|          | 0/41 [00:00<?, ?it/s]"
      ]
     },
     "metadata": {},
     "output_type": "display_data"
    },
    {
     "name": "stderr",
     "output_type": "stream",
     "text": [
      "2023-05-29 13:57:05,293 - INFO - fold:3 epoch : 1,train loss 0.10135899068360288 map:0.389705099775677 starthesi:0.00027000476448691465 turn:0.7568208848681615 walking :0.022589314683192568\n"
     ]
    },
    {
     "name": "stdout",
     "output_type": "stream",
     "text": [
      "save weight\n"
     ]
    },
    {
     "data": {
      "application/vnd.jupyter.widget-view+json": {
       "model_id": "6c139055e081467fb8c7f8cd0af704f9",
       "version_major": 2,
       "version_minor": 0
      },
      "text/plain": [
       "  0%|          | 0/353 [00:00<?, ?it/s]"
      ]
     },
     "metadata": {},
     "output_type": "display_data"
    },
    {
     "data": {
      "application/vnd.jupyter.widget-view+json": {
       "model_id": "481454ee2ae64f46ba2c57de0eca4e5c",
       "version_major": 2,
       "version_minor": 0
      },
      "text/plain": [
       "  0%|          | 0/41 [00:00<?, ?it/s]"
      ]
     },
     "metadata": {},
     "output_type": "display_data"
    },
    {
     "name": "stderr",
     "output_type": "stream",
     "text": [
      "2023-05-29 14:00:36,757 - INFO - fold:3 epoch : 2,train loss 0.08887034451335711 map:0.39314129033487866 starthesi:0.0018587772409592875 turn:0.7501466996227074 walking :0.036135881047049886\n"
     ]
    },
    {
     "name": "stdout",
     "output_type": "stream",
     "text": [
      "save weight\n"
     ]
    },
    {
     "data": {
      "application/vnd.jupyter.widget-view+json": {
       "model_id": "d7bbbad1f24f4be2a75d1d5af764513e",
       "version_major": 2,
       "version_minor": 0
      },
      "text/plain": [
       "  0%|          | 0/353 [00:00<?, ?it/s]"
      ]
     },
     "metadata": {},
     "output_type": "display_data"
    },
    {
     "data": {
      "application/vnd.jupyter.widget-view+json": {
       "model_id": "72a26406dc3e4bc5bd708daba15112fc",
       "version_major": 2,
       "version_minor": 0
      },
      "text/plain": [
       "  0%|          | 0/41 [00:00<?, ?it/s]"
      ]
     },
     "metadata": {},
     "output_type": "display_data"
    },
    {
     "name": "stderr",
     "output_type": "stream",
     "text": [
      "2023-05-29 14:04:07,454 - INFO - fold:3 epoch : 3,train loss 0.07643568170686957 map:0.4154321743149365 starthesi:7.522522250065151e-05 turn:0.737444762632794 walking :0.09341958599707896\n"
     ]
    },
    {
     "name": "stdout",
     "output_type": "stream",
     "text": [
      "save weight\n"
     ]
    },
    {
     "data": {
      "application/vnd.jupyter.widget-view+json": {
       "model_id": "a18163ec8152417eab108a1633b2e7b7",
       "version_major": 2,
       "version_minor": 0
      },
      "text/plain": [
       "  0%|          | 0/353 [00:00<?, ?it/s]"
      ]
     },
     "metadata": {},
     "output_type": "display_data"
    },
    {
     "data": {
      "application/vnd.jupyter.widget-view+json": {
       "model_id": "8cba9d14f3fd41adbb885e0e6e1c84cd",
       "version_major": 2,
       "version_minor": 0
      },
      "text/plain": [
       "  0%|          | 0/41 [00:00<?, ?it/s]"
      ]
     },
     "metadata": {},
     "output_type": "display_data"
    },
    {
     "name": "stderr",
     "output_type": "stream",
     "text": [
      "2023-05-29 14:07:37,902 - INFO - fold:3 epoch : 4,train loss 0.07006363089199022 map:0.42203233338623286 starthesi:0.0003148552269114454 turn:0.7781449187690956 walking :0.06591974800337008\n"
     ]
    },
    {
     "name": "stdout",
     "output_type": "stream",
     "text": [
      "save weight\n"
     ]
    },
    {
     "data": {
      "application/vnd.jupyter.widget-view+json": {
       "model_id": "82010a369f20402ba37ca8588e758775",
       "version_major": 2,
       "version_minor": 0
      },
      "text/plain": [
       "  0%|          | 0/353 [00:00<?, ?it/s]"
      ]
     },
     "metadata": {},
     "output_type": "display_data"
    },
    {
     "data": {
      "application/vnd.jupyter.widget-view+json": {
       "model_id": "583aa0399b1c463b8b872ef1b7573b02",
       "version_major": 2,
       "version_minor": 0
      },
      "text/plain": [
       "  0%|          | 0/41 [00:00<?, ?it/s]"
      ]
     },
     "metadata": {},
     "output_type": "display_data"
    },
    {
     "name": "stderr",
     "output_type": "stream",
     "text": [
      "2023-05-29 14:11:11,524 - INFO - fold:3 epoch : 5,train loss 0.06312512042180295 map:0.41910966342175887 starthesi:0.0009822389708872676 turn:0.7270831532378704 walking :0.11113617360564731\n"
     ]
    },
    {
     "data": {
      "application/vnd.jupyter.widget-view+json": {
       "model_id": "3da8db2cf0a34b8b9c7125a7c157b422",
       "version_major": 2,
       "version_minor": 0
      },
      "text/plain": [
       "  0%|          | 0/353 [00:00<?, ?it/s]"
      ]
     },
     "metadata": {},
     "output_type": "display_data"
    },
    {
     "data": {
      "application/vnd.jupyter.widget-view+json": {
       "model_id": "ca1970dc0a6a41abb9df6b623793b921",
       "version_major": 2,
       "version_minor": 0
      },
      "text/plain": [
       "  0%|          | 0/41 [00:00<?, ?it/s]"
      ]
     },
     "metadata": {},
     "output_type": "display_data"
    },
    {
     "name": "stderr",
     "output_type": "stream",
     "text": [
      "2023-05-29 14:14:41,172 - INFO - fold:3 epoch : 6,train loss 0.05754586559042292 map:0.43840684353872006 starthesi:0.0003348801069402319 turn:0.7576373290521807 walking :0.11917635802525933\n"
     ]
    },
    {
     "name": "stdout",
     "output_type": "stream",
     "text": [
      "save weight\n"
     ]
    },
    {
     "data": {
      "application/vnd.jupyter.widget-view+json": {
       "model_id": "c277b0bd81bc4efbaff9b0d9014e4837",
       "version_major": 2,
       "version_minor": 0
      },
      "text/plain": [
       "  0%|          | 0/353 [00:00<?, ?it/s]"
      ]
     },
     "metadata": {},
     "output_type": "display_data"
    },
    {
     "data": {
      "application/vnd.jupyter.widget-view+json": {
       "model_id": "caa9d90b98a944e1b491225057f4ebda",
       "version_major": 2,
       "version_minor": 0
      },
      "text/plain": [
       "  0%|          | 0/41 [00:00<?, ?it/s]"
      ]
     },
     "metadata": {},
     "output_type": "display_data"
    },
    {
     "name": "stderr",
     "output_type": "stream",
     "text": [
      "2023-05-29 14:18:13,952 - INFO - fold:3 epoch : 7,train loss 0.05193958525603938 map:0.44575406825492075 starthesi:0.0003378644886838744 turn:0.76300012834248 walking :0.12850800816736155\n"
     ]
    },
    {
     "name": "stdout",
     "output_type": "stream",
     "text": [
      "save weight\n"
     ]
    },
    {
     "data": {
      "application/vnd.jupyter.widget-view+json": {
       "model_id": "95901f0bbd9a475fa32eb2f7bb692656",
       "version_major": 2,
       "version_minor": 0
      },
      "text/plain": [
       "  0%|          | 0/353 [00:00<?, ?it/s]"
      ]
     },
     "metadata": {},
     "output_type": "display_data"
    },
    {
     "data": {
      "application/vnd.jupyter.widget-view+json": {
       "model_id": "12a6d1718973442088873591b17ac73b",
       "version_major": 2,
       "version_minor": 0
      },
      "text/plain": [
       "  0%|          | 0/41 [00:00<?, ?it/s]"
      ]
     },
     "metadata": {},
     "output_type": "display_data"
    },
    {
     "name": "stderr",
     "output_type": "stream",
     "text": [
      "2023-05-29 14:21:42,495 - INFO - fold:3 epoch : 8,train loss 0.04793444287332656 map:0.43709217546893403 starthesi:0.000641041096672099 turn:0.7558999956980255 walking :0.11828435523984261\n"
     ]
    },
    {
     "data": {
      "application/vnd.jupyter.widget-view+json": {
       "model_id": "4c04968039e64c10832c1d7ed8b2e693",
       "version_major": 2,
       "version_minor": 0
      },
      "text/plain": [
       "  0%|          | 0/353 [00:00<?, ?it/s]"
      ]
     },
     "metadata": {},
     "output_type": "display_data"
    },
    {
     "data": {
      "application/vnd.jupyter.widget-view+json": {
       "model_id": "7393801e6db54e7d88793de06b946e1f",
       "version_major": 2,
       "version_minor": 0
      },
      "text/plain": [
       "  0%|          | 0/41 [00:00<?, ?it/s]"
      ]
     },
     "metadata": {},
     "output_type": "display_data"
    },
    {
     "name": "stderr",
     "output_type": "stream",
     "text": [
      "2023-05-29 14:25:14,560 - INFO - fold:3 epoch : 9,train loss 0.04505860564238247 map:0.44115915488217344 starthesi:0.00040791654807616846 turn:0.7534159957475463 walking :0.1289023140168006\n",
      "2023-05-29 14:25:14,595 - INFO - [fold 3] done in 2115 s\n",
      "2023-05-29 14:25:14,597 - INFO - start fold:4\n"
     ]
    },
    {
     "data": {
      "application/vnd.jupyter.widget-view+json": {
       "model_id": "4a3c34042ce348ec9aa58ef79562d039",
       "version_major": 2,
       "version_minor": 0
      },
      "text/plain": [
       "  0%|          | 0/350 [00:00<?, ?it/s]"
      ]
     },
     "metadata": {},
     "output_type": "display_data"
    },
    {
     "data": {
      "application/vnd.jupyter.widget-view+json": {
       "model_id": "272e3bb85ea44a0a9ca85717a003759b",
       "version_major": 2,
       "version_minor": 0
      },
      "text/plain": [
       "  0%|          | 0/44 [00:00<?, ?it/s]"
      ]
     },
     "metadata": {},
     "output_type": "display_data"
    },
    {
     "name": "stderr",
     "output_type": "stream",
     "text": [
      "2023-05-29 14:28:45,892 - INFO - fold:4 epoch : 0,train loss 0.1438931083253452 map:0.17559736439273788 starthesi:0.00013881272408595318 turn:0.24579299147360406 walking :0.10540173731187169\n"
     ]
    },
    {
     "name": "stdout",
     "output_type": "stream",
     "text": [
      "save weight\n"
     ]
    },
    {
     "data": {
      "application/vnd.jupyter.widget-view+json": {
       "model_id": "4252a11e6d754f2a87dd46f8a4fa9ad0",
       "version_major": 2,
       "version_minor": 0
      },
      "text/plain": [
       "  0%|          | 0/350 [00:00<?, ?it/s]"
      ]
     },
     "metadata": {},
     "output_type": "display_data"
    },
    {
     "data": {
      "application/vnd.jupyter.widget-view+json": {
       "model_id": "1e2c10d4447f4c6593f7fe44895b4300",
       "version_major": 2,
       "version_minor": 0
      },
      "text/plain": [
       "  0%|          | 0/44 [00:00<?, ?it/s]"
      ]
     },
     "metadata": {},
     "output_type": "display_data"
    },
    {
     "name": "stderr",
     "output_type": "stream",
     "text": [
      "2023-05-29 14:32:17,252 - INFO - fold:4 epoch : 1,train loss 0.10235918360629252 map:0.22950027294914782 starthesi:0.00011364756288956056 turn:0.23648424425693945 walking :0.22251630164135622\n"
     ]
    },
    {
     "name": "stdout",
     "output_type": "stream",
     "text": [
      "save weight\n"
     ]
    },
    {
     "data": {
      "application/vnd.jupyter.widget-view+json": {
       "model_id": "f90c3296722f4244976a72f4ed3add2c",
       "version_major": 2,
       "version_minor": 0
      },
      "text/plain": [
       "  0%|          | 0/350 [00:00<?, ?it/s]"
      ]
     },
     "metadata": {},
     "output_type": "display_data"
    },
    {
     "data": {
      "application/vnd.jupyter.widget-view+json": {
       "model_id": "e4243c550f6a4749bf75da9ce4a6a122",
       "version_major": 2,
       "version_minor": 0
      },
      "text/plain": [
       "  0%|          | 0/44 [00:00<?, ?it/s]"
      ]
     },
     "metadata": {},
     "output_type": "display_data"
    },
    {
     "name": "stderr",
     "output_type": "stream",
     "text": [
      "2023-05-29 14:35:44,956 - INFO - fold:4 epoch : 2,train loss 0.08487997402037893 map:0.2677059993151753 starthesi:6.527216950006553e-05 turn:0.15459040647336986 walking :0.38082159215698075\n"
     ]
    },
    {
     "name": "stdout",
     "output_type": "stream",
     "text": [
      "save weight\n"
     ]
    },
    {
     "data": {
      "application/vnd.jupyter.widget-view+json": {
       "model_id": "a2317aa0c98a43b2b2b3a80a45a7a7ea",
       "version_major": 2,
       "version_minor": 0
      },
      "text/plain": [
       "  0%|          | 0/350 [00:00<?, ?it/s]"
      ]
     },
     "metadata": {},
     "output_type": "display_data"
    },
    {
     "data": {
      "application/vnd.jupyter.widget-view+json": {
       "model_id": "3da609226cd341e8868b6911bec7fd22",
       "version_major": 2,
       "version_minor": 0
      },
      "text/plain": [
       "  0%|          | 0/44 [00:00<?, ?it/s]"
      ]
     },
     "metadata": {},
     "output_type": "display_data"
    },
    {
     "name": "stderr",
     "output_type": "stream",
     "text": [
      "2023-05-29 14:39:16,256 - INFO - fold:4 epoch : 3,train loss 0.07487689975582595 map:0.2887029581985908 starthesi:4.696275616565122e-05 turn:0.15077180444488428 walking :0.42663411195229733\n"
     ]
    },
    {
     "name": "stdout",
     "output_type": "stream",
     "text": [
      "save weight\n"
     ]
    },
    {
     "data": {
      "application/vnd.jupyter.widget-view+json": {
       "model_id": "29a2cfe936734c899dce84bc87b681d4",
       "version_major": 2,
       "version_minor": 0
      },
      "text/plain": [
       "  0%|          | 0/350 [00:00<?, ?it/s]"
      ]
     },
     "metadata": {},
     "output_type": "display_data"
    },
    {
     "data": {
      "application/vnd.jupyter.widget-view+json": {
       "model_id": "60eba9a5ca6e41fbb66ae8da893adad5",
       "version_major": 2,
       "version_minor": 0
      },
      "text/plain": [
       "  0%|          | 0/44 [00:00<?, ?it/s]"
      ]
     },
     "metadata": {},
     "output_type": "display_data"
    },
    {
     "name": "stderr",
     "output_type": "stream",
     "text": [
      "2023-05-29 14:42:44,533 - INFO - fold:4 epoch : 4,train loss 0.0678197886675064 map:0.310243236929454 starthesi:4.396289759731445e-05 turn:0.16865731493359148 walking :0.45182915892531655\n"
     ]
    },
    {
     "name": "stdout",
     "output_type": "stream",
     "text": [
      "save weight\n"
     ]
    },
    {
     "data": {
      "application/vnd.jupyter.widget-view+json": {
       "model_id": "07eb84f68354415ab20192f4ecf3b27d",
       "version_major": 2,
       "version_minor": 0
      },
      "text/plain": [
       "  0%|          | 0/350 [00:00<?, ?it/s]"
      ]
     },
     "metadata": {},
     "output_type": "display_data"
    },
    {
     "data": {
      "application/vnd.jupyter.widget-view+json": {
       "model_id": "a61b2607b71442fdab1ae95862d1f1dd",
       "version_major": 2,
       "version_minor": 0
      },
      "text/plain": [
       "  0%|          | 0/44 [00:00<?, ?it/s]"
      ]
     },
     "metadata": {},
     "output_type": "display_data"
    },
    {
     "name": "stderr",
     "output_type": "stream",
     "text": [
      "2023-05-29 14:46:15,644 - INFO - fold:4 epoch : 5,train loss 0.06211340887205941 map:0.3119457226379466 starthesi:4.193217330507255e-05 turn:0.1714656284943883 walking :0.45242581678150495\n"
     ]
    },
    {
     "name": "stdout",
     "output_type": "stream",
     "text": [
      "save weight\n"
     ]
    },
    {
     "data": {
      "application/vnd.jupyter.widget-view+json": {
       "model_id": "3a617f11b2524087ae433a2f1d202b47",
       "version_major": 2,
       "version_minor": 0
      },
      "text/plain": [
       "  0%|          | 0/350 [00:00<?, ?it/s]"
      ]
     },
     "metadata": {},
     "output_type": "display_data"
    },
    {
     "data": {
      "application/vnd.jupyter.widget-view+json": {
       "model_id": "c74ca87aff7f4f4998392aedee53c80f",
       "version_major": 2,
       "version_minor": 0
      },
      "text/plain": [
       "  0%|          | 0/44 [00:00<?, ?it/s]"
      ]
     },
     "metadata": {},
     "output_type": "display_data"
    },
    {
     "name": "stderr",
     "output_type": "stream",
     "text": [
      "2023-05-29 14:49:46,153 - INFO - fold:4 epoch : 6,train loss 0.05587282877714772 map:0.29254311993580795 starthesi:4.105064809830993e-05 turn:0.16617076371608344 walking :0.41891547615553243\n"
     ]
    },
    {
     "data": {
      "application/vnd.jupyter.widget-view+json": {
       "model_id": "f64226ce327f4bc7b921e76f9fb345ff",
       "version_major": 2,
       "version_minor": 0
      },
      "text/plain": [
       "  0%|          | 0/350 [00:00<?, ?it/s]"
      ]
     },
     "metadata": {},
     "output_type": "display_data"
    },
    {
     "data": {
      "application/vnd.jupyter.widget-view+json": {
       "model_id": "16dbfd9bdade427a8883c8b8ee4950f4",
       "version_major": 2,
       "version_minor": 0
      },
      "text/plain": [
       "  0%|          | 0/44 [00:00<?, ?it/s]"
      ]
     },
     "metadata": {},
     "output_type": "display_data"
    },
    {
     "name": "stderr",
     "output_type": "stream",
     "text": [
      "2023-05-29 14:53:18,697 - INFO - fold:4 epoch : 7,train loss 0.0519387899578682 map:0.348504682084875 starthesi:4.0279463729466006e-05 turn:0.22760609439822208 walking :0.4694032697715279\n"
     ]
    },
    {
     "name": "stdout",
     "output_type": "stream",
     "text": [
      "save weight\n"
     ]
    },
    {
     "data": {
      "application/vnd.jupyter.widget-view+json": {
       "model_id": "5011450973b14ea3bb66fc14a20ac977",
       "version_major": 2,
       "version_minor": 0
      },
      "text/plain": [
       "  0%|          | 0/350 [00:00<?, ?it/s]"
      ]
     },
     "metadata": {},
     "output_type": "display_data"
    },
    {
     "data": {
      "application/vnd.jupyter.widget-view+json": {
       "model_id": "39d481187063448fa0eb4f46a66c14e1",
       "version_major": 2,
       "version_minor": 0
      },
      "text/plain": [
       "  0%|          | 0/44 [00:00<?, ?it/s]"
      ]
     },
     "metadata": {},
     "output_type": "display_data"
    },
    {
     "name": "stderr",
     "output_type": "stream",
     "text": [
      "2023-05-29 14:56:46,929 - INFO - fold:4 epoch : 8,train loss 0.04787047127145343 map:0.34738288213431107 starthesi:4.02936457476366e-05 turn:0.21989673865068007 walking :0.47486902561794203\n"
     ]
    },
    {
     "data": {
      "application/vnd.jupyter.widget-view+json": {
       "model_id": "030d99ea14c7414ab98ac807bc9b78a3",
       "version_major": 2,
       "version_minor": 0
      },
      "text/plain": [
       "  0%|          | 0/350 [00:00<?, ?it/s]"
      ]
     },
     "metadata": {},
     "output_type": "display_data"
    },
    {
     "data": {
      "application/vnd.jupyter.widget-view+json": {
       "model_id": "9fbb1264651e4ae6b41282521a8cc697",
       "version_major": 2,
       "version_minor": 0
      },
      "text/plain": [
       "  0%|          | 0/44 [00:00<?, ?it/s]"
      ]
     },
     "metadata": {},
     "output_type": "display_data"
    },
    {
     "name": "stderr",
     "output_type": "stream",
     "text": [
      "2023-05-29 15:00:18,723 - INFO - fold:4 epoch : 9,train loss 0.04570096658609275 map:0.350973501808702 starthesi:4.033993745071121e-05 turn:0.22425881359279853 walking :0.47768819002460555\n",
      "2023-05-29 15:00:18,814 - INFO - [fold 4] done in 2104 s\n"
     ]
    },
    {
     "name": "stdout",
     "output_type": "stream",
     "text": [
      "save weight\n"
     ]
    },
    {
     "name": "stderr",
     "output_type": "stream",
     "text": [
      "2023-05-29 15:00:19,240 - INFO - [gru] done in 10497 s\n"
     ]
    }
   ],
   "source": [
    "with timer(\"gru\"):\n",
    "    set_seed(seed)\n",
    "    y_oof = np.empty([len(target_array),seq_len,3])\n",
    "    gkf = StratifiedGroupKFold(n_splits=n_splits,shuffle=True,random_state = seed)\n",
    "    for fold, (train_idx, valid_idx) in enumerate(gkf.split(numerical_array, \n",
    "                                                             y = df_id[\"group\"].values,\n",
    "                                                             groups=df_id[\"subject\"].values)):\n",
    "        LOGGER.info(f\"start fold:{fold}\")\n",
    "        with timer(f\"fold {fold}\"):\n",
    "            train_numerical_array = numerical_array[train_idx]\n",
    "            train_target_array = target_array[train_idx]\n",
    "            train_mask_array = mask_array[train_idx]\n",
    "            train_valid_array = valid_array[train_idx]\n",
    "            \n",
    "            pseudo_target_array = np.load(f\"../output/fe/fe{pseudo_target}/fe{pseudo_target}_target_array_{fold}.npy\")\n",
    "            train_numerical_array = np.concatenate([train_numerical_array,pseudo_numerical_array],axis=0)\n",
    "            train_target_array = np.concatenate([train_target_array,pseudo_target_array],axis=0)\n",
    "            train_mask_array = np.concatenate([train_mask_array,pseudo_mask_array],axis=0)\n",
    "            train_valid_array = np.concatenate([train_valid_array,pseudo_valid_array],axis=0)\n",
    "            \n",
    "            val_numerical_array = numerical_array[valid_idx]\n",
    "            val_target_array = target_array[valid_idx]\n",
    "            val_mask_array = mask_array[valid_idx]\n",
    "            val_valid_array = valid_array[valid_idx]\n",
    "            val_pred_array = pred_use_array[valid_idx]\n",
    "            \n",
    "            train_ = FogDataset(train_numerical_array,\n",
    "                                train_mask_array,\n",
    "                                train_valid_array, \n",
    "                                train=True,\n",
    "                                y=train_target_array)\n",
    "            \n",
    "            val_ = FogDataset(val_numerical_array,\n",
    "                                val_mask_array,\n",
    "                                val_valid_array, \n",
    "                                train=True,\n",
    "                                y=val_target_array)\n",
    "            \n",
    "            \n",
    "            train_loader = DataLoader(dataset=train_, \n",
    "                                  batch_size=batch_size, \n",
    "                                  shuffle = True , num_workers=8)\n",
    "            val_loader = DataLoader(dataset=val_, \n",
    "                                batch_size=batch_size, \n",
    "                                shuffle = False , num_workers=8)\n",
    "            \n",
    "            model = FogRnnModel()\n",
    "            model = model.to(device)\n",
    "            param_optimizer = list(model.named_parameters())\n",
    "            no_decay = ['bias', 'LayerNorm.bias', 'LayerNorm.weight']\n",
    "            optimizer_grouped_parameters = [\n",
    "                {'params': [p for n, p in param_optimizer if not any(nd in n for nd in no_decay)], 'weight_decay': weight_decay},\n",
    "                {'params': [p for n, p in param_optimizer if any(nd in n for nd in no_decay)], 'weight_decay': 0.0}\n",
    "            ]\n",
    "            optimizer = AdamW(optimizer_grouped_parameters,\n",
    "                              lr=lr,\n",
    "                              weight_decay=weight_decay,\n",
    "                              )\n",
    "            num_train_optimization_steps = int(len(train_loader) * n_epochs)\n",
    "            scheduler = get_linear_schedule_with_warmup(optimizer,\n",
    "                                                        num_warmup_steps=num_warmup_steps,\n",
    "                                                        num_training_steps=num_train_optimization_steps)\n",
    "            criterion = nn.BCEWithLogitsLoss()\n",
    "            best_val_score = 0\n",
    "            for epoch in range(n_epochs):\n",
    "                model.train() \n",
    "                train_losses_batch = []\n",
    "                val_losses_batch = []\n",
    "                epoch_loss = 0\n",
    "                train_preds = np.ndarray((0,3))\n",
    "                tk0 = tqdm(train_loader, total=len(train_loader))\n",
    "                for d in tk0:\n",
    "                    # =========================\n",
    "                    # data loader\n",
    "                    # =========================\n",
    "                    input_data_numerical_array = d['input_data_numerical_array'].to(device)\n",
    "                    input_data_mask_array = d['input_data_mask_array'].to(device)\n",
    "                    input_data_valid_array = d['input_data_valid_array'].to(device)\n",
    "                    attention_mask = d['attention_mask'].to(device)\n",
    "                    y = d[\"y\"].to(device)\n",
    "                    optimizer.zero_grad()\n",
    "                    output = model(input_data_numerical_array, \n",
    "                                   input_data_mask_array,\n",
    "                                   attention_mask)\n",
    "                    loss = criterion(output[(input_data_valid_array == 1)], y[input_data_valid_array == 1])\n",
    "                    loss.backward()\n",
    "                    optimizer.step()\n",
    "                    scheduler.step()\n",
    "                    train_losses_batch.append(loss.item())\n",
    "                train_loss = np.mean(train_losses_batch)\n",
    "            \n",
    "                # ==========================\n",
    "                # eval\n",
    "                # ==========================\n",
    "                model.eval()  # switch model to the evaluation mode\n",
    "                val_preds = np.ndarray((0,seq_len,3))\n",
    "                tk0 = tqdm(val_loader, total=len(val_loader))\n",
    "                with torch.no_grad():  # Do not calculate gradient since we are only predicting\n",
    "                    # Predicting on validation set\n",
    "                    for d in tk0:\n",
    "                        input_data_numerical_array = d['input_data_numerical_array'].to(device)\n",
    "                        input_data_mask_array = d['input_data_mask_array'].to(device)\n",
    "                        attention_mask = d['attention_mask'].to(device)\n",
    "                        output = model(input_data_numerical_array, \n",
    "                                   input_data_mask_array,\n",
    "                                   attention_mask)\n",
    "                        val_preds = np.concatenate([val_preds, output.sigmoid().detach().cpu().numpy()], axis=0)\n",
    "                pred_valid_index = (val_mask_array == 1) & (val_pred_array == 1) & (val_valid_array == 1)\n",
    "                StartHesitation = average_precision_score(val_target_array[pred_valid_index][:,0],\n",
    "                                                          val_preds[pred_valid_index][:,0])\n",
    "                Turn = average_precision_score(val_target_array[pred_valid_index][:,1],\n",
    "                                                          val_preds[pred_valid_index][:,1])\n",
    "                Walking = average_precision_score(val_target_array[pred_valid_index][:,2],\n",
    "                                                          val_preds[pred_valid_index][:,2])\n",
    "                map_score = np.mean([Turn,\n",
    "                                     Walking])\n",
    "                LOGGER.info(f\"fold:{fold} epoch : {epoch},train loss {train_loss} map:{map_score} starthesi:{StartHesitation} turn:{Turn} walking :{Walking}\")\n",
    "                #best_val_preds = val_preds.copy()\n",
    "                #torch.save(model.state_dict(), f\"../output/exp/ex{ex}/ex{ex}_model/ex{ex}_{fold}.pth\") \n",
    "                if map_score >= best_val_score:\n",
    "                    print(\"save weight\")\n",
    "                    best_val_score = map_score\n",
    "                    best_val_preds = val_preds.copy()\n",
    "                    torch.save(model.state_dict(), f\"../output/exp/ex{ex}/ex{ex}_model/ex{ex}_{fold}.pth\") \n",
    "            y_oof[valid_idx] = best_val_preds\n",
    "    np.save(f\"../output/exp/ex{ex}/ex{ex}_oof.npy\",y_oof)"
   ]
  },
  {
   "cell_type": "code",
   "execution_count": 15,
   "id": "45c3286d-4677-401f-8b53-fe3f78682498",
   "metadata": {},
   "outputs": [
    {
     "name": "stderr",
     "output_type": "stream",
     "text": [
      "2023-05-29 15:00:25,214 - INFO - cv map:0.290972679758985 starthesi:0.00018006516297915023 turn:0.5829756915281775 walking :0.2897622825857983\n"
     ]
    }
   ],
   "source": [
    "val_pred_index = (mask_array == 1) & (pred_use_array == 1) & (valid_array == 1)\n",
    "StartHesitation = average_precision_score(target_array[val_pred_index][:,0],\n",
    "                                                          y_oof[val_pred_index ][:,0])\n",
    "Turn = average_precision_score(target_array[val_pred_index ][:,1],\n",
    "                                                          y_oof[val_pred_index ][:,1])\n",
    "Walking = average_precision_score(target_array[val_pred_index ][:,2],\n",
    "                                                          y_oof[val_pred_index ][:,2])\n",
    "\n",
    "map_score = np.mean([StartHesitation,\n",
    "                               Turn,\n",
    "                               Walking])\n",
    "LOGGER.info(f\"cv map:{map_score} starthesi:{StartHesitation} turn:{Turn} walking :{Walking}\")"
   ]
  },
  {
   "cell_type": "code",
   "execution_count": 16,
   "id": "4d51e84a-8acb-4eb6-a72d-755e6cc93158",
   "metadata": {},
   "outputs": [],
   "source": [
    "import json\n",
    "kaggle_json = {\n",
    "  \"title\": f\"fog-ex{ex}\",\n",
    "  \"id\": f\"takoihiraokazu/fog-ex{ex}\",\n",
    "  \"licenses\": [\n",
    "    {\n",
    "      \"name\": \"CC0-1.0\"\n",
    "    }\n",
    "  ]\n",
    "}\n",
    "\n",
    "with open(f\"../output/exp/ex{ex}/ex{ex}_model/dataset-metadata.json\", 'w') as f:\n",
    "    json.dump(kaggle_json, f)"
   ]
  },
  {
   "cell_type": "code",
   "execution_count": null,
   "id": "210e5221-461b-4ae0-a9d0-78d15a6c6f17",
   "metadata": {},
   "outputs": [],
   "source": []
  }
 ],
 "metadata": {
  "kernelspec": {
   "display_name": "Python 3 (ipykernel)",
   "language": "python",
   "name": "python3"
  },
  "language_info": {
   "codemirror_mode": {
    "name": "ipython",
    "version": 3
   },
   "file_extension": ".py",
   "mimetype": "text/x-python",
   "name": "python",
   "nbconvert_exporter": "python",
   "pygments_lexer": "ipython3",
   "version": "3.10.4"
  }
 },
 "nbformat": 4,
 "nbformat_minor": 5
}
