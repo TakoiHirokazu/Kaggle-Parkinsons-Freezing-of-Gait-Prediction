{
 "cells": [
  {
   "cell_type": "code",
   "execution_count": 1,
   "id": "84e685ef-6c3d-4e56-94e3-7e59591eb084",
   "metadata": {},
   "outputs": [],
   "source": [
    "# ==================\n",
    "# Library\n",
    "# ==================\n",
    "import warnings\n",
    "warnings.simplefilter('ignore')\n",
    "import math\n",
    "import pandas as pd\n",
    "import numpy as np\n",
    "import sys\n",
    "import time\n",
    "import datetime\n",
    "from contextlib import contextmanager\n",
    "import logging\n",
    "from tqdm import tqdm_notebook as tqdm\n",
    "import matplotlib.pyplot as plt\n",
    "from sklearn.metrics import roc_auc_score, accuracy_score, f1_score,average_precision_score\n",
    "from sklearn.model_selection import StratifiedKFold, KFold,GroupKFold,StratifiedGroupKFold\n",
    "import torch\n",
    "import torch.nn as nn\n",
    "from torch.nn import TransformerEncoder\n",
    "from torch.nn import TransformerDecoder\n",
    "from torch.nn import LayerNorm\n",
    "import torch.optim as optim\n",
    "from torch.utils.data import DataLoader, TensorDataset, Dataset\n",
    "from torch.optim import lr_scheduler\n",
    "from transformers import AdamW, get_linear_schedule_with_warmup\n",
    "import gc\n",
    "import random\n",
    "import os\n",
    "%matplotlib inline\n",
    "sys.path.append(\"../src/\")\n",
    "from logger import setup_logger, LOGGER\n",
    "from util_tool import reduce_mem_usage\n",
    "pd.set_option('display.max_columns', 300)"
   ]
  },
  {
   "cell_type": "code",
   "execution_count": 2,
   "id": "48f18d38-6121-4855-91b9-3e0f32f5b222",
   "metadata": {},
   "outputs": [],
   "source": [
    "# ===================\n",
    "# Settings\n",
    "# ===================\n",
    "debug = False\n",
    "ex = \"183\"\n",
    "if not os.path.exists(f\"../output/exp/ex{ex}\"):\n",
    "    os.makedirs(f\"../output/exp/ex{ex}\")\n",
    "    os.makedirs(f\"../output/exp/ex{ex}/ex{ex}_model\")\n",
    "logger_path = f\"../output/exp/ex{ex}/ex_{ex}.txt\"\n",
    "model_path =f\"../output/exp/ex{ex}/ex{ex}_model/ex{ex}.pth\"\n",
    "use_target_col = 0\n",
    "# config\n",
    "seed = 0\n",
    "shuffle = True\n",
    "n_splits = 5\n",
    "device = torch.device(\"cuda\" if torch.cuda.is_available() else \"cpu\")\n",
    "# model config\n",
    "batch_size = 24\n",
    "n_epochs = 10\n",
    "lr = 1e-3\n",
    "weight_decay = 0.05\n",
    "num_warmup_steps = 10"
   ]
  },
  {
   "cell_type": "code",
   "execution_count": 3,
   "id": "53f0a11b-7308-4faa-bf83-6b898677d885",
   "metadata": {},
   "outputs": [],
   "source": [
    "# =====================\n",
    "# data\n",
    "# =====================\n",
    "id_path = f\"../output/fe/fe022/fe022_id.parquet\"\n",
    "numerical_path = f\"../output/fe/fe022/fe022_num_array.npy\"\n",
    "target_path = f\"../output/fe/fe022/fe022_target_array.npy\"\n",
    "mask_path = f\"../output/fe/fe022/fe022_mask_array.npy\"\n",
    "pred_use_path = f\"../output/fe/fe022/fe022_pred_use_array.npy\""
   ]
  },
  {
   "cell_type": "code",
   "execution_count": 4,
   "id": "423fc197-1ce2-4db3-b073-17edc1e4465d",
   "metadata": {},
   "outputs": [],
   "source": [
    "# ====================\n",
    "# Function\n",
    "# ====================\n",
    "def preprocess(numerical_array, \n",
    "               mask_array,\n",
    "               ):\n",
    "    \n",
    "    attention_mask = mask_array == 0\n",
    "\n",
    "    return {\n",
    "        'input_data_numerical_array': numerical_array,\n",
    "        'input_data_mask_array': mask_array,\n",
    "        'attention_mask': attention_mask,\n",
    "    }\n",
    "\n",
    "class FogDataset(Dataset):\n",
    "    def __init__(self, numerical_array, \n",
    "                 mask_array,\n",
    "                 train = True, y = None):\n",
    "        self.numerical_array = numerical_array\n",
    "        self.mask_array = mask_array\n",
    "        self.train = train\n",
    "        self.y = y\n",
    "    \n",
    "    def __len__(self):\n",
    "        return len(self.numerical_array)\n",
    "\n",
    "    def __getitem__(self, item):\n",
    "        data = preprocess(\n",
    "            self.numerical_array[item],\n",
    "            self.mask_array[item],\n",
    "            \n",
    "        )\n",
    "\n",
    "        # Return the processed data where the lists are converted to `torch.tensor`s\n",
    "        if self.train : \n",
    "            return {\n",
    "              'input_data_numerical_array': torch.tensor(data['input_data_numerical_array'],dtype=torch.float32),\n",
    "              'input_data_mask_array':torch.tensor(data['input_data_mask_array'], dtype=torch.long),  \n",
    "              'attention_mask': torch.tensor(data[\"attention_mask\"], dtype=torch.bool),\n",
    "              \"y\":torch.tensor(self.y[item], dtype=torch.float32)\n",
    "               }\n",
    "        else:\n",
    "            return {\n",
    "             'input_data_numerical_array': torch.tensor(data['input_data_numerical_array'],dtype=torch.float32),\n",
    "              'input_data_mask_array':torch.tensor(data['input_data_mask_array'], dtype=torch.long),  \n",
    "              'attention_mask': torch.tensor(data[\"attention_mask\"], dtype=torch.bool),\n",
    "               }"
   ]
  },
  {
   "cell_type": "code",
   "execution_count": 5,
   "id": "1eac9c32-e65d-46e2-ba0c-f140e489e7fe",
   "metadata": {},
   "outputs": [],
   "source": [
    "class FogRnnModel(nn.Module):\n",
    "    def __init__(\n",
    "        self, dropout=0.2,\n",
    "        input_numerical_size=12,\n",
    "        numeraical_linear_size = 64,\n",
    "        model_size = 128,\n",
    "        linear_out = 128,\n",
    "        out_size=3):\n",
    "        super(FogRnnModel, self).__init__()\n",
    "        self.numerical_linear  = nn.Sequential(\n",
    "                nn.Linear(input_numerical_size, numeraical_linear_size),\n",
    "                nn.LayerNorm(numeraical_linear_size)\n",
    "            )\n",
    "        \n",
    "        self.rnn = nn.GRU(numeraical_linear_size, model_size,\n",
    "                            num_layers = 2, \n",
    "                            batch_first=True,\n",
    "                            bidirectional=True)\n",
    "        self.linear_out  = nn.Sequential(\n",
    "                nn.Linear(model_size*2, \n",
    "                          linear_out),\n",
    "                nn.LayerNorm(linear_out),\n",
    "                nn.ReLU(),\n",
    "                nn.Dropout(dropout),\n",
    "                nn.Linear(linear_out, \n",
    "                          out_size))\n",
    "        self._reinitialize()\n",
    "        \n",
    "    def _reinitialize(self):\n",
    "        \"\"\"\n",
    "        Tensorflow/Keras-like initialization\n",
    "        \"\"\"\n",
    "        for name, p in self.named_parameters():\n",
    "            if 'rnn' in name:\n",
    "                if 'weight_ih' in name:\n",
    "                    nn.init.xavier_uniform_(p.data)\n",
    "                elif 'weight_hh' in name:\n",
    "                    nn.init.orthogonal_(p.data)\n",
    "                elif 'bias_ih' in name:\n",
    "                    p.data.fill_(0)\n",
    "                    # Set forget-gate bias to 1\n",
    "                    n = p.size(0)\n",
    "                    p.data[(n // 4):(n // 2)].fill_(1)\n",
    "                elif 'bias_hh' in name:\n",
    "                    p.data.fill_(0)\n",
    "    \n",
    "    def forward(self, numerical_array,\n",
    "                mask_array,\n",
    "                attention_mask):\n",
    "        \n",
    "        numerical_embedding = self.numerical_linear(numerical_array)\n",
    "        output,_ = self.rnn(numerical_embedding)\n",
    "        output = self.linear_out(output)\n",
    "        return output\n",
    "    \n",
    "def set_seed(seed: int = 42):\n",
    "    random.seed(seed)\n",
    "    np.random.seed(seed)\n",
    "    os.environ[\"PYTHONHASHSEED\"] = str(seed)\n",
    "    torch.manual_seed(seed)\n",
    "    torch.cuda.manual_seed(seed)\n",
    "    torch.backends.cudnn.deterministic = True\n",
    "    torch.backends.cudnn.benchmark = False"
   ]
  },
  {
   "cell_type": "code",
   "execution_count": 6,
   "id": "97d7f8a5-3417-4604-81b7-d0587e98d90d",
   "metadata": {},
   "outputs": [
    {
     "name": "stderr",
     "output_type": "stream",
     "text": [
      "2023-05-30 07:33:35,991 - INFO - logger set up\n"
     ]
    },
    {
     "data": {
      "text/plain": [
       "<RootLogger root (DEBUG)>"
      ]
     },
     "execution_count": 6,
     "metadata": {},
     "output_type": "execute_result"
    }
   ],
   "source": [
    "@contextmanager\n",
    "def timer(name):\n",
    "    t0 = time.time()\n",
    "    yield \n",
    "    LOGGER.info(f'[{name}] done in {time.time() - t0:.0f} s')\n",
    "    \n",
    "setup_logger(out_file=logger_path)"
   ]
  },
  {
   "cell_type": "code",
   "execution_count": 7,
   "id": "d00ce8f5-0471-48cb-ad74-dc2c19ade72b",
   "metadata": {},
   "outputs": [],
   "source": [
    "# ====================\n",
    "# main\n",
    "# ====================\n",
    "df_id = pd.read_parquet(id_path)\n",
    "numerical_array = np.load(numerical_path)\n",
    "target_array = np.load(target_path)\n",
    "mask_array = np.load(mask_path)\n",
    "pred_use_array = np.load(pred_use_path)"
   ]
  },
  {
   "cell_type": "code",
   "execution_count": 8,
   "id": "36ae99ec-a44f-4756-951c-25d572aa075e",
   "metadata": {},
   "outputs": [],
   "source": [
    "target1 = []\n",
    "target2 = []\n",
    "target3 = []\n",
    "for i in range(len(target_array)):\n",
    "    target1.append(np.sum(target_array[i,:,0]))\n",
    "    target2.append(np.sum(target_array[i,:,1]))\n",
    "    target3.append(np.sum(target_array[i,:,2]))"
   ]
  },
  {
   "cell_type": "code",
   "execution_count": 9,
   "id": "cc321a46-20c7-4e4d-a292-dbba48745501",
   "metadata": {},
   "outputs": [],
   "source": [
    "df_id[\"target1\"] = target1\n",
    "df_id[\"target2\"] = target2\n",
    "df_id[\"target3\"] = target3\n",
    "df_id[\"target1_1\"] = df_id[\"target1\"] > 0\n",
    "df_id[\"target2_1\"] = df_id[\"target2\"] > 0\n",
    "df_id[\"target3_1\"] = df_id[\"target3\"] > 0\n",
    "df_id[\"target1_1\"] = df_id[\"target1_1\"].astype(np.int)\n",
    "df_id[\"target2_1\"] = df_id[\"target2_1\"].astype(np.int)\n",
    "df_id[\"target3_1\"] = df_id[\"target3_1\"].astype(np.int)"
   ]
  },
  {
   "cell_type": "code",
   "execution_count": 10,
   "id": "af515de7-e2c5-47a1-ab24-b02e32d5dc8b",
   "metadata": {},
   "outputs": [],
   "source": [
    "df_id[\"group\"] = 0\n",
    "df_id.loc[df_id[\"target2_1\"] > 0,\"group\"] = 1\n",
    "df_id.loc[df_id[\"target1_1\"] > 0,\"group\"] = 2\n",
    "df_id.loc[df_id[\"target3_1\"] > 0,\"group\"] = 3"
   ]
  },
  {
   "cell_type": "code",
   "execution_count": 11,
   "id": "e22f3942-b03a-4dd3-b19e-946414e4e094",
   "metadata": {},
   "outputs": [
    {
     "data": {
      "text/plain": [
       "0    7720\n",
       "1    4604\n",
       "2     782\n",
       "3     610\n",
       "Name: group, dtype: int64"
      ]
     },
     "execution_count": 11,
     "metadata": {},
     "output_type": "execute_result"
    }
   ],
   "source": [
    "df_id[\"group\"].value_counts()"
   ]
  },
  {
   "cell_type": "code",
   "execution_count": 12,
   "id": "0676e71c-483b-4b5b-8e0e-e2222b4506cc",
   "metadata": {},
   "outputs": [
    {
     "name": "stderr",
     "output_type": "stream",
     "text": [
      "2023-05-30 07:33:37,047 - INFO - start fold:0\n"
     ]
    },
    {
     "data": {
      "application/vnd.jupyter.widget-view+json": {
       "model_id": "0ead28a253554dd4b12a79db5f22b324",
       "version_major": 2,
       "version_minor": 0
      },
      "text/plain": [
       "  0%|          | 0/480 [00:00<?, ?it/s]"
      ]
     },
     "metadata": {},
     "output_type": "display_data"
    },
    {
     "data": {
      "application/vnd.jupyter.widget-view+json": {
       "model_id": "30cd1f5580234ac6ab162499e7398ec0",
       "version_major": 2,
       "version_minor": 0
      },
      "text/plain": [
       "  0%|          | 0/93 [00:00<?, ?it/s]"
      ]
     },
     "metadata": {},
     "output_type": "display_data"
    },
    {
     "name": "stderr",
     "output_type": "stream",
     "text": [
      "2023-05-30 07:34:50,122 - INFO - fold:0 epoch : 0,train loss 0.1874157270959889 map:0.15888145615233587 map save:0.045627133674973695 ,starthesi:0.012395182333624884 turn:0.38539010110706023 walking :0.07885908501632251\n"
     ]
    },
    {
     "name": "stdout",
     "output_type": "stream",
     "text": [
      "save weight\n"
     ]
    },
    {
     "data": {
      "application/vnd.jupyter.widget-view+json": {
       "model_id": "1e870f3f87ec489080407efaa5668575",
       "version_major": 2,
       "version_minor": 0
      },
      "text/plain": [
       "  0%|          | 0/480 [00:00<?, ?it/s]"
      ]
     },
     "metadata": {},
     "output_type": "display_data"
    },
    {
     "data": {
      "application/vnd.jupyter.widget-view+json": {
       "model_id": "8dfc067065ba484c903644f69d8405af",
       "version_major": 2,
       "version_minor": 0
      },
      "text/plain": [
       "  0%|          | 0/93 [00:00<?, ?it/s]"
      ]
     },
     "metadata": {},
     "output_type": "display_data"
    },
    {
     "name": "stderr",
     "output_type": "stream",
     "text": [
      "2023-05-30 07:35:56,937 - INFO - fold:0 epoch : 1,train loss 0.12363649009882162 map:0.17450382888263216 map save:0.04426696108168737 ,starthesi:0.0062857754412094435 turn:0.4349775644845217 walking :0.08224814672216531\n"
     ]
    },
    {
     "data": {
      "application/vnd.jupyter.widget-view+json": {
       "model_id": "ec6c85eb1a11468db4d772ff8a73565e",
       "version_major": 2,
       "version_minor": 0
      },
      "text/plain": [
       "  0%|          | 0/480 [00:00<?, ?it/s]"
      ]
     },
     "metadata": {},
     "output_type": "display_data"
    },
    {
     "data": {
      "application/vnd.jupyter.widget-view+json": {
       "model_id": "6b8ed5f781244557b0aa77fb23f2edc2",
       "version_major": 2,
       "version_minor": 0
      },
      "text/plain": [
       "  0%|          | 0/93 [00:00<?, ?it/s]"
      ]
     },
     "metadata": {},
     "output_type": "display_data"
    },
    {
     "name": "stderr",
     "output_type": "stream",
     "text": [
      "2023-05-30 07:37:05,063 - INFO - fold:0 epoch : 2,train loss 0.10537420250087355 map:0.16738067141086596 map save:0.044760988977624205 ,starthesi:0.008341385951303223 turn:0.4126200362773494 walking :0.08118059200394519\n"
     ]
    },
    {
     "data": {
      "application/vnd.jupyter.widget-view+json": {
       "model_id": "caa283dbe97c4214be209b38056c3dbd",
       "version_major": 2,
       "version_minor": 0
      },
      "text/plain": [
       "  0%|          | 0/480 [00:00<?, ?it/s]"
      ]
     },
     "metadata": {},
     "output_type": "display_data"
    },
    {
     "data": {
      "application/vnd.jupyter.widget-view+json": {
       "model_id": "dba16d17b6fa4095992a378b44e23876",
       "version_major": 2,
       "version_minor": 0
      },
      "text/plain": [
       "  0%|          | 0/93 [00:00<?, ?it/s]"
      ]
     },
     "metadata": {},
     "output_type": "display_data"
    },
    {
     "name": "stderr",
     "output_type": "stream",
     "text": [
      "2023-05-30 07:38:14,823 - INFO - fold:0 epoch : 3,train loss 0.09267372781566034 map:0.2101245794888209 map save:0.0878796617116201 ,starthesi:0.009885364669324461 turn:0.45461441504322253 walking :0.16587395875391572\n"
     ]
    },
    {
     "name": "stdout",
     "output_type": "stream",
     "text": [
      "save weight\n"
     ]
    },
    {
     "data": {
      "application/vnd.jupyter.widget-view+json": {
       "model_id": "37d73759da7e4e3b93478d71737db764",
       "version_major": 2,
       "version_minor": 0
      },
      "text/plain": [
       "  0%|          | 0/480 [00:00<?, ?it/s]"
      ]
     },
     "metadata": {},
     "output_type": "display_data"
    },
    {
     "data": {
      "application/vnd.jupyter.widget-view+json": {
       "model_id": "2a80cabd60334e4b97ec93f68506c770",
       "version_major": 2,
       "version_minor": 0
      },
      "text/plain": [
       "  0%|          | 0/93 [00:00<?, ?it/s]"
      ]
     },
     "metadata": {},
     "output_type": "display_data"
    },
    {
     "name": "stderr",
     "output_type": "stream",
     "text": [
      "2023-05-30 07:39:21,970 - INFO - fold:0 epoch : 4,train loss 0.0756171781977173 map:0.18523248166306652 map save:0.0564384963146961 ,starthesi:0.00923331131656002 turn:0.4428204523598074 walking :0.10364368131283218\n"
     ]
    },
    {
     "data": {
      "application/vnd.jupyter.widget-view+json": {
       "model_id": "d6c14fbf196a46c9acd66d5c49577d0e",
       "version_major": 2,
       "version_minor": 0
      },
      "text/plain": [
       "  0%|          | 0/480 [00:00<?, ?it/s]"
      ]
     },
     "metadata": {},
     "output_type": "display_data"
    },
    {
     "data": {
      "application/vnd.jupyter.widget-view+json": {
       "model_id": "529beecde30241b39490b2d13d9df8d7",
       "version_major": 2,
       "version_minor": 0
      },
      "text/plain": [
       "  0%|          | 0/93 [00:00<?, ?it/s]"
      ]
     },
     "metadata": {},
     "output_type": "display_data"
    },
    {
     "name": "stderr",
     "output_type": "stream",
     "text": [
      "2023-05-30 07:40:28,719 - INFO - fold:0 epoch : 5,train loss 0.06135378192023685 map:0.18103178465976796 map save:0.052959317325480725 ,starthesi:0.007089798793730765 turn:0.4371767193283424 walking :0.09882883585723068\n"
     ]
    },
    {
     "data": {
      "application/vnd.jupyter.widget-view+json": {
       "model_id": "0080a74e69ca4360b204c968348d9b33",
       "version_major": 2,
       "version_minor": 0
      },
      "text/plain": [
       "  0%|          | 0/480 [00:00<?, ?it/s]"
      ]
     },
     "metadata": {},
     "output_type": "display_data"
    },
    {
     "data": {
      "application/vnd.jupyter.widget-view+json": {
       "model_id": "29301946fb954049b782b031e8eac028",
       "version_major": 2,
       "version_minor": 0
      },
      "text/plain": [
       "  0%|          | 0/93 [00:00<?, ?it/s]"
      ]
     },
     "metadata": {},
     "output_type": "display_data"
    },
    {
     "name": "stderr",
     "output_type": "stream",
     "text": [
      "2023-05-30 07:41:35,710 - INFO - fold:0 epoch : 6,train loss 0.04885492589964997 map:0.15827707184332063 map save:0.026350500990928002 ,starthesi:0.0058878684574343605 turn:0.42213021354810587 walking :0.046813133524421645\n"
     ]
    },
    {
     "data": {
      "application/vnd.jupyter.widget-view+json": {
       "model_id": "94d7736e82064762b8a9c64942e4b3ab",
       "version_major": 2,
       "version_minor": 0
      },
      "text/plain": [
       "  0%|          | 0/480 [00:00<?, ?it/s]"
      ]
     },
     "metadata": {},
     "output_type": "display_data"
    },
    {
     "data": {
      "application/vnd.jupyter.widget-view+json": {
       "model_id": "33eee8aa0444430ab483274e1d703469",
       "version_major": 2,
       "version_minor": 0
      },
      "text/plain": [
       "  0%|          | 0/93 [00:00<?, ?it/s]"
      ]
     },
     "metadata": {},
     "output_type": "display_data"
    },
    {
     "name": "stderr",
     "output_type": "stream",
     "text": [
      "2023-05-30 07:42:42,630 - INFO - fold:0 epoch : 7,train loss 0.04017097679898143 map:0.16400297681079312 map save:0.03682555933693498 ,starthesi:0.005478049758477832 turn:0.4183578117585094 walking :0.06817306891539213\n"
     ]
    },
    {
     "data": {
      "application/vnd.jupyter.widget-view+json": {
       "model_id": "14ea09789263449a9330eabd96d52901",
       "version_major": 2,
       "version_minor": 0
      },
      "text/plain": [
       "  0%|          | 0/480 [00:00<?, ?it/s]"
      ]
     },
     "metadata": {},
     "output_type": "display_data"
    },
    {
     "data": {
      "application/vnd.jupyter.widget-view+json": {
       "model_id": "fac3e1c0e34e4e87826f645411b431c2",
       "version_major": 2,
       "version_minor": 0
      },
      "text/plain": [
       "  0%|          | 0/93 [00:00<?, ?it/s]"
      ]
     },
     "metadata": {},
     "output_type": "display_data"
    },
    {
     "name": "stderr",
     "output_type": "stream",
     "text": [
      "2023-05-30 07:43:49,644 - INFO - fold:0 epoch : 8,train loss 0.03415855445006552 map:0.15323773713767674 map save:0.019730200204546643 ,starthesi:0.004850282161162724 turn:0.42025281100393697 walking :0.03461011824793056\n"
     ]
    },
    {
     "data": {
      "application/vnd.jupyter.widget-view+json": {
       "model_id": "9253cdfbce2749f3ba56152066170474",
       "version_major": 2,
       "version_minor": 0
      },
      "text/plain": [
       "  0%|          | 0/480 [00:00<?, ?it/s]"
      ]
     },
     "metadata": {},
     "output_type": "display_data"
    },
    {
     "data": {
      "application/vnd.jupyter.widget-view+json": {
       "model_id": "54e4e14a54fc4c5fa9d651270f298c41",
       "version_major": 2,
       "version_minor": 0
      },
      "text/plain": [
       "  0%|          | 0/93 [00:00<?, ?it/s]"
      ]
     },
     "metadata": {},
     "output_type": "display_data"
    },
    {
     "name": "stderr",
     "output_type": "stream",
     "text": [
      "2023-05-30 07:44:56,473 - INFO - fold:0 epoch : 9,train loss 0.030509635221096686 map:0.15635033398390455 map save:0.02266676869494511 ,starthesi:0.0050195352520515015 turn:0.42371746456182346 walking :0.040314002137838714\n",
      "2023-05-30 07:44:56,518 - INFO - [fold 0] done in 679 s\n",
      "2023-05-30 07:44:56,522 - INFO - start fold:1\n"
     ]
    },
    {
     "data": {
      "application/vnd.jupyter.widget-view+json": {
       "model_id": "c24311060a844e16933e218da549d0eb",
       "version_major": 2,
       "version_minor": 0
      },
      "text/plain": [
       "  0%|          | 0/468 [00:00<?, ?it/s]"
      ]
     },
     "metadata": {},
     "output_type": "display_data"
    },
    {
     "data": {
      "application/vnd.jupyter.widget-view+json": {
       "model_id": "94d8a5132aee4912805ee88991a6370f",
       "version_major": 2,
       "version_minor": 0
      },
      "text/plain": [
       "  0%|          | 0/105 [00:00<?, ?it/s]"
      ]
     },
     "metadata": {},
     "output_type": "display_data"
    },
    {
     "name": "stderr",
     "output_type": "stream",
     "text": [
      "2023-05-30 07:46:04,832 - INFO - fold:1 epoch : 0,train loss 0.17687935209395284 map:0.333832053132683 map save:0.10236381144709421 ,starthesi:0.15021525314413817 turn:0.7967685365038604 walking :0.05451236975005025\n"
     ]
    },
    {
     "name": "stdout",
     "output_type": "stream",
     "text": [
      "save weight\n"
     ]
    },
    {
     "data": {
      "application/vnd.jupyter.widget-view+json": {
       "model_id": "ad346a85fe344fa7bace4fadfba26753",
       "version_major": 2,
       "version_minor": 0
      },
      "text/plain": [
       "  0%|          | 0/468 [00:00<?, ?it/s]"
      ]
     },
     "metadata": {},
     "output_type": "display_data"
    },
    {
     "data": {
      "application/vnd.jupyter.widget-view+json": {
       "model_id": "b5148e0639dc4b148225ffa0822b71e1",
       "version_major": 2,
       "version_minor": 0
      },
      "text/plain": [
       "  0%|          | 0/105 [00:00<?, ?it/s]"
      ]
     },
     "metadata": {},
     "output_type": "display_data"
    },
    {
     "name": "stderr",
     "output_type": "stream",
     "text": [
      "2023-05-30 07:47:14,510 - INFO - fold:1 epoch : 1,train loss 0.11468966291723852 map:0.36063662314717565 map save:0.13148667676512557 ,starthesi:0.2020371499237837 turn:0.8189365159112758 walking :0.06093620360646747\n"
     ]
    },
    {
     "name": "stdout",
     "output_type": "stream",
     "text": [
      "save weight\n"
     ]
    },
    {
     "data": {
      "application/vnd.jupyter.widget-view+json": {
       "model_id": "e5092483d2284e368ddf63c43f25048c",
       "version_major": 2,
       "version_minor": 0
      },
      "text/plain": [
       "  0%|          | 0/468 [00:00<?, ?it/s]"
      ]
     },
     "metadata": {},
     "output_type": "display_data"
    },
    {
     "data": {
      "application/vnd.jupyter.widget-view+json": {
       "model_id": "1caaf3652476431eb5978cc1417b400b",
       "version_major": 2,
       "version_minor": 0
      },
      "text/plain": [
       "  0%|          | 0/105 [00:00<?, ?it/s]"
      ]
     },
     "metadata": {},
     "output_type": "display_data"
    },
    {
     "name": "stderr",
     "output_type": "stream",
     "text": [
      "2023-05-30 07:48:21,259 - INFO - fold:1 epoch : 2,train loss 0.0983360013526538 map:0.3752825090516559 map save:0.14122658270318852 ,starthesi:0.2157701203980949 turn:0.8433943617485906 walking :0.06668304500828216\n"
     ]
    },
    {
     "name": "stdout",
     "output_type": "stream",
     "text": [
      "save weight\n"
     ]
    },
    {
     "data": {
      "application/vnd.jupyter.widget-view+json": {
       "model_id": "90ee3234eddc48f688f0e8295be1e860",
       "version_major": 2,
       "version_minor": 0
      },
      "text/plain": [
       "  0%|          | 0/468 [00:00<?, ?it/s]"
      ]
     },
     "metadata": {},
     "output_type": "display_data"
    },
    {
     "data": {
      "application/vnd.jupyter.widget-view+json": {
       "model_id": "98c8cb60c0774775b2ac7a1569f5d615",
       "version_major": 2,
       "version_minor": 0
      },
      "text/plain": [
       "  0%|          | 0/105 [00:00<?, ?it/s]"
      ]
     },
     "metadata": {},
     "output_type": "display_data"
    },
    {
     "name": "stderr",
     "output_type": "stream",
     "text": [
      "2023-05-30 07:49:27,759 - INFO - fold:1 epoch : 3,train loss 0.08257558508417927 map:0.3895963019035192 map save:0.17775425381153118 ,starthesi:0.2697074961466349 turn:0.8132803980874953 walking :0.08580101147642744\n"
     ]
    },
    {
     "name": "stdout",
     "output_type": "stream",
     "text": [
      "save weight\n"
     ]
    },
    {
     "data": {
      "application/vnd.jupyter.widget-view+json": {
       "model_id": "401d87fcf15e4383bad44d26b6405d1b",
       "version_major": 2,
       "version_minor": 0
      },
      "text/plain": [
       "  0%|          | 0/468 [00:00<?, ?it/s]"
      ]
     },
     "metadata": {},
     "output_type": "display_data"
    },
    {
     "data": {
      "application/vnd.jupyter.widget-view+json": {
       "model_id": "f97d8a6947c645ada074282cd44712f9",
       "version_major": 2,
       "version_minor": 0
      },
      "text/plain": [
       "  0%|          | 0/105 [00:00<?, ?it/s]"
      ]
     },
     "metadata": {},
     "output_type": "display_data"
    },
    {
     "name": "stderr",
     "output_type": "stream",
     "text": [
      "2023-05-30 07:50:34,194 - INFO - fold:1 epoch : 4,train loss 0.06987421127418295 map:0.3812162061373703 map save:0.16108548857525395 ,starthesi:0.2361167355196916 turn:0.821477641261603 walking :0.08605424163081633\n"
     ]
    },
    {
     "data": {
      "application/vnd.jupyter.widget-view+json": {
       "model_id": "cd13dfaeb5e7463ea0836cd0d3b100a4",
       "version_major": 2,
       "version_minor": 0
      },
      "text/plain": [
       "  0%|          | 0/468 [00:00<?, ?it/s]"
      ]
     },
     "metadata": {},
     "output_type": "display_data"
    },
    {
     "data": {
      "application/vnd.jupyter.widget-view+json": {
       "model_id": "b03d3585f2c54357a3973d181c5baa76",
       "version_major": 2,
       "version_minor": 0
      },
      "text/plain": [
       "  0%|          | 0/105 [00:00<?, ?it/s]"
      ]
     },
     "metadata": {},
     "output_type": "display_data"
    },
    {
     "name": "stderr",
     "output_type": "stream",
     "text": [
      "2023-05-30 07:51:40,783 - INFO - fold:1 epoch : 5,train loss 0.05619893645326424 map:0.38374809101966717 map save:0.15813293162812828 ,starthesi:0.2318403817835099 turn:0.8349784098027451 walking :0.08442548147274663\n"
     ]
    },
    {
     "data": {
      "application/vnd.jupyter.widget-view+json": {
       "model_id": "af429456373a4261a99cd9e1d0fccf2c",
       "version_major": 2,
       "version_minor": 0
      },
      "text/plain": [
       "  0%|          | 0/468 [00:00<?, ?it/s]"
      ]
     },
     "metadata": {},
     "output_type": "display_data"
    },
    {
     "data": {
      "application/vnd.jupyter.widget-view+json": {
       "model_id": "7bb53e4c3ace4ecfb5e3ce58a109f9fa",
       "version_major": 2,
       "version_minor": 0
      },
      "text/plain": [
       "  0%|          | 0/105 [00:00<?, ?it/s]"
      ]
     },
     "metadata": {},
     "output_type": "display_data"
    },
    {
     "name": "stderr",
     "output_type": "stream",
     "text": [
      "2023-05-30 07:52:47,437 - INFO - fold:1 epoch : 6,train loss 0.04648579264648704 map:0.3711527442698474 map save:0.15251472081542308 ,starthesi:0.2172768892707843 turn:0.8084287911786959 walking :0.08775255236006187\n"
     ]
    },
    {
     "data": {
      "application/vnd.jupyter.widget-view+json": {
       "model_id": "a22f3b7c027b4450a94fbfc06cac09fa",
       "version_major": 2,
       "version_minor": 0
      },
      "text/plain": [
       "  0%|          | 0/468 [00:00<?, ?it/s]"
      ]
     },
     "metadata": {},
     "output_type": "display_data"
    },
    {
     "data": {
      "application/vnd.jupyter.widget-view+json": {
       "model_id": "4620402026fe4a3bbb8dba6330c5e066",
       "version_major": 2,
       "version_minor": 0
      },
      "text/plain": [
       "  0%|          | 0/105 [00:00<?, ?it/s]"
      ]
     },
     "metadata": {},
     "output_type": "display_data"
    },
    {
     "name": "stderr",
     "output_type": "stream",
     "text": [
      "2023-05-30 07:53:54,194 - INFO - fold:1 epoch : 7,train loss 0.039029319714914024 map:0.34097642519983995 map save:0.11766565456673236 ,starthesi:0.14085888467744023 turn:0.7875979664660551 walking :0.09447242445602448\n"
     ]
    },
    {
     "data": {
      "application/vnd.jupyter.widget-view+json": {
       "model_id": "554ecae5c8cc4d6e9ba03850ce689e74",
       "version_major": 2,
       "version_minor": 0
      },
      "text/plain": [
       "  0%|          | 0/468 [00:00<?, ?it/s]"
      ]
     },
     "metadata": {},
     "output_type": "display_data"
    },
    {
     "data": {
      "application/vnd.jupyter.widget-view+json": {
       "model_id": "ca79336b999e4e56a9d458577b9d84fe",
       "version_major": 2,
       "version_minor": 0
      },
      "text/plain": [
       "  0%|          | 0/105 [00:00<?, ?it/s]"
      ]
     },
     "metadata": {},
     "output_type": "display_data"
    },
    {
     "name": "stderr",
     "output_type": "stream",
     "text": [
      "2023-05-30 07:55:00,666 - INFO - fold:1 epoch : 8,train loss 0.03194714735986458 map:0.3639128964218985 map save:0.14098719043853059 ,starthesi:0.1877407705535345 turn:0.8097643083886343 walking :0.09423361032352667\n"
     ]
    },
    {
     "data": {
      "application/vnd.jupyter.widget-view+json": {
       "model_id": "1ce924c47073476290333ac0596098c4",
       "version_major": 2,
       "version_minor": 0
      },
      "text/plain": [
       "  0%|          | 0/468 [00:00<?, ?it/s]"
      ]
     },
     "metadata": {},
     "output_type": "display_data"
    },
    {
     "data": {
      "application/vnd.jupyter.widget-view+json": {
       "model_id": "100105a0de8d439996dc4358e429fa4e",
       "version_major": 2,
       "version_minor": 0
      },
      "text/plain": [
       "  0%|          | 0/105 [00:00<?, ?it/s]"
      ]
     },
     "metadata": {},
     "output_type": "display_data"
    },
    {
     "name": "stderr",
     "output_type": "stream",
     "text": [
      "2023-05-30 07:56:11,009 - INFO - fold:1 epoch : 9,train loss 0.028221242335768275 map:0.3586786829312314 map save:0.13424287988253458 ,starthesi:0.17163703866798594 turn:0.807550289028625 walking :0.09684872109708326\n",
      "2023-05-30 07:56:11,041 - INFO - [fold 1] done in 675 s\n",
      "2023-05-30 07:56:11,047 - INFO - start fold:2\n"
     ]
    },
    {
     "data": {
      "application/vnd.jupyter.widget-view+json": {
       "model_id": "e6b93823200e4b22a32f7b08c5db15ff",
       "version_major": 2,
       "version_minor": 0
      },
      "text/plain": [
       "  0%|          | 0/468 [00:00<?, ?it/s]"
      ]
     },
     "metadata": {},
     "output_type": "display_data"
    },
    {
     "data": {
      "application/vnd.jupyter.widget-view+json": {
       "model_id": "cc1045eb98fe4c2abcde18a23123b30d",
       "version_major": 2,
       "version_minor": 0
      },
      "text/plain": [
       "  0%|          | 0/104 [00:00<?, ?it/s]"
      ]
     },
     "metadata": {},
     "output_type": "display_data"
    },
    {
     "name": "stderr",
     "output_type": "stream",
     "text": [
      "2023-05-30 07:57:18,888 - INFO - fold:2 epoch : 0,train loss 0.18638367042677778 map:0.2907218158449906 map save:0.05410339318128639 ,starthesi:0.09554352070954118 turn:0.7639586611723991 walking :0.012663265653031597\n"
     ]
    },
    {
     "name": "stdout",
     "output_type": "stream",
     "text": [
      "save weight\n"
     ]
    },
    {
     "data": {
      "application/vnd.jupyter.widget-view+json": {
       "model_id": "d25a99d4a8ad40b9af7fb505fdc5fb00",
       "version_major": 2,
       "version_minor": 0
      },
      "text/plain": [
       "  0%|          | 0/468 [00:00<?, ?it/s]"
      ]
     },
     "metadata": {},
     "output_type": "display_data"
    },
    {
     "data": {
      "application/vnd.jupyter.widget-view+json": {
       "model_id": "0659f3125b114b86bf6f559b26265f74",
       "version_major": 2,
       "version_minor": 0
      },
      "text/plain": [
       "  0%|          | 0/104 [00:00<?, ?it/s]"
      ]
     },
     "metadata": {},
     "output_type": "display_data"
    },
    {
     "name": "stderr",
     "output_type": "stream",
     "text": [
      "2023-05-30 07:58:25,349 - INFO - fold:2 epoch : 1,train loss 0.11949201541132906 map:0.2848121933464482 map save:0.030712621957840795 ,starthesi:0.04394985390485687 turn:0.7930113361236629 walking :0.01747539001082472\n"
     ]
    },
    {
     "data": {
      "application/vnd.jupyter.widget-view+json": {
       "model_id": "bf68d01e2a364bacb6ebf95b7f2ead94",
       "version_major": 2,
       "version_minor": 0
      },
      "text/plain": [
       "  0%|          | 0/468 [00:00<?, ?it/s]"
      ]
     },
     "metadata": {},
     "output_type": "display_data"
    },
    {
     "data": {
      "application/vnd.jupyter.widget-view+json": {
       "model_id": "4109c966dc3e4e2a892c3769a191ac70",
       "version_major": 2,
       "version_minor": 0
      },
      "text/plain": [
       "  0%|          | 0/104 [00:00<?, ?it/s]"
      ]
     },
     "metadata": {},
     "output_type": "display_data"
    },
    {
     "name": "stderr",
     "output_type": "stream",
     "text": [
      "2023-05-30 07:59:31,916 - INFO - fold:2 epoch : 2,train loss 0.10348413824143572 map:0.3127940699946625 map save:0.05867716093226394 ,starthesi:0.08231939438576076 turn:0.8210278881194597 walking :0.035034927478767124\n"
     ]
    },
    {
     "name": "stdout",
     "output_type": "stream",
     "text": [
      "save weight\n"
     ]
    },
    {
     "data": {
      "application/vnd.jupyter.widget-view+json": {
       "model_id": "07f7d4864f0444f0bc3d6d9507055909",
       "version_major": 2,
       "version_minor": 0
      },
      "text/plain": [
       "  0%|          | 0/468 [00:00<?, ?it/s]"
      ]
     },
     "metadata": {},
     "output_type": "display_data"
    },
    {
     "data": {
      "application/vnd.jupyter.widget-view+json": {
       "model_id": "568d7f49038e4f81812f825c5a18cc57",
       "version_major": 2,
       "version_minor": 0
      },
      "text/plain": [
       "  0%|          | 0/104 [00:00<?, ?it/s]"
      ]
     },
     "metadata": {},
     "output_type": "display_data"
    },
    {
     "name": "stderr",
     "output_type": "stream",
     "text": [
      "2023-05-30 08:00:38,861 - INFO - fold:2 epoch : 3,train loss 0.09059456085515583 map:0.336614851541909 map save:0.096148680422826 ,starthesi:0.13546050853660307 turn:0.817547193780075 walking :0.05683685230904891\n"
     ]
    },
    {
     "name": "stdout",
     "output_type": "stream",
     "text": [
      "save weight\n"
     ]
    },
    {
     "data": {
      "application/vnd.jupyter.widget-view+json": {
       "model_id": "d882a5034303498b8702aa52a74c53a6",
       "version_major": 2,
       "version_minor": 0
      },
      "text/plain": [
       "  0%|          | 0/468 [00:00<?, ?it/s]"
      ]
     },
     "metadata": {},
     "output_type": "display_data"
    },
    {
     "data": {
      "application/vnd.jupyter.widget-view+json": {
       "model_id": "aff3e773c4cf49bc9cbc0498a7e49bc4",
       "version_major": 2,
       "version_minor": 0
      },
      "text/plain": [
       "  0%|          | 0/104 [00:00<?, ?it/s]"
      ]
     },
     "metadata": {},
     "output_type": "display_data"
    },
    {
     "name": "stderr",
     "output_type": "stream",
     "text": [
      "2023-05-30 08:01:45,363 - INFO - fold:2 epoch : 4,train loss 0.07687285788054778 map:0.3456452704446698 map save:0.10446715686263133 ,starthesi:0.13652120905663356 turn:0.8280014976087468 walking :0.0724131046686291\n"
     ]
    },
    {
     "name": "stdout",
     "output_type": "stream",
     "text": [
      "save weight\n"
     ]
    },
    {
     "data": {
      "application/vnd.jupyter.widget-view+json": {
       "model_id": "eebb796440174011b8e8179831d7a48b",
       "version_major": 2,
       "version_minor": 0
      },
      "text/plain": [
       "  0%|          | 0/468 [00:00<?, ?it/s]"
      ]
     },
     "metadata": {},
     "output_type": "display_data"
    },
    {
     "data": {
      "application/vnd.jupyter.widget-view+json": {
       "model_id": "5ef2294926ab4181b19039c15d34000f",
       "version_major": 2,
       "version_minor": 0
      },
      "text/plain": [
       "  0%|          | 0/104 [00:00<?, ?it/s]"
      ]
     },
     "metadata": {},
     "output_type": "display_data"
    },
    {
     "name": "stderr",
     "output_type": "stream",
     "text": [
      "2023-05-30 08:02:52,005 - INFO - fold:2 epoch : 5,train loss 0.062412870864773914 map:0.35261961674484144 map save:0.12309690395850176 ,starthesi:0.17020168612842565 turn:0.8116650423175208 walking :0.07599212178857785\n"
     ]
    },
    {
     "name": "stdout",
     "output_type": "stream",
     "text": [
      "save weight\n"
     ]
    },
    {
     "data": {
      "application/vnd.jupyter.widget-view+json": {
       "model_id": "ca8b7947134847f1b09cfbb10ee8be8f",
       "version_major": 2,
       "version_minor": 0
      },
      "text/plain": [
       "  0%|          | 0/468 [00:00<?, ?it/s]"
      ]
     },
     "metadata": {},
     "output_type": "display_data"
    },
    {
     "data": {
      "application/vnd.jupyter.widget-view+json": {
       "model_id": "66082b6b3a314501a871a801286dd62b",
       "version_major": 2,
       "version_minor": 0
      },
      "text/plain": [
       "  0%|          | 0/104 [00:00<?, ?it/s]"
      ]
     },
     "metadata": {},
     "output_type": "display_data"
    },
    {
     "name": "stderr",
     "output_type": "stream",
     "text": [
      "2023-05-30 08:03:58,859 - INFO - fold:2 epoch : 6,train loss 0.04927865678890266 map:0.32374701069168155 map save:0.07443807939119008 ,starthesi:0.11032075298417031 turn:0.8223648732926645 walking :0.03855540579820986\n"
     ]
    },
    {
     "data": {
      "application/vnd.jupyter.widget-view+json": {
       "model_id": "1619501be0e24dcc8111b1ce3e223358",
       "version_major": 2,
       "version_minor": 0
      },
      "text/plain": [
       "  0%|          | 0/468 [00:00<?, ?it/s]"
      ]
     },
     "metadata": {},
     "output_type": "display_data"
    },
    {
     "data": {
      "application/vnd.jupyter.widget-view+json": {
       "model_id": "5a8c16f6a4b04319a772e8ba9740bb6f",
       "version_major": 2,
       "version_minor": 0
      },
      "text/plain": [
       "  0%|          | 0/104 [00:00<?, ?it/s]"
      ]
     },
     "metadata": {},
     "output_type": "display_data"
    },
    {
     "name": "stderr",
     "output_type": "stream",
     "text": [
      "2023-05-30 08:05:07,222 - INFO - fold:2 epoch : 7,train loss 0.03981249385839726 map:0.33312937834083123 map save:0.08853559308838871 ,starthesi:0.07095849280842137 turn:0.8223169488457163 walking :0.10611269336835603\n"
     ]
    },
    {
     "data": {
      "application/vnd.jupyter.widget-view+json": {
       "model_id": "ab4456ba375e4eea8e510dd61b92908d",
       "version_major": 2,
       "version_minor": 0
      },
      "text/plain": [
       "  0%|          | 0/468 [00:00<?, ?it/s]"
      ]
     },
     "metadata": {},
     "output_type": "display_data"
    },
    {
     "data": {
      "application/vnd.jupyter.widget-view+json": {
       "model_id": "66c57cfebf2242a09b00bf28d426645e",
       "version_major": 2,
       "version_minor": 0
      },
      "text/plain": [
       "  0%|          | 0/104 [00:00<?, ?it/s]"
      ]
     },
     "metadata": {},
     "output_type": "display_data"
    },
    {
     "name": "stderr",
     "output_type": "stream",
     "text": [
      "2023-05-30 08:06:15,732 - INFO - fold:2 epoch : 8,train loss 0.033168009400733896 map:0.3317663629667934 map save:0.08967023139396749 ,starthesi:0.12054740601946166 turn:0.8159586261124452 walking :0.058793056768473316\n"
     ]
    },
    {
     "data": {
      "application/vnd.jupyter.widget-view+json": {
       "model_id": "5801459d5c154dbe837b5d93471b2ed7",
       "version_major": 2,
       "version_minor": 0
      },
      "text/plain": [
       "  0%|          | 0/468 [00:00<?, ?it/s]"
      ]
     },
     "metadata": {},
     "output_type": "display_data"
    },
    {
     "data": {
      "application/vnd.jupyter.widget-view+json": {
       "model_id": "41769631458d49c0b8fe105fe227e453",
       "version_major": 2,
       "version_minor": 0
      },
      "text/plain": [
       "  0%|          | 0/104 [00:00<?, ?it/s]"
      ]
     },
     "metadata": {},
     "output_type": "display_data"
    },
    {
     "name": "stderr",
     "output_type": "stream",
     "text": [
      "2023-05-30 08:07:22,200 - INFO - fold:2 epoch : 9,train loss 0.029021877178556133 map:0.32705781595411526 map save:0.0820995984179147 ,starthesi:0.11146418334244619 turn:0.8169742510265163 walking :0.0527350134933832\n",
      "2023-05-30 08:07:22,217 - INFO - [fold 2] done in 671 s\n",
      "2023-05-30 08:07:22,222 - INFO - start fold:3\n"
     ]
    },
    {
     "data": {
      "application/vnd.jupyter.widget-view+json": {
       "model_id": "63f5e0f4ea224823b0d0d650e91654e1",
       "version_major": 2,
       "version_minor": 0
      },
      "text/plain": [
       "  0%|          | 0/405 [00:00<?, ?it/s]"
      ]
     },
     "metadata": {},
     "output_type": "display_data"
    },
    {
     "data": {
      "application/vnd.jupyter.widget-view+json": {
       "model_id": "6a91cfd6ed72438f84ee083d2d378324",
       "version_major": 2,
       "version_minor": 0
      },
      "text/plain": [
       "  0%|          | 0/167 [00:00<?, ?it/s]"
      ]
     },
     "metadata": {},
     "output_type": "display_data"
    },
    {
     "name": "stderr",
     "output_type": "stream",
     "text": [
      "2023-05-30 08:08:28,225 - INFO - fold:3 epoch : 0,train loss 0.1343609883185522 map:0.5007094276163759 map save:0.3677622018206462 ,starthesi:0.6698023055401173 turn:0.7666038792078355 walking :0.06572209810117505\n"
     ]
    },
    {
     "name": "stdout",
     "output_type": "stream",
     "text": [
      "save weight\n"
     ]
    },
    {
     "data": {
      "application/vnd.jupyter.widget-view+json": {
       "model_id": "69f4baa1cfd343099bbba12db7843b91",
       "version_major": 2,
       "version_minor": 0
      },
      "text/plain": [
       "  0%|          | 0/405 [00:00<?, ?it/s]"
      ]
     },
     "metadata": {},
     "output_type": "display_data"
    },
    {
     "data": {
      "application/vnd.jupyter.widget-view+json": {
       "model_id": "f9fa5f33f50d4bc188edcab65143798d",
       "version_major": 2,
       "version_minor": 0
      },
      "text/plain": [
       "  0%|          | 0/167 [00:00<?, ?it/s]"
      ]
     },
     "metadata": {},
     "output_type": "display_data"
    },
    {
     "name": "stderr",
     "output_type": "stream",
     "text": [
      "2023-05-30 08:09:33,732 - INFO - fold:3 epoch : 1,train loss 0.08568854348527061 map:0.5337809166253386 map save:0.40008928352066614 ,starthesi:0.6752960642490804 turn:0.8011641828346835 walking :0.12488250279225184\n"
     ]
    },
    {
     "name": "stdout",
     "output_type": "stream",
     "text": [
      "save weight\n"
     ]
    },
    {
     "data": {
      "application/vnd.jupyter.widget-view+json": {
       "model_id": "e0a7410fccad4c01b3b8762fc88f88ad",
       "version_major": 2,
       "version_minor": 0
      },
      "text/plain": [
       "  0%|          | 0/405 [00:00<?, ?it/s]"
      ]
     },
     "metadata": {},
     "output_type": "display_data"
    },
    {
     "data": {
      "application/vnd.jupyter.widget-view+json": {
       "model_id": "4e1a9b4d40c74ff081d47e8de78ce262",
       "version_major": 2,
       "version_minor": 0
      },
      "text/plain": [
       "  0%|          | 0/167 [00:00<?, ?it/s]"
      ]
     },
     "metadata": {},
     "output_type": "display_data"
    },
    {
     "name": "stderr",
     "output_type": "stream",
     "text": [
      "2023-05-30 08:10:38,993 - INFO - fold:3 epoch : 2,train loss 0.07252285664234265 map:0.46982171803726686 map save:0.34187076244768067 ,starthesi:0.5059140260177304 turn:0.7257236292164393 walking :0.177827498877631\n"
     ]
    },
    {
     "data": {
      "application/vnd.jupyter.widget-view+json": {
       "model_id": "060c20bcb43644c685bd28606f1f9d35",
       "version_major": 2,
       "version_minor": 0
      },
      "text/plain": [
       "  0%|          | 0/405 [00:00<?, ?it/s]"
      ]
     },
     "metadata": {},
     "output_type": "display_data"
    },
    {
     "data": {
      "application/vnd.jupyter.widget-view+json": {
       "model_id": "cdd592235d7e44a98589c9727359b160",
       "version_major": 2,
       "version_minor": 0
      },
      "text/plain": [
       "  0%|          | 0/167 [00:00<?, ?it/s]"
      ]
     },
     "metadata": {},
     "output_type": "display_data"
    },
    {
     "name": "stderr",
     "output_type": "stream",
     "text": [
      "2023-05-30 08:11:44,110 - INFO - fold:3 epoch : 3,train loss 0.0634531866023202 map:0.5040927416774702 map save:0.3634657924310306 ,starthesi:0.49499799845451214 turn:0.7853466401703492 walking :0.23193358640754907\n"
     ]
    },
    {
     "data": {
      "application/vnd.jupyter.widget-view+json": {
       "model_id": "2320984edf7e4df6b2e8a79ebbec599a",
       "version_major": 2,
       "version_minor": 0
      },
      "text/plain": [
       "  0%|          | 0/405 [00:00<?, ?it/s]"
      ]
     },
     "metadata": {},
     "output_type": "display_data"
    },
    {
     "data": {
      "application/vnd.jupyter.widget-view+json": {
       "model_id": "2e8b430bef724e7c8fc9dfe4fe64a7e4",
       "version_major": 2,
       "version_minor": 0
      },
      "text/plain": [
       "  0%|          | 0/167 [00:00<?, ?it/s]"
      ]
     },
     "metadata": {},
     "output_type": "display_data"
    },
    {
     "name": "stderr",
     "output_type": "stream",
     "text": [
      "2023-05-30 08:12:49,512 - INFO - fold:3 epoch : 4,train loss 0.05496423493058961 map:0.44551643412006153 map save:0.2755240280960628 ,starthesi:0.4019088745362043 turn:0.7855012461680589 walking :0.14913918165592133\n"
     ]
    },
    {
     "data": {
      "application/vnd.jupyter.widget-view+json": {
       "model_id": "297b0bc61ed04e8cad585cbef7489232",
       "version_major": 2,
       "version_minor": 0
      },
      "text/plain": [
       "  0%|          | 0/405 [00:00<?, ?it/s]"
      ]
     },
     "metadata": {},
     "output_type": "display_data"
    },
    {
     "data": {
      "application/vnd.jupyter.widget-view+json": {
       "model_id": "f627ffb0974f45eb9c88d177a522a5fa",
       "version_major": 2,
       "version_minor": 0
      },
      "text/plain": [
       "  0%|          | 0/167 [00:00<?, ?it/s]"
      ]
     },
     "metadata": {},
     "output_type": "display_data"
    },
    {
     "name": "stderr",
     "output_type": "stream",
     "text": [
      "2023-05-30 08:13:54,968 - INFO - fold:3 epoch : 5,train loss 0.04704833262956437 map:0.4238832272967457 map save:0.25617628033671586 ,starthesi:0.3240806606850416 turn:0.7592971212168055 walking :0.18827189998839008\n"
     ]
    },
    {
     "data": {
      "application/vnd.jupyter.widget-view+json": {
       "model_id": "256283bda16e42c8b3fdcf9e99167063",
       "version_major": 2,
       "version_minor": 0
      },
      "text/plain": [
       "  0%|          | 0/405 [00:00<?, ?it/s]"
      ]
     },
     "metadata": {},
     "output_type": "display_data"
    },
    {
     "data": {
      "application/vnd.jupyter.widget-view+json": {
       "model_id": "b7097c90f08e4ebdb337cfd043c1b559",
       "version_major": 2,
       "version_minor": 0
      },
      "text/plain": [
       "  0%|          | 0/167 [00:00<?, ?it/s]"
      ]
     },
     "metadata": {},
     "output_type": "display_data"
    },
    {
     "name": "stderr",
     "output_type": "stream",
     "text": [
      "2023-05-30 08:15:00,496 - INFO - fold:3 epoch : 6,train loss 0.03979256857002591 map:0.39974479475081776 map save:0.2198770104883528 ,starthesi:0.2901832035109817 turn:0.7594803632757475 walking :0.1495708174657239\n"
     ]
    },
    {
     "data": {
      "application/vnd.jupyter.widget-view+json": {
       "model_id": "a4be7d64461943cebd83eb1974976646",
       "version_major": 2,
       "version_minor": 0
      },
      "text/plain": [
       "  0%|          | 0/405 [00:00<?, ?it/s]"
      ]
     },
     "metadata": {},
     "output_type": "display_data"
    },
    {
     "data": {
      "application/vnd.jupyter.widget-view+json": {
       "model_id": "d1f7f41aa5a84a8e94dd3f906d6fc80e",
       "version_major": 2,
       "version_minor": 0
      },
      "text/plain": [
       "  0%|          | 0/167 [00:00<?, ?it/s]"
      ]
     },
     "metadata": {},
     "output_type": "display_data"
    },
    {
     "name": "stderr",
     "output_type": "stream",
     "text": [
      "2023-05-30 08:16:08,354 - INFO - fold:3 epoch : 7,train loss 0.033696410465801574 map:0.38797977225160835 map save:0.1984870649728691 ,starthesi:0.2664007882875174 turn:0.7669651868090869 walking :0.13057334165822085\n"
     ]
    },
    {
     "data": {
      "application/vnd.jupyter.widget-view+json": {
       "model_id": "0c7bdc237e944b86b42c6518670b412c",
       "version_major": 2,
       "version_minor": 0
      },
      "text/plain": [
       "  0%|          | 0/405 [00:00<?, ?it/s]"
      ]
     },
     "metadata": {},
     "output_type": "display_data"
    },
    {
     "data": {
      "application/vnd.jupyter.widget-view+json": {
       "model_id": "6088418ae50e4076b0527d91b5e84cf3",
       "version_major": 2,
       "version_minor": 0
      },
      "text/plain": [
       "  0%|          | 0/167 [00:00<?, ?it/s]"
      ]
     },
     "metadata": {},
     "output_type": "display_data"
    },
    {
     "name": "stderr",
     "output_type": "stream",
     "text": [
      "2023-05-30 08:17:14,533 - INFO - fold:3 epoch : 8,train loss 0.029569439240443855 map:0.40942417241712503 map save:0.23008240845092548 ,starthesi:0.3179327478702749 turn:0.7681077003495242 walking :0.14223206903157604\n"
     ]
    },
    {
     "data": {
      "application/vnd.jupyter.widget-view+json": {
       "model_id": "b99868a7ef094311a53259508b9cd22f",
       "version_major": 2,
       "version_minor": 0
      },
      "text/plain": [
       "  0%|          | 0/405 [00:00<?, ?it/s]"
      ]
     },
     "metadata": {},
     "output_type": "display_data"
    },
    {
     "data": {
      "application/vnd.jupyter.widget-view+json": {
       "model_id": "9823ae879b8d4d1d8b98819a0a508a4a",
       "version_major": 2,
       "version_minor": 0
      },
      "text/plain": [
       "  0%|          | 0/167 [00:00<?, ?it/s]"
      ]
     },
     "metadata": {},
     "output_type": "display_data"
    },
    {
     "name": "stderr",
     "output_type": "stream",
     "text": [
      "2023-05-30 08:18:19,496 - INFO - fold:3 epoch : 9,train loss 0.02637616927838988 map:0.40445978654137016 map save:0.2267675812955376 ,starthesi:0.30735440765488353 turn:0.7598441970330354 walking :0.14618075493619162\n",
      "2023-05-30 08:18:19,521 - INFO - [fold 3] done in 657 s\n",
      "2023-05-30 08:18:19,525 - INFO - start fold:4\n"
     ]
    },
    {
     "data": {
      "application/vnd.jupyter.widget-view+json": {
       "model_id": "5523399e94514086b190545c7698ed1b",
       "version_major": 2,
       "version_minor": 0
      },
      "text/plain": [
       "  0%|          | 0/467 [00:00<?, ?it/s]"
      ]
     },
     "metadata": {},
     "output_type": "display_data"
    },
    {
     "data": {
      "application/vnd.jupyter.widget-view+json": {
       "model_id": "622c0fc68abf4b85ac4aca5b4f1e05e5",
       "version_major": 2,
       "version_minor": 0
      },
      "text/plain": [
       "  0%|          | 0/105 [00:00<?, ?it/s]"
      ]
     },
     "metadata": {},
     "output_type": "display_data"
    },
    {
     "name": "stderr",
     "output_type": "stream",
     "text": [
      "2023-05-30 08:19:26,661 - INFO - fold:4 epoch : 0,train loss 0.1838389570631358 map:0.18823494635733262 map save:0.08472489541776129 ,starthesi:0.13556921088332133 turn:0.3952550482364753 walking :0.033880579952201256\n"
     ]
    },
    {
     "name": "stdout",
     "output_type": "stream",
     "text": [
      "save weight\n"
     ]
    },
    {
     "data": {
      "application/vnd.jupyter.widget-view+json": {
       "model_id": "a229a4bb04df4c179f1ca179315d1cb5",
       "version_major": 2,
       "version_minor": 0
      },
      "text/plain": [
       "  0%|          | 0/467 [00:00<?, ?it/s]"
      ]
     },
     "metadata": {},
     "output_type": "display_data"
    },
    {
     "data": {
      "application/vnd.jupyter.widget-view+json": {
       "model_id": "a827e496f7ec434c81264816d2d40d30",
       "version_major": 2,
       "version_minor": 0
      },
      "text/plain": [
       "  0%|          | 0/105 [00:00<?, ?it/s]"
      ]
     },
     "metadata": {},
     "output_type": "display_data"
    },
    {
     "name": "stderr",
     "output_type": "stream",
     "text": [
      "2023-05-30 08:20:33,374 - INFO - fold:4 epoch : 1,train loss 0.11635652551431472 map:0.22102512427303103 map save:0.09385229171566134 ,starthesi:0.1250422884840211 turn:0.47537078938777044 walking :0.06266229494730158\n"
     ]
    },
    {
     "name": "stdout",
     "output_type": "stream",
     "text": [
      "save weight\n"
     ]
    },
    {
     "data": {
      "application/vnd.jupyter.widget-view+json": {
       "model_id": "9167175dc5914344a224e52c9a077daf",
       "version_major": 2,
       "version_minor": 0
      },
      "text/plain": [
       "  0%|          | 0/467 [00:00<?, ?it/s]"
      ]
     },
     "metadata": {},
     "output_type": "display_data"
    },
    {
     "data": {
      "application/vnd.jupyter.widget-view+json": {
       "model_id": "93f00833947a438dbd924b433607ae98",
       "version_major": 2,
       "version_minor": 0
      },
      "text/plain": [
       "  0%|          | 0/105 [00:00<?, ?it/s]"
      ]
     },
     "metadata": {},
     "output_type": "display_data"
    },
    {
     "name": "stderr",
     "output_type": "stream",
     "text": [
      "2023-05-30 08:21:40,136 - INFO - fold:4 epoch : 2,train loss 0.09898588753343267 map:0.2922605912550748 map save:0.19784612402367627 ,starthesi:0.20731486335029292 turn:0.4810895257178718 walking :0.1883773846970596\n"
     ]
    },
    {
     "name": "stdout",
     "output_type": "stream",
     "text": [
      "save weight\n"
     ]
    },
    {
     "data": {
      "application/vnd.jupyter.widget-view+json": {
       "model_id": "ebfcb394d440475885e33ec43f8bf3e6",
       "version_major": 2,
       "version_minor": 0
      },
      "text/plain": [
       "  0%|          | 0/467 [00:00<?, ?it/s]"
      ]
     },
     "metadata": {},
     "output_type": "display_data"
    },
    {
     "data": {
      "application/vnd.jupyter.widget-view+json": {
       "model_id": "6e96f46a1768420e97918df2e4aa0b82",
       "version_major": 2,
       "version_minor": 0
      },
      "text/plain": [
       "  0%|          | 0/105 [00:00<?, ?it/s]"
      ]
     },
     "metadata": {},
     "output_type": "display_data"
    },
    {
     "name": "stderr",
     "output_type": "stream",
     "text": [
      "2023-05-30 08:22:46,909 - INFO - fold:4 epoch : 3,train loss 0.08746088653946459 map:0.28239229718299946 map save:0.17744267175812983 ,starthesi:0.22803491734710138 turn:0.4922915480327388 walking :0.12685042616915831\n"
     ]
    },
    {
     "data": {
      "application/vnd.jupyter.widget-view+json": {
       "model_id": "469ee24367b84ed8ad16779cbdc20619",
       "version_major": 2,
       "version_minor": 0
      },
      "text/plain": [
       "  0%|          | 0/467 [00:00<?, ?it/s]"
      ]
     },
     "metadata": {},
     "output_type": "display_data"
    },
    {
     "data": {
      "application/vnd.jupyter.widget-view+json": {
       "model_id": "29a38c1d8200498aa7f3123967300ae2",
       "version_major": 2,
       "version_minor": 0
      },
      "text/plain": [
       "  0%|          | 0/105 [00:00<?, ?it/s]"
      ]
     },
     "metadata": {},
     "output_type": "display_data"
    },
    {
     "name": "stderr",
     "output_type": "stream",
     "text": [
      "2023-05-30 08:23:53,735 - INFO - fold:4 epoch : 4,train loss 0.07446800364376838 map:0.28383878181963373 map save:0.19153086834933897 ,starthesi:0.19342030548023414 turn:0.46845460876022327 walking :0.1896414312184438\n"
     ]
    },
    {
     "data": {
      "application/vnd.jupyter.widget-view+json": {
       "model_id": "49114da91a0248cdb16ebbb055b36d5c",
       "version_major": 2,
       "version_minor": 0
      },
      "text/plain": [
       "  0%|          | 0/467 [00:00<?, ?it/s]"
      ]
     },
     "metadata": {},
     "output_type": "display_data"
    },
    {
     "data": {
      "application/vnd.jupyter.widget-view+json": {
       "model_id": "8b421463a9c7477c8cd6ad58a3a19cb9",
       "version_major": 2,
       "version_minor": 0
      },
      "text/plain": [
       "  0%|          | 0/105 [00:00<?, ?it/s]"
      ]
     },
     "metadata": {},
     "output_type": "display_data"
    },
    {
     "name": "stderr",
     "output_type": "stream",
     "text": [
      "2023-05-30 08:25:00,195 - INFO - fold:4 epoch : 5,train loss 0.05905270655250588 map:0.2710974713457079 map save:0.15839042781399434 ,starthesi:0.22772839254962088 turn:0.4965115584091349 walking :0.08905246307836781\n"
     ]
    },
    {
     "data": {
      "application/vnd.jupyter.widget-view+json": {
       "model_id": "845c2e063e0a48e5a44db813bbfa6df5",
       "version_major": 2,
       "version_minor": 0
      },
      "text/plain": [
       "  0%|          | 0/467 [00:00<?, ?it/s]"
      ]
     },
     "metadata": {},
     "output_type": "display_data"
    },
    {
     "data": {
      "application/vnd.jupyter.widget-view+json": {
       "model_id": "accd4b95cb974db092c19950da4f5ef8",
       "version_major": 2,
       "version_minor": 0
      },
      "text/plain": [
       "  0%|          | 0/105 [00:00<?, ?it/s]"
      ]
     },
     "metadata": {},
     "output_type": "display_data"
    },
    {
     "name": "stderr",
     "output_type": "stream",
     "text": [
      "2023-05-30 08:26:09,177 - INFO - fold:4 epoch : 6,train loss 0.04803426351350367 map:0.2533806480218519 map save:0.1448312698342089 ,starthesi:0.18917355770454866 turn:0.4704794043971379 walking :0.10048898196386918\n"
     ]
    },
    {
     "data": {
      "application/vnd.jupyter.widget-view+json": {
       "model_id": "da8d113986834592b529a85be7a7e507",
       "version_major": 2,
       "version_minor": 0
      },
      "text/plain": [
       "  0%|          | 0/467 [00:00<?, ?it/s]"
      ]
     },
     "metadata": {},
     "output_type": "display_data"
    },
    {
     "data": {
      "application/vnd.jupyter.widget-view+json": {
       "model_id": "c25caa6a680a461dbbc2695980b9def1",
       "version_major": 2,
       "version_minor": 0
      },
      "text/plain": [
       "  0%|          | 0/105 [00:00<?, ?it/s]"
      ]
     },
     "metadata": {},
     "output_type": "display_data"
    },
    {
     "name": "stderr",
     "output_type": "stream",
     "text": [
      "2023-05-30 08:27:17,380 - INFO - fold:4 epoch : 7,train loss 0.03916074490230491 map:0.22357573038166834 map save:0.10302218267663588 ,starthesi:0.1267497858240036 turn:0.4646828257917333 walking :0.07929457952926816\n"
     ]
    },
    {
     "data": {
      "application/vnd.jupyter.widget-view+json": {
       "model_id": "973c7b67970145969e8cbab47f17d9a5",
       "version_major": 2,
       "version_minor": 0
      },
      "text/plain": [
       "  0%|          | 0/467 [00:00<?, ?it/s]"
      ]
     },
     "metadata": {},
     "output_type": "display_data"
    },
    {
     "data": {
      "application/vnd.jupyter.widget-view+json": {
       "model_id": "73ef109d1d254e8ca9a80145e9fd4e7b",
       "version_major": 2,
       "version_minor": 0
      },
      "text/plain": [
       "  0%|          | 0/105 [00:00<?, ?it/s]"
      ]
     },
     "metadata": {},
     "output_type": "display_data"
    },
    {
     "name": "stderr",
     "output_type": "stream",
     "text": [
      "2023-05-30 08:28:24,056 - INFO - fold:4 epoch : 8,train loss 0.0336728462006107 map:0.2380730605848501 map save:0.1190198726485167 ,starthesi:0.17968339357065843 turn:0.4761794364575168 walking :0.058356351726374954\n"
     ]
    },
    {
     "data": {
      "application/vnd.jupyter.widget-view+json": {
       "model_id": "654395afc7c94b7a8c410b4d2b93610a",
       "version_major": 2,
       "version_minor": 0
      },
      "text/plain": [
       "  0%|          | 0/467 [00:00<?, ?it/s]"
      ]
     },
     "metadata": {},
     "output_type": "display_data"
    },
    {
     "data": {
      "application/vnd.jupyter.widget-view+json": {
       "model_id": "3feeb760fc014d158c47ee00c348c33b",
       "version_major": 2,
       "version_minor": 0
      },
      "text/plain": [
       "  0%|          | 0/105 [00:00<?, ?it/s]"
      ]
     },
     "metadata": {},
     "output_type": "display_data"
    },
    {
     "name": "stderr",
     "output_type": "stream",
     "text": [
      "2023-05-30 08:29:30,389 - INFO - fold:4 epoch : 9,train loss 0.029606792853439198 map:0.23455352524651726 map save:0.1161389029867343 ,starthesi:0.16710705793937639 turn:0.47138276976608323 walking :0.0651707480340922\n",
      "2023-05-30 08:29:30,405 - INFO - [fold 4] done in 671 s\n",
      "2023-05-30 08:29:30,623 - INFO - [gru] done in 3354 s\n"
     ]
    }
   ],
   "source": [
    "with timer(\"gru\"):\n",
    "    set_seed(seed)\n",
    "    y_oof = np.empty([len(target_array),1000,3])\n",
    "    gkf = StratifiedGroupKFold(n_splits=n_splits,shuffle=True,random_state = seed)\n",
    "    for fold, (train_idx, valid_idx) in enumerate(gkf.split(numerical_array, \n",
    "                                                             y = df_id[\"group\"].values,\n",
    "                                                             groups=df_id[\"subject\"].values)):\n",
    "        LOGGER.info(f\"start fold:{fold}\")\n",
    "        with timer(f\"fold {fold}\"):\n",
    "            train_numerical_array = numerical_array[train_idx]\n",
    "            train_target_array = target_array[train_idx]\n",
    "            train_mask_array = mask_array[train_idx]\n",
    "\n",
    "            val_numerical_array = numerical_array[valid_idx]\n",
    "            val_target_array = target_array[valid_idx]\n",
    "            val_mask_array = mask_array[valid_idx]\n",
    "            val_pred_array = pred_use_array[valid_idx]\n",
    "            train_ = FogDataset(train_numerical_array,\n",
    "                                train_mask_array,\n",
    "                                train=True,\n",
    "                                y=train_target_array)\n",
    "            \n",
    "            val_ = FogDataset(val_numerical_array,\n",
    "                                val_mask_array,\n",
    "                                train=True,\n",
    "                                y=val_target_array)\n",
    "            \n",
    "            \n",
    "            train_loader = DataLoader(dataset=train_, \n",
    "                                  batch_size=batch_size, \n",
    "                                  shuffle = True , num_workers=8)\n",
    "            val_loader = DataLoader(dataset=val_, \n",
    "                                batch_size=batch_size, \n",
    "                                shuffle = False , num_workers=8)\n",
    "            \n",
    "            model = FogRnnModel()\n",
    "            model = model.to(device)\n",
    "            param_optimizer = list(model.named_parameters())\n",
    "            no_decay = ['bias', 'LayerNorm.bias', 'LayerNorm.weight']\n",
    "            optimizer_grouped_parameters = [\n",
    "                {'params': [p for n, p in param_optimizer if not any(nd in n for nd in no_decay)], 'weight_decay': weight_decay},\n",
    "                {'params': [p for n, p in param_optimizer if any(nd in n for nd in no_decay)], 'weight_decay': 0.0}\n",
    "            ]\n",
    "            optimizer = AdamW(optimizer_grouped_parameters,\n",
    "                              lr=lr,\n",
    "                              weight_decay=weight_decay,\n",
    "                              )\n",
    "            num_train_optimization_steps = int(len(train_loader) * n_epochs)\n",
    "            scheduler = get_linear_schedule_with_warmup(optimizer,\n",
    "                                                        num_warmup_steps=num_warmup_steps,\n",
    "                                                        num_training_steps=num_train_optimization_steps)\n",
    "            criterion = nn.BCEWithLogitsLoss()\n",
    "            best_val_score = 0\n",
    "            for epoch in range(n_epochs):\n",
    "                model.train() \n",
    "                train_losses_batch = []\n",
    "                val_losses_batch = []\n",
    "                epoch_loss = 0\n",
    "                train_preds = np.ndarray((0,3))\n",
    "                tk0 = tqdm(train_loader, total=len(train_loader))\n",
    "                for d in tk0:\n",
    "                    # =========================\n",
    "                    # data loader\n",
    "                    # =========================\n",
    "                    input_data_numerical_array = d['input_data_numerical_array'].to(device)\n",
    "                    input_data_mask_array = d['input_data_mask_array'].to(device)\n",
    "                    attention_mask = d['attention_mask'].to(device)\n",
    "                    y = d[\"y\"].to(device)\n",
    "                    optimizer.zero_grad()\n",
    "                    output = model(input_data_numerical_array, \n",
    "                                   input_data_mask_array,\n",
    "                                   attention_mask)\n",
    "                    output1 = output[:,:,[0,2]]\n",
    "                    output2 = output[:,:,1]\n",
    "                    y1 = y[:,:,[0,2]]\n",
    "                    y2 = y[:,:,1]\n",
    "                    loss1 = criterion(output1[input_data_mask_array == 1], y1[input_data_mask_array == 1])\n",
    "                    loss2 = criterion(output2[input_data_mask_array == 1], y2[input_data_mask_array == 1])\n",
    "                    \n",
    "                    loss = loss1*0.8 + loss2*0.2\n",
    "                    loss.backward()\n",
    "                    optimizer.step()\n",
    "                    scheduler.step()\n",
    "                    train_losses_batch.append(loss.item())\n",
    "                train_loss = np.mean(train_losses_batch)\n",
    "            \n",
    "                # ==========================\n",
    "                # eval\n",
    "                # ==========================\n",
    "                model.eval()  # switch model to the evaluation mode\n",
    "                val_preds = np.ndarray((0,1000,3))\n",
    "                tk0 = tqdm(val_loader, total=len(val_loader))\n",
    "                with torch.no_grad():  # Do not calculate gradient since we are only predicting\n",
    "                    # Predicting on validation set\n",
    "                    for d in tk0:\n",
    "                        input_data_numerical_array = d['input_data_numerical_array'].to(device)\n",
    "                        input_data_mask_array = d['input_data_mask_array'].to(device)\n",
    "                        attention_mask = d['attention_mask'].to(device)\n",
    "                        output = model(input_data_numerical_array, \n",
    "                                   input_data_mask_array,\n",
    "                                   attention_mask)\n",
    "                        val_preds = np.concatenate([val_preds, output.sigmoid().detach().cpu().numpy()], axis=0)\n",
    "                pred_valid_index = (val_mask_array == 1) & (val_pred_array == 1)\n",
    "                StartHesitation = average_precision_score(val_target_array[pred_valid_index][:,0],\n",
    "                                                          val_preds[pred_valid_index][:,0])\n",
    "                Turn = average_precision_score(val_target_array[pred_valid_index][:,1],\n",
    "                                                          val_preds[pred_valid_index][:,1])\n",
    "                Walking = average_precision_score(val_target_array[pred_valid_index][:,2],\n",
    "                                                          val_preds[pred_valid_index][:,2])\n",
    "                map_score_all = np.mean([StartHesitation,\n",
    "                               Turn,\n",
    "                               Walking])\n",
    "                map_score_save = np.mean([StartHesitation,Walking])\n",
    "                LOGGER.info(f\"fold:{fold} epoch : {epoch},train loss {train_loss} map:{map_score_all} map save:{map_score_save} ,starthesi:{StartHesitation} turn:{Turn} walking :{Walking}\")\n",
    "                \n",
    "                if map_score_save >= best_val_score:\n",
    "                    print(\"save weight\")\n",
    "                    best_val_score = map_score_save\n",
    "                    best_val_preds = val_preds.copy()\n",
    "                    torch.save(model.state_dict(), f\"../output/exp/ex{ex}/ex{ex}_model/ex{ex}_{fold}.pth\") \n",
    "            y_oof[valid_idx] = best_val_preds\n",
    "    np.save(f\"../output/exp/ex{ex}/ex{ex}_oof.npy\",y_oof)"
   ]
  },
  {
   "cell_type": "code",
   "execution_count": 13,
   "id": "45c3286d-4677-401f-8b53-fe3f78682498",
   "metadata": {},
   "outputs": [
    {
     "name": "stderr",
     "output_type": "stream",
     "text": [
      "2023-05-30 08:29:41,169 - INFO - cv map:0.4441564270380658 starthesi:0.45861179127046253 turn:0.7608438281649862 walking :0.11301366167874882\n"
     ]
    }
   ],
   "source": [
    "val_pred_index = (mask_array == 1) & (pred_use_array == 1)\n",
    "StartHesitation = average_precision_score(target_array[val_pred_index][:,0],\n",
    "                                                          y_oof[val_pred_index][:,0])\n",
    "Turn = average_precision_score(target_array[val_pred_index][:,1],\n",
    "                                                          y_oof[val_pred_index][:,1])\n",
    "Walking = average_precision_score(target_array[val_pred_index][:,2],\n",
    "                                                          y_oof[val_pred_index][:,2])\n",
    "\n",
    "map_score = np.mean([StartHesitation,\n",
    "                               Turn,\n",
    "                               Walking])\n",
    "LOGGER.info(f\"cv map:{map_score} starthesi:{StartHesitation} turn:{Turn} walking :{Walking}\")"
   ]
  },
  {
   "cell_type": "code",
   "execution_count": 14,
   "id": "4d51e84a-8acb-4eb6-a72d-755e6cc93158",
   "metadata": {},
   "outputs": [],
   "source": [
    "import json\n",
    "kaggle_json = {\n",
    "  \"title\": f\"fog-ex{ex}\",\n",
    "  \"id\": f\"takoihiraokazu/fog-ex{ex}\",\n",
    "  \"licenses\": [\n",
    "    {\n",
    "      \"name\": \"CC0-1.0\"\n",
    "    }\n",
    "  ]\n",
    "}\n",
    "\n",
    "with open(f\"../output/exp/ex{ex}/ex{ex}_model/dataset-metadata.json\", 'w') as f:\n",
    "    json.dump(kaggle_json, f)"
   ]
  },
  {
   "cell_type": "code",
   "execution_count": null,
   "id": "b144a2ae-07f8-45fe-906f-3e4fb1187f2f",
   "metadata": {},
   "outputs": [],
   "source": []
  },
  {
   "cell_type": "code",
   "execution_count": null,
   "id": "166fb677-12fa-47dd-922a-f6260c82faa8",
   "metadata": {},
   "outputs": [],
   "source": []
  }
 ],
 "metadata": {
  "kernelspec": {
   "display_name": "Python 3 (ipykernel)",
   "language": "python",
   "name": "python3"
  },
  "language_info": {
   "codemirror_mode": {
    "name": "ipython",
    "version": 3
   },
   "file_extension": ".py",
   "mimetype": "text/x-python",
   "name": "python",
   "nbconvert_exporter": "python",
   "pygments_lexer": "ipython3",
   "version": "3.10.4"
  }
 },
 "nbformat": 4,
 "nbformat_minor": 5
}
