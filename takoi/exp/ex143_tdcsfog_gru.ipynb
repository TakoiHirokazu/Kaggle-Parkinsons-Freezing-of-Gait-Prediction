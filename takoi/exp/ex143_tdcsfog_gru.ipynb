{
 "cells": [
  {
   "cell_type": "code",
   "execution_count": 8,
   "id": "84e685ef-6c3d-4e56-94e3-7e59591eb084",
   "metadata": {},
   "outputs": [],
   "source": [
    "# ==================\n",
    "# Library\n",
    "# ==================\n",
    "import warnings\n",
    "warnings.simplefilter('ignore')\n",
    "import math\n",
    "import pandas as pd\n",
    "import numpy as np\n",
    "import sys\n",
    "import time\n",
    "import datetime\n",
    "from contextlib import contextmanager\n",
    "import logging\n",
    "from tqdm import tqdm_notebook as tqdm\n",
    "import matplotlib.pyplot as plt\n",
    "from sklearn.metrics import roc_auc_score, accuracy_score, f1_score,average_precision_score\n",
    "from sklearn.model_selection import StratifiedKFold, KFold,GroupKFold,StratifiedGroupKFold\n",
    "import torch\n",
    "import torch.nn as nn\n",
    "from torch.nn import TransformerEncoder\n",
    "from torch.nn import TransformerDecoder\n",
    "from torch.nn import LayerNorm\n",
    "import torch.optim as optim\n",
    "from torch.utils.data import DataLoader, TensorDataset, Dataset\n",
    "from torch.optim import lr_scheduler\n",
    "from transformers import AdamW, get_linear_schedule_with_warmup\n",
    "import gc\n",
    "import random\n",
    "import os\n",
    "%matplotlib inline\n",
    "sys.path.append(\"../src/\")\n",
    "from logger import setup_logger, LOGGER\n",
    "from util_tool import reduce_mem_usage\n",
    "pd.set_option('display.max_columns', 300)"
   ]
  },
  {
   "cell_type": "code",
   "execution_count": 9,
   "id": "48f18d38-6121-4855-91b9-3e0f32f5b222",
   "metadata": {},
   "outputs": [],
   "source": [
    "# ===================\n",
    "# Settings\n",
    "# ===================\n",
    "debug = False\n",
    "ex = \"143\"\n",
    "if not os.path.exists(f\"../output/exp/ex{ex}\"):\n",
    "    os.makedirs(f\"../output/exp/ex{ex}\")\n",
    "    os.makedirs(f\"../output/exp/ex{ex}/ex{ex}_model\")\n",
    "logger_path = f\"../output/exp/ex{ex}/ex_{ex}.txt\"\n",
    "model_path =f\"../output/exp/ex{ex}/ex{ex}_model/ex{ex}.pth\"\n",
    "# config\n",
    "seed = 0\n",
    "shuffle = True\n",
    "n_splits = 5\n",
    "device = torch.device(\"cuda\" if torch.cuda.is_available() else \"cpu\")\n",
    "# model config\n",
    "batch_size = 24\n",
    "n_epochs = 10\n",
    "lr = 1e-3\n",
    "weight_decay = 0.05\n",
    "num_warmup_steps = 10"
   ]
  },
  {
   "cell_type": "code",
   "execution_count": 10,
   "id": "53f0a11b-7308-4faa-bf83-6b898677d885",
   "metadata": {},
   "outputs": [],
   "source": [
    "# =====================\n",
    "# data\n",
    "# =====================\n",
    "id_path = f\"../output/fe/fe022/fe022_id.parquet\"\n",
    "numerical_path = f\"../output/fe/fe022/fe022_num_array.npy\"\n",
    "target_path = f\"../output/fe/fe022/fe022_target_array.npy\"\n",
    "mask_path = f\"../output/fe/fe022/fe022_mask_array.npy\"\n",
    "pred_use_path = f\"../output/fe/fe022/fe022_pred_use_array.npy\""
   ]
  },
  {
   "cell_type": "code",
   "execution_count": 11,
   "id": "423fc197-1ce2-4db3-b073-17edc1e4465d",
   "metadata": {},
   "outputs": [],
   "source": [
    "# ====================\n",
    "# Function\n",
    "# ====================\n",
    "def preprocess(numerical_array, \n",
    "               mask_array,\n",
    "               ):\n",
    "    \n",
    "    attention_mask = mask_array == 0\n",
    "\n",
    "    return {\n",
    "        'input_data_numerical_array': numerical_array,\n",
    "        'input_data_mask_array': mask_array,\n",
    "        'attention_mask': attention_mask,\n",
    "    }\n",
    "\n",
    "class FogDataset(Dataset):\n",
    "    def __init__(self, numerical_array, \n",
    "                 mask_array,\n",
    "                 train = True, y = None):\n",
    "        self.numerical_array = numerical_array\n",
    "        self.mask_array = mask_array\n",
    "        self.train = train\n",
    "        self.y = y\n",
    "    \n",
    "    def __len__(self):\n",
    "        return len(self.numerical_array)\n",
    "\n",
    "    def __getitem__(self, item):\n",
    "        data = preprocess(\n",
    "            self.numerical_array[item],\n",
    "            self.mask_array[item],\n",
    "            \n",
    "        )\n",
    "\n",
    "        # Return the processed data where the lists are converted to `torch.tensor`s\n",
    "        if self.train : \n",
    "            return {\n",
    "              'input_data_numerical_array': torch.tensor(data['input_data_numerical_array'],dtype=torch.float32),\n",
    "              'input_data_mask_array':torch.tensor(data['input_data_mask_array'], dtype=torch.long),  \n",
    "              'attention_mask': torch.tensor(data[\"attention_mask\"], dtype=torch.bool),\n",
    "              \"y\":torch.tensor(self.y[item], dtype=torch.float32)\n",
    "               }\n",
    "        else:\n",
    "            return {\n",
    "             'input_data_numerical_array': torch.tensor(data['input_data_numerical_array'],dtype=torch.float32),\n",
    "              'input_data_mask_array':torch.tensor(data['input_data_mask_array'], dtype=torch.long),  \n",
    "              'attention_mask': torch.tensor(data[\"attention_mask\"], dtype=torch.bool),\n",
    "               }"
   ]
  },
  {
   "cell_type": "code",
   "execution_count": 25,
   "id": "1eac9c32-e65d-46e2-ba0c-f140e489e7fe",
   "metadata": {},
   "outputs": [],
   "source": [
    "class FogRnnModel(nn.Module):\n",
    "    def __init__(\n",
    "        self, dropout=0.2,\n",
    "        input_numerical_size=12,\n",
    "        numeraical_linear_size = 64,\n",
    "        model_size = 128,\n",
    "        linear_out = 128,\n",
    "        out_size=3):\n",
    "        super(FogRnnModel, self).__init__()\n",
    "        self.numerical_linear  = nn.Sequential(\n",
    "                nn.Linear(input_numerical_size, numeraical_linear_size),\n",
    "                nn.LayerNorm(numeraical_linear_size)\n",
    "            )\n",
    "        \n",
    "        self.rnn = nn.GRU(numeraical_linear_size, model_size,\n",
    "                            num_layers = 2, \n",
    "                            batch_first=True,\n",
    "                            bidirectional=True)\n",
    "        self.linear_out  = nn.Sequential(\n",
    "                nn.Linear(model_size*2, \n",
    "                          linear_out),\n",
    "                nn.LayerNorm(linear_out),\n",
    "                nn.ReLU(),\n",
    "                nn.Dropout(dropout),\n",
    "                nn.Linear(linear_out, \n",
    "                          out_size))\n",
    "        self._reinitialize()\n",
    "        \n",
    "    def _reinitialize(self):\n",
    "        \"\"\"\n",
    "        Tensorflow/Keras-like initialization\n",
    "        \"\"\"\n",
    "        for name, p in self.named_parameters():\n",
    "            if 'rnn' in name:\n",
    "                if 'weight_ih' in name:\n",
    "                    nn.init.xavier_uniform_(p.data)\n",
    "                elif 'weight_hh' in name:\n",
    "                    nn.init.orthogonal_(p.data)\n",
    "                elif 'bias_ih' in name:\n",
    "                    p.data.fill_(0)\n",
    "                    # Set forget-gate bias to 1\n",
    "                    n = p.size(0)\n",
    "                    p.data[(n // 4):(n // 2)].fill_(1)\n",
    "                elif 'bias_hh' in name:\n",
    "                    p.data.fill_(0)\n",
    "    \n",
    "    def forward(self, numerical_array,\n",
    "                mask_array,\n",
    "                attention_mask):\n",
    "        \n",
    "        numerical_embedding = self.numerical_linear(numerical_array)\n",
    "        output,_ = self.rnn(numerical_embedding)\n",
    "        output = self.linear_out(output)\n",
    "        return output\n",
    "    \n",
    "def set_seed(seed: int = 42):\n",
    "    random.seed(seed)\n",
    "    np.random.seed(seed)\n",
    "    os.environ[\"PYTHONHASHSEED\"] = str(seed)\n",
    "    torch.manual_seed(seed)\n",
    "    torch.cuda.manual_seed(seed)\n",
    "    torch.backends.cudnn.deterministic = True\n",
    "    torch.backends.cudnn.benchmark = False"
   ]
  },
  {
   "cell_type": "code",
   "execution_count": 13,
   "id": "97d7f8a5-3417-4604-81b7-d0587e98d90d",
   "metadata": {},
   "outputs": [
    {
     "name": "stderr",
     "output_type": "stream",
     "text": [
      "2023-05-19 21:39:53,310 - INFO - logger set up\n"
     ]
    },
    {
     "data": {
      "text/plain": [
       "<RootLogger root (DEBUG)>"
      ]
     },
     "execution_count": 13,
     "metadata": {},
     "output_type": "execute_result"
    }
   ],
   "source": [
    "@contextmanager\n",
    "def timer(name):\n",
    "    t0 = time.time()\n",
    "    yield \n",
    "    LOGGER.info(f'[{name}] done in {time.time() - t0:.0f} s')\n",
    "    \n",
    "setup_logger(out_file=logger_path)"
   ]
  },
  {
   "cell_type": "code",
   "execution_count": 14,
   "id": "d00ce8f5-0471-48cb-ad74-dc2c19ade72b",
   "metadata": {},
   "outputs": [],
   "source": [
    "# ====================\n",
    "# main\n",
    "# ====================\n",
    "df_id = pd.read_parquet(id_path)\n",
    "numerical_array = np.load(numerical_path)\n",
    "target_array = np.load(target_path)\n",
    "mask_array = np.load(mask_path)\n",
    "pred_use_array = np.load(pred_use_path)"
   ]
  },
  {
   "cell_type": "code",
   "execution_count": 15,
   "id": "36ae99ec-a44f-4756-951c-25d572aa075e",
   "metadata": {},
   "outputs": [],
   "source": [
    "target1 = []\n",
    "target2 = []\n",
    "target3 = []\n",
    "for i in range(len(target_array)):\n",
    "    target1.append(np.sum(target_array[i,:,0]))\n",
    "    target2.append(np.sum(target_array[i,:,1]))\n",
    "    target3.append(np.sum(target_array[i,:,2]))"
   ]
  },
  {
   "cell_type": "code",
   "execution_count": 16,
   "id": "cc321a46-20c7-4e4d-a292-dbba48745501",
   "metadata": {},
   "outputs": [],
   "source": [
    "df_id[\"target1\"] = target1\n",
    "df_id[\"target2\"] = target2\n",
    "df_id[\"target3\"] = target3\n",
    "df_id[\"target1_1\"] = df_id[\"target1\"] > 0\n",
    "df_id[\"target2_1\"] = df_id[\"target2\"] > 0\n",
    "df_id[\"target3_1\"] = df_id[\"target3\"] > 0\n",
    "df_id[\"target1_1\"] = df_id[\"target1_1\"].astype(np.int)\n",
    "df_id[\"target2_1\"] = df_id[\"target2_1\"].astype(np.int)\n",
    "df_id[\"target3_1\"] = df_id[\"target3_1\"].astype(np.int)"
   ]
  },
  {
   "cell_type": "code",
   "execution_count": 17,
   "id": "af515de7-e2c5-47a1-ab24-b02e32d5dc8b",
   "metadata": {},
   "outputs": [],
   "source": [
    "df_id[\"group\"] = 0\n",
    "df_id.loc[df_id[\"target2_1\"] > 0,\"group\"] = 1\n",
    "df_id.loc[df_id[\"target1_1\"] > 0,\"group\"] = 2\n",
    "df_id.loc[df_id[\"target3_1\"] > 0,\"group\"] = 3"
   ]
  },
  {
   "cell_type": "code",
   "execution_count": 18,
   "id": "e22f3942-b03a-4dd3-b19e-946414e4e094",
   "metadata": {},
   "outputs": [
    {
     "data": {
      "text/plain": [
       "0    7720\n",
       "1    4604\n",
       "2     782\n",
       "3     610\n",
       "Name: group, dtype: int64"
      ]
     },
     "execution_count": 18,
     "metadata": {},
     "output_type": "execute_result"
    }
   ],
   "source": [
    "df_id[\"group\"].value_counts()"
   ]
  },
  {
   "cell_type": "code",
   "execution_count": 26,
   "id": "0676e71c-483b-4b5b-8e0e-e2222b4506cc",
   "metadata": {},
   "outputs": [
    {
     "name": "stderr",
     "output_type": "stream",
     "text": [
      "2023-05-19 22:14:27,921 - INFO - start fold:0\n"
     ]
    },
    {
     "data": {
      "application/vnd.jupyter.widget-view+json": {
       "model_id": "3c163d64ac804b758fe87c68135526a6",
       "version_major": 2,
       "version_minor": 0
      },
      "text/plain": [
       "  0%|          | 0/480 [00:00<?, ?it/s]"
      ]
     },
     "metadata": {},
     "output_type": "display_data"
    },
    {
     "data": {
      "application/vnd.jupyter.widget-view+json": {
       "model_id": "1bf386c57df94a4998552c99e70ece3e",
       "version_major": 2,
       "version_minor": 0
      },
      "text/plain": [
       "  0%|          | 0/93 [00:00<?, ?it/s]"
      ]
     },
     "metadata": {},
     "output_type": "display_data"
    },
    {
     "name": "stderr",
     "output_type": "stream",
     "text": [
      "2023-05-19 22:15:34,051 - INFO - fold:0 epoch : 0,train loss 0.21934582533625266 map:0.18396820781858736 starthesi:0.014607093662462052 turn:0.44275448909483617 walking :0.09454304069846389\n"
     ]
    },
    {
     "name": "stdout",
     "output_type": "stream",
     "text": [
      "save weight\n"
     ]
    },
    {
     "data": {
      "application/vnd.jupyter.widget-view+json": {
       "model_id": "851c21f7d97e435ca92113c89c7b4aa0",
       "version_major": 2,
       "version_minor": 0
      },
      "text/plain": [
       "  0%|          | 0/480 [00:00<?, ?it/s]"
      ]
     },
     "metadata": {},
     "output_type": "display_data"
    },
    {
     "data": {
      "application/vnd.jupyter.widget-view+json": {
       "model_id": "51b6bdeaff9347609ffe3a90f2169fdc",
       "version_major": 2,
       "version_minor": 0
      },
      "text/plain": [
       "  0%|          | 0/93 [00:00<?, ?it/s]"
      ]
     },
     "metadata": {},
     "output_type": "display_data"
    },
    {
     "name": "stderr",
     "output_type": "stream",
     "text": [
      "2023-05-19 22:16:40,038 - INFO - fold:0 epoch : 1,train loss 0.1469728978505979 map:0.17924564753479444 starthesi:0.007139358514067947 turn:0.46626441841720445 walking :0.06433316567311095\n"
     ]
    },
    {
     "data": {
      "application/vnd.jupyter.widget-view+json": {
       "model_id": "3a23cd01b39e47109f1b5078680e35d7",
       "version_major": 2,
       "version_minor": 0
      },
      "text/plain": [
       "  0%|          | 0/480 [00:00<?, ?it/s]"
      ]
     },
     "metadata": {},
     "output_type": "display_data"
    },
    {
     "data": {
      "application/vnd.jupyter.widget-view+json": {
       "model_id": "c067292bd4e34c89a5aa0340d1aaf6a1",
       "version_major": 2,
       "version_minor": 0
      },
      "text/plain": [
       "  0%|          | 0/93 [00:00<?, ?it/s]"
      ]
     },
     "metadata": {},
     "output_type": "display_data"
    },
    {
     "name": "stderr",
     "output_type": "stream",
     "text": [
      "2023-05-19 22:17:46,183 - INFO - fold:0 epoch : 2,train loss 0.12536634816400086 map:0.19731434782887738 starthesi:0.008542849350890525 turn:0.4564443084129463 walking :0.1269558857227954\n"
     ]
    },
    {
     "name": "stdout",
     "output_type": "stream",
     "text": [
      "save weight\n"
     ]
    },
    {
     "data": {
      "application/vnd.jupyter.widget-view+json": {
       "model_id": "e5dc2bcb9a8c4a3f944c21b809968c86",
       "version_major": 2,
       "version_minor": 0
      },
      "text/plain": [
       "  0%|          | 0/480 [00:00<?, ?it/s]"
      ]
     },
     "metadata": {},
     "output_type": "display_data"
    },
    {
     "data": {
      "application/vnd.jupyter.widget-view+json": {
       "model_id": "11276c6e250a4c8cbd10db5ab20a8490",
       "version_major": 2,
       "version_minor": 0
      },
      "text/plain": [
       "  0%|          | 0/93 [00:00<?, ?it/s]"
      ]
     },
     "metadata": {},
     "output_type": "display_data"
    },
    {
     "name": "stderr",
     "output_type": "stream",
     "text": [
      "2023-05-19 22:18:51,662 - INFO - fold:0 epoch : 3,train loss 0.11048500677570701 map:0.21348515367892293 starthesi:0.011938521657267078 turn:0.4690220291366465 walking :0.1594949102428552\n"
     ]
    },
    {
     "name": "stdout",
     "output_type": "stream",
     "text": [
      "save weight\n"
     ]
    },
    {
     "data": {
      "application/vnd.jupyter.widget-view+json": {
       "model_id": "b78f5369188a449f8876c212a963a49c",
       "version_major": 2,
       "version_minor": 0
      },
      "text/plain": [
       "  0%|          | 0/480 [00:00<?, ?it/s]"
      ]
     },
     "metadata": {},
     "output_type": "display_data"
    },
    {
     "data": {
      "application/vnd.jupyter.widget-view+json": {
       "model_id": "390bf62e62024d5397b44b7034cc17f6",
       "version_major": 2,
       "version_minor": 0
      },
      "text/plain": [
       "  0%|          | 0/93 [00:00<?, ?it/s]"
      ]
     },
     "metadata": {},
     "output_type": "display_data"
    },
    {
     "name": "stderr",
     "output_type": "stream",
     "text": [
      "2023-05-19 22:19:57,557 - INFO - fold:0 epoch : 4,train loss 0.09221527580327044 map:0.20344621668221985 starthesi:0.013093335891027121 turn:0.4611027616784403 walking :0.13614255247719215\n"
     ]
    },
    {
     "data": {
      "application/vnd.jupyter.widget-view+json": {
       "model_id": "d7c0993333724faeb99f9325d77420f3",
       "version_major": 2,
       "version_minor": 0
      },
      "text/plain": [
       "  0%|          | 0/480 [00:00<?, ?it/s]"
      ]
     },
     "metadata": {},
     "output_type": "display_data"
    },
    {
     "data": {
      "application/vnd.jupyter.widget-view+json": {
       "model_id": "7868b1317cff4c9b97cec097fc25e05c",
       "version_major": 2,
       "version_minor": 0
      },
      "text/plain": [
       "  0%|          | 0/93 [00:00<?, ?it/s]"
      ]
     },
     "metadata": {},
     "output_type": "display_data"
    },
    {
     "name": "stderr",
     "output_type": "stream",
     "text": [
      "2023-05-19 22:21:03,717 - INFO - fold:0 epoch : 5,train loss 0.0763318864745088 map:0.18223421233153367 starthesi:0.01760098644877058 turn:0.4540985842972767 walking :0.07500306624855374\n"
     ]
    },
    {
     "data": {
      "application/vnd.jupyter.widget-view+json": {
       "model_id": "54c10cd6bc2a4e829eed2e44b480d0a7",
       "version_major": 2,
       "version_minor": 0
      },
      "text/plain": [
       "  0%|          | 0/480 [00:00<?, ?it/s]"
      ]
     },
     "metadata": {},
     "output_type": "display_data"
    },
    {
     "data": {
      "application/vnd.jupyter.widget-view+json": {
       "model_id": "bc69be1f476745dfbfea5abb7e9727ba",
       "version_major": 2,
       "version_minor": 0
      },
      "text/plain": [
       "  0%|          | 0/93 [00:00<?, ?it/s]"
      ]
     },
     "metadata": {},
     "output_type": "display_data"
    },
    {
     "name": "stderr",
     "output_type": "stream",
     "text": [
      "2023-05-19 22:22:12,023 - INFO - fold:0 epoch : 6,train loss 0.062486739821421604 map:0.1712686366179498 starthesi:0.013643897617517456 turn:0.4363267500946595 walking :0.06383526214167246\n"
     ]
    },
    {
     "data": {
      "application/vnd.jupyter.widget-view+json": {
       "model_id": "77fe1b6b0a5046a29b9e0dbf4bf27f78",
       "version_major": 2,
       "version_minor": 0
      },
      "text/plain": [
       "  0%|          | 0/480 [00:00<?, ?it/s]"
      ]
     },
     "metadata": {},
     "output_type": "display_data"
    },
    {
     "data": {
      "application/vnd.jupyter.widget-view+json": {
       "model_id": "34bbd3a67f0946e196ae0863bffec165",
       "version_major": 2,
       "version_minor": 0
      },
      "text/plain": [
       "  0%|          | 0/93 [00:00<?, ?it/s]"
      ]
     },
     "metadata": {},
     "output_type": "display_data"
    },
    {
     "name": "stderr",
     "output_type": "stream",
     "text": [
      "2023-05-19 22:23:17,698 - INFO - fold:0 epoch : 7,train loss 0.051506201618273434 map:0.17417857678207319 starthesi:0.01558279528703043 turn:0.44057667578433585 walking :0.06637625927485326\n"
     ]
    },
    {
     "data": {
      "application/vnd.jupyter.widget-view+json": {
       "model_id": "a77c0945d5f14167963d1ec5eafe6568",
       "version_major": 2,
       "version_minor": 0
      },
      "text/plain": [
       "  0%|          | 0/480 [00:00<?, ?it/s]"
      ]
     },
     "metadata": {},
     "output_type": "display_data"
    },
    {
     "data": {
      "application/vnd.jupyter.widget-view+json": {
       "model_id": "81758442d9cd4525af72aea04f0d9ba0",
       "version_major": 2,
       "version_minor": 0
      },
      "text/plain": [
       "  0%|          | 0/93 [00:00<?, ?it/s]"
      ]
     },
     "metadata": {},
     "output_type": "display_data"
    },
    {
     "name": "stderr",
     "output_type": "stream",
     "text": [
      "2023-05-19 22:24:23,897 - INFO - fold:0 epoch : 8,train loss 0.043305323046903745 map:0.1615173187077081 starthesi:0.011862353928686661 turn:0.4342141457969458 walking :0.03847545639749189\n"
     ]
    },
    {
     "data": {
      "application/vnd.jupyter.widget-view+json": {
       "model_id": "667bd215627a417a93ba5e8d071f7e10",
       "version_major": 2,
       "version_minor": 0
      },
      "text/plain": [
       "  0%|          | 0/480 [00:00<?, ?it/s]"
      ]
     },
     "metadata": {},
     "output_type": "display_data"
    },
    {
     "data": {
      "application/vnd.jupyter.widget-view+json": {
       "model_id": "c0e2c4e2e2314110ad3d940d53199188",
       "version_major": 2,
       "version_minor": 0
      },
      "text/plain": [
       "  0%|          | 0/93 [00:00<?, ?it/s]"
      ]
     },
     "metadata": {},
     "output_type": "display_data"
    },
    {
     "name": "stderr",
     "output_type": "stream",
     "text": [
      "2023-05-19 22:25:29,509 - INFO - fold:0 epoch : 9,train loss 0.03821853563616363 map:0.16678114590226611 starthesi:0.014236865254285656 turn:0.44151829653784513 walking :0.0445882759146676\n",
      "2023-05-19 22:25:29,552 - INFO - [fold 0] done in 662 s\n",
      "2023-05-19 22:25:29,557 - INFO - start fold:1\n"
     ]
    },
    {
     "data": {
      "application/vnd.jupyter.widget-view+json": {
       "model_id": "0afcb263fd4142828ee1d73fbd1b3c24",
       "version_major": 2,
       "version_minor": 0
      },
      "text/plain": [
       "  0%|          | 0/468 [00:00<?, ?it/s]"
      ]
     },
     "metadata": {},
     "output_type": "display_data"
    },
    {
     "data": {
      "application/vnd.jupyter.widget-view+json": {
       "model_id": "21c33f7417204301a55b962bbc46813c",
       "version_major": 2,
       "version_minor": 0
      },
      "text/plain": [
       "  0%|          | 0/105 [00:00<?, ?it/s]"
      ]
     },
     "metadata": {},
     "output_type": "display_data"
    },
    {
     "name": "stderr",
     "output_type": "stream",
     "text": [
      "2023-05-19 22:26:35,290 - INFO - fold:1 epoch : 0,train loss 0.2093153277443897 map:0.338787307574509 starthesi:0.1390756771535262 turn:0.8161418109369754 walking :0.06114443463302537\n"
     ]
    },
    {
     "name": "stdout",
     "output_type": "stream",
     "text": [
      "save weight\n"
     ]
    },
    {
     "data": {
      "application/vnd.jupyter.widget-view+json": {
       "model_id": "f101e64421ec4255b3841dcf207ae6d5",
       "version_major": 2,
       "version_minor": 0
      },
      "text/plain": [
       "  0%|          | 0/468 [00:00<?, ?it/s]"
      ]
     },
     "metadata": {},
     "output_type": "display_data"
    },
    {
     "data": {
      "application/vnd.jupyter.widget-view+json": {
       "model_id": "a4a0a3262c284578b497c93714b27467",
       "version_major": 2,
       "version_minor": 0
      },
      "text/plain": [
       "  0%|          | 0/105 [00:00<?, ?it/s]"
      ]
     },
     "metadata": {},
     "output_type": "display_data"
    },
    {
     "name": "stderr",
     "output_type": "stream",
     "text": [
      "2023-05-19 22:27:40,674 - INFO - fold:1 epoch : 1,train loss 0.13687169805376065 map:0.36424297475896483 starthesi:0.19048076643909703 turn:0.822011149517715 walking :0.08023700832008249\n"
     ]
    },
    {
     "name": "stdout",
     "output_type": "stream",
     "text": [
      "save weight\n"
     ]
    },
    {
     "data": {
      "application/vnd.jupyter.widget-view+json": {
       "model_id": "cbc90372828b4122b6a332551d257ddd",
       "version_major": 2,
       "version_minor": 0
      },
      "text/plain": [
       "  0%|          | 0/468 [00:00<?, ?it/s]"
      ]
     },
     "metadata": {},
     "output_type": "display_data"
    },
    {
     "data": {
      "application/vnd.jupyter.widget-view+json": {
       "model_id": "4d3b4c4085e244888c999eba19299650",
       "version_major": 2,
       "version_minor": 0
      },
      "text/plain": [
       "  0%|          | 0/105 [00:00<?, ?it/s]"
      ]
     },
     "metadata": {},
     "output_type": "display_data"
    },
    {
     "name": "stderr",
     "output_type": "stream",
     "text": [
      "2023-05-19 22:28:46,159 - INFO - fold:1 epoch : 2,train loss 0.11607819757798415 map:0.3884087071048172 starthesi:0.2329692943051301 turn:0.8499494861631425 walking :0.08230734084617905\n"
     ]
    },
    {
     "name": "stdout",
     "output_type": "stream",
     "text": [
      "save weight\n"
     ]
    },
    {
     "data": {
      "application/vnd.jupyter.widget-view+json": {
       "model_id": "88020dac4a23439f9b3dabf7afd98569",
       "version_major": 2,
       "version_minor": 0
      },
      "text/plain": [
       "  0%|          | 0/468 [00:00<?, ?it/s]"
      ]
     },
     "metadata": {},
     "output_type": "display_data"
    },
    {
     "data": {
      "application/vnd.jupyter.widget-view+json": {
       "model_id": "8bf0396a9fef41178f986ed395e3546f",
       "version_major": 2,
       "version_minor": 0
      },
      "text/plain": [
       "  0%|          | 0/105 [00:00<?, ?it/s]"
      ]
     },
     "metadata": {},
     "output_type": "display_data"
    },
    {
     "name": "stderr",
     "output_type": "stream",
     "text": [
      "2023-05-19 22:29:51,906 - INFO - fold:1 epoch : 3,train loss 0.1001213289773426 map:0.39163997495419056 starthesi:0.276220219603428 turn:0.81579633614609 walking :0.0829033691130536\n"
     ]
    },
    {
     "name": "stdout",
     "output_type": "stream",
     "text": [
      "save weight\n"
     ]
    },
    {
     "data": {
      "application/vnd.jupyter.widget-view+json": {
       "model_id": "efc1cacfa40646e48533787064e630ab",
       "version_major": 2,
       "version_minor": 0
      },
      "text/plain": [
       "  0%|          | 0/468 [00:00<?, ?it/s]"
      ]
     },
     "metadata": {},
     "output_type": "display_data"
    },
    {
     "data": {
      "application/vnd.jupyter.widget-view+json": {
       "model_id": "495b6003b91e4457b649de9461e1731b",
       "version_major": 2,
       "version_minor": 0
      },
      "text/plain": [
       "  0%|          | 0/105 [00:00<?, ?it/s]"
      ]
     },
     "metadata": {},
     "output_type": "display_data"
    },
    {
     "name": "stderr",
     "output_type": "stream",
     "text": [
      "2023-05-19 22:30:57,162 - INFO - fold:1 epoch : 4,train loss 0.08403632878007479 map:0.39799299797075743 starthesi:0.2569263047274807 turn:0.824402223089912 walking :0.1126504660948798\n"
     ]
    },
    {
     "name": "stdout",
     "output_type": "stream",
     "text": [
      "save weight\n"
     ]
    },
    {
     "data": {
      "application/vnd.jupyter.widget-view+json": {
       "model_id": "19c8e032d6fe4f6f90355fd7d95a7ecc",
       "version_major": 2,
       "version_minor": 0
      },
      "text/plain": [
       "  0%|          | 0/468 [00:00<?, ?it/s]"
      ]
     },
     "metadata": {},
     "output_type": "display_data"
    },
    {
     "data": {
      "application/vnd.jupyter.widget-view+json": {
       "model_id": "4b60a895c2744db0ad7a687148971d01",
       "version_major": 2,
       "version_minor": 0
      },
      "text/plain": [
       "  0%|          | 0/105 [00:00<?, ?it/s]"
      ]
     },
     "metadata": {},
     "output_type": "display_data"
    },
    {
     "name": "stderr",
     "output_type": "stream",
     "text": [
      "2023-05-19 22:32:03,597 - INFO - fold:1 epoch : 5,train loss 0.06770084592171459 map:0.3972835543098294 starthesi:0.23763985086455153 turn:0.8274624838315562 walking :0.12674832823338045\n"
     ]
    },
    {
     "data": {
      "application/vnd.jupyter.widget-view+json": {
       "model_id": "f9ed6fca636a4d17bb7759da1a55d802",
       "version_major": 2,
       "version_minor": 0
      },
      "text/plain": [
       "  0%|          | 0/468 [00:00<?, ?it/s]"
      ]
     },
     "metadata": {},
     "output_type": "display_data"
    },
    {
     "data": {
      "application/vnd.jupyter.widget-view+json": {
       "model_id": "930c560fb0a048f0900eab7f96c57bbf",
       "version_major": 2,
       "version_minor": 0
      },
      "text/plain": [
       "  0%|          | 0/105 [00:00<?, ?it/s]"
      ]
     },
     "metadata": {},
     "output_type": "display_data"
    },
    {
     "name": "stderr",
     "output_type": "stream",
     "text": [
      "2023-05-19 22:33:11,369 - INFO - fold:1 epoch : 6,train loss 0.05468399791568358 map:0.35076540541781753 starthesi:0.1404949885370761 turn:0.7854754847436134 walking :0.126325742972763\n"
     ]
    },
    {
     "data": {
      "application/vnd.jupyter.widget-view+json": {
       "model_id": "a4e947160f90424fba0cb527e80a6e38",
       "version_major": 2,
       "version_minor": 0
      },
      "text/plain": [
       "  0%|          | 0/468 [00:00<?, ?it/s]"
      ]
     },
     "metadata": {},
     "output_type": "display_data"
    },
    {
     "data": {
      "application/vnd.jupyter.widget-view+json": {
       "model_id": "f00b1202de154e76a3e7b87d42e35551",
       "version_major": 2,
       "version_minor": 0
      },
      "text/plain": [
       "  0%|          | 0/105 [00:00<?, ?it/s]"
      ]
     },
     "metadata": {},
     "output_type": "display_data"
    },
    {
     "name": "stderr",
     "output_type": "stream",
     "text": [
      "2023-05-19 22:34:17,097 - INFO - fold:1 epoch : 7,train loss 0.04569777625445754 map:0.33670495159467145 starthesi:0.10910206845267678 turn:0.7704757774012212 walking :0.13053700893011647\n"
     ]
    },
    {
     "data": {
      "application/vnd.jupyter.widget-view+json": {
       "model_id": "09df906e3ba944e3893343870d83899a",
       "version_major": 2,
       "version_minor": 0
      },
      "text/plain": [
       "  0%|          | 0/468 [00:00<?, ?it/s]"
      ]
     },
     "metadata": {},
     "output_type": "display_data"
    },
    {
     "data": {
      "application/vnd.jupyter.widget-view+json": {
       "model_id": "e3bfe08738314016ad5a2b5d69609b9b",
       "version_major": 2,
       "version_minor": 0
      },
      "text/plain": [
       "  0%|          | 0/105 [00:00<?, ?it/s]"
      ]
     },
     "metadata": {},
     "output_type": "display_data"
    },
    {
     "name": "stderr",
     "output_type": "stream",
     "text": [
      "2023-05-19 22:35:22,989 - INFO - fold:1 epoch : 8,train loss 0.03760734892601513 map:0.36130828394954967 starthesi:0.15337563395142595 turn:0.7940336525895961 walking :0.13651556530762698\n"
     ]
    },
    {
     "data": {
      "application/vnd.jupyter.widget-view+json": {
       "model_id": "b2db2d70eb64493cbe7eaee71a169fa9",
       "version_major": 2,
       "version_minor": 0
      },
      "text/plain": [
       "  0%|          | 0/468 [00:00<?, ?it/s]"
      ]
     },
     "metadata": {},
     "output_type": "display_data"
    },
    {
     "data": {
      "application/vnd.jupyter.widget-view+json": {
       "model_id": "3c867057a3fb4a658f226288fecdebb7",
       "version_major": 2,
       "version_minor": 0
      },
      "text/plain": [
       "  0%|          | 0/105 [00:00<?, ?it/s]"
      ]
     },
     "metadata": {},
     "output_type": "display_data"
    },
    {
     "name": "stderr",
     "output_type": "stream",
     "text": [
      "2023-05-19 22:36:28,594 - INFO - fold:1 epoch : 9,train loss 0.0330912807247896 map:0.3478000640330213 starthesi:0.12597961823397544 turn:0.784128163157348 walking :0.13329241070774034\n",
      "2023-05-19 22:36:28,619 - INFO - [fold 1] done in 659 s\n",
      "2023-05-19 22:36:28,624 - INFO - start fold:2\n"
     ]
    },
    {
     "data": {
      "application/vnd.jupyter.widget-view+json": {
       "model_id": "a588c5f3899549af83d65566000258fe",
       "version_major": 2,
       "version_minor": 0
      },
      "text/plain": [
       "  0%|          | 0/468 [00:00<?, ?it/s]"
      ]
     },
     "metadata": {},
     "output_type": "display_data"
    },
    {
     "data": {
      "application/vnd.jupyter.widget-view+json": {
       "model_id": "f60b9f8276f54d819df15bedc7f92d81",
       "version_major": 2,
       "version_minor": 0
      },
      "text/plain": [
       "  0%|          | 0/104 [00:00<?, ?it/s]"
      ]
     },
     "metadata": {},
     "output_type": "display_data"
    },
    {
     "name": "stderr",
     "output_type": "stream",
     "text": [
      "2023-05-19 22:37:34,542 - INFO - fold:2 epoch : 0,train loss 0.21697389183199814 map:0.30172482133903833 starthesi:0.10632944469097902 turn:0.7887160141471947 walking :0.010129005178941226\n"
     ]
    },
    {
     "name": "stdout",
     "output_type": "stream",
     "text": [
      "save weight\n"
     ]
    },
    {
     "data": {
      "application/vnd.jupyter.widget-view+json": {
       "model_id": "a994f6e5a95b428db9598cad09767594",
       "version_major": 2,
       "version_minor": 0
      },
      "text/plain": [
       "  0%|          | 0/468 [00:00<?, ?it/s]"
      ]
     },
     "metadata": {},
     "output_type": "display_data"
    },
    {
     "data": {
      "application/vnd.jupyter.widget-view+json": {
       "model_id": "73a96b75c4064a089ed7f773b6c5538d",
       "version_major": 2,
       "version_minor": 0
      },
      "text/plain": [
       "  0%|          | 0/104 [00:00<?, ?it/s]"
      ]
     },
     "metadata": {},
     "output_type": "display_data"
    },
    {
     "name": "stderr",
     "output_type": "stream",
     "text": [
      "2023-05-19 22:38:39,827 - INFO - fold:2 epoch : 1,train loss 0.14181923197232124 map:0.2865510489661596 starthesi:0.04848521846871608 turn:0.794896747236503 walking :0.01627118119325968\n"
     ]
    },
    {
     "data": {
      "application/vnd.jupyter.widget-view+json": {
       "model_id": "a05e4ca166be424a9a694acf37916723",
       "version_major": 2,
       "version_minor": 0
      },
      "text/plain": [
       "  0%|          | 0/468 [00:00<?, ?it/s]"
      ]
     },
     "metadata": {},
     "output_type": "display_data"
    },
    {
     "data": {
      "application/vnd.jupyter.widget-view+json": {
       "model_id": "2cd4485afaf441e889ca09aa9dbd00e2",
       "version_major": 2,
       "version_minor": 0
      },
      "text/plain": [
       "  0%|          | 0/104 [00:00<?, ?it/s]"
      ]
     },
     "metadata": {},
     "output_type": "display_data"
    },
    {
     "name": "stderr",
     "output_type": "stream",
     "text": [
      "2023-05-19 22:39:45,319 - INFO - fold:2 epoch : 2,train loss 0.12256577346298812 map:0.32377987286920146 starthesi:0.12952952289908068 turn:0.8158248950815348 walking :0.025985200626988916\n"
     ]
    },
    {
     "name": "stdout",
     "output_type": "stream",
     "text": [
      "save weight\n"
     ]
    },
    {
     "data": {
      "application/vnd.jupyter.widget-view+json": {
       "model_id": "40487d19fb784da2b68d477537a13bdf",
       "version_major": 2,
       "version_minor": 0
      },
      "text/plain": [
       "  0%|          | 0/468 [00:00<?, ?it/s]"
      ]
     },
     "metadata": {},
     "output_type": "display_data"
    },
    {
     "data": {
      "application/vnd.jupyter.widget-view+json": {
       "model_id": "4a3d6cf2d1a04629aba7ede02a35517e",
       "version_major": 2,
       "version_minor": 0
      },
      "text/plain": [
       "  0%|          | 0/104 [00:00<?, ?it/s]"
      ]
     },
     "metadata": {},
     "output_type": "display_data"
    },
    {
     "name": "stderr",
     "output_type": "stream",
     "text": [
      "2023-05-19 22:40:50,506 - INFO - fold:2 epoch : 3,train loss 0.10524471273096517 map:0.34066759547494724 starthesi:0.1368827108434044 turn:0.8248307209251976 walking :0.060289354656239816\n"
     ]
    },
    {
     "name": "stdout",
     "output_type": "stream",
     "text": [
      "save weight\n"
     ]
    },
    {
     "data": {
      "application/vnd.jupyter.widget-view+json": {
       "model_id": "c2b001946c5645cdb550bd22c25cad94",
       "version_major": 2,
       "version_minor": 0
      },
      "text/plain": [
       "  0%|          | 0/468 [00:00<?, ?it/s]"
      ]
     },
     "metadata": {},
     "output_type": "display_data"
    },
    {
     "data": {
      "application/vnd.jupyter.widget-view+json": {
       "model_id": "c613d1f52ead41858317d8b659bd7e18",
       "version_major": 2,
       "version_minor": 0
      },
      "text/plain": [
       "  0%|          | 0/104 [00:00<?, ?it/s]"
      ]
     },
     "metadata": {},
     "output_type": "display_data"
    },
    {
     "name": "stderr",
     "output_type": "stream",
     "text": [
      "2023-05-19 22:41:55,918 - INFO - fold:2 epoch : 4,train loss 0.09104711911442061 map:0.35148692303638546 starthesi:0.17146882980087466 turn:0.830797094354142 walking :0.052194844954139674\n"
     ]
    },
    {
     "name": "stdout",
     "output_type": "stream",
     "text": [
      "save weight\n"
     ]
    },
    {
     "data": {
      "application/vnd.jupyter.widget-view+json": {
       "model_id": "16a7838071de417381eee94772c02f83",
       "version_major": 2,
       "version_minor": 0
      },
      "text/plain": [
       "  0%|          | 0/468 [00:00<?, ?it/s]"
      ]
     },
     "metadata": {},
     "output_type": "display_data"
    },
    {
     "data": {
      "application/vnd.jupyter.widget-view+json": {
       "model_id": "674287b750fa4332a1f121c4e53cf28c",
       "version_major": 2,
       "version_minor": 0
      },
      "text/plain": [
       "  0%|          | 0/104 [00:00<?, ?it/s]"
      ]
     },
     "metadata": {},
     "output_type": "display_data"
    },
    {
     "name": "stderr",
     "output_type": "stream",
     "text": [
      "2023-05-19 22:43:01,869 - INFO - fold:2 epoch : 5,train loss 0.07647520365018366 map:0.3530022929703713 starthesi:0.20151593566524795 turn:0.8188244068579745 walking :0.03866653638789123\n"
     ]
    },
    {
     "name": "stdout",
     "output_type": "stream",
     "text": [
      "save weight\n"
     ]
    },
    {
     "data": {
      "application/vnd.jupyter.widget-view+json": {
       "model_id": "361bc931d0ae459980aee5f182fee729",
       "version_major": 2,
       "version_minor": 0
      },
      "text/plain": [
       "  0%|          | 0/468 [00:00<?, ?it/s]"
      ]
     },
     "metadata": {},
     "output_type": "display_data"
    },
    {
     "data": {
      "application/vnd.jupyter.widget-view+json": {
       "model_id": "db10b4d15a4e48fa96a2b30262e45d80",
       "version_major": 2,
       "version_minor": 0
      },
      "text/plain": [
       "  0%|          | 0/104 [00:00<?, ?it/s]"
      ]
     },
     "metadata": {},
     "output_type": "display_data"
    },
    {
     "name": "stderr",
     "output_type": "stream",
     "text": [
      "2023-05-19 22:44:08,540 - INFO - fold:2 epoch : 6,train loss 0.062406529447573245 map:0.34988867972685966 starthesi:0.17456830815072139 turn:0.8271638457116024 walking :0.04793388531825511\n"
     ]
    },
    {
     "data": {
      "application/vnd.jupyter.widget-view+json": {
       "model_id": "6ccd11654e864aa3bba671740c29db94",
       "version_major": 2,
       "version_minor": 0
      },
      "text/plain": [
       "  0%|          | 0/468 [00:00<?, ?it/s]"
      ]
     },
     "metadata": {},
     "output_type": "display_data"
    },
    {
     "data": {
      "application/vnd.jupyter.widget-view+json": {
       "model_id": "b0dc7487e3ac46a2b815fc697ffdd31a",
       "version_major": 2,
       "version_minor": 0
      },
      "text/plain": [
       "  0%|          | 0/104 [00:00<?, ?it/s]"
      ]
     },
     "metadata": {},
     "output_type": "display_data"
    },
    {
     "name": "stderr",
     "output_type": "stream",
     "text": [
      "2023-05-19 22:45:14,264 - INFO - fold:2 epoch : 7,train loss 0.05086989422989452 map:0.3420175643460051 starthesi:0.1272154776922237 turn:0.8204443398587471 walking :0.07839287548704475\n"
     ]
    },
    {
     "data": {
      "application/vnd.jupyter.widget-view+json": {
       "model_id": "77a9fbc1938a492dbdebaaf1bc712161",
       "version_major": 2,
       "version_minor": 0
      },
      "text/plain": [
       "  0%|          | 0/468 [00:00<?, ?it/s]"
      ]
     },
     "metadata": {},
     "output_type": "display_data"
    },
    {
     "data": {
      "application/vnd.jupyter.widget-view+json": {
       "model_id": "712653787167496e90041646b36a2336",
       "version_major": 2,
       "version_minor": 0
      },
      "text/plain": [
       "  0%|          | 0/104 [00:00<?, ?it/s]"
      ]
     },
     "metadata": {},
     "output_type": "display_data"
    },
    {
     "name": "stderr",
     "output_type": "stream",
     "text": [
      "2023-05-19 22:46:19,025 - INFO - fold:2 epoch : 8,train loss 0.041783694981828205 map:0.3449721890994715 starthesi:0.16013327356622728 turn:0.815428345201539 walking :0.05935494853064827\n"
     ]
    },
    {
     "data": {
      "application/vnd.jupyter.widget-view+json": {
       "model_id": "4a713665c2c94bbf8dd66e655ff0f35d",
       "version_major": 2,
       "version_minor": 0
      },
      "text/plain": [
       "  0%|          | 0/468 [00:00<?, ?it/s]"
      ]
     },
     "metadata": {},
     "output_type": "display_data"
    },
    {
     "data": {
      "application/vnd.jupyter.widget-view+json": {
       "model_id": "7dc382f6188c491b9bcba541b0215d82",
       "version_major": 2,
       "version_minor": 0
      },
      "text/plain": [
       "  0%|          | 0/104 [00:00<?, ?it/s]"
      ]
     },
     "metadata": {},
     "output_type": "display_data"
    },
    {
     "name": "stderr",
     "output_type": "stream",
     "text": [
      "2023-05-19 22:47:23,904 - INFO - fold:2 epoch : 9,train loss 0.03667028349004368 map:0.3466390272857149 starthesi:0.1722981434219793 turn:0.8167858208354896 walking :0.050833117599675626\n",
      "2023-05-19 22:47:23,919 - INFO - [fold 2] done in 655 s\n",
      "2023-05-19 22:47:23,924 - INFO - start fold:3\n"
     ]
    },
    {
     "data": {
      "application/vnd.jupyter.widget-view+json": {
       "model_id": "4df28874f97e48ca8cdda632d9519e41",
       "version_major": 2,
       "version_minor": 0
      },
      "text/plain": [
       "  0%|          | 0/405 [00:00<?, ?it/s]"
      ]
     },
     "metadata": {},
     "output_type": "display_data"
    },
    {
     "data": {
      "application/vnd.jupyter.widget-view+json": {
       "model_id": "9c055dfd3c95438a9766c914b3113384",
       "version_major": 2,
       "version_minor": 0
      },
      "text/plain": [
       "  0%|          | 0/167 [00:00<?, ?it/s]"
      ]
     },
     "metadata": {},
     "output_type": "display_data"
    },
    {
     "name": "stderr",
     "output_type": "stream",
     "text": [
      "2023-05-19 22:48:28,407 - INFO - fold:3 epoch : 0,train loss 0.17070530653919702 map:0.4632904634657396 starthesi:0.5719272211948554 turn:0.7420367225889232 walking :0.07590744661344044\n"
     ]
    },
    {
     "name": "stdout",
     "output_type": "stream",
     "text": [
      "save weight\n"
     ]
    },
    {
     "data": {
      "application/vnd.jupyter.widget-view+json": {
       "model_id": "7e82697e76384c80b42199c533e9e927",
       "version_major": 2,
       "version_minor": 0
      },
      "text/plain": [
       "  0%|          | 0/405 [00:00<?, ?it/s]"
      ]
     },
     "metadata": {},
     "output_type": "display_data"
    },
    {
     "data": {
      "application/vnd.jupyter.widget-view+json": {
       "model_id": "2c448716f92d4e1b83d94370974102d0",
       "version_major": 2,
       "version_minor": 0
      },
      "text/plain": [
       "  0%|          | 0/167 [00:00<?, ?it/s]"
      ]
     },
     "metadata": {},
     "output_type": "display_data"
    },
    {
     "name": "stderr",
     "output_type": "stream",
     "text": [
      "2023-05-19 22:49:32,267 - INFO - fold:3 epoch : 1,train loss 0.11099093245503343 map:0.533158532567424 starthesi:0.6687821962285752 turn:0.8194820672286515 walking :0.11121133424504512\n"
     ]
    },
    {
     "name": "stdout",
     "output_type": "stream",
     "text": [
      "save weight\n"
     ]
    },
    {
     "data": {
      "application/vnd.jupyter.widget-view+json": {
       "model_id": "fce8e6e1454043af8a93d58d733ac6f0",
       "version_major": 2,
       "version_minor": 0
      },
      "text/plain": [
       "  0%|          | 0/405 [00:00<?, ?it/s]"
      ]
     },
     "metadata": {},
     "output_type": "display_data"
    },
    {
     "data": {
      "application/vnd.jupyter.widget-view+json": {
       "model_id": "b1c45991820b407b8e5bd4e2b6f4ab25",
       "version_major": 2,
       "version_minor": 0
      },
      "text/plain": [
       "  0%|          | 0/167 [00:00<?, ?it/s]"
      ]
     },
     "metadata": {},
     "output_type": "display_data"
    },
    {
     "name": "stderr",
     "output_type": "stream",
     "text": [
      "2023-05-19 22:50:36,315 - INFO - fold:3 epoch : 2,train loss 0.09427326778294863 map:0.49129656480479694 starthesi:0.5370979852519847 turn:0.7710745734391472 walking :0.16571713572325897\n"
     ]
    },
    {
     "data": {
      "application/vnd.jupyter.widget-view+json": {
       "model_id": "ea5d876564444c518a02b22c628bee94",
       "version_major": 2,
       "version_minor": 0
      },
      "text/plain": [
       "  0%|          | 0/405 [00:00<?, ?it/s]"
      ]
     },
     "metadata": {},
     "output_type": "display_data"
    },
    {
     "data": {
      "application/vnd.jupyter.widget-view+json": {
       "model_id": "8d611cfee415469392c364769a9fbf6a",
       "version_major": 2,
       "version_minor": 0
      },
      "text/plain": [
       "  0%|          | 0/167 [00:00<?, ?it/s]"
      ]
     },
     "metadata": {},
     "output_type": "display_data"
    },
    {
     "name": "stderr",
     "output_type": "stream",
     "text": [
      "2023-05-19 22:51:40,395 - INFO - fold:3 epoch : 3,train loss 0.08125422240269405 map:0.4865499331214395 starthesi:0.38545046273623557 turn:0.8144572887976986 walking :0.25974204783038424\n"
     ]
    },
    {
     "data": {
      "application/vnd.jupyter.widget-view+json": {
       "model_id": "b6fdfb80ae6e4262ae48aa03fe94168c",
       "version_major": 2,
       "version_minor": 0
      },
      "text/plain": [
       "  0%|          | 0/405 [00:00<?, ?it/s]"
      ]
     },
     "metadata": {},
     "output_type": "display_data"
    },
    {
     "data": {
      "application/vnd.jupyter.widget-view+json": {
       "model_id": "e7fae46946094214a81aa9f8becb9c49",
       "version_major": 2,
       "version_minor": 0
      },
      "text/plain": [
       "  0%|          | 0/167 [00:00<?, ?it/s]"
      ]
     },
     "metadata": {},
     "output_type": "display_data"
    },
    {
     "name": "stderr",
     "output_type": "stream",
     "text": [
      "2023-05-19 22:52:44,551 - INFO - fold:3 epoch : 4,train loss 0.07247472460853097 map:0.441867267457787 starthesi:0.31227592227833983 turn:0.80497433496561 walking :0.2083515451294111\n"
     ]
    },
    {
     "data": {
      "application/vnd.jupyter.widget-view+json": {
       "model_id": "a0174c0679db43eab73716d6987c1d5a",
       "version_major": 2,
       "version_minor": 0
      },
      "text/plain": [
       "  0%|          | 0/405 [00:00<?, ?it/s]"
      ]
     },
     "metadata": {},
     "output_type": "display_data"
    },
    {
     "data": {
      "application/vnd.jupyter.widget-view+json": {
       "model_id": "1c1abe2deb9e497db99ebdaf6dae347e",
       "version_major": 2,
       "version_minor": 0
      },
      "text/plain": [
       "  0%|          | 0/167 [00:00<?, ?it/s]"
      ]
     },
     "metadata": {},
     "output_type": "display_data"
    },
    {
     "name": "stderr",
     "output_type": "stream",
     "text": [
      "2023-05-19 22:53:48,629 - INFO - fold:3 epoch : 5,train loss 0.061879727902051845 map:0.43451975370600954 starthesi:0.28712097039165585 turn:0.7806830599931366 walking :0.23575523073323626\n"
     ]
    },
    {
     "data": {
      "application/vnd.jupyter.widget-view+json": {
       "model_id": "c18f883413834e4196c1538c4e8b1b55",
       "version_major": 2,
       "version_minor": 0
      },
      "text/plain": [
       "  0%|          | 0/405 [00:00<?, ?it/s]"
      ]
     },
     "metadata": {},
     "output_type": "display_data"
    },
    {
     "data": {
      "application/vnd.jupyter.widget-view+json": {
       "model_id": "3f180b73216c4c198246e05a9338361d",
       "version_major": 2,
       "version_minor": 0
      },
      "text/plain": [
       "  0%|          | 0/167 [00:00<?, ?it/s]"
      ]
     },
     "metadata": {},
     "output_type": "display_data"
    },
    {
     "name": "stderr",
     "output_type": "stream",
     "text": [
      "2023-05-19 22:54:52,898 - INFO - fold:3 epoch : 6,train loss 0.053214349620688106 map:0.408221710344789 starthesi:0.2832800290629966 turn:0.7685743405880471 walking :0.17281076138332346\n"
     ]
    },
    {
     "data": {
      "application/vnd.jupyter.widget-view+json": {
       "model_id": "012900dc10c54c5ebe541124a2dce9cc",
       "version_major": 2,
       "version_minor": 0
      },
      "text/plain": [
       "  0%|          | 0/405 [00:00<?, ?it/s]"
      ]
     },
     "metadata": {},
     "output_type": "display_data"
    },
    {
     "data": {
      "application/vnd.jupyter.widget-view+json": {
       "model_id": "1c4dcf112c5c4d0186f0ed22f06638c3",
       "version_major": 2,
       "version_minor": 0
      },
      "text/plain": [
       "  0%|          | 0/167 [00:00<?, ?it/s]"
      ]
     },
     "metadata": {},
     "output_type": "display_data"
    },
    {
     "name": "stderr",
     "output_type": "stream",
     "text": [
      "2023-05-19 22:55:56,927 - INFO - fold:3 epoch : 7,train loss 0.04572898233424366 map:0.40149051049222856 starthesi:0.25564179274642507 turn:0.7607567639222773 walking :0.18807297480798324\n"
     ]
    },
    {
     "data": {
      "application/vnd.jupyter.widget-view+json": {
       "model_id": "3e27d6f5886e4180bc983ca3fb3a55d6",
       "version_major": 2,
       "version_minor": 0
      },
      "text/plain": [
       "  0%|          | 0/405 [00:00<?, ?it/s]"
      ]
     },
     "metadata": {},
     "output_type": "display_data"
    },
    {
     "data": {
      "application/vnd.jupyter.widget-view+json": {
       "model_id": "d63f4b5f8a9e4545a63933c1f1e02334",
       "version_major": 2,
       "version_minor": 0
      },
      "text/plain": [
       "  0%|          | 0/167 [00:00<?, ?it/s]"
      ]
     },
     "metadata": {},
     "output_type": "display_data"
    },
    {
     "name": "stderr",
     "output_type": "stream",
     "text": [
      "2023-05-19 22:57:01,166 - INFO - fold:3 epoch : 8,train loss 0.03926084350771558 map:0.4095352626990463 starthesi:0.2900427328334627 turn:0.7711523392815318 walking :0.1674107159821443\n"
     ]
    },
    {
     "data": {
      "application/vnd.jupyter.widget-view+json": {
       "model_id": "b40b855625ce4c469644b74201197252",
       "version_major": 2,
       "version_minor": 0
      },
      "text/plain": [
       "  0%|          | 0/405 [00:00<?, ?it/s]"
      ]
     },
     "metadata": {},
     "output_type": "display_data"
    },
    {
     "data": {
      "application/vnd.jupyter.widget-view+json": {
       "model_id": "0e8239d1d588484ab2b6df6bfcb59501",
       "version_major": 2,
       "version_minor": 0
      },
      "text/plain": [
       "  0%|          | 0/167 [00:00<?, ?it/s]"
      ]
     },
     "metadata": {},
     "output_type": "display_data"
    },
    {
     "name": "stderr",
     "output_type": "stream",
     "text": [
      "2023-05-19 22:58:07,047 - INFO - fold:3 epoch : 9,train loss 0.03505944485235729 map:0.40246714397703026 starthesi:0.2841328216967525 turn:0.7646006617235113 walking :0.15866794851082713\n",
      "2023-05-19 22:58:07,074 - INFO - [fold 3] done in 643 s\n",
      "2023-05-19 22:58:07,081 - INFO - start fold:4\n"
     ]
    },
    {
     "data": {
      "application/vnd.jupyter.widget-view+json": {
       "model_id": "ba40d70a41f84380bdf661b71eb548a7",
       "version_major": 2,
       "version_minor": 0
      },
      "text/plain": [
       "  0%|          | 0/467 [00:00<?, ?it/s]"
      ]
     },
     "metadata": {},
     "output_type": "display_data"
    },
    {
     "data": {
      "application/vnd.jupyter.widget-view+json": {
       "model_id": "ba168281246644d28572f381953379ff",
       "version_major": 2,
       "version_minor": 0
      },
      "text/plain": [
       "  0%|          | 0/105 [00:00<?, ?it/s]"
      ]
     },
     "metadata": {},
     "output_type": "display_data"
    },
    {
     "name": "stderr",
     "output_type": "stream",
     "text": [
      "2023-05-19 22:59:14,386 - INFO - fold:4 epoch : 0,train loss 0.216536431324048 map:0.19457604944679632 starthesi:0.13161174694759648 turn:0.4126369894897044 walking :0.03947941190308814\n"
     ]
    },
    {
     "name": "stdout",
     "output_type": "stream",
     "text": [
      "save weight\n"
     ]
    },
    {
     "data": {
      "application/vnd.jupyter.widget-view+json": {
       "model_id": "520f621af38e424a943ede63aca23cd8",
       "version_major": 2,
       "version_minor": 0
      },
      "text/plain": [
       "  0%|          | 0/467 [00:00<?, ?it/s]"
      ]
     },
     "metadata": {},
     "output_type": "display_data"
    },
    {
     "data": {
      "application/vnd.jupyter.widget-view+json": {
       "model_id": "ebf5e992b8f940499d61c2af06898fe1",
       "version_major": 2,
       "version_minor": 0
      },
      "text/plain": [
       "  0%|          | 0/105 [00:00<?, ?it/s]"
      ]
     },
     "metadata": {},
     "output_type": "display_data"
    },
    {
     "name": "stderr",
     "output_type": "stream",
     "text": [
      "2023-05-19 23:00:19,675 - INFO - fold:4 epoch : 1,train loss 0.14129171672035845 map:0.2235027378575829 starthesi:0.13110656291743206 turn:0.49069189864955987 walking :0.04870975200575678\n"
     ]
    },
    {
     "name": "stdout",
     "output_type": "stream",
     "text": [
      "save weight\n"
     ]
    },
    {
     "data": {
      "application/vnd.jupyter.widget-view+json": {
       "model_id": "a2a404e00681451c80a9b426d8c49024",
       "version_major": 2,
       "version_minor": 0
      },
      "text/plain": [
       "  0%|          | 0/467 [00:00<?, ?it/s]"
      ]
     },
     "metadata": {},
     "output_type": "display_data"
    },
    {
     "data": {
      "application/vnd.jupyter.widget-view+json": {
       "model_id": "ff994877f80045c6ad64e8b39ba8a6e5",
       "version_major": 2,
       "version_minor": 0
      },
      "text/plain": [
       "  0%|          | 0/105 [00:00<?, ?it/s]"
      ]
     },
     "metadata": {},
     "output_type": "display_data"
    },
    {
     "name": "stderr",
     "output_type": "stream",
     "text": [
      "2023-05-19 23:01:24,635 - INFO - fold:4 epoch : 2,train loss 0.12160614351851655 map:0.28378116560502137 starthesi:0.20481333491663847 turn:0.4648589802186516 walking :0.18167118167977414\n"
     ]
    },
    {
     "name": "stdout",
     "output_type": "stream",
     "text": [
      "save weight\n"
     ]
    },
    {
     "data": {
      "application/vnd.jupyter.widget-view+json": {
       "model_id": "bfe1b9d34ffa4d1b9f55d025db1366d3",
       "version_major": 2,
       "version_minor": 0
      },
      "text/plain": [
       "  0%|          | 0/467 [00:00<?, ?it/s]"
      ]
     },
     "metadata": {},
     "output_type": "display_data"
    },
    {
     "data": {
      "application/vnd.jupyter.widget-view+json": {
       "model_id": "ecb5ade41ded496d90c854ba96b8a039",
       "version_major": 2,
       "version_minor": 0
      },
      "text/plain": [
       "  0%|          | 0/105 [00:00<?, ?it/s]"
      ]
     },
     "metadata": {},
     "output_type": "display_data"
    },
    {
     "name": "stderr",
     "output_type": "stream",
     "text": [
      "2023-05-19 23:02:30,233 - INFO - fold:4 epoch : 3,train loss 0.1059477726512088 map:0.2624098224900854 starthesi:0.22128262132364573 turn:0.472388879295913 walking :0.09355796685069744\n"
     ]
    },
    {
     "data": {
      "application/vnd.jupyter.widget-view+json": {
       "model_id": "7b1cd000919245b5a5648b1163517613",
       "version_major": 2,
       "version_minor": 0
      },
      "text/plain": [
       "  0%|          | 0/467 [00:00<?, ?it/s]"
      ]
     },
     "metadata": {},
     "output_type": "display_data"
    },
    {
     "data": {
      "application/vnd.jupyter.widget-view+json": {
       "model_id": "5fcdb54e76ac415584f35b89b49269f0",
       "version_major": 2,
       "version_minor": 0
      },
      "text/plain": [
       "  0%|          | 0/105 [00:00<?, ?it/s]"
      ]
     },
     "metadata": {},
     "output_type": "display_data"
    },
    {
     "name": "stderr",
     "output_type": "stream",
     "text": [
      "2023-05-19 23:03:35,140 - INFO - fold:4 epoch : 4,train loss 0.08910699022387411 map:0.24287426146140953 starthesi:0.18511363847975962 turn:0.45803152985427087 walking :0.08547761605019812\n"
     ]
    },
    {
     "data": {
      "application/vnd.jupyter.widget-view+json": {
       "model_id": "ffce1cb12797475a89ad0176227f27d4",
       "version_major": 2,
       "version_minor": 0
      },
      "text/plain": [
       "  0%|          | 0/467 [00:00<?, ?it/s]"
      ]
     },
     "metadata": {},
     "output_type": "display_data"
    },
    {
     "data": {
      "application/vnd.jupyter.widget-view+json": {
       "model_id": "cb1e027ad2314b78af7c3b128b2d569c",
       "version_major": 2,
       "version_minor": 0
      },
      "text/plain": [
       "  0%|          | 0/105 [00:00<?, ?it/s]"
      ]
     },
     "metadata": {},
     "output_type": "display_data"
    },
    {
     "name": "stderr",
     "output_type": "stream",
     "text": [
      "2023-05-19 23:04:40,143 - INFO - fold:4 epoch : 5,train loss 0.07376036468326917 map:0.24646483828458884 starthesi:0.18545186741500655 turn:0.4702975157184137 walking :0.0836451317203463\n"
     ]
    },
    {
     "data": {
      "application/vnd.jupyter.widget-view+json": {
       "model_id": "b9189b3966d44ecbb87cb8095863fc3e",
       "version_major": 2,
       "version_minor": 0
      },
      "text/plain": [
       "  0%|          | 0/467 [00:00<?, ?it/s]"
      ]
     },
     "metadata": {},
     "output_type": "display_data"
    },
    {
     "data": {
      "application/vnd.jupyter.widget-view+json": {
       "model_id": "3de56ac410df4a538868895a588e25d7",
       "version_major": 2,
       "version_minor": 0
      },
      "text/plain": [
       "  0%|          | 0/105 [00:00<?, ?it/s]"
      ]
     },
     "metadata": {},
     "output_type": "display_data"
    },
    {
     "name": "stderr",
     "output_type": "stream",
     "text": [
      "2023-05-19 23:05:45,027 - INFO - fold:4 epoch : 6,train loss 0.060536248820815916 map:0.2609808929923814 starthesi:0.20063714617437553 turn:0.4492782407189626 walking :0.1330272920838061\n"
     ]
    },
    {
     "data": {
      "application/vnd.jupyter.widget-view+json": {
       "model_id": "835644ffd0084ba98869f03fee03dfe6",
       "version_major": 2,
       "version_minor": 0
      },
      "text/plain": [
       "  0%|          | 0/467 [00:00<?, ?it/s]"
      ]
     },
     "metadata": {},
     "output_type": "display_data"
    },
    {
     "data": {
      "application/vnd.jupyter.widget-view+json": {
       "model_id": "10d616351e804ca7bc93df0bb8929a94",
       "version_major": 2,
       "version_minor": 0
      },
      "text/plain": [
       "  0%|          | 0/105 [00:00<?, ?it/s]"
      ]
     },
     "metadata": {},
     "output_type": "display_data"
    },
    {
     "name": "stderr",
     "output_type": "stream",
     "text": [
      "2023-05-19 23:06:50,254 - INFO - fold:4 epoch : 7,train loss 0.0491933050172551 map:0.20444883871522745 starthesi:0.09344888689948533 turn:0.45722034177638365 walking :0.06267728746981335\n"
     ]
    },
    {
     "data": {
      "application/vnd.jupyter.widget-view+json": {
       "model_id": "29f4fe8d935d4c03b4343503d435fa29",
       "version_major": 2,
       "version_minor": 0
      },
      "text/plain": [
       "  0%|          | 0/467 [00:00<?, ?it/s]"
      ]
     },
     "metadata": {},
     "output_type": "display_data"
    },
    {
     "data": {
      "application/vnd.jupyter.widget-view+json": {
       "model_id": "a4b3b5a6bac04f5aae56a07739208fe2",
       "version_major": 2,
       "version_minor": 0
      },
      "text/plain": [
       "  0%|          | 0/105 [00:00<?, ?it/s]"
      ]
     },
     "metadata": {},
     "output_type": "display_data"
    },
    {
     "name": "stderr",
     "output_type": "stream",
     "text": [
      "2023-05-19 23:07:55,079 - INFO - fold:4 epoch : 8,train loss 0.04162897222039212 map:0.2207395712496201 starthesi:0.15052413268069967 turn:0.45060031511030624 walking :0.06109426595785441\n"
     ]
    },
    {
     "data": {
      "application/vnd.jupyter.widget-view+json": {
       "model_id": "360218600fb546e6851480566a20b15b",
       "version_major": 2,
       "version_minor": 0
      },
      "text/plain": [
       "  0%|          | 0/467 [00:00<?, ?it/s]"
      ]
     },
     "metadata": {},
     "output_type": "display_data"
    },
    {
     "data": {
      "application/vnd.jupyter.widget-view+json": {
       "model_id": "25ae9eaf15b54bbbb119fda4afa2082c",
       "version_major": 2,
       "version_minor": 0
      },
      "text/plain": [
       "  0%|          | 0/105 [00:00<?, ?it/s]"
      ]
     },
     "metadata": {},
     "output_type": "display_data"
    },
    {
     "name": "stderr",
     "output_type": "stream",
     "text": [
      "2023-05-19 23:09:00,117 - INFO - fold:4 epoch : 9,train loss 0.03662928107754992 map:0.2138179496515582 starthesi:0.14821095793597694 turn:0.44324756627928247 walking :0.04999532473941511\n",
      "2023-05-19 23:09:00,131 - INFO - [fold 4] done in 653 s\n",
      "2023-05-19 23:09:00,345 - INFO - [gru] done in 3272 s\n"
     ]
    }
   ],
   "source": [
    "with timer(\"gru\"):\n",
    "    set_seed(seed)\n",
    "    y_oof = np.empty([len(target_array),1000,3])\n",
    "    gkf = StratifiedGroupKFold(n_splits=n_splits,shuffle=True,random_state = seed)\n",
    "    for fold, (train_idx, valid_idx) in enumerate(gkf.split(numerical_array, \n",
    "                                                             y = df_id[\"group\"].values,\n",
    "                                                             groups=df_id[\"subject\"].values)):\n",
    "        LOGGER.info(f\"start fold:{fold}\")\n",
    "        with timer(f\"fold {fold}\"):\n",
    "            train_numerical_array = numerical_array[train_idx]\n",
    "            train_target_array = target_array[train_idx]\n",
    "            train_mask_array = mask_array[train_idx]\n",
    "\n",
    "            val_numerical_array = numerical_array[valid_idx]\n",
    "            val_target_array = target_array[valid_idx]\n",
    "            val_mask_array = mask_array[valid_idx]\n",
    "            val_pred_array = pred_use_array[valid_idx]\n",
    "            train_ = FogDataset(train_numerical_array,\n",
    "                                train_mask_array,\n",
    "                                train=True,\n",
    "                                y=train_target_array)\n",
    "            \n",
    "            val_ = FogDataset(val_numerical_array,\n",
    "                                val_mask_array,\n",
    "                                train=True,\n",
    "                                y=val_target_array)\n",
    "            \n",
    "            \n",
    "            train_loader = DataLoader(dataset=train_, \n",
    "                                  batch_size=batch_size, \n",
    "                                  shuffle = True , num_workers=8)\n",
    "            val_loader = DataLoader(dataset=val_, \n",
    "                                batch_size=batch_size, \n",
    "                                shuffle = False , num_workers=8)\n",
    "            \n",
    "            model = FogRnnModel()\n",
    "            model = model.to(device)\n",
    "            param_optimizer = list(model.named_parameters())\n",
    "            no_decay = ['bias', 'LayerNorm.bias', 'LayerNorm.weight']\n",
    "            optimizer_grouped_parameters = [\n",
    "                {'params': [p for n, p in param_optimizer if not any(nd in n for nd in no_decay)], 'weight_decay': weight_decay},\n",
    "                {'params': [p for n, p in param_optimizer if any(nd in n for nd in no_decay)], 'weight_decay': 0.0}\n",
    "            ]\n",
    "            optimizer = AdamW(optimizer_grouped_parameters,\n",
    "                              lr=lr,\n",
    "                              weight_decay=weight_decay,\n",
    "                              )\n",
    "            num_train_optimization_steps = int(len(train_loader) * n_epochs)\n",
    "            scheduler = get_linear_schedule_with_warmup(optimizer,\n",
    "                                                        num_warmup_steps=num_warmup_steps,\n",
    "                                                        num_training_steps=num_train_optimization_steps)\n",
    "            criterion = nn.BCEWithLogitsLoss()\n",
    "            best_val_score = 0\n",
    "            for epoch in range(n_epochs):\n",
    "                model.train() \n",
    "                train_losses_batch = []\n",
    "                val_losses_batch = []\n",
    "                epoch_loss = 0\n",
    "                train_preds = np.ndarray((0,3))\n",
    "                tk0 = tqdm(train_loader, total=len(train_loader))\n",
    "                for d in tk0:\n",
    "                    # =========================\n",
    "                    # data loader\n",
    "                    # =========================\n",
    "                    input_data_numerical_array = d['input_data_numerical_array'].to(device)\n",
    "                    input_data_mask_array = d['input_data_mask_array'].to(device)\n",
    "                    attention_mask = d['attention_mask'].to(device)\n",
    "                    y = d[\"y\"].to(device)\n",
    "                    optimizer.zero_grad()\n",
    "                    output = model(input_data_numerical_array, \n",
    "                                   input_data_mask_array,\n",
    "                                   attention_mask)\n",
    "                    loss = criterion(output[input_data_mask_array == 1], y[input_data_mask_array == 1])\n",
    "                    loss.backward()\n",
    "                    optimizer.step()\n",
    "                    scheduler.step()\n",
    "                    train_losses_batch.append(loss.item())\n",
    "                train_loss = np.mean(train_losses_batch)\n",
    "            \n",
    "                # ==========================\n",
    "                # eval\n",
    "                # ==========================\n",
    "                model.eval()  # switch model to the evaluation mode\n",
    "                val_preds = np.ndarray((0,1000,3))\n",
    "                tk0 = tqdm(val_loader, total=len(val_loader))\n",
    "                with torch.no_grad():  # Do not calculate gradient since we are only predicting\n",
    "                    # Predicting on validation set\n",
    "                    for d in tk0:\n",
    "                        input_data_numerical_array = d['input_data_numerical_array'].to(device)\n",
    "                        input_data_mask_array = d['input_data_mask_array'].to(device)\n",
    "                        attention_mask = d['attention_mask'].to(device)\n",
    "                        output = model(input_data_numerical_array, \n",
    "                                   input_data_mask_array,\n",
    "                                   attention_mask)\n",
    "                        val_preds = np.concatenate([val_preds, output.sigmoid().detach().cpu().numpy()], axis=0)\n",
    "                pred_valid_index = (val_mask_array == 1) & (val_pred_array == 1)\n",
    "                StartHesitation = average_precision_score(val_target_array[pred_valid_index][:,0],\n",
    "                                                          val_preds[pred_valid_index][:,0])\n",
    "                Turn = average_precision_score(val_target_array[pred_valid_index][:,1],\n",
    "                                                          val_preds[pred_valid_index][:,1])\n",
    "                Walking = average_precision_score(val_target_array[pred_valid_index][:,2],\n",
    "                                                          val_preds[pred_valid_index][:,2])\n",
    "                map_score = np.mean([StartHesitation,\n",
    "                               Turn,\n",
    "                               Walking])\n",
    "                LOGGER.info(f\"fold:{fold} epoch : {epoch},train loss {train_loss} map:{map_score} starthesi:{StartHesitation} turn:{Turn} walking :{Walking}\")\n",
    "                \n",
    "                if map_score >= best_val_score:\n",
    "                    print(\"save weight\")\n",
    "                    best_val_score = map_score\n",
    "                    best_val_preds = val_preds.copy()\n",
    "                    torch.save(model.state_dict(), f\"../output/exp/ex{ex}/ex{ex}_model/ex{ex}_{fold}.pth\") \n",
    "            y_oof[valid_idx] = best_val_preds\n",
    "    np.save(f\"../output/exp/ex{ex}/ex{ex}_oof.npy\",y_oof)"
   ]
  },
  {
   "cell_type": "code",
   "execution_count": 27,
   "id": "45c3286d-4677-401f-8b53-fe3f78682498",
   "metadata": {},
   "outputs": [
    {
     "name": "stderr",
     "output_type": "stream",
     "text": [
      "2023-05-19 23:09:13,532 - INFO - cv map:0.43840608887530386 starthesi:0.4370840226844517 turn:0.7732802183685202 walking :0.10485402557293956\n"
     ]
    }
   ],
   "source": [
    "val_pred_index = (mask_array == 1) & (pred_use_array == 1)\n",
    "StartHesitation = average_precision_score(target_array[val_pred_index][:,0],\n",
    "                                                          y_oof[val_pred_index][:,0])\n",
    "Turn = average_precision_score(target_array[val_pred_index][:,1],\n",
    "                                                          y_oof[val_pred_index][:,1])\n",
    "Walking = average_precision_score(target_array[val_pred_index][:,2],\n",
    "                                                          y_oof[val_pred_index][:,2])\n",
    "\n",
    "map_score = np.mean([StartHesitation,\n",
    "                               Turn,\n",
    "                               Walking])\n",
    "LOGGER.info(f\"cv map:{map_score} starthesi:{StartHesitation} turn:{Turn} walking :{Walking}\")"
   ]
  },
  {
   "cell_type": "code",
   "execution_count": 28,
   "id": "4d51e84a-8acb-4eb6-a72d-755e6cc93158",
   "metadata": {},
   "outputs": [],
   "source": [
    "import json\n",
    "kaggle_json = {\n",
    "  \"title\": f\"fog-ex{ex}\",\n",
    "  \"id\": f\"takoihiraokazu/fog-ex{ex}\",\n",
    "  \"licenses\": [\n",
    "    {\n",
    "      \"name\": \"CC0-1.0\"\n",
    "    }\n",
    "  ]\n",
    "}\n",
    "\n",
    "with open(f\"../output/exp/ex{ex}/ex{ex}_model/dataset-metadata.json\", 'w') as f:\n",
    "    json.dump(kaggle_json, f)"
   ]
  },
  {
   "cell_type": "code",
   "execution_count": null,
   "id": "b144a2ae-07f8-45fe-906f-3e4fb1187f2f",
   "metadata": {},
   "outputs": [],
   "source": []
  },
  {
   "cell_type": "code",
   "execution_count": null,
   "id": "166fb677-12fa-47dd-922a-f6260c82faa8",
   "metadata": {},
   "outputs": [],
   "source": []
  }
 ],
 "metadata": {
  "kernelspec": {
   "display_name": "Python 3 (ipykernel)",
   "language": "python",
   "name": "python3"
  },
  "language_info": {
   "codemirror_mode": {
    "name": "ipython",
    "version": 3
   },
   "file_extension": ".py",
   "mimetype": "text/x-python",
   "name": "python",
   "nbconvert_exporter": "python",
   "pygments_lexer": "ipython3",
   "version": "3.7.12"
  }
 },
 "nbformat": 4,
 "nbformat_minor": 5
}
