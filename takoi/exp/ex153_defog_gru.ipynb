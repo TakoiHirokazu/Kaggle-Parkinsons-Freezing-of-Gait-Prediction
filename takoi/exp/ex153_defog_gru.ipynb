{
 "cells": [
  {
   "cell_type": "code",
   "execution_count": 1,
   "id": "84e685ef-6c3d-4e56-94e3-7e59591eb084",
   "metadata": {},
   "outputs": [],
   "source": [
    "# ==================\n",
    "# Library\n",
    "# ==================\n",
    "import warnings\n",
    "warnings.simplefilter('ignore')\n",
    "import math\n",
    "import pandas as pd\n",
    "import numpy as np\n",
    "import sys\n",
    "import time\n",
    "import datetime\n",
    "from contextlib import contextmanager\n",
    "import logging\n",
    "from tqdm import tqdm_notebook as tqdm\n",
    "import matplotlib.pyplot as plt\n",
    "from sklearn.metrics import roc_auc_score, accuracy_score, f1_score,average_precision_score\n",
    "from sklearn.model_selection import StratifiedKFold, KFold,GroupKFold,StratifiedGroupKFold\n",
    "import torch\n",
    "import torch.nn as nn\n",
    "from torch.nn import TransformerEncoder\n",
    "from torch.nn import TransformerDecoder\n",
    "from torch.nn import LayerNorm\n",
    "import torch.optim as optim\n",
    "from torch.utils.data import DataLoader, TensorDataset, Dataset\n",
    "from torch.optim import lr_scheduler\n",
    "from transformers import AdamW, get_linear_schedule_with_warmup\n",
    "import gc\n",
    "import random\n",
    "import os\n",
    "%matplotlib inline\n",
    "sys.path.append(\"../src/\")\n",
    "from logger import setup_logger, LOGGER\n",
    "from util_tool import reduce_mem_usage\n",
    "pd.set_option('display.max_columns', 300)"
   ]
  },
  {
   "cell_type": "code",
   "execution_count": 2,
   "id": "48f18d38-6121-4855-91b9-3e0f32f5b222",
   "metadata": {},
   "outputs": [],
   "source": [
    "# ===================\n",
    "# Settings\n",
    "# ===================\n",
    "debug = False\n",
    "ex = \"153\"\n",
    "if not os.path.exists(f\"../output/exp/ex{ex}\"):\n",
    "    os.makedirs(f\"../output/exp/ex{ex}\")\n",
    "    os.makedirs(f\"../output/exp/ex{ex}/ex{ex}_model\")\n",
    "logger_path = f\"../output/exp/ex{ex}/ex_{ex}.txt\"\n",
    "model_path =f\"../output/exp/ex{ex}/ex{ex}_model/ex{ex}.pth\"\n",
    "# config\n",
    "seed = 0\n",
    "shuffle = True\n",
    "n_splits = 5\n",
    "device = torch.device(\"cuda\" if torch.cuda.is_available() else \"cpu\")\n",
    "# model config\n",
    "batch_size = 24\n",
    "n_epochs = 15\n",
    "lr = 1e-3\n",
    "weight_decay = 0.05\n",
    "num_warmup_steps = 10"
   ]
  },
  {
   "cell_type": "code",
   "execution_count": 3,
   "id": "53f0a11b-7308-4faa-bf83-6b898677d885",
   "metadata": {},
   "outputs": [],
   "source": [
    "# =====================\n",
    "# data\n",
    "# =====================\n",
    "id_path = f\"../output/fe/fe047/fe047_id.parquet\"\n",
    "numerical_path = f\"../output/fe/fe047/fe047_num_array.npy\"\n",
    "target_path = f\"../output/fe/fe047/fe047_target_array.npy\"\n",
    "mask_path = f\"../output/fe/fe047/fe047_mask_array.npy\"\n",
    "valid_path = f\"../output/fe/fe047/fe047_valid_array.npy\"\n",
    "pred_use_path = f\"../output/fe/fe047/fe047_pred_use_array.npy\""
   ]
  },
  {
   "cell_type": "code",
   "execution_count": 4,
   "id": "423fc197-1ce2-4db3-b073-17edc1e4465d",
   "metadata": {},
   "outputs": [],
   "source": [
    "# ====================\n",
    "# Function\n",
    "# ====================\n",
    "def preprocess(numerical_array, \n",
    "               mask_array,\n",
    "               valid_array,\n",
    "               ):\n",
    "    \n",
    "    attention_mask = mask_array == 0\n",
    "\n",
    "    return {\n",
    "        'input_data_numerical_array': numerical_array,\n",
    "        'input_data_mask_array': mask_array,\n",
    "        'input_data_valid_array': valid_array,\n",
    "        'attention_mask': attention_mask,\n",
    "    }\n",
    "\n",
    "class FogDataset(Dataset):\n",
    "    def __init__(self, numerical_array, \n",
    "                 mask_array,valid_array,\n",
    "                 train = True, y = None):\n",
    "        self.numerical_array = numerical_array\n",
    "        self.mask_array = mask_array\n",
    "        self.valid_array = valid_array\n",
    "        self.train = train\n",
    "        self.y = y\n",
    "    \n",
    "    def __len__(self):\n",
    "        return len(self.numerical_array)\n",
    "\n",
    "    def __getitem__(self, item):\n",
    "        data = preprocess(\n",
    "            self.numerical_array[item],\n",
    "            self.mask_array[item],\n",
    "            self.valid_array[item], \n",
    "            \n",
    "        )\n",
    "\n",
    "        # Return the processed data where the lists are converted to `torch.tensor`s\n",
    "        if self.train : \n",
    "            return {\n",
    "              'input_data_numerical_array': torch.tensor(data['input_data_numerical_array'],dtype=torch.float32),\n",
    "              'input_data_mask_array':torch.tensor(data['input_data_mask_array'], dtype=torch.long),  \n",
    "              'input_data_valid_array':torch.tensor(data['input_data_valid_array'], dtype=torch.long),   \n",
    "              'attention_mask': torch.tensor(data[\"attention_mask\"], dtype=torch.bool),\n",
    "              \"y\":torch.tensor(self.y[item], dtype=torch.float32)\n",
    "               }\n",
    "        else:\n",
    "            return {\n",
    "             'input_data_numerical_array': torch.tensor(data['input_data_numerical_array'],dtype=torch.float32),\n",
    "              'input_data_mask_array':torch.tensor(data['input_data_mask_array'], dtype=torch.long),  \n",
    "              'input_data_valid_array':torch.tensor(data['input_data_valid_array'], dtype=torch.long),  \n",
    "              'attention_mask': torch.tensor(data[\"attention_mask\"], dtype=torch.bool),\n",
    "               }"
   ]
  },
  {
   "cell_type": "code",
   "execution_count": 13,
   "id": "1eac9c32-e65d-46e2-ba0c-f140e489e7fe",
   "metadata": {},
   "outputs": [],
   "source": [
    "class FogRnnModel(nn.Module):\n",
    "    def __init__(\n",
    "        self, dropout=0.2,\n",
    "        input_numerical_size=9,\n",
    "        numeraical_linear_size = 64,\n",
    "        model_size = 128,\n",
    "        linear_out = 128,\n",
    "        out_size=3):\n",
    "        super(FogRnnModel, self).__init__()\n",
    "        self.numerical_linear  = nn.Sequential(\n",
    "                nn.Linear(input_numerical_size, numeraical_linear_size),\n",
    "                nn.LayerNorm(numeraical_linear_size)\n",
    "            )\n",
    "        \n",
    "        self.rnn = nn.GRU(numeraical_linear_size, model_size,\n",
    "                            num_layers = 2, \n",
    "                            batch_first=True,\n",
    "                            bidirectional=True)\n",
    "        self.linear_out  = nn.Sequential(\n",
    "                nn.Linear(model_size*2, \n",
    "                          linear_out),\n",
    "                nn.LayerNorm(linear_out),\n",
    "                nn.ReLU(),\n",
    "                nn.Dropout(dropout),\n",
    "                nn.Linear(linear_out, \n",
    "                          out_size))\n",
    "        self._reinitialize()\n",
    "        \n",
    "    def _reinitialize(self):\n",
    "        \"\"\"\n",
    "        Tensorflow/Keras-like initialization\n",
    "        \"\"\"\n",
    "        for name, p in self.named_parameters():\n",
    "            if 'rnn' in name:\n",
    "                if 'weight_ih' in name:\n",
    "                    nn.init.xavier_uniform_(p.data)\n",
    "                elif 'weight_hh' in name:\n",
    "                    nn.init.orthogonal_(p.data)\n",
    "                elif 'bias_ih' in name:\n",
    "                    p.data.fill_(0)\n",
    "                    # Set forget-gate bias to 1\n",
    "                    n = p.size(0)\n",
    "                    p.data[(n // 4):(n // 2)].fill_(1)\n",
    "                elif 'bias_hh' in name:\n",
    "                    p.data.fill_(0)\n",
    "    \n",
    "    def forward(self, numerical_array,\n",
    "                mask_array,\n",
    "                attention_mask):\n",
    "        \n",
    "        numerical_embedding = self.numerical_linear(numerical_array)\n",
    "        output,_ = self.rnn(numerical_embedding)\n",
    "        output = self.linear_out(output)\n",
    "        return output\n",
    "    \n",
    "def set_seed(seed: int = 42):\n",
    "    random.seed(seed)\n",
    "    np.random.seed(seed)\n",
    "    os.environ[\"PYTHONHASHSEED\"] = str(seed)\n",
    "    torch.manual_seed(seed)\n",
    "    torch.cuda.manual_seed(seed)\n",
    "    torch.backends.cudnn.deterministic = True\n",
    "    torch.backends.cudnn.benchmark = False"
   ]
  },
  {
   "cell_type": "code",
   "execution_count": 6,
   "id": "97d7f8a5-3417-4604-81b7-d0587e98d90d",
   "metadata": {},
   "outputs": [
    {
     "name": "stderr",
     "output_type": "stream",
     "text": [
      "2023-05-22 05:20:09,287 - INFO - logger set up\n"
     ]
    },
    {
     "data": {
      "text/plain": [
       "<RootLogger root (DEBUG)>"
      ]
     },
     "execution_count": 6,
     "metadata": {},
     "output_type": "execute_result"
    }
   ],
   "source": [
    "@contextmanager\n",
    "def timer(name):\n",
    "    t0 = time.time()\n",
    "    yield \n",
    "    LOGGER.info(f'[{name}] done in {time.time() - t0:.0f} s')\n",
    "    \n",
    "setup_logger(out_file=logger_path)"
   ]
  },
  {
   "cell_type": "code",
   "execution_count": 7,
   "id": "d00ce8f5-0471-48cb-ad74-dc2c19ade72b",
   "metadata": {},
   "outputs": [],
   "source": [
    "# ====================\n",
    "# main\n",
    "# ====================\n",
    "df_id = pd.read_parquet(id_path)\n",
    "numerical_array = np.load(numerical_path)\n",
    "target_array = np.load(target_path)\n",
    "mask_array = np.load(mask_path)\n",
    "valid_array = np.load(valid_path)\n",
    "pred_use_array = np.load(pred_use_path)"
   ]
  },
  {
   "cell_type": "code",
   "execution_count": 8,
   "id": "36ae99ec-a44f-4756-951c-25d572aa075e",
   "metadata": {},
   "outputs": [],
   "source": [
    "target1 = []\n",
    "target2 = []\n",
    "target3 = []\n",
    "for i in range(len(target_array)):\n",
    "    target1.append(np.sum(target_array[i,:,0]))\n",
    "    target2.append(np.sum(target_array[i,:,1]))\n",
    "    target3.append(np.sum(target_array[i,:,2]))"
   ]
  },
  {
   "cell_type": "code",
   "execution_count": 9,
   "id": "cc321a46-20c7-4e4d-a292-dbba48745501",
   "metadata": {},
   "outputs": [],
   "source": [
    "df_id[\"target1\"] = target1\n",
    "df_id[\"target2\"] = target2\n",
    "df_id[\"target3\"] = target3\n",
    "df_id[\"target1_1\"] = df_id[\"target1\"] > 0\n",
    "df_id[\"target2_1\"] = df_id[\"target2\"] > 0\n",
    "df_id[\"target3_1\"] = df_id[\"target3\"] > 0\n",
    "df_id[\"target1_1\"] = df_id[\"target1_1\"].astype(np.int)\n",
    "df_id[\"target2_1\"] = df_id[\"target2_1\"].astype(np.int)\n",
    "df_id[\"target3_1\"] = df_id[\"target3_1\"].astype(np.int)"
   ]
  },
  {
   "cell_type": "code",
   "execution_count": 10,
   "id": "af515de7-e2c5-47a1-ab24-b02e32d5dc8b",
   "metadata": {},
   "outputs": [],
   "source": [
    "df_id[\"group\"] = 0\n",
    "df_id.loc[df_id[\"target1_1\"] > 0,\"group\"] = 1\n",
    "df_id.loc[df_id[\"target2_1\"] > 0,\"group\"] = 2\n",
    "df_id.loc[df_id[\"target3_1\"] > 0,\"group\"] = 3"
   ]
  },
  {
   "cell_type": "code",
   "execution_count": 11,
   "id": "3731614a-d535-4a39-b81f-9477ff1baad7",
   "metadata": {},
   "outputs": [
    {
     "data": {
      "text/plain": [
       "0    4107\n",
       "2     897\n",
       "3     354\n",
       "1      11\n",
       "Name: group, dtype: int64"
      ]
     },
     "execution_count": 11,
     "metadata": {},
     "output_type": "execute_result"
    }
   ],
   "source": [
    "df_id[\"group\"].value_counts()"
   ]
  },
  {
   "cell_type": "code",
   "execution_count": 14,
   "id": "0676e71c-483b-4b5b-8e0e-e2222b4506cc",
   "metadata": {},
   "outputs": [
    {
     "name": "stderr",
     "output_type": "stream",
     "text": [
      "2023-05-22 05:20:44,585 - INFO - start fold:0\n"
     ]
    },
    {
     "data": {
      "application/vnd.jupyter.widget-view+json": {
       "model_id": "649174576fc34f94bd3081f23632c803",
       "version_major": 2,
       "version_minor": 0
      },
      "text/plain": [
       "  0%|          | 0/174 [00:00<?, ?it/s]"
      ]
     },
     "metadata": {},
     "output_type": "display_data"
    },
    {
     "data": {
      "application/vnd.jupyter.widget-view+json": {
       "model_id": "545ae7f9ba15458d8a2a45a57789fdd5",
       "version_major": 2,
       "version_minor": 0
      },
      "text/plain": [
       "  0%|          | 0/50 [00:00<?, ?it/s]"
      ]
     },
     "metadata": {},
     "output_type": "display_data"
    },
    {
     "name": "stderr",
     "output_type": "stream",
     "text": [
      "2023-05-22 05:22:41,009 - INFO - fold:0 epoch : 0,train loss 0.19088990046460738 map:0.1803885044663047 starthesi:5.60603728822421e-05 turn:0.3533662634270503 walking :0.007410745505559098\n"
     ]
    },
    {
     "name": "stdout",
     "output_type": "stream",
     "text": [
      "save weight\n"
     ]
    },
    {
     "data": {
      "application/vnd.jupyter.widget-view+json": {
       "model_id": "9563c92b2f184c65b79cc56997589cd9",
       "version_major": 2,
       "version_minor": 0
      },
      "text/plain": [
       "  0%|          | 0/174 [00:00<?, ?it/s]"
      ]
     },
     "metadata": {},
     "output_type": "display_data"
    },
    {
     "data": {
      "application/vnd.jupyter.widget-view+json": {
       "model_id": "da1e8ee36a034df4844a843aaaa9cc03",
       "version_major": 2,
       "version_minor": 0
      },
      "text/plain": [
       "  0%|          | 0/50 [00:00<?, ?it/s]"
      ]
     },
     "metadata": {},
     "output_type": "display_data"
    },
    {
     "name": "stderr",
     "output_type": "stream",
     "text": [
      "2023-05-22 05:24:31,466 - INFO - fold:0 epoch : 1,train loss 0.13747009797685447 map:0.1761043274541403 starthesi:3.7872829931479544e-05 turn:0.34352214211247506 walking :0.00868651279580555\n"
     ]
    },
    {
     "data": {
      "application/vnd.jupyter.widget-view+json": {
       "model_id": "b7cfb168a9824728956c80133e403e78",
       "version_major": 2,
       "version_minor": 0
      },
      "text/plain": [
       "  0%|          | 0/174 [00:00<?, ?it/s]"
      ]
     },
     "metadata": {},
     "output_type": "display_data"
    },
    {
     "data": {
      "application/vnd.jupyter.widget-view+json": {
       "model_id": "a6922dacc71342ad863b52310b0d9bd9",
       "version_major": 2,
       "version_minor": 0
      },
      "text/plain": [
       "  0%|          | 0/50 [00:00<?, ?it/s]"
      ]
     },
     "metadata": {},
     "output_type": "display_data"
    },
    {
     "name": "stderr",
     "output_type": "stream",
     "text": [
      "2023-05-22 05:26:21,800 - INFO - fold:0 epoch : 2,train loss 0.11957581955725434 map:0.18888555488211944 starthesi:3.760025945716923e-05 turn:0.36373584748029686 walking :0.014035262283942048\n"
     ]
    },
    {
     "name": "stdout",
     "output_type": "stream",
     "text": [
      "save weight\n"
     ]
    },
    {
     "data": {
      "application/vnd.jupyter.widget-view+json": {
       "model_id": "8380edab0c3b45f5ac2739454e5cb2c7",
       "version_major": 2,
       "version_minor": 0
      },
      "text/plain": [
       "  0%|          | 0/174 [00:00<?, ?it/s]"
      ]
     },
     "metadata": {},
     "output_type": "display_data"
    },
    {
     "data": {
      "application/vnd.jupyter.widget-view+json": {
       "model_id": "e1ba8aec5d444ce9b65ab448cb363dcd",
       "version_major": 2,
       "version_minor": 0
      },
      "text/plain": [
       "  0%|          | 0/50 [00:00<?, ?it/s]"
      ]
     },
     "metadata": {},
     "output_type": "display_data"
    },
    {
     "name": "stderr",
     "output_type": "stream",
     "text": [
      "2023-05-22 05:28:11,600 - INFO - fold:0 epoch : 3,train loss 0.10917827970851426 map:0.1907994991483775 starthesi:3.748106675670401e-05 turn:0.3572165532084784 walking :0.024382445088276573\n"
     ]
    },
    {
     "name": "stdout",
     "output_type": "stream",
     "text": [
      "save weight\n"
     ]
    },
    {
     "data": {
      "application/vnd.jupyter.widget-view+json": {
       "model_id": "62530ed6e9c3414a8ceeb190a07cae2f",
       "version_major": 2,
       "version_minor": 0
      },
      "text/plain": [
       "  0%|          | 0/174 [00:00<?, ?it/s]"
      ]
     },
     "metadata": {},
     "output_type": "display_data"
    },
    {
     "data": {
      "application/vnd.jupyter.widget-view+json": {
       "model_id": "913ad74d8e384a3792eb8d552d3ab52b",
       "version_major": 2,
       "version_minor": 0
      },
      "text/plain": [
       "  0%|          | 0/50 [00:00<?, ?it/s]"
      ]
     },
     "metadata": {},
     "output_type": "display_data"
    },
    {
     "name": "stderr",
     "output_type": "stream",
     "text": [
      "2023-05-22 05:29:58,435 - INFO - fold:0 epoch : 4,train loss 0.09721441623679865 map:0.2219381628806481 starthesi:3.708694284638523e-05 turn:0.3976488694859437 walking :0.04622745627535253\n"
     ]
    },
    {
     "name": "stdout",
     "output_type": "stream",
     "text": [
      "save weight\n"
     ]
    },
    {
     "data": {
      "application/vnd.jupyter.widget-view+json": {
       "model_id": "33766dc5c86e4a69a29943b5c387ef85",
       "version_major": 2,
       "version_minor": 0
      },
      "text/plain": [
       "  0%|          | 0/174 [00:00<?, ?it/s]"
      ]
     },
     "metadata": {},
     "output_type": "display_data"
    },
    {
     "data": {
      "application/vnd.jupyter.widget-view+json": {
       "model_id": "d29d4b0f9a3d4fd990f27900d616e145",
       "version_major": 2,
       "version_minor": 0
      },
      "text/plain": [
       "  0%|          | 0/50 [00:00<?, ?it/s]"
      ]
     },
     "metadata": {},
     "output_type": "display_data"
    },
    {
     "name": "stderr",
     "output_type": "stream",
     "text": [
      "2023-05-22 05:31:49,166 - INFO - fold:0 epoch : 5,train loss 0.08555305092970188 map:0.22564263107595528 starthesi:3.771451243334222e-05 turn:0.3868390791382804 walking :0.06444618301363012\n"
     ]
    },
    {
     "name": "stdout",
     "output_type": "stream",
     "text": [
      "save weight\n"
     ]
    },
    {
     "data": {
      "application/vnd.jupyter.widget-view+json": {
       "model_id": "139d8778ed7549cfaab8348a8eec54d8",
       "version_major": 2,
       "version_minor": 0
      },
      "text/plain": [
       "  0%|          | 0/174 [00:00<?, ?it/s]"
      ]
     },
     "metadata": {},
     "output_type": "display_data"
    },
    {
     "data": {
      "application/vnd.jupyter.widget-view+json": {
       "model_id": "f8a169824097403b89d3fedbd0978b71",
       "version_major": 2,
       "version_minor": 0
      },
      "text/plain": [
       "  0%|          | 0/50 [00:00<?, ?it/s]"
      ]
     },
     "metadata": {},
     "output_type": "display_data"
    },
    {
     "name": "stderr",
     "output_type": "stream",
     "text": [
      "2023-05-22 05:33:39,665 - INFO - fold:0 epoch : 6,train loss 0.08327027863351864 map:0.20900751476748042 starthesi:4.247223577184872e-05 turn:0.3857156000596267 walking :0.032299429475334165\n"
     ]
    },
    {
     "data": {
      "application/vnd.jupyter.widget-view+json": {
       "model_id": "664d06e8c6d1495aa6aa74071e5d9662",
       "version_major": 2,
       "version_minor": 0
      },
      "text/plain": [
       "  0%|          | 0/174 [00:00<?, ?it/s]"
      ]
     },
     "metadata": {},
     "output_type": "display_data"
    },
    {
     "data": {
      "application/vnd.jupyter.widget-view+json": {
       "model_id": "85081fb91dd04bc3b7a26fb174b70dee",
       "version_major": 2,
       "version_minor": 0
      },
      "text/plain": [
       "  0%|          | 0/50 [00:00<?, ?it/s]"
      ]
     },
     "metadata": {},
     "output_type": "display_data"
    },
    {
     "name": "stderr",
     "output_type": "stream",
     "text": [
      "2023-05-22 05:35:31,033 - INFO - fold:0 epoch : 7,train loss 0.07454338629098459 map:0.2509471151799371 starthesi:4.0115904356862534e-05 turn:0.43211258964269533 walking :0.06978164071717888\n"
     ]
    },
    {
     "name": "stdout",
     "output_type": "stream",
     "text": [
      "save weight\n"
     ]
    },
    {
     "data": {
      "application/vnd.jupyter.widget-view+json": {
       "model_id": "2df051de620140e494a69abfc95a26ec",
       "version_major": 2,
       "version_minor": 0
      },
      "text/plain": [
       "  0%|          | 0/174 [00:00<?, ?it/s]"
      ]
     },
     "metadata": {},
     "output_type": "display_data"
    },
    {
     "data": {
      "application/vnd.jupyter.widget-view+json": {
       "model_id": "ecece204709347388a4ee6e7a125b00f",
       "version_major": 2,
       "version_minor": 0
      },
      "text/plain": [
       "  0%|          | 0/50 [00:00<?, ?it/s]"
      ]
     },
     "metadata": {},
     "output_type": "display_data"
    },
    {
     "name": "stderr",
     "output_type": "stream",
     "text": [
      "2023-05-22 05:37:22,537 - INFO - fold:0 epoch : 8,train loss 0.06814318494978307 map:0.23565547511103602 starthesi:3.82628676140643e-05 turn:0.4150244899220229 walking :0.056286460300049135\n"
     ]
    },
    {
     "data": {
      "application/vnd.jupyter.widget-view+json": {
       "model_id": "87015abccdb440e5a5ea97d807c935ee",
       "version_major": 2,
       "version_minor": 0
      },
      "text/plain": [
       "  0%|          | 0/174 [00:00<?, ?it/s]"
      ]
     },
     "metadata": {},
     "output_type": "display_data"
    },
    {
     "data": {
      "application/vnd.jupyter.widget-view+json": {
       "model_id": "e0d92ad92258482cb814afd678739922",
       "version_major": 2,
       "version_minor": 0
      },
      "text/plain": [
       "  0%|          | 0/50 [00:00<?, ?it/s]"
      ]
     },
     "metadata": {},
     "output_type": "display_data"
    },
    {
     "name": "stderr",
     "output_type": "stream",
     "text": [
      "2023-05-22 05:39:12,676 - INFO - fold:0 epoch : 9,train loss 0.06562290417736974 map:0.2612318347389203 starthesi:3.842239709874229e-05 turn:0.43158923071582894 walking :0.09087443876201164\n"
     ]
    },
    {
     "name": "stdout",
     "output_type": "stream",
     "text": [
      "save weight\n"
     ]
    },
    {
     "data": {
      "application/vnd.jupyter.widget-view+json": {
       "model_id": "f8384e68baa44249b95c84465b5c2587",
       "version_major": 2,
       "version_minor": 0
      },
      "text/plain": [
       "  0%|          | 0/174 [00:00<?, ?it/s]"
      ]
     },
     "metadata": {},
     "output_type": "display_data"
    },
    {
     "data": {
      "application/vnd.jupyter.widget-view+json": {
       "model_id": "51096f1499334ca8bf149ffb44019ee6",
       "version_major": 2,
       "version_minor": 0
      },
      "text/plain": [
       "  0%|          | 0/50 [00:00<?, ?it/s]"
      ]
     },
     "metadata": {},
     "output_type": "display_data"
    },
    {
     "name": "stderr",
     "output_type": "stream",
     "text": [
      "2023-05-22 05:40:59,117 - INFO - fold:0 epoch : 10,train loss 0.05920456001941843 map:0.2539012028408272 starthesi:4.0324874352679054e-05 turn:0.43190134158276844 walking :0.07590106409888595\n"
     ]
    },
    {
     "data": {
      "application/vnd.jupyter.widget-view+json": {
       "model_id": "6967eae3c70c4e91a7d13cad9dc92a13",
       "version_major": 2,
       "version_minor": 0
      },
      "text/plain": [
       "  0%|          | 0/174 [00:00<?, ?it/s]"
      ]
     },
     "metadata": {},
     "output_type": "display_data"
    },
    {
     "data": {
      "application/vnd.jupyter.widget-view+json": {
       "model_id": "c44bd40791394fd98453315a199a007e",
       "version_major": 2,
       "version_minor": 0
      },
      "text/plain": [
       "  0%|          | 0/50 [00:00<?, ?it/s]"
      ]
     },
     "metadata": {},
     "output_type": "display_data"
    },
    {
     "name": "stderr",
     "output_type": "stream",
     "text": [
      "2023-05-22 05:42:50,030 - INFO - fold:0 epoch : 11,train loss 0.054788918828527475 map:0.24856129491313472 starthesi:4.135849880249322e-05 turn:0.42878586023512055 walking :0.06833672959114888\n"
     ]
    },
    {
     "data": {
      "application/vnd.jupyter.widget-view+json": {
       "model_id": "3e631649e0084d15a26a01f132dd62fc",
       "version_major": 2,
       "version_minor": 0
      },
      "text/plain": [
       "  0%|          | 0/174 [00:00<?, ?it/s]"
      ]
     },
     "metadata": {},
     "output_type": "display_data"
    },
    {
     "data": {
      "application/vnd.jupyter.widget-view+json": {
       "model_id": "98c382d27b514e0fbf54be6434fe6fe6",
       "version_major": 2,
       "version_minor": 0
      },
      "text/plain": [
       "  0%|          | 0/50 [00:00<?, ?it/s]"
      ]
     },
     "metadata": {},
     "output_type": "display_data"
    },
    {
     "name": "stderr",
     "output_type": "stream",
     "text": [
      "2023-05-22 05:44:40,640 - INFO - fold:0 epoch : 12,train loss 0.05065958376374395 map:0.23887885501827683 starthesi:4.3777111770413127e-05 turn:0.4039668958534174 walking :0.07379081418313627\n"
     ]
    },
    {
     "data": {
      "application/vnd.jupyter.widget-view+json": {
       "model_id": "1c542c8ebb2c4ca7905b14c7e536a21a",
       "version_major": 2,
       "version_minor": 0
      },
      "text/plain": [
       "  0%|          | 0/174 [00:00<?, ?it/s]"
      ]
     },
     "metadata": {},
     "output_type": "display_data"
    },
    {
     "data": {
      "application/vnd.jupyter.widget-view+json": {
       "model_id": "a90fe05759fb450b90451e83e59ef0bc",
       "version_major": 2,
       "version_minor": 0
      },
      "text/plain": [
       "  0%|          | 0/50 [00:00<?, ?it/s]"
      ]
     },
     "metadata": {},
     "output_type": "display_data"
    },
    {
     "name": "stderr",
     "output_type": "stream",
     "text": [
      "2023-05-22 05:46:32,021 - INFO - fold:0 epoch : 13,train loss 0.04774531188164035 map:0.2351885262947644 starthesi:5.044416692406288e-05 turn:0.4000118860123167 walking :0.07036516657721209\n"
     ]
    },
    {
     "data": {
      "application/vnd.jupyter.widget-view+json": {
       "model_id": "ec65a98adce44fdabd49c5f055fc93bc",
       "version_major": 2,
       "version_minor": 0
      },
      "text/plain": [
       "  0%|          | 0/174 [00:00<?, ?it/s]"
      ]
     },
     "metadata": {},
     "output_type": "display_data"
    },
    {
     "data": {
      "application/vnd.jupyter.widget-view+json": {
       "model_id": "46735c7467424d8b893f8b13aaabc73e",
       "version_major": 2,
       "version_minor": 0
      },
      "text/plain": [
       "  0%|          | 0/50 [00:00<?, ?it/s]"
      ]
     },
     "metadata": {},
     "output_type": "display_data"
    },
    {
     "name": "stderr",
     "output_type": "stream",
     "text": [
      "2023-05-22 05:48:22,711 - INFO - fold:0 epoch : 14,train loss 0.04543388820114149 map:0.23435749049428672 starthesi:5.064085722622435e-05 turn:0.397796330903826 walking :0.07091865008474744\n",
      "2023-05-22 05:48:22,759 - INFO - [fold 0] done in 1658 s\n",
      "2023-05-22 05:48:22,761 - INFO - start fold:1\n"
     ]
    },
    {
     "data": {
      "application/vnd.jupyter.widget-view+json": {
       "model_id": "60e1c22747e14db8a4bc28ab67a7d1e4",
       "version_major": 2,
       "version_minor": 0
      },
      "text/plain": [
       "  0%|          | 0/165 [00:00<?, ?it/s]"
      ]
     },
     "metadata": {},
     "output_type": "display_data"
    },
    {
     "data": {
      "application/vnd.jupyter.widget-view+json": {
       "model_id": "a8e70dc62dc14a11818d7277e27e19b3",
       "version_major": 2,
       "version_minor": 0
      },
      "text/plain": [
       "  0%|          | 0/59 [00:00<?, ?it/s]"
      ]
     },
     "metadata": {},
     "output_type": "display_data"
    },
    {
     "name": "stderr",
     "output_type": "stream",
     "text": [
      "2023-05-22 05:50:10,857 - INFO - fold:1 epoch : 0,train loss 0.189709435403347 map:0.2720336541703546 starthesi:0.00013514770088516134 turn:0.5321773878490338 walking :0.0118899204916754\n"
     ]
    },
    {
     "name": "stdout",
     "output_type": "stream",
     "text": [
      "save weight\n"
     ]
    },
    {
     "data": {
      "application/vnd.jupyter.widget-view+json": {
       "model_id": "2a60ad85415e445f92a8f27e700c7544",
       "version_major": 2,
       "version_minor": 0
      },
      "text/plain": [
       "  0%|          | 0/165 [00:00<?, ?it/s]"
      ]
     },
     "metadata": {},
     "output_type": "display_data"
    },
    {
     "data": {
      "application/vnd.jupyter.widget-view+json": {
       "model_id": "f458201563ca47cd812ad53507dab903",
       "version_major": 2,
       "version_minor": 0
      },
      "text/plain": [
       "  0%|          | 0/59 [00:00<?, ?it/s]"
      ]
     },
     "metadata": {},
     "output_type": "display_data"
    },
    {
     "name": "stderr",
     "output_type": "stream",
     "text": [
      "2023-05-22 05:51:56,092 - INFO - fold:1 epoch : 1,train loss 0.1341227791977651 map:0.28784325268233607 starthesi:0.0001323891727917433 turn:0.5486323982412221 walking :0.02705410712345007\n"
     ]
    },
    {
     "name": "stdout",
     "output_type": "stream",
     "text": [
      "save weight\n"
     ]
    },
    {
     "data": {
      "application/vnd.jupyter.widget-view+json": {
       "model_id": "e5a535496bbc44c68e4420d74e265b47",
       "version_major": 2,
       "version_minor": 0
      },
      "text/plain": [
       "  0%|          | 0/165 [00:00<?, ?it/s]"
      ]
     },
     "metadata": {},
     "output_type": "display_data"
    },
    {
     "data": {
      "application/vnd.jupyter.widget-view+json": {
       "model_id": "254d588e3c4c430ab0c798b81bb66108",
       "version_major": 2,
       "version_minor": 0
      },
      "text/plain": [
       "  0%|          | 0/59 [00:00<?, ?it/s]"
      ]
     },
     "metadata": {},
     "output_type": "display_data"
    },
    {
     "name": "stderr",
     "output_type": "stream",
     "text": [
      "2023-05-22 05:53:44,659 - INFO - fold:1 epoch : 2,train loss 0.11340704818792416 map:0.32075427844484594 starthesi:0.00010613613317841774 turn:0.5956935224869878 walking :0.04581503440270411\n"
     ]
    },
    {
     "name": "stdout",
     "output_type": "stream",
     "text": [
      "save weight\n"
     ]
    },
    {
     "data": {
      "application/vnd.jupyter.widget-view+json": {
       "model_id": "ec26a7f908dd492388e1999ad78dc148",
       "version_major": 2,
       "version_minor": 0
      },
      "text/plain": [
       "  0%|          | 0/165 [00:00<?, ?it/s]"
      ]
     },
     "metadata": {},
     "output_type": "display_data"
    },
    {
     "data": {
      "application/vnd.jupyter.widget-view+json": {
       "model_id": "d08ce8ef62f447368539e8eb92fe1f7d",
       "version_major": 2,
       "version_minor": 0
      },
      "text/plain": [
       "  0%|          | 0/59 [00:00<?, ?it/s]"
      ]
     },
     "metadata": {},
     "output_type": "display_data"
    },
    {
     "name": "stderr",
     "output_type": "stream",
     "text": [
      "2023-05-22 05:55:33,010 - INFO - fold:1 epoch : 3,train loss 0.10058256305302635 map:0.3365497318280308 starthesi:0.00011487907768672664 turn:0.6095007119102219 walking :0.06359875174583965\n"
     ]
    },
    {
     "name": "stdout",
     "output_type": "stream",
     "text": [
      "save weight\n"
     ]
    },
    {
     "data": {
      "application/vnd.jupyter.widget-view+json": {
       "model_id": "de8c3288fb5743ea9f9abfa42957ac75",
       "version_major": 2,
       "version_minor": 0
      },
      "text/plain": [
       "  0%|          | 0/165 [00:00<?, ?it/s]"
      ]
     },
     "metadata": {},
     "output_type": "display_data"
    },
    {
     "data": {
      "application/vnd.jupyter.widget-view+json": {
       "model_id": "640d70bcdaa84aaebe2aa83cf25647c2",
       "version_major": 2,
       "version_minor": 0
      },
      "text/plain": [
       "  0%|          | 0/59 [00:00<?, ?it/s]"
      ]
     },
     "metadata": {},
     "output_type": "display_data"
    },
    {
     "name": "stderr",
     "output_type": "stream",
     "text": [
      "2023-05-22 05:57:21,371 - INFO - fold:1 epoch : 4,train loss 0.09391073949183479 map:0.3611458841017918 starthesi:0.00018146932508554336 turn:0.6242363929295188 walking :0.09805537527406485\n"
     ]
    },
    {
     "name": "stdout",
     "output_type": "stream",
     "text": [
      "save weight\n"
     ]
    },
    {
     "data": {
      "application/vnd.jupyter.widget-view+json": {
       "model_id": "a4ffee78649b4083912ae1b4b8e33bd0",
       "version_major": 2,
       "version_minor": 0
      },
      "text/plain": [
       "  0%|          | 0/165 [00:00<?, ?it/s]"
      ]
     },
     "metadata": {},
     "output_type": "display_data"
    },
    {
     "data": {
      "application/vnd.jupyter.widget-view+json": {
       "model_id": "941e278a55c34978aff6c1dd2726f715",
       "version_major": 2,
       "version_minor": 0
      },
      "text/plain": [
       "  0%|          | 0/59 [00:00<?, ?it/s]"
      ]
     },
     "metadata": {},
     "output_type": "display_data"
    },
    {
     "name": "stderr",
     "output_type": "stream",
     "text": [
      "2023-05-22 05:59:07,787 - INFO - fold:1 epoch : 5,train loss 0.08777721369018157 map:0.3371484534027331 starthesi:0.0002177920602961408 turn:0.5925238772825254 walking :0.08177302952294078\n"
     ]
    },
    {
     "data": {
      "application/vnd.jupyter.widget-view+json": {
       "model_id": "4ab7088b7bb846aebe733ae02fd923a9",
       "version_major": 2,
       "version_minor": 0
      },
      "text/plain": [
       "  0%|          | 0/165 [00:00<?, ?it/s]"
      ]
     },
     "metadata": {},
     "output_type": "display_data"
    },
    {
     "data": {
      "application/vnd.jupyter.widget-view+json": {
       "model_id": "bdd4e4f7b7374f7e9cdb229a3710c240",
       "version_major": 2,
       "version_minor": 0
      },
      "text/plain": [
       "  0%|          | 0/59 [00:00<?, ?it/s]"
      ]
     },
     "metadata": {},
     "output_type": "display_data"
    },
    {
     "name": "stderr",
     "output_type": "stream",
     "text": [
      "2023-05-22 06:00:53,793 - INFO - fold:1 epoch : 6,train loss 0.08079892939916163 map:0.3630713828530132 starthesi:0.0002748762835300448 turn:0.597370413843324 walking :0.1287723518627024\n"
     ]
    },
    {
     "name": "stdout",
     "output_type": "stream",
     "text": [
      "save weight\n"
     ]
    },
    {
     "data": {
      "application/vnd.jupyter.widget-view+json": {
       "model_id": "f5c1d1648c734e92a8cabbea0eb003d5",
       "version_major": 2,
       "version_minor": 0
      },
      "text/plain": [
       "  0%|          | 0/165 [00:00<?, ?it/s]"
      ]
     },
     "metadata": {},
     "output_type": "display_data"
    },
    {
     "data": {
      "application/vnd.jupyter.widget-view+json": {
       "model_id": "c68b62a7583a45bd90973a48db30c9ec",
       "version_major": 2,
       "version_minor": 0
      },
      "text/plain": [
       "  0%|          | 0/59 [00:00<?, ?it/s]"
      ]
     },
     "metadata": {},
     "output_type": "display_data"
    },
    {
     "name": "stderr",
     "output_type": "stream",
     "text": [
      "2023-05-22 06:02:42,856 - INFO - fold:1 epoch : 7,train loss 0.07538969751560327 map:0.3413081437277542 starthesi:0.0003216418753883943 turn:0.6081073876719223 walking :0.0745088997835861\n"
     ]
    },
    {
     "data": {
      "application/vnd.jupyter.widget-view+json": {
       "model_id": "20b50bf7bd4942f48f081500942bce6f",
       "version_major": 2,
       "version_minor": 0
      },
      "text/plain": [
       "  0%|          | 0/165 [00:00<?, ?it/s]"
      ]
     },
     "metadata": {},
     "output_type": "display_data"
    },
    {
     "data": {
      "application/vnd.jupyter.widget-view+json": {
       "model_id": "c7a9bae2a1da4bb2b700ff894260435e",
       "version_major": 2,
       "version_minor": 0
      },
      "text/plain": [
       "  0%|          | 0/59 [00:00<?, ?it/s]"
      ]
     },
     "metadata": {},
     "output_type": "display_data"
    },
    {
     "name": "stderr",
     "output_type": "stream",
     "text": [
      "2023-05-22 06:04:31,528 - INFO - fold:1 epoch : 8,train loss 0.06796360806646672 map:0.358261327046682 starthesi:0.0006093656470846718 turn:0.6145659685349509 walking :0.10195668555841311\n"
     ]
    },
    {
     "data": {
      "application/vnd.jupyter.widget-view+json": {
       "model_id": "6f145c8ece764cd5a33613a21550625a",
       "version_major": 2,
       "version_minor": 0
      },
      "text/plain": [
       "  0%|          | 0/165 [00:00<?, ?it/s]"
      ]
     },
     "metadata": {},
     "output_type": "display_data"
    },
    {
     "data": {
      "application/vnd.jupyter.widget-view+json": {
       "model_id": "02e90e8d0d7a405e8e623a621d37f4e3",
       "version_major": 2,
       "version_minor": 0
      },
      "text/plain": [
       "  0%|          | 0/59 [00:00<?, ?it/s]"
      ]
     },
     "metadata": {},
     "output_type": "display_data"
    },
    {
     "name": "stderr",
     "output_type": "stream",
     "text": [
      "2023-05-22 06:06:19,921 - INFO - fold:1 epoch : 9,train loss 0.06488710589932672 map:0.34213107616253424 starthesi:0.0005868801318709542 turn:0.6111291828872886 walking :0.0731329694377799\n"
     ]
    },
    {
     "data": {
      "application/vnd.jupyter.widget-view+json": {
       "model_id": "eae64c38d1f64b9ca86caf99e8a0e264",
       "version_major": 2,
       "version_minor": 0
      },
      "text/plain": [
       "  0%|          | 0/165 [00:00<?, ?it/s]"
      ]
     },
     "metadata": {},
     "output_type": "display_data"
    },
    {
     "data": {
      "application/vnd.jupyter.widget-view+json": {
       "model_id": "6c651314f18747158777989f4160d84e",
       "version_major": 2,
       "version_minor": 0
      },
      "text/plain": [
       "  0%|          | 0/59 [00:00<?, ?it/s]"
      ]
     },
     "metadata": {},
     "output_type": "display_data"
    },
    {
     "name": "stderr",
     "output_type": "stream",
     "text": [
      "2023-05-22 06:08:06,101 - INFO - fold:1 epoch : 10,train loss 0.058668483505872164 map:0.35595502787025624 starthesi:0.0008604612571995037 turn:0.5908603941631678 walking :0.12104966157734459\n"
     ]
    },
    {
     "data": {
      "application/vnd.jupyter.widget-view+json": {
       "model_id": "96aef68020744f28bf4fbacb26c806a8",
       "version_major": 2,
       "version_minor": 0
      },
      "text/plain": [
       "  0%|          | 0/165 [00:00<?, ?it/s]"
      ]
     },
     "metadata": {},
     "output_type": "display_data"
    },
    {
     "data": {
      "application/vnd.jupyter.widget-view+json": {
       "model_id": "55b887191922414fb8dd3da8d321aff5",
       "version_major": 2,
       "version_minor": 0
      },
      "text/plain": [
       "  0%|          | 0/59 [00:00<?, ?it/s]"
      ]
     },
     "metadata": {},
     "output_type": "display_data"
    },
    {
     "name": "stderr",
     "output_type": "stream",
     "text": [
      "2023-05-22 06:09:52,746 - INFO - fold:1 epoch : 11,train loss 0.05360485544484673 map:0.3596742789358049 starthesi:0.0006145840187302261 turn:0.6024454952477174 walking :0.11690306262389243\n"
     ]
    },
    {
     "data": {
      "application/vnd.jupyter.widget-view+json": {
       "model_id": "6d027e3dad624fb1adebe20e30f47d49",
       "version_major": 2,
       "version_minor": 0
      },
      "text/plain": [
       "  0%|          | 0/165 [00:00<?, ?it/s]"
      ]
     },
     "metadata": {},
     "output_type": "display_data"
    },
    {
     "data": {
      "application/vnd.jupyter.widget-view+json": {
       "model_id": "aa13055108b244f2a3f664e579c79c47",
       "version_major": 2,
       "version_minor": 0
      },
      "text/plain": [
       "  0%|          | 0/59 [00:00<?, ?it/s]"
      ]
     },
     "metadata": {},
     "output_type": "display_data"
    },
    {
     "name": "stderr",
     "output_type": "stream",
     "text": [
      "2023-05-22 06:11:41,492 - INFO - fold:1 epoch : 12,train loss 0.050219075314023275 map:0.3525236786949632 starthesi:0.0006403444140941695 turn:0.616772543090689 walking :0.08827481429923749\n"
     ]
    },
    {
     "data": {
      "application/vnd.jupyter.widget-view+json": {
       "model_id": "4c4f6cc86a9c4203a3d4f264f1142549",
       "version_major": 2,
       "version_minor": 0
      },
      "text/plain": [
       "  0%|          | 0/165 [00:00<?, ?it/s]"
      ]
     },
     "metadata": {},
     "output_type": "display_data"
    },
    {
     "data": {
      "application/vnd.jupyter.widget-view+json": {
       "model_id": "5299855051074fde8202d5c38c84f6ed",
       "version_major": 2,
       "version_minor": 0
      },
      "text/plain": [
       "  0%|          | 0/59 [00:00<?, ?it/s]"
      ]
     },
     "metadata": {},
     "output_type": "display_data"
    },
    {
     "name": "stderr",
     "output_type": "stream",
     "text": [
      "2023-05-22 06:13:29,941 - INFO - fold:1 epoch : 13,train loss 0.046935117357608046 map:0.34808384299726725 starthesi:0.0012036469740849386 turn:0.5957486579993491 walking :0.10041902799518537\n"
     ]
    },
    {
     "data": {
      "application/vnd.jupyter.widget-view+json": {
       "model_id": "e102a1cd801f44bbb9a6ce5183658315",
       "version_major": 2,
       "version_minor": 0
      },
      "text/plain": [
       "  0%|          | 0/165 [00:00<?, ?it/s]"
      ]
     },
     "metadata": {},
     "output_type": "display_data"
    },
    {
     "data": {
      "application/vnd.jupyter.widget-view+json": {
       "model_id": "d60a1027c76942a3bbaf9f667b1ae1a3",
       "version_major": 2,
       "version_minor": 0
      },
      "text/plain": [
       "  0%|          | 0/59 [00:00<?, ?it/s]"
      ]
     },
     "metadata": {},
     "output_type": "display_data"
    },
    {
     "name": "stderr",
     "output_type": "stream",
     "text": [
      "2023-05-22 06:15:18,042 - INFO - fold:1 epoch : 14,train loss 0.04438672078434717 map:0.34361480612411754 starthesi:0.0008062460724621384 turn:0.5934588396060811 walking :0.09377077264215392\n",
      "2023-05-22 06:15:18,094 - INFO - [fold 1] done in 1615 s\n",
      "2023-05-22 06:15:18,097 - INFO - start fold:2\n"
     ]
    },
    {
     "data": {
      "application/vnd.jupyter.widget-view+json": {
       "model_id": "02daf2aaf3b845008f00085b01003612",
       "version_major": 2,
       "version_minor": 0
      },
      "text/plain": [
       "  0%|          | 0/194 [00:00<?, ?it/s]"
      ]
     },
     "metadata": {},
     "output_type": "display_data"
    },
    {
     "data": {
      "application/vnd.jupyter.widget-view+json": {
       "model_id": "496b8cce739b4bcabf91a7612d8b2130",
       "version_major": 2,
       "version_minor": 0
      },
      "text/plain": [
       "  0%|          | 0/31 [00:00<?, ?it/s]"
      ]
     },
     "metadata": {},
     "output_type": "display_data"
    },
    {
     "name": "stderr",
     "output_type": "stream",
     "text": [
      "2023-05-22 06:17:15,079 - INFO - fold:2 epoch : 0,train loss 0.18054805442537228 map:0.2436995095633369 starthesi:0.00018680360407455324 turn:0.45472893146883697 walking :0.03267008765783683\n"
     ]
    },
    {
     "name": "stdout",
     "output_type": "stream",
     "text": [
      "save weight\n"
     ]
    },
    {
     "data": {
      "application/vnd.jupyter.widget-view+json": {
       "model_id": "6fa8cde740364d8bb72eb1d26f2c3584",
       "version_major": 2,
       "version_minor": 0
      },
      "text/plain": [
       "  0%|          | 0/194 [00:00<?, ?it/s]"
      ]
     },
     "metadata": {},
     "output_type": "display_data"
    },
    {
     "data": {
      "application/vnd.jupyter.widget-view+json": {
       "model_id": "a2992a8c623a4ad9a2c5ddcef39c8699",
       "version_major": 2,
       "version_minor": 0
      },
      "text/plain": [
       "  0%|          | 0/31 [00:00<?, ?it/s]"
      ]
     },
     "metadata": {},
     "output_type": "display_data"
    },
    {
     "name": "stderr",
     "output_type": "stream",
     "text": [
      "2023-05-22 06:19:09,483 - INFO - fold:2 epoch : 1,train loss 0.12810427480444467 map:0.32322889949110384 starthesi:0.00013598264260643962 turn:0.4935949533514298 walking :0.15286284563077793\n"
     ]
    },
    {
     "name": "stdout",
     "output_type": "stream",
     "text": [
      "save weight\n"
     ]
    },
    {
     "data": {
      "application/vnd.jupyter.widget-view+json": {
       "model_id": "29113fa778d3407fafbed66ca83b0e2e",
       "version_major": 2,
       "version_minor": 0
      },
      "text/plain": [
       "  0%|          | 0/194 [00:00<?, ?it/s]"
      ]
     },
     "metadata": {},
     "output_type": "display_data"
    },
    {
     "data": {
      "application/vnd.jupyter.widget-view+json": {
       "model_id": "30c8c063c4c0452c930fb37e0238e5b1",
       "version_major": 2,
       "version_minor": 0
      },
      "text/plain": [
       "  0%|          | 0/31 [00:00<?, ?it/s]"
      ]
     },
     "metadata": {},
     "output_type": "display_data"
    },
    {
     "name": "stderr",
     "output_type": "stream",
     "text": [
      "2023-05-22 06:21:02,990 - INFO - fold:2 epoch : 2,train loss 0.1156273954883986 map:0.4249875616484566 starthesi:0.00016310220372533783 turn:0.5924452231347177 walking :0.25752990016219546\n"
     ]
    },
    {
     "name": "stdout",
     "output_type": "stream",
     "text": [
      "save weight\n"
     ]
    },
    {
     "data": {
      "application/vnd.jupyter.widget-view+json": {
       "model_id": "a1bba673bf254da1ad66a151799a0505",
       "version_major": 2,
       "version_minor": 0
      },
      "text/plain": [
       "  0%|          | 0/194 [00:00<?, ?it/s]"
      ]
     },
     "metadata": {},
     "output_type": "display_data"
    },
    {
     "data": {
      "application/vnd.jupyter.widget-view+json": {
       "model_id": "d727943c7e614d37b34ce360a94e83ac",
       "version_major": 2,
       "version_minor": 0
      },
      "text/plain": [
       "  0%|          | 0/31 [00:00<?, ?it/s]"
      ]
     },
     "metadata": {},
     "output_type": "display_data"
    },
    {
     "name": "stderr",
     "output_type": "stream",
     "text": [
      "2023-05-22 06:22:58,315 - INFO - fold:2 epoch : 3,train loss 0.10309478759612005 map:0.5174538099979851 starthesi:0.00015254873877915947 turn:0.5959894217146015 walking :0.4389181982813688\n"
     ]
    },
    {
     "name": "stdout",
     "output_type": "stream",
     "text": [
      "save weight\n"
     ]
    },
    {
     "data": {
      "application/vnd.jupyter.widget-view+json": {
       "model_id": "b0a552e2e0714658b7d1aff017b9b873",
       "version_major": 2,
       "version_minor": 0
      },
      "text/plain": [
       "  0%|          | 0/194 [00:00<?, ?it/s]"
      ]
     },
     "metadata": {},
     "output_type": "display_data"
    },
    {
     "data": {
      "application/vnd.jupyter.widget-view+json": {
       "model_id": "de96074dc2c64afd9e7f59ab7ef293c3",
       "version_major": 2,
       "version_minor": 0
      },
      "text/plain": [
       "  0%|          | 0/31 [00:00<?, ?it/s]"
      ]
     },
     "metadata": {},
     "output_type": "display_data"
    },
    {
     "name": "stderr",
     "output_type": "stream",
     "text": [
      "2023-05-22 06:24:54,236 - INFO - fold:2 epoch : 4,train loss 0.09157474319805804 map:0.45511583335643324 starthesi:0.00016279920451238897 turn:0.5582784963564182 walking :0.3519531703564483\n"
     ]
    },
    {
     "data": {
      "application/vnd.jupyter.widget-view+json": {
       "model_id": "88b521fd46bb45549cc50ce8b7239871",
       "version_major": 2,
       "version_minor": 0
      },
      "text/plain": [
       "  0%|          | 0/194 [00:00<?, ?it/s]"
      ]
     },
     "metadata": {},
     "output_type": "display_data"
    },
    {
     "data": {
      "application/vnd.jupyter.widget-view+json": {
       "model_id": "9a2b9fcf90674c1a88b3808e324ba113",
       "version_major": 2,
       "version_minor": 0
      },
      "text/plain": [
       "  0%|          | 0/31 [00:00<?, ?it/s]"
      ]
     },
     "metadata": {},
     "output_type": "display_data"
    },
    {
     "name": "stderr",
     "output_type": "stream",
     "text": [
      "2023-05-22 06:26:49,961 - INFO - fold:2 epoch : 5,train loss 0.08405748944844782 map:0.5159911695245707 starthesi:0.00014378282382665003 turn:0.5709112363556802 walking :0.4610711026934612\n"
     ]
    },
    {
     "data": {
      "application/vnd.jupyter.widget-view+json": {
       "model_id": "f6f0527040ef4dd9a6dac7028b53f23e",
       "version_major": 2,
       "version_minor": 0
      },
      "text/plain": [
       "  0%|          | 0/194 [00:00<?, ?it/s]"
      ]
     },
     "metadata": {},
     "output_type": "display_data"
    },
    {
     "data": {
      "application/vnd.jupyter.widget-view+json": {
       "model_id": "55c38c3033914b9bb8265163f7b3ba11",
       "version_major": 2,
       "version_minor": 0
      },
      "text/plain": [
       "  0%|          | 0/31 [00:00<?, ?it/s]"
      ]
     },
     "metadata": {},
     "output_type": "display_data"
    },
    {
     "name": "stderr",
     "output_type": "stream",
     "text": [
      "2023-05-22 06:28:45,632 - INFO - fold:2 epoch : 6,train loss 0.07711932966581632 map:0.526080676133954 starthesi:0.00013874526264578532 turn:0.6051033948352855 walking :0.44705795743262244\n"
     ]
    },
    {
     "name": "stdout",
     "output_type": "stream",
     "text": [
      "save weight\n"
     ]
    },
    {
     "data": {
      "application/vnd.jupyter.widget-view+json": {
       "model_id": "7011418fff074c91b1769937ab05e6d3",
       "version_major": 2,
       "version_minor": 0
      },
      "text/plain": [
       "  0%|          | 0/194 [00:00<?, ?it/s]"
      ]
     },
     "metadata": {},
     "output_type": "display_data"
    },
    {
     "data": {
      "application/vnd.jupyter.widget-view+json": {
       "model_id": "8f32f81d5cd74605835db5de8f35ec2a",
       "version_major": 2,
       "version_minor": 0
      },
      "text/plain": [
       "  0%|          | 0/31 [00:00<?, ?it/s]"
      ]
     },
     "metadata": {},
     "output_type": "display_data"
    },
    {
     "name": "stderr",
     "output_type": "stream",
     "text": [
      "2023-05-22 06:30:41,419 - INFO - fold:2 epoch : 7,train loss 0.07033728589255785 map:0.5419475464168504 starthesi:0.00025247839846712 turn:0.5942017963172145 walking :0.4896932965164863\n"
     ]
    },
    {
     "name": "stdout",
     "output_type": "stream",
     "text": [
      "save weight\n"
     ]
    },
    {
     "data": {
      "application/vnd.jupyter.widget-view+json": {
       "model_id": "191b90554615401695fbb58069e7a0b8",
       "version_major": 2,
       "version_minor": 0
      },
      "text/plain": [
       "  0%|          | 0/194 [00:00<?, ?it/s]"
      ]
     },
     "metadata": {},
     "output_type": "display_data"
    },
    {
     "data": {
      "application/vnd.jupyter.widget-view+json": {
       "model_id": "5b70ab038f474b2193ac8bc92b7134a6",
       "version_major": 2,
       "version_minor": 0
      },
      "text/plain": [
       "  0%|          | 0/31 [00:00<?, ?it/s]"
      ]
     },
     "metadata": {},
     "output_type": "display_data"
    },
    {
     "name": "stderr",
     "output_type": "stream",
     "text": [
      "2023-05-22 06:32:37,359 - INFO - fold:2 epoch : 8,train loss 0.06762281258004843 map:0.5244909904043432 starthesi:0.00026010048875642035 turn:0.5775054335612442 walking :0.47147654724744226\n"
     ]
    },
    {
     "data": {
      "application/vnd.jupyter.widget-view+json": {
       "model_id": "009c3fbe3fa14ecc979a54eb7f151087",
       "version_major": 2,
       "version_minor": 0
      },
      "text/plain": [
       "  0%|          | 0/194 [00:00<?, ?it/s]"
      ]
     },
     "metadata": {},
     "output_type": "display_data"
    },
    {
     "data": {
      "application/vnd.jupyter.widget-view+json": {
       "model_id": "2ca3cdb88d63422d9e8508d0e7ac5c52",
       "version_major": 2,
       "version_minor": 0
      },
      "text/plain": [
       "  0%|          | 0/31 [00:00<?, ?it/s]"
      ]
     },
     "metadata": {},
     "output_type": "display_data"
    },
    {
     "name": "stderr",
     "output_type": "stream",
     "text": [
      "2023-05-22 06:34:33,096 - INFO - fold:2 epoch : 9,train loss 0.06050828672926297 map:0.5201067223285584 starthesi:0.000400856131880479 turn:0.5455972125152153 walking :0.4946162321419014\n"
     ]
    },
    {
     "data": {
      "application/vnd.jupyter.widget-view+json": {
       "model_id": "bcae69fe5b6d43ecaf4628a993964df6",
       "version_major": 2,
       "version_minor": 0
      },
      "text/plain": [
       "  0%|          | 0/194 [00:00<?, ?it/s]"
      ]
     },
     "metadata": {},
     "output_type": "display_data"
    },
    {
     "data": {
      "application/vnd.jupyter.widget-view+json": {
       "model_id": "a0cabfc500744acf87c132559dc22107",
       "version_major": 2,
       "version_minor": 0
      },
      "text/plain": [
       "  0%|          | 0/31 [00:00<?, ?it/s]"
      ]
     },
     "metadata": {},
     "output_type": "display_data"
    },
    {
     "name": "stderr",
     "output_type": "stream",
     "text": [
      "2023-05-22 06:36:29,137 - INFO - fold:2 epoch : 10,train loss 0.0543842049430787 map:0.5130314960756215 starthesi:0.00030366686941431996 turn:0.584999179213462 walking :0.4410638129377811\n"
     ]
    },
    {
     "data": {
      "application/vnd.jupyter.widget-view+json": {
       "model_id": "3fefef4f768b4d0aa3bd426d61f37892",
       "version_major": 2,
       "version_minor": 0
      },
      "text/plain": [
       "  0%|          | 0/194 [00:00<?, ?it/s]"
      ]
     },
     "metadata": {},
     "output_type": "display_data"
    },
    {
     "data": {
      "application/vnd.jupyter.widget-view+json": {
       "model_id": "5b46ff3d62494512a466af9fee73cbf6",
       "version_major": 2,
       "version_minor": 0
      },
      "text/plain": [
       "  0%|          | 0/31 [00:00<?, ?it/s]"
      ]
     },
     "metadata": {},
     "output_type": "display_data"
    },
    {
     "name": "stderr",
     "output_type": "stream",
     "text": [
      "2023-05-22 06:38:25,283 - INFO - fold:2 epoch : 11,train loss 0.04846413798879871 map:0.509104264144622 starthesi:0.00047210011061597307 turn:0.5726462433406123 walking :0.4455622849486316\n"
     ]
    },
    {
     "data": {
      "application/vnd.jupyter.widget-view+json": {
       "model_id": "8bf8c796c5944edd9b68007b45a422c6",
       "version_major": 2,
       "version_minor": 0
      },
      "text/plain": [
       "  0%|          | 0/194 [00:00<?, ?it/s]"
      ]
     },
     "metadata": {},
     "output_type": "display_data"
    },
    {
     "data": {
      "application/vnd.jupyter.widget-view+json": {
       "model_id": "a585317fff154a418a0fe0d4a05c306a",
       "version_major": 2,
       "version_minor": 0
      },
      "text/plain": [
       "  0%|          | 0/31 [00:00<?, ?it/s]"
      ]
     },
     "metadata": {},
     "output_type": "display_data"
    },
    {
     "name": "stderr",
     "output_type": "stream",
     "text": [
      "2023-05-22 06:40:21,260 - INFO - fold:2 epoch : 12,train loss 0.04492901997597523 map:0.5112779025162466 starthesi:0.00038586967766464863 turn:0.5751579439234572 walking :0.4473978611090361\n"
     ]
    },
    {
     "data": {
      "application/vnd.jupyter.widget-view+json": {
       "model_id": "b929612696de457cb2aefc000052e83f",
       "version_major": 2,
       "version_minor": 0
      },
      "text/plain": [
       "  0%|          | 0/194 [00:00<?, ?it/s]"
      ]
     },
     "metadata": {},
     "output_type": "display_data"
    },
    {
     "data": {
      "application/vnd.jupyter.widget-view+json": {
       "model_id": "45dfd1ea57fc483eb482e00f113cf859",
       "version_major": 2,
       "version_minor": 0
      },
      "text/plain": [
       "  0%|          | 0/31 [00:00<?, ?it/s]"
      ]
     },
     "metadata": {},
     "output_type": "display_data"
    },
    {
     "name": "stderr",
     "output_type": "stream",
     "text": [
      "2023-05-22 06:42:16,976 - INFO - fold:2 epoch : 13,train loss 0.04160187235246077 map:0.5129565507323834 starthesi:0.0003815006252372151 turn:0.5911365741063321 walking :0.43477652735843486\n"
     ]
    },
    {
     "data": {
      "application/vnd.jupyter.widget-view+json": {
       "model_id": "dcf845d25f754ab19e5ad246fe42418c",
       "version_major": 2,
       "version_minor": 0
      },
      "text/plain": [
       "  0%|          | 0/194 [00:00<?, ?it/s]"
      ]
     },
     "metadata": {},
     "output_type": "display_data"
    },
    {
     "data": {
      "application/vnd.jupyter.widget-view+json": {
       "model_id": "08473e8dd9e94391a012ef42d429da7b",
       "version_major": 2,
       "version_minor": 0
      },
      "text/plain": [
       "  0%|          | 0/31 [00:00<?, ?it/s]"
      ]
     },
     "metadata": {},
     "output_type": "display_data"
    },
    {
     "name": "stderr",
     "output_type": "stream",
     "text": [
      "2023-05-22 06:44:12,547 - INFO - fold:2 epoch : 14,train loss 0.039545805251091415 map:0.5167185792239739 starthesi:0.00038485979403211814 turn:0.594371290973528 walking :0.4390658674744198\n",
      "2023-05-22 06:44:12,585 - INFO - [fold 2] done in 1734 s\n",
      "2023-05-22 06:44:12,589 - INFO - start fold:3\n"
     ]
    },
    {
     "data": {
      "application/vnd.jupyter.widget-view+json": {
       "model_id": "b09ee966115d4a45bc2a57a80cf2c702",
       "version_major": 2,
       "version_minor": 0
      },
      "text/plain": [
       "  0%|          | 0/183 [00:00<?, ?it/s]"
      ]
     },
     "metadata": {},
     "output_type": "display_data"
    },
    {
     "data": {
      "application/vnd.jupyter.widget-view+json": {
       "model_id": "0c4f15f24132438fbdc186f61a4f1c77",
       "version_major": 2,
       "version_minor": 0
      },
      "text/plain": [
       "  0%|          | 0/41 [00:00<?, ?it/s]"
      ]
     },
     "metadata": {},
     "output_type": "display_data"
    },
    {
     "name": "stderr",
     "output_type": "stream",
     "text": [
      "2023-05-22 06:46:02,400 - INFO - fold:3 epoch : 0,train loss 0.18092535218335892 map:0.2861754941415395 starthesi:4.780967214505125e-05 turn:0.5602676901196436 walking :0.012083298163435393\n"
     ]
    },
    {
     "name": "stdout",
     "output_type": "stream",
     "text": [
      "save weight\n"
     ]
    },
    {
     "data": {
      "application/vnd.jupyter.widget-view+json": {
       "model_id": "46c462c0416447029a71a7f513ab66a7",
       "version_major": 2,
       "version_minor": 0
      },
      "text/plain": [
       "  0%|          | 0/183 [00:00<?, ?it/s]"
      ]
     },
     "metadata": {},
     "output_type": "display_data"
    },
    {
     "data": {
      "application/vnd.jupyter.widget-view+json": {
       "model_id": "a216d89e3b45453d84c187f4e08ccd6d",
       "version_major": 2,
       "version_minor": 0
      },
      "text/plain": [
       "  0%|          | 0/41 [00:00<?, ?it/s]"
      ]
     },
     "metadata": {},
     "output_type": "display_data"
    },
    {
     "name": "stderr",
     "output_type": "stream",
     "text": [
      "2023-05-22 06:47:55,116 - INFO - fold:3 epoch : 1,train loss 0.1218692085405435 map:0.34610066431885095 starthesi:9.574587648062334e-05 turn:0.6791594058907169 walking :0.013041922746985004\n"
     ]
    },
    {
     "name": "stdout",
     "output_type": "stream",
     "text": [
      "save weight\n"
     ]
    },
    {
     "data": {
      "application/vnd.jupyter.widget-view+json": {
       "model_id": "fe14126340c040a290419bfa648e829d",
       "version_major": 2,
       "version_minor": 0
      },
      "text/plain": [
       "  0%|          | 0/183 [00:00<?, ?it/s]"
      ]
     },
     "metadata": {},
     "output_type": "display_data"
    },
    {
     "data": {
      "application/vnd.jupyter.widget-view+json": {
       "model_id": "c81d6877653242458f5560438c68d5ba",
       "version_major": 2,
       "version_minor": 0
      },
      "text/plain": [
       "  0%|          | 0/41 [00:00<?, ?it/s]"
      ]
     },
     "metadata": {},
     "output_type": "display_data"
    },
    {
     "name": "stderr",
     "output_type": "stream",
     "text": [
      "2023-05-22 06:49:48,591 - INFO - fold:3 epoch : 2,train loss 0.10515501678417452 map:0.32712993811131474 starthesi:4.597049889649227e-05 turn:0.6382659049096335 walking :0.015993971312995903\n"
     ]
    },
    {
     "data": {
      "application/vnd.jupyter.widget-view+json": {
       "model_id": "b9b2f3ddda584ae2a7e7ad2248e5a012",
       "version_major": 2,
       "version_minor": 0
      },
      "text/plain": [
       "  0%|          | 0/183 [00:00<?, ?it/s]"
      ]
     },
     "metadata": {},
     "output_type": "display_data"
    },
    {
     "data": {
      "application/vnd.jupyter.widget-view+json": {
       "model_id": "e633251657d34bb3920c2c0a27407024",
       "version_major": 2,
       "version_minor": 0
      },
      "text/plain": [
       "  0%|          | 0/41 [00:00<?, ?it/s]"
      ]
     },
     "metadata": {},
     "output_type": "display_data"
    },
    {
     "name": "stderr",
     "output_type": "stream",
     "text": [
      "2023-05-22 06:51:41,366 - INFO - fold:3 epoch : 3,train loss 0.09615110577455635 map:0.3457812335026755 starthesi:7.169589009832923e-05 turn:0.6724937052328404 walking :0.01906876177251064\n"
     ]
    },
    {
     "data": {
      "application/vnd.jupyter.widget-view+json": {
       "model_id": "b63058cae7214a7f806b2ec7d46790be",
       "version_major": 2,
       "version_minor": 0
      },
      "text/plain": [
       "  0%|          | 0/183 [00:00<?, ?it/s]"
      ]
     },
     "metadata": {},
     "output_type": "display_data"
    },
    {
     "data": {
      "application/vnd.jupyter.widget-view+json": {
       "model_id": "b43e55ca395f4807a66545ddbbefd2c2",
       "version_major": 2,
       "version_minor": 0
      },
      "text/plain": [
       "  0%|          | 0/41 [00:00<?, ?it/s]"
      ]
     },
     "metadata": {},
     "output_type": "display_data"
    },
    {
     "name": "stderr",
     "output_type": "stream",
     "text": [
      "2023-05-22 06:53:34,423 - INFO - fold:3 epoch : 4,train loss 0.09159242711920555 map:0.35710894315977953 starthesi:6.152156652297715e-05 turn:0.6878887443630609 walking :0.026329141956498107\n"
     ]
    },
    {
     "name": "stdout",
     "output_type": "stream",
     "text": [
      "save weight\n"
     ]
    },
    {
     "data": {
      "application/vnd.jupyter.widget-view+json": {
       "model_id": "4057b2f3710f4023bf852d824ffe97e8",
       "version_major": 2,
       "version_minor": 0
      },
      "text/plain": [
       "  0%|          | 0/183 [00:00<?, ?it/s]"
      ]
     },
     "metadata": {},
     "output_type": "display_data"
    },
    {
     "data": {
      "application/vnd.jupyter.widget-view+json": {
       "model_id": "5cf5183173604b6dbfc911606bcd5c24",
       "version_major": 2,
       "version_minor": 0
      },
      "text/plain": [
       "  0%|          | 0/41 [00:00<?, ?it/s]"
      ]
     },
     "metadata": {},
     "output_type": "display_data"
    },
    {
     "name": "stderr",
     "output_type": "stream",
     "text": [
      "2023-05-22 06:55:27,462 - INFO - fold:3 epoch : 5,train loss 0.08455211180643957 map:0.389796734061737 starthesi:5.624729769453609e-05 turn:0.7095985554467616 walking :0.06999491267671237\n"
     ]
    },
    {
     "name": "stdout",
     "output_type": "stream",
     "text": [
      "save weight\n"
     ]
    },
    {
     "data": {
      "application/vnd.jupyter.widget-view+json": {
       "model_id": "3dc7abd6c061413da9a23e3511658ac3",
       "version_major": 2,
       "version_minor": 0
      },
      "text/plain": [
       "  0%|          | 0/183 [00:00<?, ?it/s]"
      ]
     },
     "metadata": {},
     "output_type": "display_data"
    },
    {
     "data": {
      "application/vnd.jupyter.widget-view+json": {
       "model_id": "b3b603d859c8456ba9ef76f403c1598d",
       "version_major": 2,
       "version_minor": 0
      },
      "text/plain": [
       "  0%|          | 0/41 [00:00<?, ?it/s]"
      ]
     },
     "metadata": {},
     "output_type": "display_data"
    },
    {
     "name": "stderr",
     "output_type": "stream",
     "text": [
      "2023-05-22 06:57:20,446 - INFO - fold:3 epoch : 6,train loss 0.07966714793602463 map:0.4114117429867138 starthesi:0.00010544951407905206 turn:0.7454836759564201 walking :0.07733981001700752\n"
     ]
    },
    {
     "name": "stdout",
     "output_type": "stream",
     "text": [
      "save weight\n"
     ]
    },
    {
     "data": {
      "application/vnd.jupyter.widget-view+json": {
       "model_id": "b651336575a9464289837c5289ec96ec",
       "version_major": 2,
       "version_minor": 0
      },
      "text/plain": [
       "  0%|          | 0/183 [00:00<?, ?it/s]"
      ]
     },
     "metadata": {},
     "output_type": "display_data"
    },
    {
     "data": {
      "application/vnd.jupyter.widget-view+json": {
       "model_id": "2890b515c7784243b5899ea8517d6bc2",
       "version_major": 2,
       "version_minor": 0
      },
      "text/plain": [
       "  0%|          | 0/41 [00:00<?, ?it/s]"
      ]
     },
     "metadata": {},
     "output_type": "display_data"
    },
    {
     "name": "stderr",
     "output_type": "stream",
     "text": [
      "2023-05-22 06:59:13,237 - INFO - fold:3 epoch : 7,train loss 0.07071345534094207 map:0.3976859455023012 starthesi:0.00014124919917130066 turn:0.6784442135084314 walking :0.11692767749617097\n"
     ]
    },
    {
     "data": {
      "application/vnd.jupyter.widget-view+json": {
       "model_id": "c5fd943cdb104761b96c5df9be2dc692",
       "version_major": 2,
       "version_minor": 0
      },
      "text/plain": [
       "  0%|          | 0/183 [00:00<?, ?it/s]"
      ]
     },
     "metadata": {},
     "output_type": "display_data"
    },
    {
     "data": {
      "application/vnd.jupyter.widget-view+json": {
       "model_id": "fc351e000467402081c91409fc0c7a0c",
       "version_major": 2,
       "version_minor": 0
      },
      "text/plain": [
       "  0%|          | 0/41 [00:00<?, ?it/s]"
      ]
     },
     "metadata": {},
     "output_type": "display_data"
    },
    {
     "name": "stderr",
     "output_type": "stream",
     "text": [
      "2023-05-22 07:01:02,688 - INFO - fold:3 epoch : 8,train loss 0.06554938217146637 map:0.4064830344635772 starthesi:4.956225854449239e-05 turn:0.7224053340182954 walking :0.09056073490885898\n"
     ]
    },
    {
     "data": {
      "application/vnd.jupyter.widget-view+json": {
       "model_id": "f76e94057cd14259a8c9bc922800552e",
       "version_major": 2,
       "version_minor": 0
      },
      "text/plain": [
       "  0%|          | 0/183 [00:00<?, ?it/s]"
      ]
     },
     "metadata": {},
     "output_type": "display_data"
    },
    {
     "data": {
      "application/vnd.jupyter.widget-view+json": {
       "model_id": "32927dfe753c48078dcc34d4c8a9ba9e",
       "version_major": 2,
       "version_minor": 0
      },
      "text/plain": [
       "  0%|          | 0/41 [00:00<?, ?it/s]"
      ]
     },
     "metadata": {},
     "output_type": "display_data"
    },
    {
     "name": "stderr",
     "output_type": "stream",
     "text": [
      "2023-05-22 07:02:55,091 - INFO - fold:3 epoch : 9,train loss 0.06181621214990692 map:0.4014958996456659 starthesi:9.111170212255164e-05 turn:0.7106469669076221 walking :0.09234483238370977\n"
     ]
    },
    {
     "data": {
      "application/vnd.jupyter.widget-view+json": {
       "model_id": "cdbc81b8c57747d8b0ec54119b86160a",
       "version_major": 2,
       "version_minor": 0
      },
      "text/plain": [
       "  0%|          | 0/183 [00:00<?, ?it/s]"
      ]
     },
     "metadata": {},
     "output_type": "display_data"
    },
    {
     "data": {
      "application/vnd.jupyter.widget-view+json": {
       "model_id": "34c3d685a282481fb2407555e6cd4792",
       "version_major": 2,
       "version_minor": 0
      },
      "text/plain": [
       "  0%|          | 0/41 [00:00<?, ?it/s]"
      ]
     },
     "metadata": {},
     "output_type": "display_data"
    },
    {
     "name": "stderr",
     "output_type": "stream",
     "text": [
      "2023-05-22 07:04:48,008 - INFO - fold:3 epoch : 10,train loss 0.05630522966893807 map:0.41607959349130597 starthesi:7.35068844376426e-05 turn:0.7122064411376203 walking :0.11995274584499156\n"
     ]
    },
    {
     "name": "stdout",
     "output_type": "stream",
     "text": [
      "save weight\n"
     ]
    },
    {
     "data": {
      "application/vnd.jupyter.widget-view+json": {
       "model_id": "d5517eeb8c1840c6b8e06dc33d4695ad",
       "version_major": 2,
       "version_minor": 0
      },
      "text/plain": [
       "  0%|          | 0/183 [00:00<?, ?it/s]"
      ]
     },
     "metadata": {},
     "output_type": "display_data"
    },
    {
     "data": {
      "application/vnd.jupyter.widget-view+json": {
       "model_id": "d97720ea19c54876b0c2d7a966428890",
       "version_major": 2,
       "version_minor": 0
      },
      "text/plain": [
       "  0%|          | 0/41 [00:00<?, ?it/s]"
      ]
     },
     "metadata": {},
     "output_type": "display_data"
    },
    {
     "name": "stderr",
     "output_type": "stream",
     "text": [
      "2023-05-22 07:06:41,043 - INFO - fold:3 epoch : 11,train loss 0.0515762843252694 map:0.4328074118277492 starthesi:0.00014957156175935207 turn:0.7267118117515009 walking :0.1389030119039975\n"
     ]
    },
    {
     "name": "stdout",
     "output_type": "stream",
     "text": [
      "save weight\n"
     ]
    },
    {
     "data": {
      "application/vnd.jupyter.widget-view+json": {
       "model_id": "5117d0f1baa84eff9032d6ff3498f761",
       "version_major": 2,
       "version_minor": 0
      },
      "text/plain": [
       "  0%|          | 0/183 [00:00<?, ?it/s]"
      ]
     },
     "metadata": {},
     "output_type": "display_data"
    },
    {
     "data": {
      "application/vnd.jupyter.widget-view+json": {
       "model_id": "4269e2ba00f64ce8aa7eb6774e99ee31",
       "version_major": 2,
       "version_minor": 0
      },
      "text/plain": [
       "  0%|          | 0/41 [00:00<?, ?it/s]"
      ]
     },
     "metadata": {},
     "output_type": "display_data"
    },
    {
     "name": "stderr",
     "output_type": "stream",
     "text": [
      "2023-05-22 07:08:34,007 - INFO - fold:3 epoch : 12,train loss 0.04669141363545926 map:0.41434092756922586 starthesi:0.00020154799060148528 turn:0.7027428065819384 walking :0.1259390485565133\n"
     ]
    },
    {
     "data": {
      "application/vnd.jupyter.widget-view+json": {
       "model_id": "313fdeb5971649cbab1b3de31e0cfdd6",
       "version_major": 2,
       "version_minor": 0
      },
      "text/plain": [
       "  0%|          | 0/183 [00:00<?, ?it/s]"
      ]
     },
     "metadata": {},
     "output_type": "display_data"
    },
    {
     "data": {
      "application/vnd.jupyter.widget-view+json": {
       "model_id": "1487dd35673d48079236ac651422a8c4",
       "version_major": 2,
       "version_minor": 0
      },
      "text/plain": [
       "  0%|          | 0/41 [00:00<?, ?it/s]"
      ]
     },
     "metadata": {},
     "output_type": "display_data"
    },
    {
     "name": "stderr",
     "output_type": "stream",
     "text": [
      "2023-05-22 07:10:26,968 - INFO - fold:3 epoch : 13,train loss 0.043714397574159125 map:0.4070191452503738 starthesi:0.0002529987331177418 turn:0.6926502107730507 walking :0.1213880797276969\n"
     ]
    },
    {
     "data": {
      "application/vnd.jupyter.widget-view+json": {
       "model_id": "3178bc2c866c4bef9ff7853dd0e408ea",
       "version_major": 2,
       "version_minor": 0
      },
      "text/plain": [
       "  0%|          | 0/183 [00:00<?, ?it/s]"
      ]
     },
     "metadata": {},
     "output_type": "display_data"
    },
    {
     "data": {
      "application/vnd.jupyter.widget-view+json": {
       "model_id": "39cb7b03daa94c8c893d643d573cf017",
       "version_major": 2,
       "version_minor": 0
      },
      "text/plain": [
       "  0%|          | 0/41 [00:00<?, ?it/s]"
      ]
     },
     "metadata": {},
     "output_type": "display_data"
    },
    {
     "name": "stderr",
     "output_type": "stream",
     "text": [
      "2023-05-22 07:12:19,871 - INFO - fold:3 epoch : 14,train loss 0.04134731679706951 map:0.4059603534616533 starthesi:0.00027106676837465897 turn:0.6937302675945677 walking :0.11819043932873895\n",
      "2023-05-22 07:12:19,907 - INFO - [fold 3] done in 1687 s\n",
      "2023-05-22 07:12:19,910 - INFO - start fold:4\n"
     ]
    },
    {
     "data": {
      "application/vnd.jupyter.widget-view+json": {
       "model_id": "3eed1d497ecb4a2f9f960c654758923d",
       "version_major": 2,
       "version_minor": 0
      },
      "text/plain": [
       "  0%|          | 0/180 [00:00<?, ?it/s]"
      ]
     },
     "metadata": {},
     "output_type": "display_data"
    },
    {
     "data": {
      "application/vnd.jupyter.widget-view+json": {
       "model_id": "9cb14b46e73f4b25a345c2c3779cca0f",
       "version_major": 2,
       "version_minor": 0
      },
      "text/plain": [
       "  0%|          | 0/44 [00:00<?, ?it/s]"
      ]
     },
     "metadata": {},
     "output_type": "display_data"
    },
    {
     "name": "stderr",
     "output_type": "stream",
     "text": [
      "2023-05-22 07:14:12,734 - INFO - fold:4 epoch : 0,train loss 0.17055674754083155 map:0.14541807117188205 starthesi:0.00027199501553226436 turn:0.23598829123403434 walking :0.054847851109729735\n"
     ]
    },
    {
     "name": "stdout",
     "output_type": "stream",
     "text": [
      "save weight\n"
     ]
    },
    {
     "data": {
      "application/vnd.jupyter.widget-view+json": {
       "model_id": "9852efa087f244399840b1b52363a846",
       "version_major": 2,
       "version_minor": 0
      },
      "text/plain": [
       "  0%|          | 0/180 [00:00<?, ?it/s]"
      ]
     },
     "metadata": {},
     "output_type": "display_data"
    },
    {
     "data": {
      "application/vnd.jupyter.widget-view+json": {
       "model_id": "7eb84d46804742f386e94fe754205b5f",
       "version_major": 2,
       "version_minor": 0
      },
      "text/plain": [
       "  0%|          | 0/44 [00:00<?, ?it/s]"
      ]
     },
     "metadata": {},
     "output_type": "display_data"
    },
    {
     "name": "stderr",
     "output_type": "stream",
     "text": [
      "2023-05-22 07:16:00,847 - INFO - fold:4 epoch : 1,train loss 0.12425768011146121 map:0.1688755006074681 starthesi:0.0002751964715639145 turn:0.18357912718361305 walking :0.15417187403132313\n"
     ]
    },
    {
     "name": "stdout",
     "output_type": "stream",
     "text": [
      "save weight\n"
     ]
    },
    {
     "data": {
      "application/vnd.jupyter.widget-view+json": {
       "model_id": "6d855845f33049208ec47b8ccb45dd9b",
       "version_major": 2,
       "version_minor": 0
      },
      "text/plain": [
       "  0%|          | 0/180 [00:00<?, ?it/s]"
      ]
     },
     "metadata": {},
     "output_type": "display_data"
    },
    {
     "data": {
      "application/vnd.jupyter.widget-view+json": {
       "model_id": "c51c63e5878a49a8a8868b6d3e933c0b",
       "version_major": 2,
       "version_minor": 0
      },
      "text/plain": [
       "  0%|          | 0/44 [00:00<?, ?it/s]"
      ]
     },
     "metadata": {},
     "output_type": "display_data"
    },
    {
     "name": "stderr",
     "output_type": "stream",
     "text": [
      "2023-05-22 07:17:53,255 - INFO - fold:4 epoch : 2,train loss 0.11188831785176363 map:0.25841222165391836 starthesi:8.994279481723137e-05 turn:0.17207511722084448 walking :0.34474932608699227\n"
     ]
    },
    {
     "name": "stdout",
     "output_type": "stream",
     "text": [
      "save weight\n"
     ]
    },
    {
     "data": {
      "application/vnd.jupyter.widget-view+json": {
       "model_id": "00c7738cbc884b3f97692b29c1c08b6a",
       "version_major": 2,
       "version_minor": 0
      },
      "text/plain": [
       "  0%|          | 0/180 [00:00<?, ?it/s]"
      ]
     },
     "metadata": {},
     "output_type": "display_data"
    },
    {
     "data": {
      "application/vnd.jupyter.widget-view+json": {
       "model_id": "3b22a395ebb24765967d35a871ffe9b5",
       "version_major": 2,
       "version_minor": 0
      },
      "text/plain": [
       "  0%|          | 0/44 [00:00<?, ?it/s]"
      ]
     },
     "metadata": {},
     "output_type": "display_data"
    },
    {
     "name": "stderr",
     "output_type": "stream",
     "text": [
      "2023-05-22 07:19:45,668 - INFO - fold:4 epoch : 3,train loss 0.10139176900395089 map:0.2755935708847578 starthesi:8.114547257190557e-05 turn:0.226813105758446 walking :0.3243740360110696\n"
     ]
    },
    {
     "name": "stdout",
     "output_type": "stream",
     "text": [
      "save weight\n"
     ]
    },
    {
     "data": {
      "application/vnd.jupyter.widget-view+json": {
       "model_id": "45d606a1d2c34f5db31897760155f2e5",
       "version_major": 2,
       "version_minor": 0
      },
      "text/plain": [
       "  0%|          | 0/180 [00:00<?, ?it/s]"
      ]
     },
     "metadata": {},
     "output_type": "display_data"
    },
    {
     "data": {
      "application/vnd.jupyter.widget-view+json": {
       "model_id": "d78fa8f0915f437eb5299db529582e36",
       "version_major": 2,
       "version_minor": 0
      },
      "text/plain": [
       "  0%|          | 0/44 [00:00<?, ?it/s]"
      ]
     },
     "metadata": {},
     "output_type": "display_data"
    },
    {
     "name": "stderr",
     "output_type": "stream",
     "text": [
      "2023-05-22 07:21:38,047 - INFO - fold:4 epoch : 4,train loss 0.09432629251645672 map:0.3579414239304043 starthesi:4.7109115373687084e-05 turn:0.20767291824581735 walking :0.5082099296149912\n"
     ]
    },
    {
     "name": "stdout",
     "output_type": "stream",
     "text": [
      "save weight\n"
     ]
    },
    {
     "data": {
      "application/vnd.jupyter.widget-view+json": {
       "model_id": "ca13ca98f29a41e8953c965be7129dc1",
       "version_major": 2,
       "version_minor": 0
      },
      "text/plain": [
       "  0%|          | 0/180 [00:00<?, ?it/s]"
      ]
     },
     "metadata": {},
     "output_type": "display_data"
    },
    {
     "data": {
      "application/vnd.jupyter.widget-view+json": {
       "model_id": "281e8092150b4d80b21e7d98e48082f8",
       "version_major": 2,
       "version_minor": 0
      },
      "text/plain": [
       "  0%|          | 0/44 [00:00<?, ?it/s]"
      ]
     },
     "metadata": {},
     "output_type": "display_data"
    },
    {
     "name": "stderr",
     "output_type": "stream",
     "text": [
      "2023-05-22 07:23:30,579 - INFO - fold:4 epoch : 5,train loss 0.08664655906872618 map:0.2810603423745476 starthesi:9.617626900476133e-05 turn:0.19067187526862084 walking :0.3714488094804744\n"
     ]
    },
    {
     "data": {
      "application/vnd.jupyter.widget-view+json": {
       "model_id": "fc3550231e994374b3bd2bc66c18fda3",
       "version_major": 2,
       "version_minor": 0
      },
      "text/plain": [
       "  0%|          | 0/180 [00:00<?, ?it/s]"
      ]
     },
     "metadata": {},
     "output_type": "display_data"
    },
    {
     "data": {
      "application/vnd.jupyter.widget-view+json": {
       "model_id": "ff2de40399fd435398a1b03c4a05692c",
       "version_major": 2,
       "version_minor": 0
      },
      "text/plain": [
       "  0%|          | 0/44 [00:00<?, ?it/s]"
      ]
     },
     "metadata": {},
     "output_type": "display_data"
    },
    {
     "name": "stderr",
     "output_type": "stream",
     "text": [
      "2023-05-22 07:25:22,808 - INFO - fold:4 epoch : 6,train loss 0.07903155738280879 map:0.3616480061887894 starthesi:4.241757489443385e-05 turn:0.22860503555308728 walking :0.49469097682449154\n"
     ]
    },
    {
     "name": "stdout",
     "output_type": "stream",
     "text": [
      "save weight\n"
     ]
    },
    {
     "data": {
      "application/vnd.jupyter.widget-view+json": {
       "model_id": "e111d1991bd04ff59992514b2cb3b933",
       "version_major": 2,
       "version_minor": 0
      },
      "text/plain": [
       "  0%|          | 0/180 [00:00<?, ?it/s]"
      ]
     },
     "metadata": {},
     "output_type": "display_data"
    },
    {
     "data": {
      "application/vnd.jupyter.widget-view+json": {
       "model_id": "3a3a96bdaa444f4395285edb32c0fa8a",
       "version_major": 2,
       "version_minor": 0
      },
      "text/plain": [
       "  0%|          | 0/44 [00:00<?, ?it/s]"
      ]
     },
     "metadata": {},
     "output_type": "display_data"
    },
    {
     "name": "stderr",
     "output_type": "stream",
     "text": [
      "2023-05-22 07:27:15,169 - INFO - fold:4 epoch : 7,train loss 0.0745442220941186 map:0.4006449045177921 starthesi:4.2241848677172664e-05 turn:0.2636827328161784 walking :0.5376070762194058\n"
     ]
    },
    {
     "name": "stdout",
     "output_type": "stream",
     "text": [
      "save weight\n"
     ]
    },
    {
     "data": {
      "application/vnd.jupyter.widget-view+json": {
       "model_id": "5fe15ee4322a4717806f06034984aa54",
       "version_major": 2,
       "version_minor": 0
      },
      "text/plain": [
       "  0%|          | 0/180 [00:00<?, ?it/s]"
      ]
     },
     "metadata": {},
     "output_type": "display_data"
    },
    {
     "data": {
      "application/vnd.jupyter.widget-view+json": {
       "model_id": "71cc531619cd444595e8c5d6614d9283",
       "version_major": 2,
       "version_minor": 0
      },
      "text/plain": [
       "  0%|          | 0/44 [00:00<?, ?it/s]"
      ]
     },
     "metadata": {},
     "output_type": "display_data"
    },
    {
     "name": "stderr",
     "output_type": "stream",
     "text": [
      "2023-05-22 07:29:04,044 - INFO - fold:4 epoch : 8,train loss 0.0682895206535856 map:0.3647164930240494 starthesi:4.140801392918883e-05 turn:0.20725900402699374 walking :0.5221739820211051\n"
     ]
    },
    {
     "data": {
      "application/vnd.jupyter.widget-view+json": {
       "model_id": "30cca66c53504dbf96079df35927a8f7",
       "version_major": 2,
       "version_minor": 0
      },
      "text/plain": [
       "  0%|          | 0/180 [00:00<?, ?it/s]"
      ]
     },
     "metadata": {},
     "output_type": "display_data"
    },
    {
     "data": {
      "application/vnd.jupyter.widget-view+json": {
       "model_id": "758bd51a4f644309804a0f455d2fba35",
       "version_major": 2,
       "version_minor": 0
      },
      "text/plain": [
       "  0%|          | 0/44 [00:00<?, ?it/s]"
      ]
     },
     "metadata": {},
     "output_type": "display_data"
    },
    {
     "name": "stderr",
     "output_type": "stream",
     "text": [
      "2023-05-22 07:30:55,181 - INFO - fold:4 epoch : 9,train loss 0.06232577738766041 map:0.4242049495750767 starthesi:5.048723428616246e-05 turn:0.3024936416844591 walking :0.5459162574656944\n"
     ]
    },
    {
     "name": "stdout",
     "output_type": "stream",
     "text": [
      "save weight\n"
     ]
    },
    {
     "data": {
      "application/vnd.jupyter.widget-view+json": {
       "model_id": "6f982bbf66e3409cbad5f865c7d35087",
       "version_major": 2,
       "version_minor": 0
      },
      "text/plain": [
       "  0%|          | 0/180 [00:00<?, ?it/s]"
      ]
     },
     "metadata": {},
     "output_type": "display_data"
    },
    {
     "data": {
      "application/vnd.jupyter.widget-view+json": {
       "model_id": "42673b691e4f4015a359c944a306f664",
       "version_major": 2,
       "version_minor": 0
      },
      "text/plain": [
       "  0%|          | 0/44 [00:00<?, ?it/s]"
      ]
     },
     "metadata": {},
     "output_type": "display_data"
    },
    {
     "name": "stderr",
     "output_type": "stream",
     "text": [
      "2023-05-22 07:32:47,533 - INFO - fold:4 epoch : 10,train loss 0.05884729751075308 map:0.32033872129572755 starthesi:5.2724713414302675e-05 turn:0.1774383382007494 walking :0.4632391043907057\n"
     ]
    },
    {
     "data": {
      "application/vnd.jupyter.widget-view+json": {
       "model_id": "10b5209c21784dd08629de75d3ee2f6a",
       "version_major": 2,
       "version_minor": 0
      },
      "text/plain": [
       "  0%|          | 0/180 [00:00<?, ?it/s]"
      ]
     },
     "metadata": {},
     "output_type": "display_data"
    },
    {
     "data": {
      "application/vnd.jupyter.widget-view+json": {
       "model_id": "7c73b9612385415bb892c592da4f1fb5",
       "version_major": 2,
       "version_minor": 0
      },
      "text/plain": [
       "  0%|          | 0/44 [00:00<?, ?it/s]"
      ]
     },
     "metadata": {},
     "output_type": "display_data"
    },
    {
     "name": "stderr",
     "output_type": "stream",
     "text": [
      "2023-05-22 07:34:39,553 - INFO - fold:4 epoch : 11,train loss 0.05753717498543362 map:0.3552485437987804 starthesi:4.3863940646019196e-05 turn:0.2104660911302826 walking :0.5000309964672782\n"
     ]
    },
    {
     "data": {
      "application/vnd.jupyter.widget-view+json": {
       "model_id": "ce6cce3ac7b943dcbc73972f84fff1f9",
       "version_major": 2,
       "version_minor": 0
      },
      "text/plain": [
       "  0%|          | 0/180 [00:00<?, ?it/s]"
      ]
     },
     "metadata": {},
     "output_type": "display_data"
    },
    {
     "data": {
      "application/vnd.jupyter.widget-view+json": {
       "model_id": "f73aec9de95149ab9bf867c2d1134f06",
       "version_major": 2,
       "version_minor": 0
      },
      "text/plain": [
       "  0%|          | 0/44 [00:00<?, ?it/s]"
      ]
     },
     "metadata": {},
     "output_type": "display_data"
    },
    {
     "name": "stderr",
     "output_type": "stream",
     "text": [
      "2023-05-22 07:36:32,078 - INFO - fold:4 epoch : 12,train loss 0.050373695956336124 map:0.39134960111974104 starthesi:4.931491542454237e-05 turn:0.2596856119735454 walking :0.5230135902659367\n"
     ]
    },
    {
     "data": {
      "application/vnd.jupyter.widget-view+json": {
       "model_id": "93b11b21a614486cb76a6d235fe33bd3",
       "version_major": 2,
       "version_minor": 0
      },
      "text/plain": [
       "  0%|          | 0/180 [00:00<?, ?it/s]"
      ]
     },
     "metadata": {},
     "output_type": "display_data"
    },
    {
     "data": {
      "application/vnd.jupyter.widget-view+json": {
       "model_id": "b948088a3ca144c6b294a5a998166e38",
       "version_major": 2,
       "version_minor": 0
      },
      "text/plain": [
       "  0%|          | 0/44 [00:00<?, ?it/s]"
      ]
     },
     "metadata": {},
     "output_type": "display_data"
    },
    {
     "name": "stderr",
     "output_type": "stream",
     "text": [
      "2023-05-22 07:38:24,831 - INFO - fold:4 epoch : 13,train loss 0.046956535286477044 map:0.3705707751878079 starthesi:5.247498238673077e-05 turn:0.23642092837501164 walking :0.5047206220006042\n"
     ]
    },
    {
     "data": {
      "application/vnd.jupyter.widget-view+json": {
       "model_id": "5172d92ddcab430ea3f65ea1120f2380",
       "version_major": 2,
       "version_minor": 0
      },
      "text/plain": [
       "  0%|          | 0/180 [00:00<?, ?it/s]"
      ]
     },
     "metadata": {},
     "output_type": "display_data"
    },
    {
     "data": {
      "application/vnd.jupyter.widget-view+json": {
       "model_id": "4c94d1614b6c479caac32f77b149f2f5",
       "version_major": 2,
       "version_minor": 0
      },
      "text/plain": [
       "  0%|          | 0/44 [00:00<?, ?it/s]"
      ]
     },
     "metadata": {},
     "output_type": "display_data"
    },
    {
     "name": "stderr",
     "output_type": "stream",
     "text": [
      "2023-05-22 07:40:16,856 - INFO - fold:4 epoch : 14,train loss 0.044321498305847244 map:0.3772186855442766 starthesi:4.8998498365731794e-05 turn:0.24649693525700084 walking :0.5079404358315525\n",
      "2023-05-22 07:40:16,891 - INFO - [fold 4] done in 1677 s\n",
      "2023-05-22 07:40:17,311 - INFO - [gru] done in 8373 s\n"
     ]
    }
   ],
   "source": [
    "with timer(\"gru\"):\n",
    "    set_seed(seed)\n",
    "    y_oof = np.empty([len(target_array),5000,3])\n",
    "    gkf = StratifiedGroupKFold(n_splits=n_splits,shuffle=True,random_state = seed)\n",
    "    for fold, (train_idx, valid_idx) in enumerate(gkf.split(numerical_array, \n",
    "                                                             y = df_id[\"group\"].values,\n",
    "                                                             groups=df_id[\"subject\"].values)):\n",
    "        LOGGER.info(f\"start fold:{fold}\")\n",
    "        with timer(f\"fold {fold}\"):\n",
    "            train_numerical_array = numerical_array[train_idx]\n",
    "            train_target_array = target_array[train_idx]\n",
    "            train_mask_array = mask_array[train_idx]\n",
    "            train_valid_array = valid_array[train_idx]\n",
    "\n",
    "            val_numerical_array = numerical_array[valid_idx]\n",
    "            val_target_array = target_array[valid_idx]\n",
    "            val_mask_array = mask_array[valid_idx]\n",
    "            val_valid_array = valid_array[valid_idx]\n",
    "            val_pred_array = pred_use_array[valid_idx]\n",
    "            \n",
    "            train_ = FogDataset(train_numerical_array,\n",
    "                                train_mask_array,\n",
    "                                train_valid_array, \n",
    "                                train=True,\n",
    "                                y=train_target_array)\n",
    "            \n",
    "            val_ = FogDataset(val_numerical_array,\n",
    "                                val_mask_array,\n",
    "                                val_valid_array, \n",
    "                                train=True,\n",
    "                                y=val_target_array)\n",
    "            \n",
    "            \n",
    "            train_loader = DataLoader(dataset=train_, \n",
    "                                  batch_size=batch_size, \n",
    "                                  shuffle = True , num_workers=8)\n",
    "            val_loader = DataLoader(dataset=val_, \n",
    "                                batch_size=batch_size, \n",
    "                                shuffle = False , num_workers=8)\n",
    "            \n",
    "            model = FogRnnModel()\n",
    "            model = model.to(device)\n",
    "            param_optimizer = list(model.named_parameters())\n",
    "            no_decay = ['bias', 'LayerNorm.bias', 'LayerNorm.weight']\n",
    "            optimizer_grouped_parameters = [\n",
    "                {'params': [p for n, p in param_optimizer if not any(nd in n for nd in no_decay)], 'weight_decay': weight_decay},\n",
    "                {'params': [p for n, p in param_optimizer if any(nd in n for nd in no_decay)], 'weight_decay': 0.0}\n",
    "            ]\n",
    "            optimizer = AdamW(optimizer_grouped_parameters,\n",
    "                              lr=lr,\n",
    "                              weight_decay=weight_decay,\n",
    "                              )\n",
    "            num_train_optimization_steps = int(len(train_loader) * n_epochs)\n",
    "            scheduler = get_linear_schedule_with_warmup(optimizer,\n",
    "                                                        num_warmup_steps=num_warmup_steps,\n",
    "                                                        num_training_steps=num_train_optimization_steps)\n",
    "            criterion = nn.BCEWithLogitsLoss()\n",
    "            best_val_score = 0\n",
    "            for epoch in range(n_epochs):\n",
    "                model.train() \n",
    "                train_losses_batch = []\n",
    "                val_losses_batch = []\n",
    "                epoch_loss = 0\n",
    "                train_preds = np.ndarray((0,3))\n",
    "                tk0 = tqdm(train_loader, total=len(train_loader))\n",
    "                for d in tk0:\n",
    "                    # =========================\n",
    "                    # data loader\n",
    "                    # =========================\n",
    "                    input_data_numerical_array = d['input_data_numerical_array'].to(device)\n",
    "                    input_data_mask_array = d['input_data_mask_array'].to(device)\n",
    "                    input_data_valid_array = d['input_data_valid_array'].to(device)\n",
    "                    attention_mask = d['attention_mask'].to(device)\n",
    "                    y = d[\"y\"].to(device)\n",
    "                    optimizer.zero_grad()\n",
    "                    output = model(input_data_numerical_array, \n",
    "                                   input_data_mask_array,\n",
    "                                   attention_mask)\n",
    "                    loss = criterion(output[(input_data_valid_array == 1)], y[input_data_valid_array == 1])\n",
    "                    loss.backward()\n",
    "                    optimizer.step()\n",
    "                    scheduler.step()\n",
    "                    train_losses_batch.append(loss.item())\n",
    "                train_loss = np.mean(train_losses_batch)\n",
    "            \n",
    "                # ==========================\n",
    "                # eval\n",
    "                # ==========================\n",
    "                model.eval()  # switch model to the evaluation mode\n",
    "                val_preds = np.ndarray((0,5000,3))\n",
    "                tk0 = tqdm(val_loader, total=len(val_loader))\n",
    "                with torch.no_grad():  # Do not calculate gradient since we are only predicting\n",
    "                    # Predicting on validation set\n",
    "                    for d in tk0:\n",
    "                        input_data_numerical_array = d['input_data_numerical_array'].to(device)\n",
    "                        input_data_mask_array = d['input_data_mask_array'].to(device)\n",
    "                        attention_mask = d['attention_mask'].to(device)\n",
    "                        output = model(input_data_numerical_array, \n",
    "                                   input_data_mask_array,\n",
    "                                   attention_mask)\n",
    "                        val_preds = np.concatenate([val_preds, output.sigmoid().detach().cpu().numpy()], axis=0)\n",
    "                pred_valid_index = (val_mask_array == 1) & (val_pred_array == 1) & (val_valid_array == 1)\n",
    "                StartHesitation = average_precision_score(val_target_array[pred_valid_index][:,0],\n",
    "                                                          val_preds[pred_valid_index][:,0])\n",
    "                Turn = average_precision_score(val_target_array[pred_valid_index][:,1],\n",
    "                                                          val_preds[pred_valid_index][:,1])\n",
    "                Walking = average_precision_score(val_target_array[pred_valid_index][:,2],\n",
    "                                                          val_preds[pred_valid_index][:,2])\n",
    "                map_score = np.mean([Turn,\n",
    "                                     Walking])\n",
    "                LOGGER.info(f\"fold:{fold} epoch : {epoch},train loss {train_loss} map:{map_score} starthesi:{StartHesitation} turn:{Turn} walking :{Walking}\")\n",
    "                #best_val_preds = val_preds.copy()\n",
    "                #torch.save(model.state_dict(), f\"../output/exp/ex{ex}/ex{ex}_model/ex{ex}_{fold}.pth\") \n",
    "                if map_score >= best_val_score:\n",
    "                    print(\"save weight\")\n",
    "                    best_val_score = map_score\n",
    "                    best_val_preds = val_preds.copy()\n",
    "                    torch.save(model.state_dict(), f\"../output/exp/ex{ex}/ex{ex}_model/ex{ex}_{fold}.pth\") \n",
    "            y_oof[valid_idx] = best_val_preds\n",
    "    np.save(f\"../output/exp/ex{ex}/ex{ex}_oof.npy\",y_oof)"
   ]
  },
  {
   "cell_type": "code",
   "execution_count": 15,
   "id": "45c3286d-4677-401f-8b53-fe3f78682498",
   "metadata": {},
   "outputs": [
    {
     "name": "stderr",
     "output_type": "stream",
     "text": [
      "2023-05-22 07:40:23,209 - INFO - cv map:0.27349957241909034 starthesi:0.00014150417447759 turn:0.5273049870130287 walking :0.2930522260697647\n"
     ]
    }
   ],
   "source": [
    "val_pred_index = (mask_array == 1) & (pred_use_array == 1) & (valid_array == 1)\n",
    "StartHesitation = average_precision_score(target_array[val_pred_index][:,0],\n",
    "                                                          y_oof[val_pred_index ][:,0])\n",
    "Turn = average_precision_score(target_array[val_pred_index ][:,1],\n",
    "                                                          y_oof[val_pred_index ][:,1])\n",
    "Walking = average_precision_score(target_array[val_pred_index ][:,2],\n",
    "                                                          y_oof[val_pred_index ][:,2])\n",
    "\n",
    "map_score = np.mean([StartHesitation,\n",
    "                               Turn,\n",
    "                               Walking])\n",
    "LOGGER.info(f\"cv map:{map_score} starthesi:{StartHesitation} turn:{Turn} walking :{Walking}\")"
   ]
  },
  {
   "cell_type": "code",
   "execution_count": 16,
   "id": "4d51e84a-8acb-4eb6-a72d-755e6cc93158",
   "metadata": {},
   "outputs": [],
   "source": [
    "import json\n",
    "kaggle_json = {\n",
    "  \"title\": f\"fog-ex{ex}\",\n",
    "  \"id\": f\"takoihiraokazu/fog-ex{ex}\",\n",
    "  \"licenses\": [\n",
    "    {\n",
    "      \"name\": \"CC0-1.0\"\n",
    "    }\n",
    "  ]\n",
    "}\n",
    "\n",
    "with open(f\"../output/exp/ex{ex}/ex{ex}_model/dataset-metadata.json\", 'w') as f:\n",
    "    json.dump(kaggle_json, f)"
   ]
  },
  {
   "cell_type": "code",
   "execution_count": null,
   "id": "fbe09515-c96d-4715-a760-1d994376604a",
   "metadata": {},
   "outputs": [],
   "source": []
  }
 ],
 "metadata": {
  "kernelspec": {
   "display_name": "Python 3 (ipykernel)",
   "language": "python",
   "name": "python3"
  },
  "language_info": {
   "codemirror_mode": {
    "name": "ipython",
    "version": 3
   },
   "file_extension": ".py",
   "mimetype": "text/x-python",
   "name": "python",
   "nbconvert_exporter": "python",
   "pygments_lexer": "ipython3",
   "version": "3.10.4"
  }
 },
 "nbformat": 4,
 "nbformat_minor": 5
}
