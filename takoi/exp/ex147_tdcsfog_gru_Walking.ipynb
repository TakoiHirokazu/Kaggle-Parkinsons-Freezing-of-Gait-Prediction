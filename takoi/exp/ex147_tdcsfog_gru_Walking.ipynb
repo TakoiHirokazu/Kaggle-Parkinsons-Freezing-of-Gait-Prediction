{
 "cells": [
  {
   "cell_type": "code",
   "execution_count": 1,
   "id": "84e685ef-6c3d-4e56-94e3-7e59591eb084",
   "metadata": {},
   "outputs": [],
   "source": [
    "# ==================\n",
    "# Library\n",
    "# ==================\n",
    "import warnings\n",
    "warnings.simplefilter('ignore')\n",
    "import math\n",
    "import pandas as pd\n",
    "import numpy as np\n",
    "import sys\n",
    "import time\n",
    "import datetime\n",
    "from contextlib import contextmanager\n",
    "import logging\n",
    "from tqdm import tqdm_notebook as tqdm\n",
    "import matplotlib.pyplot as plt\n",
    "from sklearn.metrics import roc_auc_score, accuracy_score, f1_score,average_precision_score\n",
    "from sklearn.model_selection import StratifiedKFold, KFold,GroupKFold,StratifiedGroupKFold\n",
    "import torch\n",
    "import torch.nn as nn\n",
    "from torch.nn import TransformerEncoder\n",
    "from torch.nn import TransformerDecoder\n",
    "from torch.nn import LayerNorm\n",
    "import torch.optim as optim\n",
    "from torch.utils.data import DataLoader, TensorDataset, Dataset\n",
    "from torch.optim import lr_scheduler\n",
    "from transformers import AdamW, get_linear_schedule_with_warmup\n",
    "import gc\n",
    "import random\n",
    "import os\n",
    "%matplotlib inline\n",
    "sys.path.append(\"../src/\")\n",
    "from logger import setup_logger, LOGGER\n",
    "from util_tool import reduce_mem_usage\n",
    "pd.set_option('display.max_columns', 300)"
   ]
  },
  {
   "cell_type": "code",
   "execution_count": 2,
   "id": "48f18d38-6121-4855-91b9-3e0f32f5b222",
   "metadata": {},
   "outputs": [],
   "source": [
    "# ===================\n",
    "# Settings\n",
    "# ===================\n",
    "debug = False\n",
    "ex = \"147\"\n",
    "if not os.path.exists(f\"../output/exp/ex{ex}\"):\n",
    "    os.makedirs(f\"../output/exp/ex{ex}\")\n",
    "    os.makedirs(f\"../output/exp/ex{ex}/ex{ex}_model\")\n",
    "logger_path = f\"../output/exp/ex{ex}/ex_{ex}.txt\"\n",
    "model_path =f\"../output/exp/ex{ex}/ex{ex}_model/ex{ex}.pth\"\n",
    "use_target_col = 0\n",
    "# config\n",
    "seed = 0\n",
    "shuffle = True\n",
    "n_splits = 5\n",
    "device = torch.device(\"cuda\" if torch.cuda.is_available() else \"cpu\")\n",
    "# model config\n",
    "batch_size = 24\n",
    "n_epochs = 10\n",
    "lr = 1e-3\n",
    "weight_decay = 0.05\n",
    "num_warmup_steps = 10"
   ]
  },
  {
   "cell_type": "code",
   "execution_count": 3,
   "id": "53f0a11b-7308-4faa-bf83-6b898677d885",
   "metadata": {},
   "outputs": [],
   "source": [
    "# =====================\n",
    "# data\n",
    "# =====================\n",
    "id_path = f\"../output/fe/fe022/fe022_id.parquet\"\n",
    "numerical_path = f\"../output/fe/fe022/fe022_num_array.npy\"\n",
    "target_path = f\"../output/fe/fe022/fe022_target_array.npy\"\n",
    "mask_path = f\"../output/fe/fe022/fe022_mask_array.npy\"\n",
    "pred_use_path = f\"../output/fe/fe022/fe022_pred_use_array.npy\""
   ]
  },
  {
   "cell_type": "code",
   "execution_count": 4,
   "id": "423fc197-1ce2-4db3-b073-17edc1e4465d",
   "metadata": {},
   "outputs": [],
   "source": [
    "# ====================\n",
    "# Function\n",
    "# ====================\n",
    "def preprocess(numerical_array, \n",
    "               mask_array,\n",
    "               ):\n",
    "    \n",
    "    attention_mask = mask_array == 0\n",
    "\n",
    "    return {\n",
    "        'input_data_numerical_array': numerical_array,\n",
    "        'input_data_mask_array': mask_array,\n",
    "        'attention_mask': attention_mask,\n",
    "    }\n",
    "\n",
    "class FogDataset(Dataset):\n",
    "    def __init__(self, numerical_array, \n",
    "                 mask_array,\n",
    "                 train = True, y = None):\n",
    "        self.numerical_array = numerical_array\n",
    "        self.mask_array = mask_array\n",
    "        self.train = train\n",
    "        self.y = y\n",
    "    \n",
    "    def __len__(self):\n",
    "        return len(self.numerical_array)\n",
    "\n",
    "    def __getitem__(self, item):\n",
    "        data = preprocess(\n",
    "            self.numerical_array[item],\n",
    "            self.mask_array[item],\n",
    "            \n",
    "        )\n",
    "\n",
    "        # Return the processed data where the lists are converted to `torch.tensor`s\n",
    "        if self.train : \n",
    "            return {\n",
    "              'input_data_numerical_array': torch.tensor(data['input_data_numerical_array'],dtype=torch.float32),\n",
    "              'input_data_mask_array':torch.tensor(data['input_data_mask_array'], dtype=torch.long),  \n",
    "              'attention_mask': torch.tensor(data[\"attention_mask\"], dtype=torch.bool),\n",
    "              \"y\":torch.tensor(self.y[item], dtype=torch.float32)\n",
    "               }\n",
    "        else:\n",
    "            return {\n",
    "             'input_data_numerical_array': torch.tensor(data['input_data_numerical_array'],dtype=torch.float32),\n",
    "              'input_data_mask_array':torch.tensor(data['input_data_mask_array'], dtype=torch.long),  \n",
    "              'attention_mask': torch.tensor(data[\"attention_mask\"], dtype=torch.bool),\n",
    "               }"
   ]
  },
  {
   "cell_type": "code",
   "execution_count": 5,
   "id": "1eac9c32-e65d-46e2-ba0c-f140e489e7fe",
   "metadata": {},
   "outputs": [],
   "source": [
    "class FogRnnModel(nn.Module):\n",
    "    def __init__(\n",
    "        self, dropout=0.2,\n",
    "        input_numerical_size=12,\n",
    "        numeraical_linear_size = 64,\n",
    "        model_size = 128,\n",
    "        linear_out = 128,\n",
    "        out_size=3):\n",
    "        super(FogRnnModel, self).__init__()\n",
    "        self.numerical_linear  = nn.Sequential(\n",
    "                nn.Linear(input_numerical_size, numeraical_linear_size),\n",
    "                nn.LayerNorm(numeraical_linear_size)\n",
    "            )\n",
    "        \n",
    "        self.rnn = nn.GRU(numeraical_linear_size, model_size,\n",
    "                            num_layers = 2, \n",
    "                            batch_first=True,\n",
    "                            bidirectional=True)\n",
    "        self.linear_out  = nn.Sequential(\n",
    "                nn.Linear(model_size*2, \n",
    "                          linear_out),\n",
    "                nn.LayerNorm(linear_out),\n",
    "                nn.ReLU(),\n",
    "                nn.Dropout(dropout),\n",
    "                nn.Linear(linear_out, \n",
    "                          out_size))\n",
    "        self._reinitialize()\n",
    "        \n",
    "    def _reinitialize(self):\n",
    "        \"\"\"\n",
    "        Tensorflow/Keras-like initialization\n",
    "        \"\"\"\n",
    "        for name, p in self.named_parameters():\n",
    "            if 'rnn' in name:\n",
    "                if 'weight_ih' in name:\n",
    "                    nn.init.xavier_uniform_(p.data)\n",
    "                elif 'weight_hh' in name:\n",
    "                    nn.init.orthogonal_(p.data)\n",
    "                elif 'bias_ih' in name:\n",
    "                    p.data.fill_(0)\n",
    "                    # Set forget-gate bias to 1\n",
    "                    n = p.size(0)\n",
    "                    p.data[(n // 4):(n // 2)].fill_(1)\n",
    "                elif 'bias_hh' in name:\n",
    "                    p.data.fill_(0)\n",
    "    \n",
    "    def forward(self, numerical_array,\n",
    "                mask_array,\n",
    "                attention_mask):\n",
    "        \n",
    "        numerical_embedding = self.numerical_linear(numerical_array)\n",
    "        output,_ = self.rnn(numerical_embedding)\n",
    "        output = self.linear_out(output)\n",
    "        return output\n",
    "    \n",
    "def set_seed(seed: int = 42):\n",
    "    random.seed(seed)\n",
    "    np.random.seed(seed)\n",
    "    os.environ[\"PYTHONHASHSEED\"] = str(seed)\n",
    "    torch.manual_seed(seed)\n",
    "    torch.cuda.manual_seed(seed)\n",
    "    torch.backends.cudnn.deterministic = True\n",
    "    torch.backends.cudnn.benchmark = False"
   ]
  },
  {
   "cell_type": "code",
   "execution_count": 6,
   "id": "97d7f8a5-3417-4604-81b7-d0587e98d90d",
   "metadata": {},
   "outputs": [
    {
     "name": "stderr",
     "output_type": "stream",
     "text": [
      "2023-05-20 11:15:18,243 - INFO - logger set up\n"
     ]
    },
    {
     "data": {
      "text/plain": [
       "<RootLogger root (DEBUG)>"
      ]
     },
     "execution_count": 6,
     "metadata": {},
     "output_type": "execute_result"
    }
   ],
   "source": [
    "@contextmanager\n",
    "def timer(name):\n",
    "    t0 = time.time()\n",
    "    yield \n",
    "    LOGGER.info(f'[{name}] done in {time.time() - t0:.0f} s')\n",
    "    \n",
    "setup_logger(out_file=logger_path)"
   ]
  },
  {
   "cell_type": "code",
   "execution_count": 7,
   "id": "d00ce8f5-0471-48cb-ad74-dc2c19ade72b",
   "metadata": {},
   "outputs": [],
   "source": [
    "# ====================\n",
    "# main\n",
    "# ====================\n",
    "df_id = pd.read_parquet(id_path)\n",
    "numerical_array = np.load(numerical_path)\n",
    "target_array = np.load(target_path)\n",
    "mask_array = np.load(mask_path)\n",
    "pred_use_array = np.load(pred_use_path)"
   ]
  },
  {
   "cell_type": "code",
   "execution_count": 8,
   "id": "36ae99ec-a44f-4756-951c-25d572aa075e",
   "metadata": {},
   "outputs": [],
   "source": [
    "target1 = []\n",
    "target2 = []\n",
    "target3 = []\n",
    "for i in range(len(target_array)):\n",
    "    target1.append(np.sum(target_array[i,:,0]))\n",
    "    target2.append(np.sum(target_array[i,:,1]))\n",
    "    target3.append(np.sum(target_array[i,:,2]))"
   ]
  },
  {
   "cell_type": "code",
   "execution_count": 9,
   "id": "cc321a46-20c7-4e4d-a292-dbba48745501",
   "metadata": {},
   "outputs": [],
   "source": [
    "df_id[\"target1\"] = target1\n",
    "df_id[\"target2\"] = target2\n",
    "df_id[\"target3\"] = target3\n",
    "df_id[\"target1_1\"] = df_id[\"target1\"] > 0\n",
    "df_id[\"target2_1\"] = df_id[\"target2\"] > 0\n",
    "df_id[\"target3_1\"] = df_id[\"target3\"] > 0\n",
    "df_id[\"target1_1\"] = df_id[\"target1_1\"].astype(np.int)\n",
    "df_id[\"target2_1\"] = df_id[\"target2_1\"].astype(np.int)\n",
    "df_id[\"target3_1\"] = df_id[\"target3_1\"].astype(np.int)"
   ]
  },
  {
   "cell_type": "code",
   "execution_count": 10,
   "id": "af515de7-e2c5-47a1-ab24-b02e32d5dc8b",
   "metadata": {},
   "outputs": [],
   "source": [
    "df_id[\"group\"] = 0\n",
    "df_id.loc[df_id[\"target2_1\"] > 0,\"group\"] = 1\n",
    "df_id.loc[df_id[\"target1_1\"] > 0,\"group\"] = 2\n",
    "df_id.loc[df_id[\"target3_1\"] > 0,\"group\"] = 3"
   ]
  },
  {
   "cell_type": "code",
   "execution_count": 11,
   "id": "e22f3942-b03a-4dd3-b19e-946414e4e094",
   "metadata": {},
   "outputs": [
    {
     "data": {
      "text/plain": [
       "0    7720\n",
       "1    4604\n",
       "2     782\n",
       "3     610\n",
       "Name: group, dtype: int64"
      ]
     },
     "execution_count": 11,
     "metadata": {},
     "output_type": "execute_result"
    }
   ],
   "source": [
    "df_id[\"group\"].value_counts()"
   ]
  },
  {
   "cell_type": "code",
   "execution_count": 12,
   "id": "0676e71c-483b-4b5b-8e0e-e2222b4506cc",
   "metadata": {},
   "outputs": [
    {
     "name": "stderr",
     "output_type": "stream",
     "text": [
      "2023-05-20 11:15:23,057 - INFO - start fold:0\n"
     ]
    },
    {
     "data": {
      "application/vnd.jupyter.widget-view+json": {
       "model_id": "fafe4bbe4f264703bfee58d5a6dfc143",
       "version_major": 2,
       "version_minor": 0
      },
      "text/plain": [
       "  0%|          | 0/480 [00:00<?, ?it/s]"
      ]
     },
     "metadata": {},
     "output_type": "display_data"
    },
    {
     "data": {
      "application/vnd.jupyter.widget-view+json": {
       "model_id": "cbaf5daf010845d1ae1b5d4a92a24b4c",
       "version_major": 2,
       "version_minor": 0
      },
      "text/plain": [
       "  0%|          | 0/93 [00:00<?, ?it/s]"
      ]
     },
     "metadata": {},
     "output_type": "display_data"
    },
    {
     "name": "stderr",
     "output_type": "stream",
     "text": [
      "2023-05-20 11:16:38,525 - INFO - fold:0 epoch : 0,train loss 0.19179934637310606 map:0.15616891054157436 starthesi:0.010743098488532245 turn:0.38954754418597654 walking :0.06821608895021429\n"
     ]
    },
    {
     "name": "stdout",
     "output_type": "stream",
     "text": [
      "save weight\n"
     ]
    },
    {
     "data": {
      "application/vnd.jupyter.widget-view+json": {
       "model_id": "701fbb4e791f40ce84e524e217fe13bc",
       "version_major": 2,
       "version_minor": 0
      },
      "text/plain": [
       "  0%|          | 0/480 [00:00<?, ?it/s]"
      ]
     },
     "metadata": {},
     "output_type": "display_data"
    },
    {
     "data": {
      "application/vnd.jupyter.widget-view+json": {
       "model_id": "79768fa8787b437bbbbc45be9ff0ba76",
       "version_major": 2,
       "version_minor": 0
      },
      "text/plain": [
       "  0%|          | 0/93 [00:00<?, ?it/s]"
      ]
     },
     "metadata": {},
     "output_type": "display_data"
    },
    {
     "name": "stderr",
     "output_type": "stream",
     "text": [
      "2023-05-20 11:17:43,216 - INFO - fold:0 epoch : 1,train loss 0.126194971803731 map:0.17926969783137148 starthesi:0.007449652055291359 turn:0.4515851063674001 walking :0.07877433507142295\n"
     ]
    },
    {
     "name": "stdout",
     "output_type": "stream",
     "text": [
      "save weight\n"
     ]
    },
    {
     "data": {
      "application/vnd.jupyter.widget-view+json": {
       "model_id": "6f44a6f962c14029bf77c5795a361af4",
       "version_major": 2,
       "version_minor": 0
      },
      "text/plain": [
       "  0%|          | 0/480 [00:00<?, ?it/s]"
      ]
     },
     "metadata": {},
     "output_type": "display_data"
    },
    {
     "data": {
      "application/vnd.jupyter.widget-view+json": {
       "model_id": "6e8d82454f0a40dabd703b1ad7b69f40",
       "version_major": 2,
       "version_minor": 0
      },
      "text/plain": [
       "  0%|          | 0/93 [00:00<?, ?it/s]"
      ]
     },
     "metadata": {},
     "output_type": "display_data"
    },
    {
     "name": "stderr",
     "output_type": "stream",
     "text": [
      "2023-05-20 11:18:47,698 - INFO - fold:0 epoch : 2,train loss 0.10433112170624857 map:0.17487131045101711 starthesi:0.007912696449216211 turn:0.4189721121216442 walking :0.09772912278219095\n"
     ]
    },
    {
     "name": "stdout",
     "output_type": "stream",
     "text": [
      "save weight\n"
     ]
    },
    {
     "data": {
      "application/vnd.jupyter.widget-view+json": {
       "model_id": "48d2952e320444278561cad11db1176d",
       "version_major": 2,
       "version_minor": 0
      },
      "text/plain": [
       "  0%|          | 0/480 [00:00<?, ?it/s]"
      ]
     },
     "metadata": {},
     "output_type": "display_data"
    },
    {
     "data": {
      "application/vnd.jupyter.widget-view+json": {
       "model_id": "1d872f046af645c083ceec1c2d311c00",
       "version_major": 2,
       "version_minor": 0
      },
      "text/plain": [
       "  0%|          | 0/93 [00:00<?, ?it/s]"
      ]
     },
     "metadata": {},
     "output_type": "display_data"
    },
    {
     "name": "stderr",
     "output_type": "stream",
     "text": [
      "2023-05-20 11:19:52,287 - INFO - fold:0 epoch : 3,train loss 0.08979656050214543 map:0.21605794748940457 starthesi:0.012214734456616203 turn:0.4835684970371656 walking :0.1523906109744319\n"
     ]
    },
    {
     "name": "stdout",
     "output_type": "stream",
     "text": [
      "save weight\n"
     ]
    },
    {
     "data": {
      "application/vnd.jupyter.widget-view+json": {
       "model_id": "5d4c2a95d46d42c3a9f731bbf43cfc7e",
       "version_major": 2,
       "version_minor": 0
      },
      "text/plain": [
       "  0%|          | 0/480 [00:00<?, ?it/s]"
      ]
     },
     "metadata": {},
     "output_type": "display_data"
    },
    {
     "data": {
      "application/vnd.jupyter.widget-view+json": {
       "model_id": "788669443b044ae6a449f7836d72f389",
       "version_major": 2,
       "version_minor": 0
      },
      "text/plain": [
       "  0%|          | 0/93 [00:00<?, ?it/s]"
      ]
     },
     "metadata": {},
     "output_type": "display_data"
    },
    {
     "name": "stderr",
     "output_type": "stream",
     "text": [
      "2023-05-20 11:20:58,351 - INFO - fold:0 epoch : 4,train loss 0.07639869195603145 map:0.21261615833258918 starthesi:0.01424015342090598 turn:0.4754046597384101 walking :0.1482036618384515\n"
     ]
    },
    {
     "data": {
      "application/vnd.jupyter.widget-view+json": {
       "model_id": "a3433e62afba4ed6b85167f0c89e487d",
       "version_major": 2,
       "version_minor": 0
      },
      "text/plain": [
       "  0%|          | 0/480 [00:00<?, ?it/s]"
      ]
     },
     "metadata": {},
     "output_type": "display_data"
    },
    {
     "data": {
      "application/vnd.jupyter.widget-view+json": {
       "model_id": "ae43f8ccf6f949aa92266c98e4145307",
       "version_major": 2,
       "version_minor": 0
      },
      "text/plain": [
       "  0%|          | 0/93 [00:00<?, ?it/s]"
      ]
     },
     "metadata": {},
     "output_type": "display_data"
    },
    {
     "name": "stderr",
     "output_type": "stream",
     "text": [
      "2023-05-20 11:22:04,465 - INFO - fold:0 epoch : 5,train loss 0.06226040888189648 map:0.19891102521454695 starthesi:0.023889207940834052 turn:0.4699039252514865 walking :0.10293994245132038\n"
     ]
    },
    {
     "data": {
      "application/vnd.jupyter.widget-view+json": {
       "model_id": "72d8248212ec43bb9e9b15e87147d5a0",
       "version_major": 2,
       "version_minor": 0
      },
      "text/plain": [
       "  0%|          | 0/480 [00:00<?, ?it/s]"
      ]
     },
     "metadata": {},
     "output_type": "display_data"
    },
    {
     "data": {
      "application/vnd.jupyter.widget-view+json": {
       "model_id": "af5610bf878d43e3b7891c24072b8668",
       "version_major": 2,
       "version_minor": 0
      },
      "text/plain": [
       "  0%|          | 0/93 [00:00<?, ?it/s]"
      ]
     },
     "metadata": {},
     "output_type": "display_data"
    },
    {
     "name": "stderr",
     "output_type": "stream",
     "text": [
      "2023-05-20 11:23:11,293 - INFO - fold:0 epoch : 6,train loss 0.05010373306189043 map:0.16764328060887235 starthesi:0.01920261691718207 turn:0.44388665770575875 walking :0.03984056720367625\n"
     ]
    },
    {
     "data": {
      "application/vnd.jupyter.widget-view+json": {
       "model_id": "5bd5fa4fa7954ef2a81865f5c0bff789",
       "version_major": 2,
       "version_minor": 0
      },
      "text/plain": [
       "  0%|          | 0/480 [00:00<?, ?it/s]"
      ]
     },
     "metadata": {},
     "output_type": "display_data"
    },
    {
     "data": {
      "application/vnd.jupyter.widget-view+json": {
       "model_id": "0de50b4be50e48958dc75456c799abe8",
       "version_major": 2,
       "version_minor": 0
      },
      "text/plain": [
       "  0%|          | 0/93 [00:00<?, ?it/s]"
      ]
     },
     "metadata": {},
     "output_type": "display_data"
    },
    {
     "name": "stderr",
     "output_type": "stream",
     "text": [
      "2023-05-20 11:24:16,167 - INFO - fold:0 epoch : 7,train loss 0.0419250293110963 map:0.18102621989273582 starthesi:0.017105292929793976 turn:0.4296073358206393 walking :0.09636603092777421\n"
     ]
    },
    {
     "data": {
      "application/vnd.jupyter.widget-view+json": {
       "model_id": "b1b4f08c98de4dba84735b1f5f3da3a6",
       "version_major": 2,
       "version_minor": 0
      },
      "text/plain": [
       "  0%|          | 0/480 [00:00<?, ?it/s]"
      ]
     },
     "metadata": {},
     "output_type": "display_data"
    },
    {
     "data": {
      "application/vnd.jupyter.widget-view+json": {
       "model_id": "babee86138bc4ca68cc1eacaffeffbe0",
       "version_major": 2,
       "version_minor": 0
      },
      "text/plain": [
       "  0%|          | 0/93 [00:00<?, ?it/s]"
      ]
     },
     "metadata": {},
     "output_type": "display_data"
    },
    {
     "name": "stderr",
     "output_type": "stream",
     "text": [
      "2023-05-20 11:25:20,705 - INFO - fold:0 epoch : 8,train loss 0.03572981490675981 map:0.16786181736732275 starthesi:0.01771953153588489 turn:0.44638283309037974 walking :0.0394830874757036\n"
     ]
    },
    {
     "data": {
      "application/vnd.jupyter.widget-view+json": {
       "model_id": "9df90613f1b14de3b48d6011dbdcc758",
       "version_major": 2,
       "version_minor": 0
      },
      "text/plain": [
       "  0%|          | 0/480 [00:00<?, ?it/s]"
      ]
     },
     "metadata": {},
     "output_type": "display_data"
    },
    {
     "data": {
      "application/vnd.jupyter.widget-view+json": {
       "model_id": "3f892f7b3e014f92b92d2b0a0f7dcd70",
       "version_major": 2,
       "version_minor": 0
      },
      "text/plain": [
       "  0%|          | 0/93 [00:00<?, ?it/s]"
      ]
     },
     "metadata": {},
     "output_type": "display_data"
    },
    {
     "name": "stderr",
     "output_type": "stream",
     "text": [
      "2023-05-20 11:26:25,280 - INFO - fold:0 epoch : 9,train loss 0.03188477436779067 map:0.16932315971694156 starthesi:0.01883280368421104 turn:0.44590156472848247 walking :0.043235110738131195\n",
      "2023-05-20 11:26:25,324 - INFO - [fold 0] done in 662 s\n",
      "2023-05-20 11:26:25,329 - INFO - start fold:1\n"
     ]
    },
    {
     "data": {
      "application/vnd.jupyter.widget-view+json": {
       "model_id": "7c741bba2209439b969489278ff3bf73",
       "version_major": 2,
       "version_minor": 0
      },
      "text/plain": [
       "  0%|          | 0/468 [00:00<?, ?it/s]"
      ]
     },
     "metadata": {},
     "output_type": "display_data"
    },
    {
     "data": {
      "application/vnd.jupyter.widget-view+json": {
       "model_id": "d5542a78babf4fae92fe0901a956ad9c",
       "version_major": 2,
       "version_minor": 0
      },
      "text/plain": [
       "  0%|          | 0/105 [00:00<?, ?it/s]"
      ]
     },
     "metadata": {},
     "output_type": "display_data"
    },
    {
     "name": "stderr",
     "output_type": "stream",
     "text": [
      "2023-05-20 11:27:30,278 - INFO - fold:1 epoch : 0,train loss 0.17590750115485781 map:0.31933688179679137 starthesi:0.09966608750083017 turn:0.8095448325399578 walking :0.04879972534958605\n"
     ]
    },
    {
     "name": "stdout",
     "output_type": "stream",
     "text": [
      "save weight\n"
     ]
    },
    {
     "data": {
      "application/vnd.jupyter.widget-view+json": {
       "model_id": "19353b6404a24523a31e94bb0547f9ad",
       "version_major": 2,
       "version_minor": 0
      },
      "text/plain": [
       "  0%|          | 0/468 [00:00<?, ?it/s]"
      ]
     },
     "metadata": {},
     "output_type": "display_data"
    },
    {
     "data": {
      "application/vnd.jupyter.widget-view+json": {
       "model_id": "798d70f1da514823bc864c51d8d1f7f8",
       "version_major": 2,
       "version_minor": 0
      },
      "text/plain": [
       "  0%|          | 0/105 [00:00<?, ?it/s]"
      ]
     },
     "metadata": {},
     "output_type": "display_data"
    },
    {
     "name": "stderr",
     "output_type": "stream",
     "text": [
      "2023-05-20 11:28:34,424 - INFO - fold:1 epoch : 1,train loss 0.1140101488886608 map:0.360828509107703 starthesi:0.18345205381890167 turn:0.8387523995926499 walking :0.06028107391155736\n"
     ]
    },
    {
     "name": "stdout",
     "output_type": "stream",
     "text": [
      "save weight\n"
     ]
    },
    {
     "data": {
      "application/vnd.jupyter.widget-view+json": {
       "model_id": "2cc2987db1384b99aeffdad7ca94530a",
       "version_major": 2,
       "version_minor": 0
      },
      "text/plain": [
       "  0%|          | 0/468 [00:00<?, ?it/s]"
      ]
     },
     "metadata": {},
     "output_type": "display_data"
    },
    {
     "data": {
      "application/vnd.jupyter.widget-view+json": {
       "model_id": "70a060d7ecac448a881fa25e60e1c4b3",
       "version_major": 2,
       "version_minor": 0
      },
      "text/plain": [
       "  0%|          | 0/105 [00:00<?, ?it/s]"
      ]
     },
     "metadata": {},
     "output_type": "display_data"
    },
    {
     "name": "stderr",
     "output_type": "stream",
     "text": [
      "2023-05-20 11:29:38,574 - INFO - fold:1 epoch : 2,train loss 0.09467693580648838 map:0.38972347835949167 starthesi:0.2451469351644142 turn:0.8558711846723518 walking :0.06815231524170924\n"
     ]
    },
    {
     "name": "stdout",
     "output_type": "stream",
     "text": [
      "save weight\n"
     ]
    },
    {
     "data": {
      "application/vnd.jupyter.widget-view+json": {
       "model_id": "171841357b5f4dad97a489c75bfd0b12",
       "version_major": 2,
       "version_minor": 0
      },
      "text/plain": [
       "  0%|          | 0/468 [00:00<?, ?it/s]"
      ]
     },
     "metadata": {},
     "output_type": "display_data"
    },
    {
     "data": {
      "application/vnd.jupyter.widget-view+json": {
       "model_id": "e3ecf0be1c5848eba87ca0eaa17e578e",
       "version_major": 2,
       "version_minor": 0
      },
      "text/plain": [
       "  0%|          | 0/105 [00:00<?, ?it/s]"
      ]
     },
     "metadata": {},
     "output_type": "display_data"
    },
    {
     "name": "stderr",
     "output_type": "stream",
     "text": [
      "2023-05-20 11:30:42,848 - INFO - fold:1 epoch : 3,train loss 0.08066759508055373 map:0.38991729710017986 starthesi:0.24022713641577892 turn:0.831227804392486 walking :0.09829695049227469\n"
     ]
    },
    {
     "name": "stdout",
     "output_type": "stream",
     "text": [
      "save weight\n"
     ]
    },
    {
     "data": {
      "application/vnd.jupyter.widget-view+json": {
       "model_id": "f889940d8e614fd79032cbbee22e8de8",
       "version_major": 2,
       "version_minor": 0
      },
      "text/plain": [
       "  0%|          | 0/468 [00:00<?, ?it/s]"
      ]
     },
     "metadata": {},
     "output_type": "display_data"
    },
    {
     "data": {
      "application/vnd.jupyter.widget-view+json": {
       "model_id": "cf24b12f5d8445b09ba7d342a9c198e0",
       "version_major": 2,
       "version_minor": 0
      },
      "text/plain": [
       "  0%|          | 0/105 [00:00<?, ?it/s]"
      ]
     },
     "metadata": {},
     "output_type": "display_data"
    },
    {
     "name": "stderr",
     "output_type": "stream",
     "text": [
      "2023-05-20 11:31:47,027 - INFO - fold:1 epoch : 4,train loss 0.06718133934017302 map:0.39851105955874466 starthesi:0.2830753009324271 turn:0.8226132841511549 walking :0.08984459359265184\n"
     ]
    },
    {
     "data": {
      "application/vnd.jupyter.widget-view+json": {
       "model_id": "df6822ea848c4e4ca6c4aa30b169c6ac",
       "version_major": 2,
       "version_minor": 0
      },
      "text/plain": [
       "  0%|          | 0/468 [00:00<?, ?it/s]"
      ]
     },
     "metadata": {},
     "output_type": "display_data"
    },
    {
     "data": {
      "application/vnd.jupyter.widget-view+json": {
       "model_id": "9bd5aa3590f74ccb97947bd2f037e25d",
       "version_major": 2,
       "version_minor": 0
      },
      "text/plain": [
       "  0%|          | 0/105 [00:00<?, ?it/s]"
      ]
     },
     "metadata": {},
     "output_type": "display_data"
    },
    {
     "name": "stderr",
     "output_type": "stream",
     "text": [
      "2023-05-20 11:32:51,349 - INFO - fold:1 epoch : 5,train loss 0.056144061566004135 map:0.41577044096393156 starthesi:0.3269793851321446 turn:0.8445754579509785 walking :0.07575647980867169\n"
     ]
    },
    {
     "data": {
      "application/vnd.jupyter.widget-view+json": {
       "model_id": "40e2773ef7104b5ba138f321301b8e2f",
       "version_major": 2,
       "version_minor": 0
      },
      "text/plain": [
       "  0%|          | 0/468 [00:00<?, ?it/s]"
      ]
     },
     "metadata": {},
     "output_type": "display_data"
    },
    {
     "data": {
      "application/vnd.jupyter.widget-view+json": {
       "model_id": "772022ace3fb49348428e0e3e29fe317",
       "version_major": 2,
       "version_minor": 0
      },
      "text/plain": [
       "  0%|          | 0/105 [00:00<?, ?it/s]"
      ]
     },
     "metadata": {},
     "output_type": "display_data"
    },
    {
     "name": "stderr",
     "output_type": "stream",
     "text": [
      "2023-05-20 11:33:55,792 - INFO - fold:1 epoch : 6,train loss 0.046386860539881974 map:0.3766305091320729 starthesi:0.22455787814114506 turn:0.8076271872083434 walking :0.09770646204673025\n"
     ]
    },
    {
     "data": {
      "application/vnd.jupyter.widget-view+json": {
       "model_id": "680a9dbc7f6649fe9564a5d406fa5f26",
       "version_major": 2,
       "version_minor": 0
      },
      "text/plain": [
       "  0%|          | 0/468 [00:00<?, ?it/s]"
      ]
     },
     "metadata": {},
     "output_type": "display_data"
    },
    {
     "data": {
      "application/vnd.jupyter.widget-view+json": {
       "model_id": "4cdf156cf0f14549bc3248ac774b9db3",
       "version_major": 2,
       "version_minor": 0
      },
      "text/plain": [
       "  0%|          | 0/105 [00:00<?, ?it/s]"
      ]
     },
     "metadata": {},
     "output_type": "display_data"
    },
    {
     "name": "stderr",
     "output_type": "stream",
     "text": [
      "2023-05-20 11:35:00,032 - INFO - fold:1 epoch : 7,train loss 0.03856183644523446 map:0.3665852819340473 starthesi:0.2139365228770002 turn:0.7966073472405526 walking :0.08921197568458901\n"
     ]
    },
    {
     "data": {
      "application/vnd.jupyter.widget-view+json": {
       "model_id": "eb52bb7f88a04975a9884b448f613394",
       "version_major": 2,
       "version_minor": 0
      },
      "text/plain": [
       "  0%|          | 0/468 [00:00<?, ?it/s]"
      ]
     },
     "metadata": {},
     "output_type": "display_data"
    },
    {
     "data": {
      "application/vnd.jupyter.widget-view+json": {
       "model_id": "b583eafca3a34126bcf9182d4f321888",
       "version_major": 2,
       "version_minor": 0
      },
      "text/plain": [
       "  0%|          | 0/105 [00:00<?, ?it/s]"
      ]
     },
     "metadata": {},
     "output_type": "display_data"
    },
    {
     "name": "stderr",
     "output_type": "stream",
     "text": [
      "2023-05-20 11:36:05,690 - INFO - fold:1 epoch : 8,train loss 0.0325310598157394 map:0.37215835432815986 starthesi:0.21488088539864564 turn:0.8111449580210632 walking :0.09044921956477052\n"
     ]
    },
    {
     "data": {
      "application/vnd.jupyter.widget-view+json": {
       "model_id": "8a38baa7f657424c990b6d643e14ce3f",
       "version_major": 2,
       "version_minor": 0
      },
      "text/plain": [
       "  0%|          | 0/468 [00:00<?, ?it/s]"
      ]
     },
     "metadata": {},
     "output_type": "display_data"
    },
    {
     "data": {
      "application/vnd.jupyter.widget-view+json": {
       "model_id": "0dd54c335c4b4262af0cb8ec7a724b58",
       "version_major": 2,
       "version_minor": 0
      },
      "text/plain": [
       "  0%|          | 0/105 [00:00<?, ?it/s]"
      ]
     },
     "metadata": {},
     "output_type": "display_data"
    },
    {
     "name": "stderr",
     "output_type": "stream",
     "text": [
      "2023-05-20 11:37:12,149 - INFO - fold:1 epoch : 9,train loss 0.028432576480305664 map:0.35688333056179555 starthesi:0.1780612754628344 turn:0.8003371898914069 walking :0.09225152633114532\n",
      "2023-05-20 11:37:12,176 - INFO - [fold 1] done in 647 s\n",
      "2023-05-20 11:37:12,181 - INFO - start fold:2\n"
     ]
    },
    {
     "data": {
      "application/vnd.jupyter.widget-view+json": {
       "model_id": "00ef9724525a490c877b713628027461",
       "version_major": 2,
       "version_minor": 0
      },
      "text/plain": [
       "  0%|          | 0/468 [00:00<?, ?it/s]"
      ]
     },
     "metadata": {},
     "output_type": "display_data"
    },
    {
     "data": {
      "application/vnd.jupyter.widget-view+json": {
       "model_id": "b60148d8020e4d429c6e8493b79fe828",
       "version_major": 2,
       "version_minor": 0
      },
      "text/plain": [
       "  0%|          | 0/104 [00:00<?, ?it/s]"
      ]
     },
     "metadata": {},
     "output_type": "display_data"
    },
    {
     "name": "stderr",
     "output_type": "stream",
     "text": [
      "2023-05-20 11:38:16,697 - INFO - fold:2 epoch : 0,train loss 0.19137365792870012 map:0.28385965730463264 starthesi:0.0636102221589927 turn:0.7718909523558576 walking :0.016077797399047557\n"
     ]
    },
    {
     "name": "stdout",
     "output_type": "stream",
     "text": [
      "save weight\n"
     ]
    },
    {
     "data": {
      "application/vnd.jupyter.widget-view+json": {
       "model_id": "e28e63f41f1c48369ec9f4c9a6cdaf37",
       "version_major": 2,
       "version_minor": 0
      },
      "text/plain": [
       "  0%|          | 0/468 [00:00<?, ?it/s]"
      ]
     },
     "metadata": {},
     "output_type": "display_data"
    },
    {
     "data": {
      "application/vnd.jupyter.widget-view+json": {
       "model_id": "e00b6efc2e784a12a0b417712490c090",
       "version_major": 2,
       "version_minor": 0
      },
      "text/plain": [
       "  0%|          | 0/104 [00:00<?, ?it/s]"
      ]
     },
     "metadata": {},
     "output_type": "display_data"
    },
    {
     "name": "stderr",
     "output_type": "stream",
     "text": [
      "2023-05-20 11:39:21,259 - INFO - fold:2 epoch : 1,train loss 0.12376600389695193 map:0.28238949140853564 starthesi:0.03766465507421965 turn:0.7875895179897708 walking :0.021914301161616363\n"
     ]
    },
    {
     "name": "stdout",
     "output_type": "stream",
     "text": [
      "save weight\n"
     ]
    },
    {
     "data": {
      "application/vnd.jupyter.widget-view+json": {
       "model_id": "04b2748e42ce41e2af191abcf28674a6",
       "version_major": 2,
       "version_minor": 0
      },
      "text/plain": [
       "  0%|          | 0/468 [00:00<?, ?it/s]"
      ]
     },
     "metadata": {},
     "output_type": "display_data"
    },
    {
     "data": {
      "application/vnd.jupyter.widget-view+json": {
       "model_id": "4195916ba077404b9006a6892716f13c",
       "version_major": 2,
       "version_minor": 0
      },
      "text/plain": [
       "  0%|          | 0/104 [00:00<?, ?it/s]"
      ]
     },
     "metadata": {},
     "output_type": "display_data"
    },
    {
     "name": "stderr",
     "output_type": "stream",
     "text": [
      "2023-05-20 11:40:25,487 - INFO - fold:2 epoch : 2,train loss 0.10389131658240898 map:0.30000185521595174 starthesi:0.05711461381395423 turn:0.8101188806274758 walking :0.032772071206425085\n"
     ]
    },
    {
     "name": "stdout",
     "output_type": "stream",
     "text": [
      "save weight\n"
     ]
    },
    {
     "data": {
      "application/vnd.jupyter.widget-view+json": {
       "model_id": "74ea64e3375e4e79bd941b21aa2f0414",
       "version_major": 2,
       "version_minor": 0
      },
      "text/plain": [
       "  0%|          | 0/468 [00:00<?, ?it/s]"
      ]
     },
     "metadata": {},
     "output_type": "display_data"
    },
    {
     "data": {
      "application/vnd.jupyter.widget-view+json": {
       "model_id": "a4d16f3d91c04ce0bbb91fd2dd8233f9",
       "version_major": 2,
       "version_minor": 0
      },
      "text/plain": [
       "  0%|          | 0/104 [00:00<?, ?it/s]"
      ]
     },
     "metadata": {},
     "output_type": "display_data"
    },
    {
     "name": "stderr",
     "output_type": "stream",
     "text": [
      "2023-05-20 11:41:29,852 - INFO - fold:2 epoch : 3,train loss 0.08763090659601566 map:0.31790118178127275 starthesi:0.08425835526483301 turn:0.8199220850485338 walking :0.049523105030451355\n"
     ]
    },
    {
     "name": "stdout",
     "output_type": "stream",
     "text": [
      "save weight\n"
     ]
    },
    {
     "data": {
      "application/vnd.jupyter.widget-view+json": {
       "model_id": "1cbdd6d122394f6d9166ae1597817bbb",
       "version_major": 2,
       "version_minor": 0
      },
      "text/plain": [
       "  0%|          | 0/468 [00:00<?, ?it/s]"
      ]
     },
     "metadata": {},
     "output_type": "display_data"
    },
    {
     "data": {
      "application/vnd.jupyter.widget-view+json": {
       "model_id": "26781fa4e5b949fdab311a37ac0cd281",
       "version_major": 2,
       "version_minor": 0
      },
      "text/plain": [
       "  0%|          | 0/104 [00:00<?, ?it/s]"
      ]
     },
     "metadata": {},
     "output_type": "display_data"
    },
    {
     "name": "stderr",
     "output_type": "stream",
     "text": [
      "2023-05-20 11:42:33,893 - INFO - fold:2 epoch : 4,train loss 0.0736338218423323 map:0.3255390747105649 starthesi:0.09870367852084756 turn:0.8225405870506158 walking :0.05537295856023138\n"
     ]
    },
    {
     "name": "stdout",
     "output_type": "stream",
     "text": [
      "save weight\n"
     ]
    },
    {
     "data": {
      "application/vnd.jupyter.widget-view+json": {
       "model_id": "537ca7db1af643b8bb09650ee9140a9a",
       "version_major": 2,
       "version_minor": 0
      },
      "text/plain": [
       "  0%|          | 0/468 [00:00<?, ?it/s]"
      ]
     },
     "metadata": {},
     "output_type": "display_data"
    },
    {
     "data": {
      "application/vnd.jupyter.widget-view+json": {
       "model_id": "0d8c02cfc8d84bbcb59d78f849210526",
       "version_major": 2,
       "version_minor": 0
      },
      "text/plain": [
       "  0%|          | 0/104 [00:00<?, ?it/s]"
      ]
     },
     "metadata": {},
     "output_type": "display_data"
    },
    {
     "name": "stderr",
     "output_type": "stream",
     "text": [
      "2023-05-20 11:43:37,890 - INFO - fold:2 epoch : 5,train loss 0.060544668300809644 map:0.32988807107623097 starthesi:0.11571071016220785 turn:0.8210816448773697 walking :0.0528718581891153\n"
     ]
    },
    {
     "data": {
      "application/vnd.jupyter.widget-view+json": {
       "model_id": "6b53c55343b74d00b911fbff16fbfc89",
       "version_major": 2,
       "version_minor": 0
      },
      "text/plain": [
       "  0%|          | 0/468 [00:00<?, ?it/s]"
      ]
     },
     "metadata": {},
     "output_type": "display_data"
    },
    {
     "data": {
      "application/vnd.jupyter.widget-view+json": {
       "model_id": "07552d637c8742d4bcf9b9428106ea8d",
       "version_major": 2,
       "version_minor": 0
      },
      "text/plain": [
       "  0%|          | 0/104 [00:00<?, ?it/s]"
      ]
     },
     "metadata": {},
     "output_type": "display_data"
    },
    {
     "name": "stderr",
     "output_type": "stream",
     "text": [
      "2023-05-20 11:44:42,137 - INFO - fold:2 epoch : 6,train loss 0.05088427615089294 map:0.33302645556196664 starthesi:0.09904259458982834 turn:0.822062914972417 walking :0.07797385712365457\n"
     ]
    },
    {
     "name": "stdout",
     "output_type": "stream",
     "text": [
      "save weight\n"
     ]
    },
    {
     "data": {
      "application/vnd.jupyter.widget-view+json": {
       "model_id": "af85abdf96ee4e27b009cddd21b8a6b3",
       "version_major": 2,
       "version_minor": 0
      },
      "text/plain": [
       "  0%|          | 0/468 [00:00<?, ?it/s]"
      ]
     },
     "metadata": {},
     "output_type": "display_data"
    },
    {
     "data": {
      "application/vnd.jupyter.widget-view+json": {
       "model_id": "c6e5714d87ef4dde8a29ef4af62ee0b5",
       "version_major": 2,
       "version_minor": 0
      },
      "text/plain": [
       "  0%|          | 0/104 [00:00<?, ?it/s]"
      ]
     },
     "metadata": {},
     "output_type": "display_data"
    },
    {
     "name": "stderr",
     "output_type": "stream",
     "text": [
      "2023-05-20 11:45:46,673 - INFO - fold:2 epoch : 7,train loss 0.040999620826516904 map:0.31343737424659607 starthesi:0.08402409464920464 turn:0.8062181775634828 walking :0.050069850527100626\n"
     ]
    },
    {
     "data": {
      "application/vnd.jupyter.widget-view+json": {
       "model_id": "cb545505b68b4c29a70b8e67ae1e3f54",
       "version_major": 2,
       "version_minor": 0
      },
      "text/plain": [
       "  0%|          | 0/468 [00:00<?, ?it/s]"
      ]
     },
     "metadata": {},
     "output_type": "display_data"
    },
    {
     "data": {
      "application/vnd.jupyter.widget-view+json": {
       "model_id": "ddaffeb86df94f7996cd05a0c90a51fb",
       "version_major": 2,
       "version_minor": 0
      },
      "text/plain": [
       "  0%|          | 0/104 [00:00<?, ?it/s]"
      ]
     },
     "metadata": {},
     "output_type": "display_data"
    },
    {
     "name": "stderr",
     "output_type": "stream",
     "text": [
      "2023-05-20 11:46:50,902 - INFO - fold:2 epoch : 8,train loss 0.03447697714317399 map:0.32292376482205987 starthesi:0.11280472516966679 turn:0.8062046565237031 walking :0.049761912772809766\n"
     ]
    },
    {
     "data": {
      "application/vnd.jupyter.widget-view+json": {
       "model_id": "3860f5b380f64edbbac170538d4d564c",
       "version_major": 2,
       "version_minor": 0
      },
      "text/plain": [
       "  0%|          | 0/468 [00:00<?, ?it/s]"
      ]
     },
     "metadata": {},
     "output_type": "display_data"
    },
    {
     "data": {
      "application/vnd.jupyter.widget-view+json": {
       "model_id": "0e9f10447b4a433ab406033c455a02ac",
       "version_major": 2,
       "version_minor": 0
      },
      "text/plain": [
       "  0%|          | 0/104 [00:00<?, ?it/s]"
      ]
     },
     "metadata": {},
     "output_type": "display_data"
    },
    {
     "name": "stderr",
     "output_type": "stream",
     "text": [
      "2023-05-20 11:47:55,013 - INFO - fold:2 epoch : 9,train loss 0.030641723916722603 map:0.32458773963196197 starthesi:0.11261570241049851 turn:0.8075649208908156 walking :0.053582595594571805\n",
      "2023-05-20 11:47:55,030 - INFO - [fold 2] done in 643 s\n",
      "2023-05-20 11:47:55,034 - INFO - start fold:3\n"
     ]
    },
    {
     "data": {
      "application/vnd.jupyter.widget-view+json": {
       "model_id": "f2898f9823d54c2a9a01c4118a72850b",
       "version_major": 2,
       "version_minor": 0
      },
      "text/plain": [
       "  0%|          | 0/405 [00:00<?, ?it/s]"
      ]
     },
     "metadata": {},
     "output_type": "display_data"
    },
    {
     "data": {
      "application/vnd.jupyter.widget-view+json": {
       "model_id": "4f3ffdbceb12439fbfa9da1b760ba983",
       "version_major": 2,
       "version_minor": 0
      },
      "text/plain": [
       "  0%|          | 0/167 [00:00<?, ?it/s]"
      ]
     },
     "metadata": {},
     "output_type": "display_data"
    },
    {
     "name": "stderr",
     "output_type": "stream",
     "text": [
      "2023-05-20 11:48:58,417 - INFO - fold:3 epoch : 0,train loss 0.13549370043623596 map:0.49808120002122375 starthesi:0.6596124253555737 turn:0.7632530313123478 walking :0.07137814339574976\n"
     ]
    },
    {
     "name": "stdout",
     "output_type": "stream",
     "text": [
      "save weight\n"
     ]
    },
    {
     "data": {
      "application/vnd.jupyter.widget-view+json": {
       "model_id": "53f2c6d38af94915bd84e8566b53341f",
       "version_major": 2,
       "version_minor": 0
      },
      "text/plain": [
       "  0%|          | 0/405 [00:00<?, ?it/s]"
      ]
     },
     "metadata": {},
     "output_type": "display_data"
    },
    {
     "data": {
      "application/vnd.jupyter.widget-view+json": {
       "model_id": "b7bfdd46cf834dea83dbbe61c5bf9b54",
       "version_major": 2,
       "version_minor": 0
      },
      "text/plain": [
       "  0%|          | 0/167 [00:00<?, ?it/s]"
      ]
     },
     "metadata": {},
     "output_type": "display_data"
    },
    {
     "name": "stderr",
     "output_type": "stream",
     "text": [
      "2023-05-20 11:50:01,020 - INFO - fold:3 epoch : 1,train loss 0.08695196353910882 map:0.5476635759977583 starthesi:0.6872997296282805 turn:0.7873576949664468 walking :0.16833330339854738\n"
     ]
    },
    {
     "name": "stdout",
     "output_type": "stream",
     "text": [
      "save weight\n"
     ]
    },
    {
     "data": {
      "application/vnd.jupyter.widget-view+json": {
       "model_id": "e92881488eaa4373add77c963929d2b1",
       "version_major": 2,
       "version_minor": 0
      },
      "text/plain": [
       "  0%|          | 0/405 [00:00<?, ?it/s]"
      ]
     },
     "metadata": {},
     "output_type": "display_data"
    },
    {
     "data": {
      "application/vnd.jupyter.widget-view+json": {
       "model_id": "085e65a592334d358613177e93e8f4ee",
       "version_major": 2,
       "version_minor": 0
      },
      "text/plain": [
       "  0%|          | 0/167 [00:00<?, ?it/s]"
      ]
     },
     "metadata": {},
     "output_type": "display_data"
    },
    {
     "name": "stderr",
     "output_type": "stream",
     "text": [
      "2023-05-20 11:51:04,692 - INFO - fold:3 epoch : 2,train loss 0.07417031739275029 map:0.5096048725088583 starthesi:0.5704935583712418 turn:0.7492934336091877 walking :0.2090276255461454\n"
     ]
    },
    {
     "name": "stdout",
     "output_type": "stream",
     "text": [
      "save weight\n"
     ]
    },
    {
     "data": {
      "application/vnd.jupyter.widget-view+json": {
       "model_id": "1c09768f99e2425e9ae284f640a40d0d",
       "version_major": 2,
       "version_minor": 0
      },
      "text/plain": [
       "  0%|          | 0/405 [00:00<?, ?it/s]"
      ]
     },
     "metadata": {},
     "output_type": "display_data"
    },
    {
     "data": {
      "application/vnd.jupyter.widget-view+json": {
       "model_id": "03dc2f72525e481a9f33afcaea6e3543",
       "version_major": 2,
       "version_minor": 0
      },
      "text/plain": [
       "  0%|          | 0/167 [00:00<?, ?it/s]"
      ]
     },
     "metadata": {},
     "output_type": "display_data"
    },
    {
     "name": "stderr",
     "output_type": "stream",
     "text": [
      "2023-05-20 11:52:08,342 - INFO - fold:3 epoch : 3,train loss 0.0646495349475263 map:0.5345494791741694 starthesi:0.587096380619569 turn:0.8009937410873192 walking :0.21555831581562013\n"
     ]
    },
    {
     "name": "stdout",
     "output_type": "stream",
     "text": [
      "save weight\n"
     ]
    },
    {
     "data": {
      "application/vnd.jupyter.widget-view+json": {
       "model_id": "aed55289c4f44cb7953072582530130e",
       "version_major": 2,
       "version_minor": 0
      },
      "text/plain": [
       "  0%|          | 0/405 [00:00<?, ?it/s]"
      ]
     },
     "metadata": {},
     "output_type": "display_data"
    },
    {
     "data": {
      "application/vnd.jupyter.widget-view+json": {
       "model_id": "23315c70b13f4294b9ddcf478bd5998f",
       "version_major": 2,
       "version_minor": 0
      },
      "text/plain": [
       "  0%|          | 0/167 [00:00<?, ?it/s]"
      ]
     },
     "metadata": {},
     "output_type": "display_data"
    },
    {
     "name": "stderr",
     "output_type": "stream",
     "text": [
      "2023-05-20 11:53:12,098 - INFO - fold:3 epoch : 4,train loss 0.05650775760734155 map:0.4946467004848649 starthesi:0.5214142977554161 turn:0.7972613320041896 walking :0.16526447169498915\n"
     ]
    },
    {
     "data": {
      "application/vnd.jupyter.widget-view+json": {
       "model_id": "804bc968106641439d39af060cb7fa7b",
       "version_major": 2,
       "version_minor": 0
      },
      "text/plain": [
       "  0%|          | 0/405 [00:00<?, ?it/s]"
      ]
     },
     "metadata": {},
     "output_type": "display_data"
    },
    {
     "data": {
      "application/vnd.jupyter.widget-view+json": {
       "model_id": "7faa9d36473a4b8f8aadde9132c42275",
       "version_major": 2,
       "version_minor": 0
      },
      "text/plain": [
       "  0%|          | 0/167 [00:00<?, ?it/s]"
      ]
     },
     "metadata": {},
     "output_type": "display_data"
    },
    {
     "name": "stderr",
     "output_type": "stream",
     "text": [
      "2023-05-20 11:54:14,098 - INFO - fold:3 epoch : 5,train loss 0.04829435759442456 map:0.45873637276813756 starthesi:0.43049512064579554 turn:0.7748262557811191 walking :0.170887741877498\n"
     ]
    },
    {
     "data": {
      "application/vnd.jupyter.widget-view+json": {
       "model_id": "825acd5c5ffa4591b85b4f6cefdb42ae",
       "version_major": 2,
       "version_minor": 0
      },
      "text/plain": [
       "  0%|          | 0/405 [00:00<?, ?it/s]"
      ]
     },
     "metadata": {},
     "output_type": "display_data"
    },
    {
     "data": {
      "application/vnd.jupyter.widget-view+json": {
       "model_id": "4e40fa17e54f49dc89bf6112efdee4b1",
       "version_major": 2,
       "version_minor": 0
      },
      "text/plain": [
       "  0%|          | 0/167 [00:00<?, ?it/s]"
      ]
     },
     "metadata": {},
     "output_type": "display_data"
    },
    {
     "name": "stderr",
     "output_type": "stream",
     "text": [
      "2023-05-20 11:55:16,312 - INFO - fold:3 epoch : 6,train loss 0.041296402361519914 map:0.44862323249561536 starthesi:0.40273500317082256 turn:0.7793578099736018 walking :0.16377688434242166\n"
     ]
    },
    {
     "data": {
      "application/vnd.jupyter.widget-view+json": {
       "model_id": "28f096d2a39244caa094e1711a88a701",
       "version_major": 2,
       "version_minor": 0
      },
      "text/plain": [
       "  0%|          | 0/405 [00:00<?, ?it/s]"
      ]
     },
     "metadata": {},
     "output_type": "display_data"
    },
    {
     "data": {
      "application/vnd.jupyter.widget-view+json": {
       "model_id": "c0c4e50eac9b4a4b87d1daf725aba78f",
       "version_major": 2,
       "version_minor": 0
      },
      "text/plain": [
       "  0%|          | 0/167 [00:00<?, ?it/s]"
      ]
     },
     "metadata": {},
     "output_type": "display_data"
    },
    {
     "name": "stderr",
     "output_type": "stream",
     "text": [
      "2023-05-20 11:56:18,743 - INFO - fold:3 epoch : 7,train loss 0.035142300970116516 map:0.43451521318886277 starthesi:0.36250615478391873 turn:0.7684500385548905 walking :0.17258944622777905\n"
     ]
    },
    {
     "data": {
      "application/vnd.jupyter.widget-view+json": {
       "model_id": "c6e2335be32442ce8f93ec52670c034a",
       "version_major": 2,
       "version_minor": 0
      },
      "text/plain": [
       "  0%|          | 0/405 [00:00<?, ?it/s]"
      ]
     },
     "metadata": {},
     "output_type": "display_data"
    },
    {
     "data": {
      "application/vnd.jupyter.widget-view+json": {
       "model_id": "89f30ebb602043bab7bd00288ae03edc",
       "version_major": 2,
       "version_minor": 0
      },
      "text/plain": [
       "  0%|          | 0/167 [00:00<?, ?it/s]"
      ]
     },
     "metadata": {},
     "output_type": "display_data"
    },
    {
     "name": "stderr",
     "output_type": "stream",
     "text": [
      "2023-05-20 11:57:21,609 - INFO - fold:3 epoch : 8,train loss 0.030384337055830307 map:0.4396994462720047 starthesi:0.38039700553898553 turn:0.7763947057504758 walking :0.16230662752655284\n"
     ]
    },
    {
     "data": {
      "application/vnd.jupyter.widget-view+json": {
       "model_id": "c97274a3381743a685da03d48d3b6afd",
       "version_major": 2,
       "version_minor": 0
      },
      "text/plain": [
       "  0%|          | 0/405 [00:00<?, ?it/s]"
      ]
     },
     "metadata": {},
     "output_type": "display_data"
    },
    {
     "data": {
      "application/vnd.jupyter.widget-view+json": {
       "model_id": "f16d0bdc5a834a928e644c0fabfec78a",
       "version_major": 2,
       "version_minor": 0
      },
      "text/plain": [
       "  0%|          | 0/167 [00:00<?, ?it/s]"
      ]
     },
     "metadata": {},
     "output_type": "display_data"
    },
    {
     "name": "stderr",
     "output_type": "stream",
     "text": [
      "2023-05-20 11:58:24,390 - INFO - fold:3 epoch : 9,train loss 0.027335821621027993 map:0.4348756899766015 starthesi:0.36960361201820974 turn:0.7717342397466344 walking :0.1632892181649604\n",
      "2023-05-20 11:58:24,413 - INFO - [fold 3] done in 629 s\n",
      "2023-05-20 11:58:24,417 - INFO - start fold:4\n"
     ]
    },
    {
     "data": {
      "application/vnd.jupyter.widget-view+json": {
       "model_id": "032f9ed968cb4b99aeacd56321c9b04c",
       "version_major": 2,
       "version_minor": 0
      },
      "text/plain": [
       "  0%|          | 0/467 [00:00<?, ?it/s]"
      ]
     },
     "metadata": {},
     "output_type": "display_data"
    },
    {
     "data": {
      "application/vnd.jupyter.widget-view+json": {
       "model_id": "df5a81febda3446c9ed51be874465076",
       "version_major": 2,
       "version_minor": 0
      },
      "text/plain": [
       "  0%|          | 0/105 [00:00<?, ?it/s]"
      ]
     },
     "metadata": {},
     "output_type": "display_data"
    },
    {
     "name": "stderr",
     "output_type": "stream",
     "text": [
      "2023-05-20 11:59:29,546 - INFO - fold:4 epoch : 0,train loss 0.1844627688174202 map:0.1782122348253864 starthesi:0.12426386125079261 turn:0.38431929610623733 walking :0.026053547119129196\n"
     ]
    },
    {
     "name": "stdout",
     "output_type": "stream",
     "text": [
      "save weight\n"
     ]
    },
    {
     "data": {
      "application/vnd.jupyter.widget-view+json": {
       "model_id": "d1ca92a5382744d5ba8a72866b4e1242",
       "version_major": 2,
       "version_minor": 0
      },
      "text/plain": [
       "  0%|          | 0/467 [00:00<?, ?it/s]"
      ]
     },
     "metadata": {},
     "output_type": "display_data"
    },
    {
     "data": {
      "application/vnd.jupyter.widget-view+json": {
       "model_id": "67df54b2eae149b1913e31c681d3ebd0",
       "version_major": 2,
       "version_minor": 0
      },
      "text/plain": [
       "  0%|          | 0/105 [00:00<?, ?it/s]"
      ]
     },
     "metadata": {},
     "output_type": "display_data"
    },
    {
     "name": "stderr",
     "output_type": "stream",
     "text": [
      "2023-05-20 12:00:34,004 - INFO - fold:4 epoch : 1,train loss 0.11918681488238769 map:0.2118002988052288 starthesi:0.1139687891967724 turn:0.4719588925524061 walking :0.049473214666507934\n"
     ]
    },
    {
     "name": "stdout",
     "output_type": "stream",
     "text": [
      "save weight\n"
     ]
    },
    {
     "data": {
      "application/vnd.jupyter.widget-view+json": {
       "model_id": "2b29f245db624046b62305c29bcd42fd",
       "version_major": 2,
       "version_minor": 0
      },
      "text/plain": [
       "  0%|          | 0/467 [00:00<?, ?it/s]"
      ]
     },
     "metadata": {},
     "output_type": "display_data"
    },
    {
     "data": {
      "application/vnd.jupyter.widget-view+json": {
       "model_id": "bea6c4d4d08a4078b156c7e6d391b132",
       "version_major": 2,
       "version_minor": 0
      },
      "text/plain": [
       "  0%|          | 0/105 [00:00<?, ?it/s]"
      ]
     },
     "metadata": {},
     "output_type": "display_data"
    },
    {
     "name": "stderr",
     "output_type": "stream",
     "text": [
      "2023-05-20 12:01:38,535 - INFO - fold:4 epoch : 2,train loss 0.10050177741277269 map:0.25297604967690573 starthesi:0.19549348162479596 turn:0.4763579327472639 walking :0.08707673465865738\n"
     ]
    },
    {
     "name": "stdout",
     "output_type": "stream",
     "text": [
      "save weight\n"
     ]
    },
    {
     "data": {
      "application/vnd.jupyter.widget-view+json": {
       "model_id": "dfc8a39ac695475e84c291a19b21ca45",
       "version_major": 2,
       "version_minor": 0
      },
      "text/plain": [
       "  0%|          | 0/467 [00:00<?, ?it/s]"
      ]
     },
     "metadata": {},
     "output_type": "display_data"
    },
    {
     "data": {
      "application/vnd.jupyter.widget-view+json": {
       "model_id": "c477242001e44fcdbacdb5623ccf9448",
       "version_major": 2,
       "version_minor": 0
      },
      "text/plain": [
       "  0%|          | 0/105 [00:00<?, ?it/s]"
      ]
     },
     "metadata": {},
     "output_type": "display_data"
    },
    {
     "name": "stderr",
     "output_type": "stream",
     "text": [
      "2023-05-20 12:02:42,676 - INFO - fold:4 epoch : 3,train loss 0.08613785746760619 map:0.2562181040622174 starthesi:0.18685809328016134 turn:0.4673701623067355 walking :0.11442605659975538\n"
     ]
    },
    {
     "name": "stdout",
     "output_type": "stream",
     "text": [
      "save weight\n"
     ]
    },
    {
     "data": {
      "application/vnd.jupyter.widget-view+json": {
       "model_id": "5d530f5ee38245ddb61e577e89699c06",
       "version_major": 2,
       "version_minor": 0
      },
      "text/plain": [
       "  0%|          | 0/467 [00:00<?, ?it/s]"
      ]
     },
     "metadata": {},
     "output_type": "display_data"
    },
    {
     "data": {
      "application/vnd.jupyter.widget-view+json": {
       "model_id": "e913074522764eb090913a8540a3df64",
       "version_major": 2,
       "version_minor": 0
      },
      "text/plain": [
       "  0%|          | 0/105 [00:00<?, ?it/s]"
      ]
     },
     "metadata": {},
     "output_type": "display_data"
    },
    {
     "name": "stderr",
     "output_type": "stream",
     "text": [
      "2023-05-20 12:03:47,236 - INFO - fold:4 epoch : 4,train loss 0.07317550390224896 map:0.2483160522622537 starthesi:0.1564082021482584 turn:0.4549907838378668 walking :0.13354917080063586\n"
     ]
    },
    {
     "name": "stdout",
     "output_type": "stream",
     "text": [
      "save weight\n"
     ]
    },
    {
     "data": {
      "application/vnd.jupyter.widget-view+json": {
       "model_id": "890ebf63cadc4e7d988284393f07b495",
       "version_major": 2,
       "version_minor": 0
      },
      "text/plain": [
       "  0%|          | 0/467 [00:00<?, ?it/s]"
      ]
     },
     "metadata": {},
     "output_type": "display_data"
    },
    {
     "data": {
      "application/vnd.jupyter.widget-view+json": {
       "model_id": "a17f6a578cd348598ec3b9203e7094d5",
       "version_major": 2,
       "version_minor": 0
      },
      "text/plain": [
       "  0%|          | 0/105 [00:00<?, ?it/s]"
      ]
     },
     "metadata": {},
     "output_type": "display_data"
    },
    {
     "name": "stderr",
     "output_type": "stream",
     "text": [
      "2023-05-20 12:04:51,586 - INFO - fold:4 epoch : 5,train loss 0.0606253167047969 map:0.25402821789531776 starthesi:0.23572615937125702 turn:0.4744302510288351 walking :0.05192824328586115\n"
     ]
    },
    {
     "data": {
      "application/vnd.jupyter.widget-view+json": {
       "model_id": "0786b78ce46a4d9c8ad473ba34aabee9",
       "version_major": 2,
       "version_minor": 0
      },
      "text/plain": [
       "  0%|          | 0/467 [00:00<?, ?it/s]"
      ]
     },
     "metadata": {},
     "output_type": "display_data"
    },
    {
     "data": {
      "application/vnd.jupyter.widget-view+json": {
       "model_id": "4af7f76c10bf47b2be0a3707ca50f271",
       "version_major": 2,
       "version_minor": 0
      },
      "text/plain": [
       "  0%|          | 0/105 [00:00<?, ?it/s]"
      ]
     },
     "metadata": {},
     "output_type": "display_data"
    },
    {
     "name": "stderr",
     "output_type": "stream",
     "text": [
      "2023-05-20 12:05:56,349 - INFO - fold:4 epoch : 6,train loss 0.04879382458102652 map:0.23703067726633129 starthesi:0.18114340985679192 turn:0.4785475979625178 walking :0.051401023979684136\n"
     ]
    },
    {
     "data": {
      "application/vnd.jupyter.widget-view+json": {
       "model_id": "a52cb3c4577a493f9a82dae3e587f894",
       "version_major": 2,
       "version_minor": 0
      },
      "text/plain": [
       "  0%|          | 0/467 [00:00<?, ?it/s]"
      ]
     },
     "metadata": {},
     "output_type": "display_data"
    },
    {
     "data": {
      "application/vnd.jupyter.widget-view+json": {
       "model_id": "7bb882ca1a3047a4868cd705619cf56d",
       "version_major": 2,
       "version_minor": 0
      },
      "text/plain": [
       "  0%|          | 0/105 [00:00<?, ?it/s]"
      ]
     },
     "metadata": {},
     "output_type": "display_data"
    },
    {
     "name": "stderr",
     "output_type": "stream",
     "text": [
      "2023-05-20 12:07:01,514 - INFO - fold:4 epoch : 7,train loss 0.040412867956294236 map:0.2286999187073023 starthesi:0.1500677529309649 turn:0.47890438088563636 walking :0.05712762230530564\n"
     ]
    },
    {
     "data": {
      "application/vnd.jupyter.widget-view+json": {
       "model_id": "2746675a35bf497d801f9bffcf9ab0ac",
       "version_major": 2,
       "version_minor": 0
      },
      "text/plain": [
       "  0%|          | 0/467 [00:00<?, ?it/s]"
      ]
     },
     "metadata": {},
     "output_type": "display_data"
    },
    {
     "data": {
      "application/vnd.jupyter.widget-view+json": {
       "model_id": "19a533ff7c4b41c797ec2492d71f9c5f",
       "version_major": 2,
       "version_minor": 0
      },
      "text/plain": [
       "  0%|          | 0/105 [00:00<?, ?it/s]"
      ]
     },
     "metadata": {},
     "output_type": "display_data"
    },
    {
     "name": "stderr",
     "output_type": "stream",
     "text": [
      "2023-05-20 12:08:09,132 - INFO - fold:4 epoch : 8,train loss 0.03476924498364074 map:0.22889216478267496 starthesi:0.1862465486345983 turn:0.45881150669921955 walking :0.04161843901420707\n"
     ]
    },
    {
     "data": {
      "application/vnd.jupyter.widget-view+json": {
       "model_id": "11309716dbc54818ba371f857c444c4b",
       "version_major": 2,
       "version_minor": 0
      },
      "text/plain": [
       "  0%|          | 0/467 [00:00<?, ?it/s]"
      ]
     },
     "metadata": {},
     "output_type": "display_data"
    },
    {
     "data": {
      "application/vnd.jupyter.widget-view+json": {
       "model_id": "c480d4c030084dfbb969c60358e9c949",
       "version_major": 2,
       "version_minor": 0
      },
      "text/plain": [
       "  0%|          | 0/105 [00:00<?, ?it/s]"
      ]
     },
     "metadata": {},
     "output_type": "display_data"
    },
    {
     "name": "stderr",
     "output_type": "stream",
     "text": [
      "2023-05-20 12:09:14,905 - INFO - fold:4 epoch : 9,train loss 0.030412360635931092 map:0.2328010617428555 starthesi:0.1917497950428244 turn:0.4629526672142125 walking :0.04370072297152945\n",
      "2023-05-20 12:09:14,919 - INFO - [fold 4] done in 651 s\n",
      "2023-05-20 12:09:15,130 - INFO - [gru] done in 3232 s\n"
     ]
    }
   ],
   "source": [
    "with timer(\"gru\"):\n",
    "    set_seed(seed)\n",
    "    y_oof = np.empty([len(target_array),1000,3])\n",
    "    gkf = StratifiedGroupKFold(n_splits=n_splits,shuffle=True,random_state = seed)\n",
    "    for fold, (train_idx, valid_idx) in enumerate(gkf.split(numerical_array, \n",
    "                                                             y = df_id[\"group\"].values,\n",
    "                                                             groups=df_id[\"subject\"].values)):\n",
    "        LOGGER.info(f\"start fold:{fold}\")\n",
    "        with timer(f\"fold {fold}\"):\n",
    "            train_numerical_array = numerical_array[train_idx]\n",
    "            train_target_array = target_array[train_idx]\n",
    "            train_mask_array = mask_array[train_idx]\n",
    "\n",
    "            val_numerical_array = numerical_array[valid_idx]\n",
    "            val_target_array = target_array[valid_idx]\n",
    "            val_mask_array = mask_array[valid_idx]\n",
    "            val_pred_array = pred_use_array[valid_idx]\n",
    "            train_ = FogDataset(train_numerical_array,\n",
    "                                train_mask_array,\n",
    "                                train=True,\n",
    "                                y=train_target_array)\n",
    "            \n",
    "            val_ = FogDataset(val_numerical_array,\n",
    "                                val_mask_array,\n",
    "                                train=True,\n",
    "                                y=val_target_array)\n",
    "            \n",
    "            \n",
    "            train_loader = DataLoader(dataset=train_, \n",
    "                                  batch_size=batch_size, \n",
    "                                  shuffle = True , num_workers=8)\n",
    "            val_loader = DataLoader(dataset=val_, \n",
    "                                batch_size=batch_size, \n",
    "                                shuffle = False , num_workers=8)\n",
    "            \n",
    "            model = FogRnnModel()\n",
    "            model = model.to(device)\n",
    "            param_optimizer = list(model.named_parameters())\n",
    "            no_decay = ['bias', 'LayerNorm.bias', 'LayerNorm.weight']\n",
    "            optimizer_grouped_parameters = [\n",
    "                {'params': [p for n, p in param_optimizer if not any(nd in n for nd in no_decay)], 'weight_decay': weight_decay},\n",
    "                {'params': [p for n, p in param_optimizer if any(nd in n for nd in no_decay)], 'weight_decay': 0.0}\n",
    "            ]\n",
    "            optimizer = AdamW(optimizer_grouped_parameters,\n",
    "                              lr=lr,\n",
    "                              weight_decay=weight_decay,\n",
    "                              )\n",
    "            num_train_optimization_steps = int(len(train_loader) * n_epochs)\n",
    "            scheduler = get_linear_schedule_with_warmup(optimizer,\n",
    "                                                        num_warmup_steps=num_warmup_steps,\n",
    "                                                        num_training_steps=num_train_optimization_steps)\n",
    "            criterion = nn.BCEWithLogitsLoss()\n",
    "            best_val_score = 0\n",
    "            for epoch in range(n_epochs):\n",
    "                model.train() \n",
    "                train_losses_batch = []\n",
    "                val_losses_batch = []\n",
    "                epoch_loss = 0\n",
    "                train_preds = np.ndarray((0,3))\n",
    "                tk0 = tqdm(train_loader, total=len(train_loader))\n",
    "                for d in tk0:\n",
    "                    # =========================\n",
    "                    # data loader\n",
    "                    # =========================\n",
    "                    input_data_numerical_array = d['input_data_numerical_array'].to(device)\n",
    "                    input_data_mask_array = d['input_data_mask_array'].to(device)\n",
    "                    attention_mask = d['attention_mask'].to(device)\n",
    "                    y = d[\"y\"].to(device)\n",
    "                    optimizer.zero_grad()\n",
    "                    output = model(input_data_numerical_array, \n",
    "                                   input_data_mask_array,\n",
    "                                   attention_mask)\n",
    "                    output1 = output[:,:,2]\n",
    "                    output2 = output[:,:,[0,1]]\n",
    "                    y1 = y[:,:,2]\n",
    "                    y2 = y[:,:,[0,1]]\n",
    "                    loss1 = criterion(output1[input_data_mask_array == 1], y1[input_data_mask_array == 1])\n",
    "                    loss2 = criterion(output2[input_data_mask_array == 1], y2[input_data_mask_array == 1])\n",
    "                    \n",
    "                    loss = loss1 * 0.6 + loss2*0.4\n",
    "                    loss.backward()\n",
    "                    optimizer.step()\n",
    "                    scheduler.step()\n",
    "                    train_losses_batch.append(loss.item())\n",
    "                train_loss = np.mean(train_losses_batch)\n",
    "            \n",
    "                # ==========================\n",
    "                # eval\n",
    "                # ==========================\n",
    "                model.eval()  # switch model to the evaluation mode\n",
    "                val_preds = np.ndarray((0,1000,3))\n",
    "                tk0 = tqdm(val_loader, total=len(val_loader))\n",
    "                with torch.no_grad():  # Do not calculate gradient since we are only predicting\n",
    "                    # Predicting on validation set\n",
    "                    for d in tk0:\n",
    "                        input_data_numerical_array = d['input_data_numerical_array'].to(device)\n",
    "                        input_data_mask_array = d['input_data_mask_array'].to(device)\n",
    "                        attention_mask = d['attention_mask'].to(device)\n",
    "                        output = model(input_data_numerical_array, \n",
    "                                   input_data_mask_array,\n",
    "                                   attention_mask)\n",
    "                        val_preds = np.concatenate([val_preds, output.sigmoid().detach().cpu().numpy()], axis=0)\n",
    "                pred_valid_index = (val_mask_array == 1) & (val_pred_array == 1)\n",
    "                StartHesitation = average_precision_score(val_target_array[pred_valid_index][:,0],\n",
    "                                                          val_preds[pred_valid_index][:,0])\n",
    "                Turn = average_precision_score(val_target_array[pred_valid_index][:,1],\n",
    "                                                          val_preds[pred_valid_index][:,1])\n",
    "                Walking = average_precision_score(val_target_array[pred_valid_index][:,2],\n",
    "                                                          val_preds[pred_valid_index][:,2])\n",
    "                map_score_all = np.mean([StartHesitation,\n",
    "                               Turn,\n",
    "                               Walking])\n",
    "                \n",
    "                LOGGER.info(f\"fold:{fold} epoch : {epoch},train loss {train_loss} map:{map_score_all} starthesi:{StartHesitation} turn:{Turn} walking :{Walking}\")\n",
    "                map_score =  Walking\n",
    "                if map_score >= best_val_score:\n",
    "                    print(\"save weight\")\n",
    "                    best_val_score = map_score\n",
    "                    best_val_preds = val_preds.copy()\n",
    "                    torch.save(model.state_dict(), f\"../output/exp/ex{ex}/ex{ex}_model/ex{ex}_{fold}.pth\") \n",
    "            y_oof[valid_idx] = best_val_preds\n",
    "    np.save(f\"../output/exp/ex{ex}/ex{ex}_oof.npy\",y_oof)"
   ]
  },
  {
   "cell_type": "code",
   "execution_count": 13,
   "id": "45c3286d-4677-401f-8b53-fe3f78682498",
   "metadata": {},
   "outputs": [
    {
     "name": "stderr",
     "output_type": "stream",
     "text": [
      "2023-05-20 12:09:25,580 - INFO - cv map:0.43789848942917436 starthesi:0.3588180649750229 turn:0.7738817601049449 walking :0.1809956432075553\n"
     ]
    }
   ],
   "source": [
    "val_pred_index = (mask_array == 1) & (pred_use_array == 1)\n",
    "StartHesitation = average_precision_score(target_array[val_pred_index][:,0],\n",
    "                                                          y_oof[val_pred_index][:,0])\n",
    "Turn = average_precision_score(target_array[val_pred_index][:,1],\n",
    "                                                          y_oof[val_pred_index][:,1])\n",
    "Walking = average_precision_score(target_array[val_pred_index][:,2],\n",
    "                                                          y_oof[val_pred_index][:,2])\n",
    "\n",
    "map_score = np.mean([StartHesitation,\n",
    "                               Turn,\n",
    "                               Walking])\n",
    "LOGGER.info(f\"cv map:{map_score} starthesi:{StartHesitation} turn:{Turn} walking :{Walking}\")"
   ]
  },
  {
   "cell_type": "code",
   "execution_count": 14,
   "id": "4d51e84a-8acb-4eb6-a72d-755e6cc93158",
   "metadata": {},
   "outputs": [],
   "source": [
    "import json\n",
    "kaggle_json = {\n",
    "  \"title\": f\"fog-ex{ex}\",\n",
    "  \"id\": f\"takoihiraokazu/fog-ex{ex}\",\n",
    "  \"licenses\": [\n",
    "    {\n",
    "      \"name\": \"CC0-1.0\"\n",
    "    }\n",
    "  ]\n",
    "}\n",
    "\n",
    "with open(f\"../output/exp/ex{ex}/ex{ex}_model/dataset-metadata.json\", 'w') as f:\n",
    "    json.dump(kaggle_json, f)"
   ]
  },
  {
   "cell_type": "code",
   "execution_count": null,
   "id": "8895454a-ce83-4195-8ce5-aa16c3a03119",
   "metadata": {},
   "outputs": [],
   "source": []
  },
  {
   "cell_type": "code",
   "execution_count": null,
   "id": "ae688ef1-45ee-42cd-92a5-8960717b5bd8",
   "metadata": {},
   "outputs": [],
   "source": []
  }
 ],
 "metadata": {
  "kernelspec": {
   "display_name": "Python 3 (ipykernel)",
   "language": "python",
   "name": "python3"
  },
  "language_info": {
   "codemirror_mode": {
    "name": "ipython",
    "version": 3
   },
   "file_extension": ".py",
   "mimetype": "text/x-python",
   "name": "python",
   "nbconvert_exporter": "python",
   "pygments_lexer": "ipython3",
   "version": "3.7.12"
  }
 },
 "nbformat": 4,
 "nbformat_minor": 5
}
